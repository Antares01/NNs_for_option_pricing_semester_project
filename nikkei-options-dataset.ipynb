{
 "cells": [
  {
   "cell_type": "code",
   "execution_count": 1,
   "id": "44bab333",
   "metadata": {
    "_cell_guid": "b1076dfc-b9ad-4769-8c92-a6c4dae69d19",
    "_uuid": "8f2839f25d086af736a60e9eeb907d3b93b6e0e5",
    "execution": {
     "iopub.execute_input": "2022-06-08T13:32:34.038794Z",
     "iopub.status.busy": "2022-06-08T13:32:34.038153Z",
     "iopub.status.idle": "2022-06-08T13:32:34.074479Z",
     "shell.execute_reply": "2022-06-08T13:32:34.073045Z"
    },
    "papermill": {
     "duration": 0.060381,
     "end_time": "2022-06-08T13:32:34.077211",
     "exception": false,
     "start_time": "2022-06-08T13:32:34.016830",
     "status": "completed"
    },
    "tags": []
   },
   "outputs": [
    {
     "name": "stdout",
     "output_type": "stream",
     "text": [
      "/kaggle/input/jpx-tokyo-stock-exchange-prediction/stock_list.csv\n",
      "/kaggle/input/jpx-tokyo-stock-exchange-prediction/example_test_files/sample_submission.csv\n",
      "/kaggle/input/jpx-tokyo-stock-exchange-prediction/example_test_files/options.csv\n",
      "/kaggle/input/jpx-tokyo-stock-exchange-prediction/example_test_files/financials.csv\n",
      "/kaggle/input/jpx-tokyo-stock-exchange-prediction/example_test_files/secondary_stock_prices.csv\n",
      "/kaggle/input/jpx-tokyo-stock-exchange-prediction/example_test_files/trades.csv\n",
      "/kaggle/input/jpx-tokyo-stock-exchange-prediction/example_test_files/stock_prices.csv\n",
      "/kaggle/input/jpx-tokyo-stock-exchange-prediction/jpx_tokyo_market_prediction/competition.cpython-37m-x86_64-linux-gnu.so\n",
      "/kaggle/input/jpx-tokyo-stock-exchange-prediction/jpx_tokyo_market_prediction/__init__.py\n",
      "/kaggle/input/jpx-tokyo-stock-exchange-prediction/data_specifications/stock_fin_spec.csv\n",
      "/kaggle/input/jpx-tokyo-stock-exchange-prediction/data_specifications/trades_spec.csv\n",
      "/kaggle/input/jpx-tokyo-stock-exchange-prediction/data_specifications/stock_price_spec.csv\n",
      "/kaggle/input/jpx-tokyo-stock-exchange-prediction/data_specifications/options_spec.csv\n",
      "/kaggle/input/jpx-tokyo-stock-exchange-prediction/data_specifications/stock_list_spec.csv\n",
      "/kaggle/input/jpx-tokyo-stock-exchange-prediction/train_files/options.csv\n",
      "/kaggle/input/jpx-tokyo-stock-exchange-prediction/train_files/financials.csv\n",
      "/kaggle/input/jpx-tokyo-stock-exchange-prediction/train_files/secondary_stock_prices.csv\n",
      "/kaggle/input/jpx-tokyo-stock-exchange-prediction/train_files/trades.csv\n",
      "/kaggle/input/jpx-tokyo-stock-exchange-prediction/train_files/stock_prices.csv\n",
      "/kaggle/input/jpx-tokyo-stock-exchange-prediction/supplemental_files/options.csv\n",
      "/kaggle/input/jpx-tokyo-stock-exchange-prediction/supplemental_files/financials.csv\n",
      "/kaggle/input/jpx-tokyo-stock-exchange-prediction/supplemental_files/secondary_stock_prices.csv\n",
      "/kaggle/input/jpx-tokyo-stock-exchange-prediction/supplemental_files/trades.csv\n",
      "/kaggle/input/jpx-tokyo-stock-exchange-prediction/supplemental_files/stock_prices.csv\n"
     ]
    }
   ],
   "source": [
    "# This Python 3 environment comes with many helpful analytics libraries installed\n",
    "# It is defined by the kaggle/python Docker image: https://github.com/kaggle/docker-python\n",
    "# For example, here's several helpful packages to load\n",
    "\n",
    "import numpy as np # linear algebra\n",
    "import pandas as pd # data processing, CSV file I/O (e.g. pd.read_csv)\n",
    "\n",
    "# Input data files are available in the read-only \"../input/\" directory\n",
    "# For example, running this (by clicking run or pressing Shift+Enter) will list all files under the input directory\n",
    "\n",
    "import os\n",
    "for dirname, _, filenames in os.walk('/kaggle/input'):\n",
    "    for filename in filenames:\n",
    "        print(os.path.join(dirname, filename))\n",
    "\n",
    "# You can write up to 20GB to the current directory (/kaggle/working/) that gets preserved as output when you create a version using \"Save & Run All\" \n",
    "# You can also write temporary files to /kaggle/temp/, but they won't be saved outside of the current session"
   ]
  },
  {
   "cell_type": "code",
   "execution_count": 2,
   "id": "36ca51ca",
   "metadata": {
    "execution": {
     "iopub.execute_input": "2022-06-08T13:32:34.126916Z",
     "iopub.status.busy": "2022-06-08T13:32:34.126527Z",
     "iopub.status.idle": "2022-06-08T13:32:36.356962Z",
     "shell.execute_reply": "2022-06-08T13:32:36.355975Z"
    },
    "papermill": {
     "duration": 2.255203,
     "end_time": "2022-06-08T13:32:36.359305",
     "exception": false,
     "start_time": "2022-06-08T13:32:34.104102",
     "status": "completed"
    },
    "tags": []
   },
   "outputs": [],
   "source": [
    "import numpy as np\n",
    "import torch\n",
    "from torch import nn\n",
    "from scipy.stats import lognorm\n",
    "from matplotlib import pyplot as plt\n",
    "from scipy.ndimage.filters import uniform_filter1d\n",
    "from tqdm import tqdm"
   ]
  },
  {
   "cell_type": "code",
   "execution_count": 3,
   "id": "a27858cb",
   "metadata": {
    "execution": {
     "iopub.execute_input": "2022-06-08T13:32:36.397549Z",
     "iopub.status.busy": "2022-06-08T13:32:36.397127Z",
     "iopub.status.idle": "2022-06-08T13:32:36.401610Z",
     "shell.execute_reply": "2022-06-08T13:32:36.400975Z"
    },
    "papermill": {
     "duration": 0.025832,
     "end_time": "2022-06-08T13:32:36.403563",
     "exception": false,
     "start_time": "2022-06-08T13:32:36.377731",
     "status": "completed"
    },
    "tags": []
   },
   "outputs": [],
   "source": [
    "# NN parameters\n",
    "MC_STEPS_STARTING = 2**8\n",
    "MC_STEPS_FINAL = 2**14\n",
    "EPOCHS = 500\n",
    "#integration parameter\n",
    "INTERVAL_LENGTH = 10\n",
    "START_UNIF = 0.01\n",
    "SCALING_CONSTANT = 10000"
   ]
  },
  {
   "cell_type": "code",
   "execution_count": 4,
   "id": "215dbd07",
   "metadata": {
    "execution": {
     "iopub.execute_input": "2022-06-08T13:32:36.441806Z",
     "iopub.status.busy": "2022-06-08T13:32:36.441517Z",
     "iopub.status.idle": "2022-06-08T13:33:00.294131Z",
     "shell.execute_reply": "2022-06-08T13:33:00.292629Z"
    },
    "papermill": {
     "duration": 23.874175,
     "end_time": "2022-06-08T13:33:00.296184",
     "exception": false,
     "start_time": "2022-06-08T13:32:36.422009",
     "status": "completed"
    },
    "tags": []
   },
   "outputs": [
    {
     "name": "stderr",
     "output_type": "stream",
     "text": [
      "/opt/conda/lib/python3.7/site-packages/IPython/core/interactiveshell.py:3524: DtypeWarning: Columns (7,8,9,10) have mixed types.Specify dtype option on import or set low_memory=False.\n",
      "  exec(code_obj, self.user_global_ns, self.user_ns)\n"
     ]
    },
    {
     "name": "stdout",
     "output_type": "stream",
     "text": [
      "Index(['DateCode', 'Date', 'OptionsCode', 'WholeDayOpen', 'WholeDayHigh',\n",
      "       'WholeDayLow', 'WholeDayClose', 'NightSessionOpen', 'NightSessionHigh',\n",
      "       'NightSessionLow', 'NightSessionClose', 'DaySessionOpen',\n",
      "       'DaySessionHigh', 'DaySessionLow', 'DaySessionClose', 'TradingVolume',\n",
      "       'OpenInterest', 'TradingValue', 'ContractMonth', 'StrikePrice',\n",
      "       'WholeDayVolume', 'Putcall', 'LastTradingDay', 'SpecialQuotationDay',\n",
      "       'SettlementPrice', 'TheoreticalPrice', 'BaseVolatility',\n",
      "       'ImpliedVolatility', 'InterestRate', 'DividendRate', 'Dividend'],\n",
      "      dtype='object')\n"
     ]
    }
   ],
   "source": [
    "options = pd.read_csv(\"../input/jpx-tokyo-stock-exchange-prediction/train_files/options.csv\")\n",
    "print(options.columns)"
   ]
  },
  {
   "cell_type": "code",
   "execution_count": 5,
   "id": "eb9cf20b",
   "metadata": {
    "execution": {
     "iopub.execute_input": "2022-06-08T13:33:00.335558Z",
     "iopub.status.busy": "2022-06-08T13:33:00.335096Z",
     "iopub.status.idle": "2022-06-08T13:33:00.369530Z",
     "shell.execute_reply": "2022-06-08T13:33:00.368655Z"
    },
    "papermill": {
     "duration": 0.056744,
     "end_time": "2022-06-08T13:33:00.371643",
     "exception": false,
     "start_time": "2022-06-08T13:33:00.314899",
     "status": "completed"
    },
    "tags": []
   },
   "outputs": [
    {
     "data": {
      "text/html": [
       "<div>\n",
       "<style scoped>\n",
       "    .dataframe tbody tr th:only-of-type {\n",
       "        vertical-align: middle;\n",
       "    }\n",
       "\n",
       "    .dataframe tbody tr th {\n",
       "        vertical-align: top;\n",
       "    }\n",
       "\n",
       "    .dataframe thead th {\n",
       "        text-align: right;\n",
       "    }\n",
       "</style>\n",
       "<table border=\"1\" class=\"dataframe\">\n",
       "  <thead>\n",
       "    <tr style=\"text-align: right;\">\n",
       "      <th></th>\n",
       "      <th>DateCode</th>\n",
       "      <th>Date</th>\n",
       "      <th>OptionsCode</th>\n",
       "      <th>WholeDayOpen</th>\n",
       "      <th>WholeDayHigh</th>\n",
       "      <th>WholeDayLow</th>\n",
       "      <th>WholeDayClose</th>\n",
       "      <th>NightSessionOpen</th>\n",
       "      <th>NightSessionHigh</th>\n",
       "      <th>NightSessionLow</th>\n",
       "      <th>...</th>\n",
       "      <th>Putcall</th>\n",
       "      <th>LastTradingDay</th>\n",
       "      <th>SpecialQuotationDay</th>\n",
       "      <th>SettlementPrice</th>\n",
       "      <th>TheoreticalPrice</th>\n",
       "      <th>BaseVolatility</th>\n",
       "      <th>ImpliedVolatility</th>\n",
       "      <th>InterestRate</th>\n",
       "      <th>DividendRate</th>\n",
       "      <th>Dividend</th>\n",
       "    </tr>\n",
       "  </thead>\n",
       "  <tbody>\n",
       "    <tr>\n",
       "      <th>0</th>\n",
       "      <td>20170104_132010018</td>\n",
       "      <td>2017-01-04</td>\n",
       "      <td>132010018</td>\n",
       "      <td>650.0</td>\n",
       "      <td>650.0</td>\n",
       "      <td>480.0</td>\n",
       "      <td>480.0</td>\n",
       "      <td>0.0000</td>\n",
       "      <td>0.0000</td>\n",
       "      <td>0.0000</td>\n",
       "      <td>...</td>\n",
       "      <td>1</td>\n",
       "      <td>20170112</td>\n",
       "      <td>20170113</td>\n",
       "      <td>480.0</td>\n",
       "      <td>478.4587</td>\n",
       "      <td>17.4736</td>\n",
       "      <td>17.5865</td>\n",
       "      <td>0.0091</td>\n",
       "      <td>0.0</td>\n",
       "      <td>0.0</td>\n",
       "    </tr>\n",
       "    <tr>\n",
       "      <th>1</th>\n",
       "      <td>20170104_132010118</td>\n",
       "      <td>2017-01-04</td>\n",
       "      <td>132010118</td>\n",
       "      <td>0.0</td>\n",
       "      <td>0.0</td>\n",
       "      <td>0.0</td>\n",
       "      <td>0.0</td>\n",
       "      <td>0.0000</td>\n",
       "      <td>0.0000</td>\n",
       "      <td>0.0000</td>\n",
       "      <td>...</td>\n",
       "      <td>1</td>\n",
       "      <td>20170112</td>\n",
       "      <td>20170113</td>\n",
       "      <td>575.0</td>\n",
       "      <td>571.1385</td>\n",
       "      <td>17.4736</td>\n",
       "      <td>16.5000</td>\n",
       "      <td>0.0091</td>\n",
       "      <td>0.0</td>\n",
       "      <td>0.0</td>\n",
       "    </tr>\n",
       "    <tr>\n",
       "      <th>2</th>\n",
       "      <td>20170104_132010218</td>\n",
       "      <td>2017-01-04</td>\n",
       "      <td>132010218</td>\n",
       "      <td>0.0</td>\n",
       "      <td>0.0</td>\n",
       "      <td>0.0</td>\n",
       "      <td>0.0</td>\n",
       "      <td>0.0000</td>\n",
       "      <td>0.0000</td>\n",
       "      <td>0.0000</td>\n",
       "      <td>...</td>\n",
       "      <td>1</td>\n",
       "      <td>20170112</td>\n",
       "      <td>20170113</td>\n",
       "      <td>680.0</td>\n",
       "      <td>677.3710</td>\n",
       "      <td>17.4736</td>\n",
       "      <td>15.8644</td>\n",
       "      <td>0.0091</td>\n",
       "      <td>0.0</td>\n",
       "      <td>0.0</td>\n",
       "    </tr>\n",
       "    <tr>\n",
       "      <th>3</th>\n",
       "      <td>20170104_132010318</td>\n",
       "      <td>2017-01-04</td>\n",
       "      <td>132010318</td>\n",
       "      <td>0.0</td>\n",
       "      <td>0.0</td>\n",
       "      <td>0.0</td>\n",
       "      <td>0.0</td>\n",
       "      <td>0.0000</td>\n",
       "      <td>0.0000</td>\n",
       "      <td>0.0000</td>\n",
       "      <td>...</td>\n",
       "      <td>1</td>\n",
       "      <td>20170112</td>\n",
       "      <td>20170113</td>\n",
       "      <td>795.0</td>\n",
       "      <td>791.0383</td>\n",
       "      <td>17.4736</td>\n",
       "      <td>15.2288</td>\n",
       "      <td>0.0091</td>\n",
       "      <td>0.0</td>\n",
       "      <td>0.0</td>\n",
       "    </tr>\n",
       "    <tr>\n",
       "      <th>4</th>\n",
       "      <td>20170104_132010518</td>\n",
       "      <td>2017-01-04</td>\n",
       "      <td>132010518</td>\n",
       "      <td>0.0</td>\n",
       "      <td>0.0</td>\n",
       "      <td>0.0</td>\n",
       "      <td>0.0</td>\n",
       "      <td>0.0000</td>\n",
       "      <td>0.0000</td>\n",
       "      <td>0.0000</td>\n",
       "      <td>...</td>\n",
       "      <td>1</td>\n",
       "      <td>20170112</td>\n",
       "      <td>20170113</td>\n",
       "      <td>910.0</td>\n",
       "      <td>909.9947</td>\n",
       "      <td>17.4736</td>\n",
       "      <td>14.5932</td>\n",
       "      <td>0.0091</td>\n",
       "      <td>0.0</td>\n",
       "      <td>0.0</td>\n",
       "    </tr>\n",
       "  </tbody>\n",
       "</table>\n",
       "<p>5 rows × 31 columns</p>\n",
       "</div>"
      ],
      "text/plain": [
       "             DateCode        Date  OptionsCode  WholeDayOpen  WholeDayHigh  \\\n",
       "0  20170104_132010018  2017-01-04    132010018         650.0         650.0   \n",
       "1  20170104_132010118  2017-01-04    132010118           0.0           0.0   \n",
       "2  20170104_132010218  2017-01-04    132010218           0.0           0.0   \n",
       "3  20170104_132010318  2017-01-04    132010318           0.0           0.0   \n",
       "4  20170104_132010518  2017-01-04    132010518           0.0           0.0   \n",
       "\n",
       "   WholeDayLow  WholeDayClose NightSessionOpen NightSessionHigh  \\\n",
       "0        480.0          480.0           0.0000           0.0000   \n",
       "1          0.0            0.0           0.0000           0.0000   \n",
       "2          0.0            0.0           0.0000           0.0000   \n",
       "3          0.0            0.0           0.0000           0.0000   \n",
       "4          0.0            0.0           0.0000           0.0000   \n",
       "\n",
       "  NightSessionLow  ... Putcall  LastTradingDay  SpecialQuotationDay  \\\n",
       "0          0.0000  ...       1        20170112             20170113   \n",
       "1          0.0000  ...       1        20170112             20170113   \n",
       "2          0.0000  ...       1        20170112             20170113   \n",
       "3          0.0000  ...       1        20170112             20170113   \n",
       "4          0.0000  ...       1        20170112             20170113   \n",
       "\n",
       "   SettlementPrice  TheoreticalPrice  BaseVolatility  ImpliedVolatility  \\\n",
       "0            480.0          478.4587         17.4736            17.5865   \n",
       "1            575.0          571.1385         17.4736            16.5000   \n",
       "2            680.0          677.3710         17.4736            15.8644   \n",
       "3            795.0          791.0383         17.4736            15.2288   \n",
       "4            910.0          909.9947         17.4736            14.5932   \n",
       "\n",
       "   InterestRate  DividendRate  Dividend  \n",
       "0        0.0091           0.0       0.0  \n",
       "1        0.0091           0.0       0.0  \n",
       "2        0.0091           0.0       0.0  \n",
       "3        0.0091           0.0       0.0  \n",
       "4        0.0091           0.0       0.0  \n",
       "\n",
       "[5 rows x 31 columns]"
      ]
     },
     "execution_count": 5,
     "metadata": {},
     "output_type": "execute_result"
    }
   ],
   "source": [
    "options.head()"
   ]
  },
  {
   "cell_type": "code",
   "execution_count": 6,
   "id": "91cfa8eb",
   "metadata": {
    "execution": {
     "iopub.execute_input": "2022-06-08T13:33:00.413062Z",
     "iopub.status.busy": "2022-06-08T13:33:00.411900Z",
     "iopub.status.idle": "2022-06-08T13:33:00.457322Z",
     "shell.execute_reply": "2022-06-08T13:33:00.456434Z"
    },
    "papermill": {
     "duration": 0.068281,
     "end_time": "2022-06-08T13:33:00.459560",
     "exception": false,
     "start_time": "2022-06-08T13:33:00.391279",
     "status": "completed"
    },
    "tags": []
   },
   "outputs": [
    {
     "data": {
      "text/html": [
       "<div>\n",
       "<style scoped>\n",
       "    .dataframe tbody tr th:only-of-type {\n",
       "        vertical-align: middle;\n",
       "    }\n",
       "\n",
       "    .dataframe tbody tr th {\n",
       "        vertical-align: top;\n",
       "    }\n",
       "\n",
       "    .dataframe thead th {\n",
       "        text-align: right;\n",
       "    }\n",
       "</style>\n",
       "<table border=\"1\" class=\"dataframe\">\n",
       "  <thead>\n",
       "    <tr style=\"text-align: right;\">\n",
       "      <th></th>\n",
       "      <th>Date</th>\n",
       "      <th>LastTradingDay</th>\n",
       "    </tr>\n",
       "  </thead>\n",
       "  <tbody>\n",
       "    <tr>\n",
       "      <th>0</th>\n",
       "      <td>2017-01-04</td>\n",
       "      <td>20170112</td>\n",
       "    </tr>\n",
       "    <tr>\n",
       "      <th>1</th>\n",
       "      <td>2017-01-04</td>\n",
       "      <td>20170112</td>\n",
       "    </tr>\n",
       "    <tr>\n",
       "      <th>2</th>\n",
       "      <td>2017-01-04</td>\n",
       "      <td>20170112</td>\n",
       "    </tr>\n",
       "    <tr>\n",
       "      <th>3</th>\n",
       "      <td>2017-01-04</td>\n",
       "      <td>20170112</td>\n",
       "    </tr>\n",
       "    <tr>\n",
       "      <th>4</th>\n",
       "      <td>2017-01-04</td>\n",
       "      <td>20170112</td>\n",
       "    </tr>\n",
       "    <tr>\n",
       "      <th>...</th>\n",
       "      <td>...</td>\n",
       "      <td>...</td>\n",
       "    </tr>\n",
       "    <tr>\n",
       "      <th>3567689</th>\n",
       "      <td>2021-12-03</td>\n",
       "      <td>20241212</td>\n",
       "    </tr>\n",
       "    <tr>\n",
       "      <th>3567690</th>\n",
       "      <td>2021-12-03</td>\n",
       "      <td>20241212</td>\n",
       "    </tr>\n",
       "    <tr>\n",
       "      <th>3567691</th>\n",
       "      <td>2021-12-03</td>\n",
       "      <td>20241212</td>\n",
       "    </tr>\n",
       "    <tr>\n",
       "      <th>3567692</th>\n",
       "      <td>2021-12-03</td>\n",
       "      <td>20241212</td>\n",
       "    </tr>\n",
       "    <tr>\n",
       "      <th>3567693</th>\n",
       "      <td>2021-12-03</td>\n",
       "      <td>20241212</td>\n",
       "    </tr>\n",
       "  </tbody>\n",
       "</table>\n",
       "<p>3567694 rows × 2 columns</p>\n",
       "</div>"
      ],
      "text/plain": [
       "               Date  LastTradingDay\n",
       "0        2017-01-04        20170112\n",
       "1        2017-01-04        20170112\n",
       "2        2017-01-04        20170112\n",
       "3        2017-01-04        20170112\n",
       "4        2017-01-04        20170112\n",
       "...             ...             ...\n",
       "3567689  2021-12-03        20241212\n",
       "3567690  2021-12-03        20241212\n",
       "3567691  2021-12-03        20241212\n",
       "3567692  2021-12-03        20241212\n",
       "3567693  2021-12-03        20241212\n",
       "\n",
       "[3567694 rows x 2 columns]"
      ]
     },
     "execution_count": 6,
     "metadata": {},
     "output_type": "execute_result"
    }
   ],
   "source": [
    "options[['Date','LastTradingDay']]"
   ]
  },
  {
   "cell_type": "code",
   "execution_count": 7,
   "id": "a2ed2ee1",
   "metadata": {
    "execution": {
     "iopub.execute_input": "2022-06-08T13:33:00.501345Z",
     "iopub.status.busy": "2022-06-08T13:33:00.501036Z",
     "iopub.status.idle": "2022-06-08T13:33:00.748051Z",
     "shell.execute_reply": "2022-06-08T13:33:00.747159Z"
    },
    "papermill": {
     "duration": 0.269978,
     "end_time": "2022-06-08T13:33:00.750355",
     "exception": false,
     "start_time": "2022-06-08T13:33:00.480377",
     "status": "completed"
    },
    "tags": []
   },
   "outputs": [],
   "source": [
    "pd.set_option('display.max_columns', None)\n",
    "dataset = options.loc[(options['LastTradingDay'] == 20170112)& (options['WholeDayVolume']> 0) & (options['Date'] == '2017-01-04')][['StrikePrice', 'Putcall', 'SettlementPrice']]#[['WholeDayClose', 'SettlementPrice']]\n",
    "dataset[['StrikePrice', 'SettlementPrice']] = dataset[['StrikePrice', 'SettlementPrice']].transform(lambda x : x/SCALING_CONSTANT)\n",
    "dataset['Putcall'] = dataset['Putcall'].transform(lambda x : False if x==1 else True)"
   ]
  },
  {
   "cell_type": "code",
   "execution_count": 8,
   "id": "f48119f8",
   "metadata": {
    "execution": {
     "iopub.execute_input": "2022-06-08T13:33:00.793458Z",
     "iopub.status.busy": "2022-06-08T13:33:00.793092Z",
     "iopub.status.idle": "2022-06-08T13:33:00.807605Z",
     "shell.execute_reply": "2022-06-08T13:33:00.806535Z"
    },
    "papermill": {
     "duration": 0.038105,
     "end_time": "2022-06-08T13:33:00.809699",
     "exception": false,
     "start_time": "2022-06-08T13:33:00.771594",
     "status": "completed"
    },
    "tags": []
   },
   "outputs": [
    {
     "data": {
      "text/html": [
       "<div>\n",
       "<style scoped>\n",
       "    .dataframe tbody tr th:only-of-type {\n",
       "        vertical-align: middle;\n",
       "    }\n",
       "\n",
       "    .dataframe tbody tr th {\n",
       "        vertical-align: top;\n",
       "    }\n",
       "\n",
       "    .dataframe thead th {\n",
       "        text-align: right;\n",
       "    }\n",
       "</style>\n",
       "<table border=\"1\" class=\"dataframe\">\n",
       "  <thead>\n",
       "    <tr style=\"text-align: right;\">\n",
       "      <th></th>\n",
       "      <th>StrikePrice</th>\n",
       "      <th>Putcall</th>\n",
       "      <th>SettlementPrice</th>\n",
       "    </tr>\n",
       "  </thead>\n",
       "  <tbody>\n",
       "    <tr>\n",
       "      <th>0</th>\n",
       "      <td>2.0000</td>\n",
       "      <td>False</td>\n",
       "      <td>0.0480</td>\n",
       "    </tr>\n",
       "    <tr>\n",
       "      <th>18</th>\n",
       "      <td>1.3000</td>\n",
       "      <td>False</td>\n",
       "      <td>0.0001</td>\n",
       "    </tr>\n",
       "    <tr>\n",
       "      <th>25</th>\n",
       "      <td>1.4500</td>\n",
       "      <td>False</td>\n",
       "      <td>0.0001</td>\n",
       "    </tr>\n",
       "    <tr>\n",
       "      <th>26</th>\n",
       "      <td>1.4625</td>\n",
       "      <td>False</td>\n",
       "      <td>0.0001</td>\n",
       "    </tr>\n",
       "    <tr>\n",
       "      <th>27</th>\n",
       "      <td>1.4750</td>\n",
       "      <td>False</td>\n",
       "      <td>0.0001</td>\n",
       "    </tr>\n",
       "    <tr>\n",
       "      <th>...</th>\n",
       "      <td>...</td>\n",
       "      <td>...</td>\n",
       "      <td>...</td>\n",
       "    </tr>\n",
       "    <tr>\n",
       "      <th>894</th>\n",
       "      <td>1.9375</td>\n",
       "      <td>True</td>\n",
       "      <td>0.0385</td>\n",
       "    </tr>\n",
       "    <tr>\n",
       "      <th>895</th>\n",
       "      <td>1.9500</td>\n",
       "      <td>True</td>\n",
       "      <td>0.0300</td>\n",
       "    </tr>\n",
       "    <tr>\n",
       "      <th>896</th>\n",
       "      <td>1.9625</td>\n",
       "      <td>True</td>\n",
       "      <td>0.0220</td>\n",
       "    </tr>\n",
       "    <tr>\n",
       "      <th>897</th>\n",
       "      <td>1.9750</td>\n",
       "      <td>True</td>\n",
       "      <td>0.0160</td>\n",
       "    </tr>\n",
       "    <tr>\n",
       "      <th>898</th>\n",
       "      <td>1.9875</td>\n",
       "      <td>True</td>\n",
       "      <td>0.0115</td>\n",
       "    </tr>\n",
       "  </tbody>\n",
       "</table>\n",
       "<p>75 rows × 3 columns</p>\n",
       "</div>"
      ],
      "text/plain": [
       "     StrikePrice  Putcall  SettlementPrice\n",
       "0         2.0000    False           0.0480\n",
       "18        1.3000    False           0.0001\n",
       "25        1.4500    False           0.0001\n",
       "26        1.4625    False           0.0001\n",
       "27        1.4750    False           0.0001\n",
       "..           ...      ...              ...\n",
       "894       1.9375     True           0.0385\n",
       "895       1.9500     True           0.0300\n",
       "896       1.9625     True           0.0220\n",
       "897       1.9750     True           0.0160\n",
       "898       1.9875     True           0.0115\n",
       "\n",
       "[75 rows x 3 columns]"
      ]
     },
     "execution_count": 8,
     "metadata": {},
     "output_type": "execute_result"
    }
   ],
   "source": [
    "dataset"
   ]
  },
  {
   "cell_type": "code",
   "execution_count": 9,
   "id": "3544793d",
   "metadata": {
    "execution": {
     "iopub.execute_input": "2022-06-08T13:33:00.853589Z",
     "iopub.status.busy": "2022-06-08T13:33:00.853320Z",
     "iopub.status.idle": "2022-06-08T13:33:00.857742Z",
     "shell.execute_reply": "2022-06-08T13:33:00.856738Z"
    },
    "papermill": {
     "duration": 0.027576,
     "end_time": "2022-06-08T13:33:00.859652",
     "exception": false,
     "start_time": "2022-06-08T13:33:00.832076",
     "status": "completed"
    },
    "tags": []
   },
   "outputs": [],
   "source": [
    "close_price_20170112 = 19134.70"
   ]
  },
  {
   "cell_type": "code",
   "execution_count": 10,
   "id": "e633ffa7",
   "metadata": {
    "execution": {
     "iopub.execute_input": "2022-06-08T13:33:00.902171Z",
     "iopub.status.busy": "2022-06-08T13:33:00.901861Z",
     "iopub.status.idle": "2022-06-08T13:33:00.908201Z",
     "shell.execute_reply": "2022-06-08T13:33:00.907353Z"
    },
    "papermill": {
     "duration": 0.029702,
     "end_time": "2022-06-08T13:33:00.910155",
     "exception": false,
     "start_time": "2022-06-08T13:33:00.880453",
     "status": "completed"
    },
    "tags": []
   },
   "outputs": [
    {
     "data": {
      "text/plain": [
       "1.3"
      ]
     },
     "execution_count": 10,
     "metadata": {},
     "output_type": "execute_result"
    }
   ],
   "source": [
    "dataset['StrikePrice'].iloc[1]"
   ]
  },
  {
   "cell_type": "code",
   "execution_count": 11,
   "id": "2e2129c0",
   "metadata": {
    "execution": {
     "iopub.execute_input": "2022-06-08T13:33:00.953614Z",
     "iopub.status.busy": "2022-06-08T13:33:00.953305Z",
     "iopub.status.idle": "2022-06-08T13:33:00.962083Z",
     "shell.execute_reply": "2022-06-08T13:33:00.960992Z"
    },
    "papermill": {
     "duration": 0.032528,
     "end_time": "2022-06-08T13:33:00.964097",
     "exception": false,
     "start_time": "2022-06-08T13:33:00.931569",
     "status": "completed"
    },
    "tags": []
   },
   "outputs": [],
   "source": [
    "from torch.utils.data import DataLoader\n",
    "\n",
    "prices_and_strikes = [ (dataset['SettlementPrice'].iloc[i], dataset['StrikePrice'].iloc[i], dataset['Putcall'].iloc[i]) for i in range(len(dataset))]\n",
    "batch_size = 16\n",
    "target_dataloader = DataLoader(prices_and_strikes , batch_size=batch_size, shuffle = True)\n",
    "#test_dataloader = DataLoader(test_data, batch_size=batch_size)"
   ]
  },
  {
   "cell_type": "code",
   "execution_count": 12,
   "id": "dcad64c9",
   "metadata": {
    "execution": {
     "iopub.execute_input": "2022-06-08T13:33:01.006410Z",
     "iopub.status.busy": "2022-06-08T13:33:01.006112Z",
     "iopub.status.idle": "2022-06-08T13:33:01.014314Z",
     "shell.execute_reply": "2022-06-08T13:33:01.013660Z"
    },
    "papermill": {
     "duration": 0.031556,
     "end_time": "2022-06-08T13:33:01.016192",
     "exception": false,
     "start_time": "2022-06-08T13:33:00.984636",
     "status": "completed"
    },
    "tags": []
   },
   "outputs": [],
   "source": [
    "class BaselineNet(nn.Module):\n",
    "    def __init__(self):\n",
    "        super(BaselineNet, self).__init__()\n",
    "        self.flatten = nn.Flatten()\n",
    "        self.linear_relu_stack = nn.Sequential(\n",
    "            nn.Linear(2, 128),\n",
    "            nn.LeakyReLU(1e-1),\n",
    "            \n",
    "            nn.Linear(128, 512),\n",
    "            nn.LeakyReLU(1e-1),   \n",
    "\n",
    "            nn.Linear(512, 128),\n",
    "            nn.LeakyReLU(1e-1),\n",
    "            \n",
    "            nn.Linear(128, 1)\n",
    "        )\n",
    "        self.softplus = nn.Softplus()\n",
    "        \n",
    "        \n",
    "    def forward(self, x):\n",
    "        x = self.flatten(x)\n",
    "        y = torch.log(x)\n",
    "        x = self.linear_relu_stack(torch.cat((x,y), 1))\n",
    "        x = self.softplus(x)\n",
    "        return x"
   ]
  },
  {
   "cell_type": "code",
   "execution_count": 13,
   "id": "bde24c83",
   "metadata": {
    "execution": {
     "iopub.execute_input": "2022-06-08T13:33:01.060484Z",
     "iopub.status.busy": "2022-06-08T13:33:01.060224Z",
     "iopub.status.idle": "2022-06-08T13:33:01.104586Z",
     "shell.execute_reply": "2022-06-08T13:33:01.103944Z"
    },
    "papermill": {
     "duration": 0.069205,
     "end_time": "2022-06-08T13:33:01.106792",
     "exception": false,
     "start_time": "2022-06-08T13:33:01.037587",
     "status": "completed"
    },
    "tags": []
   },
   "outputs": [
    {
     "name": "stdout",
     "output_type": "stream",
     "text": [
      "Using cpu device\n",
      "BaselineNet(\n",
      "  (flatten): Flatten(start_dim=1, end_dim=-1)\n",
      "  (linear_relu_stack): Sequential(\n",
      "    (0): Linear(in_features=2, out_features=128, bias=True)\n",
      "    (1): LeakyReLU(negative_slope=0.1)\n",
      "    (2): Linear(in_features=128, out_features=512, bias=True)\n",
      "    (3): LeakyReLU(negative_slope=0.1)\n",
      "    (4): Linear(in_features=512, out_features=128, bias=True)\n",
      "    (5): LeakyReLU(negative_slope=0.1)\n",
      "    (6): Linear(in_features=128, out_features=1, bias=True)\n",
      "  )\n",
      "  (softplus): Softplus(beta=1, threshold=20)\n",
      ")\n"
     ]
    }
   ],
   "source": [
    "device = \"cuda\" if torch.cuda.is_available() else \"cpu\"\n",
    "print(f\"Using {device} device\")\n",
    "model = BaselineNet().to(device)\n",
    "model_eq = BaselineNet().to(device)\n",
    "print(model)"
   ]
  },
  {
   "cell_type": "code",
   "execution_count": 14,
   "id": "6054504f",
   "metadata": {
    "execution": {
     "iopub.execute_input": "2022-06-08T13:33:01.152789Z",
     "iopub.status.busy": "2022-06-08T13:33:01.152195Z",
     "iopub.status.idle": "2022-06-08T13:33:01.159797Z",
     "shell.execute_reply": "2022-06-08T13:33:01.159010Z"
    },
    "papermill": {
     "duration": 0.03186,
     "end_time": "2022-06-08T13:33:01.161591",
     "exception": false,
     "start_time": "2022-06-08T13:33:01.129731",
     "status": "completed"
    },
    "tags": []
   },
   "outputs": [],
   "source": [
    "class OptionLoss(nn.Module):\n",
    "    def __init__(self, beta):\n",
    "        super(OptionLoss,self).__init__()\n",
    "        self.beta = beta\n",
    "    \n",
    "    # outputs the MC_STEPS predictions, labels the TOT_OPTIONS labels\n",
    "    def forward(self, outputs, labels, strike, is_call, coordinates):\n",
    "        mc_steps = len(coordinates)\n",
    "        loss = 0\n",
    "        mc_integral = 0\n",
    "        payoff = lambda  j :  torch.max(torch.zeros(len(outputs)), coordinates - strike[j] ) if is_call[j] else torch.max(torch.zeros(len(outputs)), strike[j] - coordinates)\n",
    "        #densities_ratio = torch.div(outputs , torch.Tensor([lognorm.pdf(coordinates, PROPOSAL_SIGMA, 0, np.exp(PROPOSAL_MU)) ]))\n",
    "        #print(outputs)\n",
    "        densities = 1/INTERVAL_LENGTH #torch.Tensor([lognorm.pdf(coordinates, PROPOSAL_SIGMA, 0, np.exp(PROPOSAL_MU)) ])\n",
    "        #print(densities_ratio)\n",
    "        for j in range(len(labels)):\n",
    "          numerator  = payoff(j)\n",
    "          mc_price = numerator * outputs / densities\n",
    "          loss += (labels[j] -  mc_price.sum() / mc_steps)**2\n",
    "\n",
    "        return loss  #+ self.beta * (1 - 0.5*mc_integral)**2\n",
    "            \n"
   ]
  },
  {
   "cell_type": "code",
   "execution_count": 15,
   "id": "ba924155",
   "metadata": {
    "execution": {
     "iopub.execute_input": "2022-06-08T13:33:01.205177Z",
     "iopub.status.busy": "2022-06-08T13:33:01.204167Z",
     "iopub.status.idle": "2022-06-08T13:33:01.209162Z",
     "shell.execute_reply": "2022-06-08T13:33:01.208364Z"
    },
    "papermill": {
     "duration": 0.029006,
     "end_time": "2022-06-08T13:33:01.211383",
     "exception": false,
     "start_time": "2022-06-08T13:33:01.182377",
     "status": "completed"
    },
    "tags": []
   },
   "outputs": [],
   "source": [
    "optimizer = torch.optim.Adam(model.parameters(), lr=1e-4, weight_decay=1e-20)\n",
    "loss_fn = OptionLoss(0)"
   ]
  },
  {
   "cell_type": "code",
   "execution_count": 16,
   "id": "bf4a4a86",
   "metadata": {
    "execution": {
     "iopub.execute_input": "2022-06-08T13:33:01.256729Z",
     "iopub.status.busy": "2022-06-08T13:33:01.256446Z",
     "iopub.status.idle": "2022-06-08T13:33:01.268210Z",
     "shell.execute_reply": "2022-06-08T13:33:01.267377Z"
    },
    "papermill": {
     "duration": 0.036602,
     "end_time": "2022-06-08T13:33:01.270074",
     "exception": false,
     "start_time": "2022-06-08T13:33:01.233472",
     "status": "completed"
    },
    "tags": []
   },
   "outputs": [],
   "source": [
    "def train(model, optimizer, loss_fn, C1, C2, equidistant_window=False):\n",
    "    loss_history = []\n",
    "    for epoch in tqdm(range(int(296*C1))):\n",
    "        for batch, (target_prices, strike_prices, is_call) in enumerate(target_dataloader):\n",
    "            if epoch < 100 * C1:\n",
    "                mc_steps = 128*C2\n",
    "            elif epoch < 200 * C1:\n",
    "                mc_steps = 256*C2\n",
    "            elif epoch < 250 * C1:\n",
    "                mc_steps = 512*C2\n",
    "            elif epoch < 275 * C1:\n",
    "                mc_steps = 1024*C2\n",
    "            elif epoch < 287 * C1:\n",
    "                mc_steps = 2048*C2\n",
    "            elif epoch < 293*C1:\n",
    "                mc_steps = 4096*C2\n",
    "            else:\n",
    "                mc_steps = 8192*C2\n",
    "\n",
    "            #x = np.concatenate( [ np.linspace(start = START_UNIF, stop = START_UNIF+INTERVAL_LENGTH, num=MC_STEPS // 2) , np.random.uniform(low = START_UNIF, high= START_UNIF+INTERVAL_LENGTH, size=MC_STEPS//2) ] ) \n",
    "            #x = np.concatenate([ np.random.uniform(low = START_UNIF, high= START_UNIF+INTERVAL_LENGTH/10, size=MC_STEPS//4) , np.random.uniform(low = START_UNIF, high= START_UNIF+INTERVAL_LENGTH, size=MC_STEPS//2) , np.random.uniform(low = START_UNIF + 9*INTERVAL_LENGTH/10 , high= START_UNIF+INTERVAL_LENGTH, size=MC_STEPS//4) ])\n",
    "            #x = np.expand_dims(x, axis = 1)\n",
    "            #X = torch.Tensor(x) #coordinates are not sorted\n",
    "            X = torch.zeros(mc_steps, 1).to(device)\n",
    "            X.uniform_(START_UNIF, INTERVAL_LENGTH)\n",
    "            if equidistant_window:\n",
    "                coordinates=np.linspace(start=START_UNIF+INTERVAL_LENGTH/(2*mc_steps),stop=START_UNIF+INTERVAL_LENGTH-INTERVAL_LENGTH/(2*mc_steps),num=mc_steps)+np.random.uniform(low=-INTERVAL_LENGTH/(2*mc_steps),high=INTERVAL_LENGTH/(2*mc_steps),size=mc_steps)\n",
    "                coordinates = np.expand_dims(X, axis = 1)\n",
    "                X = torch.tensor(coordinates)\n",
    "            #X.log_normal_(PROPOSAL_MU, PROPOSAL_SIGMA )\n",
    "            #print(X)\n",
    "            pred = model(X)\n",
    "            loss = loss_fn(pred.cpu().squeeze(), target_prices, strike_prices, is_call, X.cpu().squeeze())\n",
    "\n",
    "            # Backpropagation\n",
    "            optimizer.zero_grad()\n",
    "            loss.backward()\n",
    "            torch.nn.utils.clip_grad_norm_(model.parameters(), 1e-1)\n",
    "            optimizer.step()\n",
    "        loss_history.append(float(loss))\n",
    "    return loss_history\n"
   ]
  },
  {
   "cell_type": "code",
   "execution_count": 17,
   "id": "7ca5b108",
   "metadata": {
    "execution": {
     "iopub.execute_input": "2022-06-08T13:33:01.313789Z",
     "iopub.status.busy": "2022-06-08T13:33:01.313510Z",
     "iopub.status.idle": "2022-06-08T13:33:27.321897Z",
     "shell.execute_reply": "2022-06-08T13:33:27.321008Z"
    },
    "papermill": {
     "duration": 26.036062,
     "end_time": "2022-06-08T13:33:27.327532",
     "exception": false,
     "start_time": "2022-06-08T13:33:01.291470",
     "status": "completed"
    },
    "tags": []
   },
   "outputs": [
    {
     "name": "stderr",
     "output_type": "stream",
     "text": [
      "100%|██████████| 296/296 [00:12<00:00, 23.02it/s]\n",
      "100%|██████████| 296/296 [00:13<00:00, 22.53it/s]\n"
     ]
    }
   ],
   "source": [
    "loss_history = train(model, optimizer, loss_fn, 1, 1, equidistant_window = False)\n",
    "loss_history_eq = train(model_eq, optimizer, loss_fn, 1, 1, equidistant_window = True)"
   ]
  },
  {
   "cell_type": "code",
   "execution_count": 18,
   "id": "e235732b",
   "metadata": {
    "execution": {
     "iopub.execute_input": "2022-06-08T13:33:27.474841Z",
     "iopub.status.busy": "2022-06-08T13:33:27.474074Z",
     "iopub.status.idle": "2022-06-08T13:33:27.688772Z",
     "shell.execute_reply": "2022-06-08T13:33:27.687905Z"
    },
    "papermill": {
     "duration": 0.289563,
     "end_time": "2022-06-08T13:33:27.690718",
     "exception": false,
     "start_time": "2022-06-08T13:33:27.401155",
     "status": "completed"
    },
    "tags": []
   },
   "outputs": [
    {
     "data": {
      "text/plain": [
       "[<matplotlib.lines.Line2D at 0x7fc151cf4c10>]"
      ]
     },
     "execution_count": 18,
     "metadata": {},
     "output_type": "execute_result"
    },
    {
     "data": {
      "image/png": "[encoded data removed]",
      "text/plain": [
       "<Figure size 432x288 with 1 Axes>"
      ]
     },
     "metadata": {
      "needs_background": "light"
     },
     "output_type": "display_data"
    }
   ],
   "source": [
    "x = torch.Tensor(np.arange(1, 4 , 0.01)).to(device).unsqueeze(-1)\n",
    "p = model(x) \n",
    "plt.plot(x.cpu().detach().numpy() * SCALING_CONSTANT, p.cpu().detach().numpy() / SCALING_CONSTANT)"
   ]
  },
  {
   "cell_type": "code",
   "execution_count": 19,
   "id": "946ed2eb",
   "metadata": {
    "execution": {
     "iopub.execute_input": "2022-06-08T13:33:27.839150Z",
     "iopub.status.busy": "2022-06-08T13:33:27.838699Z",
     "iopub.status.idle": "2022-06-08T13:33:28.021720Z",
     "shell.execute_reply": "2022-06-08T13:33:28.021024Z"
    },
    "papermill": {
     "duration": 0.258841,
     "end_time": "2022-06-08T13:33:28.023844",
     "exception": false,
     "start_time": "2022-06-08T13:33:27.765003",
     "status": "completed"
    },
    "tags": []
   },
   "outputs": [
    {
     "data": {
      "text/plain": [
       "[<matplotlib.lines.Line2D at 0x7fc155ee5410>]"
      ]
     },
     "execution_count": 19,
     "metadata": {},
     "output_type": "execute_result"
    },
    {
     "data": {
      "image/png": "[encoded data removed]",
      "text/plain": [
       "<Figure size 432x288 with 1 Axes>"
      ]
     },
     "metadata": {
      "needs_background": "light"
     },
     "output_type": "display_data"
    }
   ],
   "source": [
    "p_eq = model_eq(x)\n",
    "plt.plot(x.cpu().detach().numpy() * SCALING_CONSTANT, p_eq.cpu().detach().numpy() / SCALING_CONSTANT)"
   ]
  },
  {
   "cell_type": "code",
   "execution_count": 20,
   "id": "95770185",
   "metadata": {
    "execution": {
     "iopub.execute_input": "2022-06-08T13:33:28.178090Z",
     "iopub.status.busy": "2022-06-08T13:33:28.177556Z",
     "iopub.status.idle": "2022-06-08T13:33:28.363736Z",
     "shell.execute_reply": "2022-06-08T13:33:28.362723Z"
    },
    "papermill": {
     "duration": 0.265106,
     "end_time": "2022-06-08T13:33:28.366584",
     "exception": false,
     "start_time": "2022-06-08T13:33:28.101478",
     "status": "completed"
    },
    "tags": []
   },
   "outputs": [
    {
     "data": {
      "text/plain": [
       "[<matplotlib.lines.Line2D at 0x7fc154469110>]"
      ]
     },
     "execution_count": 20,
     "metadata": {},
     "output_type": "execute_result"
    },
    {
     "data": {
      "image/png": "[encoded data removed]",
      "text/plain": [
       "<Figure size 432x288 with 1 Axes>"
      ]
     },
     "metadata": {
      "needs_background": "light"
     },
     "output_type": "display_data"
    }
   ],
   "source": [
    "plt.plot(range(len(loss_history[-480:])), loss_history[-480:])"
   ]
  },
  {
   "cell_type": "code",
   "execution_count": 21,
   "id": "2c20d2f5",
   "metadata": {
    "execution": {
     "iopub.execute_input": "2022-06-08T13:33:28.561509Z",
     "iopub.status.busy": "2022-06-08T13:33:28.561152Z",
     "iopub.status.idle": "2022-06-08T13:33:28.900651Z",
     "shell.execute_reply": "2022-06-08T13:33:28.899592Z"
    },
    "papermill": {
     "duration": 0.451332,
     "end_time": "2022-06-08T13:33:28.903466",
     "exception": false,
     "start_time": "2022-06-08T13:33:28.452134",
     "status": "completed"
    },
    "tags": []
   },
   "outputs": [
    {
     "data": {
      "text/plain": [
       "[<matplotlib.lines.Line2D at 0x7fc1543e4210>]"
      ]
     },
     "execution_count": 21,
     "metadata": {},
     "output_type": "execute_result"
    },
    {
     "data": {
      "image/png": "[encoded data removed]",
      "text/plain": [
       "<Figure size 432x288 with 1 Axes>"
      ]
     },
     "metadata": {
      "needs_background": "light"
     },
     "output_type": "display_data"
    }
   ],
   "source": [
    "running_loss_average = uniform_filter1d(loss_history, size=50)\n",
    "plt.plot(range(len(running_loss_average[-300:])), running_loss_average[-300:])"
   ]
  },
  {
   "cell_type": "code",
   "execution_count": 22,
   "id": "659e147b",
   "metadata": {
    "execution": {
     "iopub.execute_input": "2022-06-08T13:33:29.118351Z",
     "iopub.status.busy": "2022-06-08T13:33:29.117993Z",
     "iopub.status.idle": "2022-06-08T13:33:29.326681Z",
     "shell.execute_reply": "2022-06-08T13:33:29.325642Z"
    },
    "papermill": {
     "duration": 0.319487,
     "end_time": "2022-06-08T13:33:29.328902",
     "exception": false,
     "start_time": "2022-06-08T13:33:29.009415",
     "status": "completed"
    },
    "tags": []
   },
   "outputs": [
    {
     "data": {
      "text/plain": [
       "[<matplotlib.lines.Line2D at 0x7fc1543639d0>]"
      ]
     },
     "execution_count": 22,
     "metadata": {},
     "output_type": "execute_result"
    },
    {
     "data": {
      "image/png": "[encoded data removed]",
      "text/plain": [
       "<Figure size 432x288 with 1 Axes>"
      ]
     },
     "metadata": {
      "needs_background": "light"
     },
     "output_type": "display_data"
    }
   ],
   "source": [
    "running_loss_average_eq = uniform_filter1d(loss_history_eq, size=50)\n",
    "plt.plot(range(len(running_loss_average_eq[-300:])), running_loss_average_eq[-300:])"
   ]
  },
  {
   "cell_type": "code",
   "execution_count": 23,
   "id": "9fd2b132",
   "metadata": {
    "execution": {
     "iopub.execute_input": "2022-06-08T13:33:29.495282Z",
     "iopub.status.busy": "2022-06-08T13:33:29.495011Z",
     "iopub.status.idle": "2022-06-08T13:33:29.511158Z",
     "shell.execute_reply": "2022-06-08T13:33:29.510300Z"
    },
    "papermill": {
     "duration": 0.099116,
     "end_time": "2022-06-08T13:33:29.514153",
     "exception": false,
     "start_time": "2022-06-08T13:33:29.415037",
     "status": "completed"
    },
    "tags": []
   },
   "outputs": [
    {
     "name": "stdout",
     "output_type": "stream",
     "text": [
      "19200.0\n"
     ]
    }
   ],
   "source": [
    "x = torch.Tensor(np.arange(0.001, 20, 0.01)).to(device).unsqueeze(-1)\n",
    "p = np.array(model(x).detach())\n",
    "print(np.argmax(p)*0.01*SCALING_CONSTANT)"
   ]
  }
 ],
 "metadata": {
  "kernelspec": {
   "display_name": "Python 3",
   "language": "python",
   "name": "python3"
  },
  "language_info": {
   "codemirror_mode": {
    "name": "ipython",
    "version": 3
   },
   "file_extension": ".py",
   "mimetype": "text/x-python",
   "name": "python",
   "nbconvert_exporter": "python",
   "pygments_lexer": "ipython3",
   "version": "3.7.12"
  },
  "papermill": {
   "default_parameters": {},
   "duration": 65.586888,
   "end_time": "2022-06-08T13:33:30.623257",
   "environment_variables": {},
   "exception": null,
   "input_path": "__notebook__.ipynb",
   "output_path": "__notebook__.ipynb",
   "parameters": {},
   "start_time": "2022-06-08T13:32:25.036369",
   "version": "2.3.4"
  }
 },
 "nbformat": 4,
 "nbformat_minor": 5
}
