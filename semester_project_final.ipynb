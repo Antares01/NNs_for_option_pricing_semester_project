{
  "cells": [
    {
      "cell_type": "markdown",
      "metadata": {
        "id": "view-in-github",
        "colab_type": "text"
      },
      "source": [
        "<a href=\"https://colab.research.google.com/github/Antares01/semester_project_ml_for_finance/blob/main/semester_project_final.ipynb\" target=\"_parent\"><img src=\"https://colab.research.google.com/assets/colab-badge.svg\" alt=\"Open In Colab\"/></a>"
      ]
    },
    {
      "cell_type": "markdown",
      "source": [
        "TODO:\n",
        "add test options in and out of money\n",
        "add log price as second input\n",
        "try equally spaced distribution"
      ],
      "metadata": {
        "id": "_gOF6rJWFTwm"
      }
    },
    {
      "cell_type": "code",
      "execution_count": 103,
      "metadata": {
        "colab": {
          "base_uri": "https://localhost:8080/"
        },
        "id": "ZUNoFyq8D1se",
        "outputId": "4e293b78-1605-4ad6-e7ef-6634f5ccc59f"
      },
      "outputs": [
        {
          "output_type": "stream",
          "name": "stdout",
          "text": [
            "Requirement already satisfied: tf-quant-finance in /usr/local/lib/python3.7/dist-packages (0.0.1.dev30)\n",
            "Requirement already satisfied: tensorflow-probability>=0.11.0 in /usr/local/lib/python3.7/dist-packages (from tf-quant-finance) (0.16.0)\n",
            "Requirement already satisfied: numpy>=1.19.2 in /usr/local/lib/python3.7/dist-packages (from tf-quant-finance) (1.21.6)\n",
            "Requirement already satisfied: attrs>=18.2.0 in /usr/local/lib/python3.7/dist-packages (from tf-quant-finance) (21.4.0)\n",
            "Requirement already satisfied: protobuf in /usr/local/lib/python3.7/dist-packages (from tf-quant-finance) (3.17.3)\n",
            "Requirement already satisfied: dm-tree in /usr/local/lib/python3.7/dist-packages (from tensorflow-probability>=0.11.0->tf-quant-finance) (0.1.7)\n",
            "Requirement already satisfied: six>=1.10.0 in /usr/local/lib/python3.7/dist-packages (from tensorflow-probability>=0.11.0->tf-quant-finance) (1.15.0)\n",
            "Requirement already satisfied: absl-py in /usr/local/lib/python3.7/dist-packages (from tensorflow-probability>=0.11.0->tf-quant-finance) (1.0.0)\n",
            "Requirement already satisfied: gast>=0.3.2 in /usr/local/lib/python3.7/dist-packages (from tensorflow-probability>=0.11.0->tf-quant-finance) (0.5.3)\n",
            "Requirement already satisfied: decorator in /usr/local/lib/python3.7/dist-packages (from tensorflow-probability>=0.11.0->tf-quant-finance) (4.4.2)\n",
            "Requirement already satisfied: cloudpickle>=1.3 in /usr/local/lib/python3.7/dist-packages (from tensorflow-probability>=0.11.0->tf-quant-finance) (1.3.0)\n"
          ]
        }
      ],
      "source": [
        "# This Python 3 environment comes with many helpful analytics libraries installed\n",
        "# It is defined by the kaggle/python Docker image: https://github.com/kaggle/docker-python\n",
        "# For example, here's several helpful packages to load\n",
        "\n",
        "import numpy as np # linear algebra\n",
        "import pandas as pd # data processing, CSV file I/O (e.g. pd.read_csv)\n",
        "\n",
        "# Input data files are available in the read-only \"../input/\" directory\n",
        "# For example, running this (by clicking run or pressing Shift+Enter) will list all files under the input directory\n",
        "\n",
        "import os\n",
        "for dirname, _, filenames in os.walk('/kaggle/input'):\n",
        "    for filename in filenames:\n",
        "        print(os.path.join(dirname, filename))\n",
        "\n",
        "# You can write up to 20GB to the current directory (/kaggle/working/) that gets preserved as output when you create a version using \"Save & Run All\" \n",
        "# You can also write temporary files to /kaggle/temp/, but they won't be saved outside of the current session\n",
        "\n",
        "import tensorflow as tf\n",
        "tf.compat.v1.enable_eager_execution()\n",
        "!pip install tf-quant-finance\n",
        "import tf_quant_finance as tff \n",
        "\n",
        "option_price = tff.black_scholes.option_price\n"
      ]
    },
    {
      "cell_type": "code",
      "execution_count": 104,
      "metadata": {
        "id": "eNfg8SHTD1sj"
      },
      "outputs": [],
      "source": [
        "import numpy as np\n",
        "import torch\n",
        "from torch import nn\n",
        "from scipy.stats import lognorm\n",
        "from matplotlib import pyplot as plt\n",
        "from scipy.ndimage.filters import uniform_filter1d\n",
        "from tqdm import tqdm"
      ]
    },
    {
      "cell_type": "code",
      "execution_count": 132,
      "metadata": {
        "id": "KPnQIHUaD1sn"
      },
      "outputs": [],
      "source": [
        "# option price generation parameters\n",
        "TOT_OPTIONS = 100\n",
        "EXPIRY = 1.0\n",
        "RATE = 0.0\n",
        "SPOT = 100\n",
        "STRIKE_MIN = 50\n",
        "STRIKE_MAX = 150\n",
        "VOLATILITY = 5\n",
        "\n",
        "LAMBDA = SPOT / 3 # scaling factor for spot and strike\n",
        "SPOT_SCALED = SPOT/LAMBDA\n",
        "STRIKE_MIN_SCALED = STRIKE_MIN/LAMBDA\n",
        "STRIKE_MAX_SCALED = STRIKE_MAX/LAMBDA\n",
        "SCALED_VOLATILITY = VOLATILITY/LAMBDA\n",
        "\n",
        "# NN parameters\n",
        "MC_STEPS_STARTING = 2**8\n",
        "MC_STEPS_FINAL = 2**12\n",
        "\n",
        "EPOCHS = 300\n",
        "batch_size = 16\n",
        "\n",
        "\n",
        "#distribution parameters\n",
        "PROPOSAL_SIGMA = SCALED_VOLATILITY #0.3/10 * 4 sigma should not be divided \n",
        "PROPOSAL_MU_SCALED = np.log(SPOT_SCALED) - 0.5 * PROPOSAL_SIGMA**2 \n",
        "PROPOSAL_MU = np.log(SPOT) - 0.5 * VOLATILITY**2\n",
        "\n",
        "#integration parameter\n",
        "INTERVAL_LENGTH = 10\n",
        "START_UNIF = 0"
      ]
    },
    {
      "cell_type": "code",
      "execution_count": 106,
      "metadata": {
        "colab": {
          "base_uri": "https://localhost:8080/",
          "height": 126
        },
        "id": "WolmN2gUD1sp",
        "outputId": "2b46cca6-0a4f-4a01-ac88-14dd601731a7"
      },
      "outputs": [
        {
          "output_type": "execute_result",
          "data": {
            "text/plain": [
              "'\\n# Calculate discount factors (e^-rT)\\nrate = 0.05\\nexpiries = np.array([0.5, 1.0, 2.0, 1.3])\\ndiscount_factors = np.exp(-rate * expiries)\\n# Current value of assets.\\nspots = np.array([0.9, 1.0, 1.1, 0.9])\\n# Forward value of assets at expiry.\\nforwards = spots / discount_factors\\n# Strike prices given by:\\nstrikes = np.array([1.0, 2.0, 1.0, 0.5])\\n# Indicate whether options are call (True) or put (False)\\nis_call_options = np.array([True, True, False, False])\\n# The volatilites at which the options are to be priced.\\nvolatilities = np.array([0.7, 1.1, 2.0, 0.5])\\n# Calculate the prices given the volatilities and term structure.\\nprices = option_price(\\n      volatilities=volatilities,\\n      strikes=strikes,\\n      expiries=expiries,\\n      forwards=forwards,\\n      discount_factors=discount_factors,\\n      is_call_options=is_call_options)\\nprices\\n'"
            ],
            "application/vnd.google.colaboratory.intrinsic+json": {
              "type": "string"
            }
          },
          "metadata": {},
          "execution_count": 106
        }
      ],
      "source": [
        "\"\"\"\n",
        "# Calculate discount factors (e^-rT)\n",
        "rate = 0.05\n",
        "expiries = np.array([0.5, 1.0, 2.0, 1.3])\n",
        "discount_factors = np.exp(-rate * expiries)\n",
        "# Current value of assets.\n",
        "spots = np.array([0.9, 1.0, 1.1, 0.9])\n",
        "# Forward value of assets at expiry.\n",
        "forwards = spots / discount_factors\n",
        "# Strike prices given by:\n",
        "strikes = np.array([1.0, 2.0, 1.0, 0.5])\n",
        "# Indicate whether options are call (True) or put (False)\n",
        "is_call_options = np.array([True, True, False, False])\n",
        "# The volatilites at which the options are to be priced.\n",
        "volatilities = np.array([0.7, 1.1, 2.0, 0.5])\n",
        "# Calculate the prices given the volatilities and term structure.\n",
        "prices = option_price(\n",
        "      volatilities=volatilities,\n",
        "      strikes=strikes,\n",
        "      expiries=expiries,\n",
        "      forwards=forwards,\n",
        "      discount_factors=discount_factors,\n",
        "      is_call_options=is_call_options)\n",
        "prices\n",
        "\"\"\""
      ]
    },
    {
      "cell_type": "code",
      "execution_count": 133,
      "metadata": {
        "id": "ESazL0HND1sr"
      },
      "outputs": [],
      "source": [
        "rates = np.array([RATE]*TOT_OPTIONS)\n",
        "discount_factors = np.exp(- (rates)*EXPIRY)\n",
        "spots = np.array([SPOT]*TOT_OPTIONS)\n",
        "forwards = spots / discount_factors\n",
        "strikes = np.linspace(STRIKE_MIN, STRIKE_MAX, TOT_OPTIONS) #[50., 60. , 75., 110., 125., 135. ]  #\n",
        "is_call_options = np.random.choice(a=[False, True], size=(TOT_OPTIONS,)) #[True, True, True, False, False, False] #\n",
        "volatilities = np.array([VOLATILITY]*TOT_OPTIONS)\n",
        "expiries = np.array([EXPIRY]*TOT_OPTIONS)\n",
        "prices = option_price(\n",
        "      volatilities=volatilities,\n",
        "      strikes=strikes,\n",
        "      expiries=expiries,\n",
        "      forwards=forwards,\n",
        "      discount_factors=discount_factors,\n",
        "      is_call_options=is_call_options)"
      ]
    },
    {
      "cell_type": "code",
      "source": [
        "prices = option_price(\n",
        "      volatilities=10,\n",
        "      strikes=50.0,\n",
        "      expiries=1.,\n",
        "      spots=100,\n",
        "      discount_factors=1,\n",
        "      is_call_options=True)\n",
        "prices"
      ],
      "metadata": {
        "colab": {
          "base_uri": "https://localhost:8080/"
        },
        "id": "jFD8zOqcTP8Z",
        "outputId": "22afb9df-b6f3-4674-85cd-dacfbfb63ec4"
      },
      "execution_count": 156,
      "outputs": [
        {
          "output_type": "execute_result",
          "data": {
            "text/plain": [
              "<tf.Tensor: shape=(), dtype=float32, numpy=99.99996>"
            ]
          },
          "metadata": {},
          "execution_count": 156
        }
      ]
    },
    {
      "cell_type": "code",
      "source": [
        "prices"
      ],
      "metadata": {
        "colab": {
          "base_uri": "https://localhost:8080/"
        },
        "id": "7PlgHvVHRw3t",
        "outputId": "5aa0048c-6ab1-4342-b49f-090c0138e962"
      },
      "execution_count": 146,
      "outputs": [
        {
          "output_type": "execute_result",
          "data": {
            "text/plain": [
              "<tf.Tensor: shape=(), dtype=float32, numpy=99.99996>"
            ]
          },
          "metadata": {},
          "execution_count": 146
        }
      ]
    },
    {
      "cell_type": "code",
      "execution_count": 108,
      "metadata": {
        "id": "aCyB9Ng1D1st"
      },
      "outputs": [],
      "source": [
        "scaled_prices = np.array(prices/LAMBDA)"
      ]
    },
    {
      "cell_type": "code",
      "source": [
        "print(strikes)\n",
        "print(is_call_options)"
      ],
      "metadata": {
        "colab": {
          "base_uri": "https://localhost:8080/"
        },
        "id": "CmksQ3ac0tTn",
        "outputId": "3e078245-4e7e-49a2-d5d0-bdca15ab98cb"
      },
      "execution_count": 135,
      "outputs": [
        {
          "output_type": "stream",
          "name": "stdout",
          "text": [
            "[ 50.          51.01010101  52.02020202  53.03030303  54.04040404\n",
            "  55.05050505  56.06060606  57.07070707  58.08080808  59.09090909\n",
            "  60.1010101   61.11111111  62.12121212  63.13131313  64.14141414\n",
            "  65.15151515  66.16161616  67.17171717  68.18181818  69.19191919\n",
            "  70.2020202   71.21212121  72.22222222  73.23232323  74.24242424\n",
            "  75.25252525  76.26262626  77.27272727  78.28282828  79.29292929\n",
            "  80.3030303   81.31313131  82.32323232  83.33333333  84.34343434\n",
            "  85.35353535  86.36363636  87.37373737  88.38383838  89.39393939\n",
            "  90.4040404   91.41414141  92.42424242  93.43434343  94.44444444\n",
            "  95.45454545  96.46464646  97.47474747  98.48484848  99.49494949\n",
            " 100.50505051 101.51515152 102.52525253 103.53535354 104.54545455\n",
            " 105.55555556 106.56565657 107.57575758 108.58585859 109.5959596\n",
            " 110.60606061 111.61616162 112.62626263 113.63636364 114.64646465\n",
            " 115.65656566 116.66666667 117.67676768 118.68686869 119.6969697\n",
            " 120.70707071 121.71717172 122.72727273 123.73737374 124.74747475\n",
            " 125.75757576 126.76767677 127.77777778 128.78787879 129.7979798\n",
            " 130.80808081 131.81818182 132.82828283 133.83838384 134.84848485\n",
            " 135.85858586 136.86868687 137.87878788 138.88888889 139.8989899\n",
            " 140.90909091 141.91919192 142.92929293 143.93939394 144.94949495\n",
            " 145.95959596 146.96969697 147.97979798 148.98989899 150.        ]\n",
            "[ True False False  True False False False False False False False  True\n",
            "  True  True  True False False  True  True  True  True False  True  True\n",
            "  True False  True  True  True False False False False False False  True\n",
            "  True  True  True False False  True False  True False False  True False\n",
            "  True  True  True False False False  True  True False  True False  True\n",
            "  True  True False  True  True False False False  True  True False  True\n",
            "  True  True False  True  True False False False  True  True False  True\n",
            "  True  True  True  True False False False  True False  True False False\n",
            "  True  True  True False]\n"
          ]
        }
      ]
    },
    {
      "cell_type": "code",
      "source": [
        "scaled_prices"
      ],
      "metadata": {
        "colab": {
          "base_uri": "https://localhost:8080/"
        },
        "id": "x_eT3QnrQwn_",
        "outputId": "428426b9-f319-413e-bda4-a2f1c62c0ba4"
      },
      "execution_count": 130,
      "outputs": [
        {
          "output_type": "execute_result",
          "data": {
            "text/plain": [
              "array([3.        , 3.        , 1.56060606, 1.59090909, 1.62121212,\n",
              "       1.65151515, 3.        , 3.        , 3.        , 3.        ,\n",
              "       3.        , 3.        , 3.        , 1.89393939, 3.        ,\n",
              "       3.        , 1.98484848, 2.01515152, 3.        , 2.07575758,\n",
              "       3.        , 3.        , 2.16666667, 3.        , 3.        ,\n",
              "       3.        , 3.        , 2.31818182, 2.34848485, 3.        ,\n",
              "       2.40909091, 2.43939394, 3.        , 2.5       , 2.53030303,\n",
              "       3.        , 3.        , 3.        , 3.        , 2.68181818,\n",
              "       3.        , 2.74242424, 3.        , 3.        , 3.        ,\n",
              "       2.86363636, 2.89393939, 2.92424242, 2.95454545, 3.        ,\n",
              "       3.        , 3.        , 3.07575758, 3.        , 3.13636364,\n",
              "       3.        , 3.1969697 , 3.        , 3.        , 3.28787879,\n",
              "       3.31818182, 3.34848485, 3.        , 3.        , 3.        ,\n",
              "       3.46969697, 3.5       , 3.        , 3.56060606, 3.        ,\n",
              "       3.62121212, 3.        , 3.        , 3.        , 3.74242424,\n",
              "       3.77272727, 3.8030303 , 3.83333333, 3.86363636, 3.        ,\n",
              "       3.        , 3.95454545, 3.        , 3.        , 4.04545455,\n",
              "       3.        , 3.        , 3.        , 3.        , 3.        ,\n",
              "       3.        , 4.25757576, 3.        , 4.31818182, 4.34848485,\n",
              "       4.37878788, 3.        , 4.43939394, 3.        , 4.5       ])"
            ]
          },
          "metadata": {},
          "execution_count": 130
        }
      ]
    },
    {
      "cell_type": "code",
      "source": [
        "#scaled version\n",
        "\"\"\"\n",
        "spots_scaled = np.array([SPOT_SCALED]*TOT_OPTIONS)\n",
        "forwards_scaled = spots_scaled / discount_factors\n",
        "strikes_scaled = strikes/LAMBDA #[50., 60. , 75., 110., 125., 135. ]  #\n",
        "prices_scaled = option_price(\n",
        "      volatilities=volatilities,\n",
        "      strikes=strikes_scaled,\n",
        "      expiries=expiries,\n",
        "      forwards=forwards_scaled,\n",
        "      discount_factors=discount_factors,\n",
        "      is_call_options=is_call_options)\n",
        "      \"\"\""
      ],
      "metadata": {
        "id": "pbomqDyrFuiR",
        "colab": {
          "base_uri": "https://localhost:8080/",
          "height": 74
        },
        "outputId": "01c10626-22cc-403c-93fd-bd2640fc6a5e"
      },
      "execution_count": 110,
      "outputs": [
        {
          "output_type": "execute_result",
          "data": {
            "text/plain": [
              "'\\nspots_scaled = np.array([SPOT_SCALED]*TOT_OPTIONS)\\nforwards_scaled = spots_scaled / discount_factors\\nstrikes_scaled = strikes/LAMBDA #[50., 60. , 75., 110., 125., 135. ]  #\\nprices_scaled = option_price(\\n      volatilities=volatilities,\\n      strikes=strikes_scaled,\\n      expiries=expiries,\\n      forwards=forwards_scaled,\\n      discount_factors=discount_factors,\\n      is_call_options=is_call_options)\\n      '"
            ],
            "application/vnd.google.colaboratory.intrinsic+json": {
              "type": "string"
            }
          },
          "metadata": {},
          "execution_count": 110
        }
      ]
    },
    {
      "cell_type": "code",
      "source": [
        "#tf.math.logical_and( (prices_scaled * LAMBDA >= prices - 0.01), (prices_scaled * LAMBDA <= prices + 0.01))   "
      ],
      "metadata": {
        "id": "s8vbTVXPHR8C"
      },
      "execution_count": 111,
      "outputs": []
    },
    {
      "cell_type": "code",
      "source": [
        "#print(prices)\n",
        "#print(prices_scaled * LAMBDA)"
      ],
      "metadata": {
        "id": "NppSHuGvHwmU"
      },
      "execution_count": 112,
      "outputs": []
    },
    {
      "cell_type": "code",
      "source": [
        "# Jakob suggestion\n",
        "\"\"\"\n",
        "START_UNIF=0\n",
        "INTERVAL_LENGTH=20\n",
        "MC_STEPS=20000\n",
        "coordinates=np.linspace(start=START_UNIF+INTERVAL_LENGTH/(2*MC_STEPS),stop=START_UNIF+INTERVAL_LENGTH-INTERVAL_LENGTH/(2*MC_STEPS),num=MC_STEPS)+np.random.uniform(low=-INTERVAL_LENGTH/(2*MC_STEPS),high=INTERVAL_LENGTH/(2*MC_STEPS),size=MC_STEPS)\n",
        "coordinates = np.linspace(start = START_UNIF, stop = START_UNIF+INTERVAL_LENGTH, num=MC_STEPS / 2) + np.random(low = START_UNIF, high= START_UNIF+INTERVAL_LENGTH)\n",
        "print(coordinates)\n",
        "\"\"\""
      ],
      "metadata": {
        "colab": {
          "base_uri": "https://localhost:8080/",
          "height": 91
        },
        "id": "J4dHMoBiZAKk",
        "outputId": "3f93e15f-b2e8-44b0-bd9f-b0feaf1c5a5f"
      },
      "execution_count": 113,
      "outputs": [
        {
          "output_type": "execute_result",
          "data": {
            "text/plain": [
              "'\\nSTART_UNIF=0\\nINTERVAL_LENGTH=20\\nMC_STEPS=20000\\ncoordinates=np.linspace(start=START_UNIF+INTERVAL_LENGTH/(2*MC_STEPS),stop=START_UNIF+INTERVAL_LENGTH-INTERVAL_LENGTH/(2*MC_STEPS),num=MC_STEPS)+np.random.uniform(low=-INTERVAL_LENGTH/(2*MC_STEPS),high=INTERVAL_LENGTH/(2*MC_STEPS),size=MC_STEPS)\\ncoordinates = np.linspace(start = START_UNIF, stop = START_UNIF+INTERVAL_LENGTH, num=MC_STEPS / 2) + np.random(low = START_UNIF, high= START_UNIF+INTERVAL_LENGTH)\\nprint(coordinates)\\n'"
            ],
            "application/vnd.google.colaboratory.intrinsic+json": {
              "type": "string"
            }
          },
          "metadata": {},
          "execution_count": 113
        }
      ]
    },
    {
      "cell_type": "code",
      "execution_count": 114,
      "metadata": {
        "id": "3Bdp3ZnAD1su"
      },
      "outputs": [],
      "source": [
        "from torch.utils.data import DataLoader\n",
        "scaled_strikes = strikes / LAMBDA\n",
        "prices_and_strikes = [ (scaled_prices[i], scaled_strikes[i], is_call_options[i]) for i in range(TOT_OPTIONS)]\n",
        "target_dataloader = DataLoader(prices_and_strikes , batch_size=batch_size, shuffle = True)\n",
        "#test_dataloader = DataLoader(test_data, batch_size=batch_size)"
      ]
    },
    {
      "cell_type": "markdown",
      "metadata": {
        "id": "InZ9VrynD1sv"
      },
      "source": [
        ""
      ]
    },
    {
      "cell_type": "code",
      "execution_count": 115,
      "metadata": {
        "id": "IPvD7xpbD1sx"
      },
      "outputs": [],
      "source": [
        "class BaselineNet(nn.Module):\n",
        "    def __init__(self):\n",
        "        super(BaselineNet, self).__init__()\n",
        "        self.flatten = nn.Flatten()\n",
        "        self.linear_relu_stack = nn.Sequential(\n",
        "            nn.Linear(1, 128),\n",
        "            nn.LeakyReLU(1e-1),\n",
        "            \n",
        "            nn.Linear(128, 512),\n",
        "            nn.LeakyReLU(1e-1),   \n",
        "\n",
        "            nn.Linear(512, 128),\n",
        "            nn.LeakyReLU(1e-1),\n",
        "            \n",
        "            nn.Linear(128, 1)\n",
        "        )\n",
        "        self.softplus = nn.Softplus()\n",
        "        \n",
        "    \n",
        "    def forward(self, x):\n",
        "        x = self.flatten(x)\n",
        "        x = self.linear_relu_stack(x)\n",
        "        x = self.softplus(x)\n",
        "        return x\n",
        "\n",
        "\n",
        "class LognormalNet(nn.Module):\n",
        "  def __init__(self):\n",
        "    super(LognormalNet, self).__init__()\n",
        "    self.sigma = nn.Parameter(torch.Tensor([PROPOSAL_SIGMA]))\n",
        "    self.mu = nn.Parameter(torch.Tensor([PROPOSAL_MU]))\n",
        "\n",
        "  def forward(self, x):\n",
        "    return 1/(x * self.sigma * np.sqrt(2* np.pi)) * torch.exp(-(torch.log(x) - self.mu)**2 / (2* self.sigma**2) )"
      ]
    },
    {
      "cell_type": "code",
      "execution_count": 116,
      "metadata": {
        "colab": {
          "base_uri": "https://localhost:8080/"
        },
        "id": "kS8SPbOKD1sz",
        "outputId": "58a1a9f3-0942-4900-d7de-5097b2fe8ba9"
      },
      "outputs": [
        {
          "output_type": "stream",
          "name": "stdout",
          "text": [
            "Using cpu device\n",
            "BaselineNet(\n",
            "  (flatten): Flatten(start_dim=1, end_dim=-1)\n",
            "  (linear_relu_stack): Sequential(\n",
            "    (0): Linear(in_features=1, out_features=128, bias=True)\n",
            "    (1): LeakyReLU(negative_slope=0.1)\n",
            "    (2): Linear(in_features=128, out_features=512, bias=True)\n",
            "    (3): LeakyReLU(negative_slope=0.1)\n",
            "    (4): Linear(in_features=512, out_features=128, bias=True)\n",
            "    (5): LeakyReLU(negative_slope=0.1)\n",
            "    (6): Linear(in_features=128, out_features=1, bias=True)\n",
            "  )\n",
            "  (softplus): Softplus(beta=1, threshold=20)\n",
            ")\n"
          ]
        }
      ],
      "source": [
        "device = \"cuda\" if torch.cuda.is_available() else \"cpu\"\n",
        "print(f\"Using {device} device\")\n",
        "model = BaselineNet().to(device)\n",
        "print(model)"
      ]
    },
    {
      "cell_type": "code",
      "execution_count": 117,
      "metadata": {
        "id": "EcforqJPD1s0"
      },
      "outputs": [],
      "source": [
        "class OptionLoss(nn.Module):\n",
        "    def __init__(self, beta):\n",
        "        super(OptionLoss,self).__init__()\n",
        "        self.beta = beta\n",
        "    \n",
        "    # outputs the MC_STEPS predictions, labels the TOT_OPTIONS labels\n",
        "    def forward(self, outputs, labels, strike, is_call, coordinates):\n",
        "        loss = 0\n",
        "        mc_integral = 0\n",
        "        payoff = lambda  j :  torch.max(torch.zeros(MC_STEPS), coordinates - strike[j] ) if is_call[j] else torch.max(torch.zeros(MC_STEPS), strike[j] - coordinates)\n",
        "        #densities_ratio = torch.div(outputs , torch.Tensor([lognorm.pdf(coordinates, PROPOSAL_SIGMA, 0, np.exp(PROPOSAL_MU)) ]))\n",
        "        #print(outputs)\n",
        "        densities = 1/INTERVAL_LENGTH #torch.Tensor([lognorm.pdf(coordinates, PROPOSAL_SIGMA, 0, np.exp(PROPOSAL_MU)) ])\n",
        "        #print(densities_ratio)\n",
        "        for j in range(len(labels)):\n",
        "          numerator  = payoff(j)\n",
        "          mc_price = numerator * outputs / densities\n",
        "          #print(coordinates)\n",
        "          #print(strikes[j])\n",
        "          #print(numerator)\n",
        "          #print(mc_price)\n",
        "          #plt.scatter(coordinates,payoff(j))\n",
        "          #plt.xlim(-1,20)\n",
        "          #plt.ylim(-1,20)\n",
        "          #print(payoff(j))\n",
        "          #print(mc_price)\n",
        "          #print(mc_price.sum() / MC_STEPS)\n",
        "          loss += (labels[j] -  mc_price.sum() / MC_STEPS)**2\n",
        "          #loss += (labels[j] - mc_price.sum() / MC_STEPS)**2\n",
        "\n",
        "        \n",
        "        \"\"\"\n",
        "        for i in range(MC_STEPS - 1):\n",
        "          mc_integral += (coordinates[i+1] - coordinates[i])*(outputs[i+1] - outputs[i])\n",
        "        \"\"\"\n",
        "        #print(\"custom loss is \" + str(loss))\n",
        "        #print(\"mc integral \" + str(mc_integral))\n",
        "        #print(\"integral loss is \" + str(self.beta * (1 - 0.5*mc_integral)**2))\n",
        "        return loss  #+ self.beta * (1 - 0.5*mc_integral)**2\n",
        "            "
      ]
    },
    {
      "cell_type": "code",
      "execution_count": 118,
      "metadata": {
        "id": "JfpLC23iD1s1"
      },
      "outputs": [],
      "source": [
        "optimizer = torch.optim.Adam(model.parameters(), lr=1e-4, weight_decay=1e-20)\n",
        "loss_fn = OptionLoss(0)"
      ]
    },
    {
      "cell_type": "code",
      "execution_count": 119,
      "metadata": {
        "id": "ozUdEKz5D1s3",
        "colab": {
          "base_uri": "https://localhost:8080/"
        },
        "outputId": "2273a5f7-6718-47d4-cbcd-e414b0019824"
      },
      "outputs": [
        {
          "output_type": "stream",
          "name": "stderr",
          "text": [
            "100%|██████████| 300/300 [01:06<00:00,  4.52it/s]\n"
          ]
        }
      ],
      "source": [
        "loss_history = []\n",
        "for epoch in tqdm(range(EPOCHS)):\n",
        "    for batch, (target_prices, strike_prices, is_call) in enumerate(target_dataloader):\n",
        "        if epoch < EPOCHS * 0.8:\n",
        "          MC_STEPS = MC_STEPS_STARTING\n",
        "        else:\n",
        "          MC_STEPS = MC_STEPS_FINAL\n",
        "        #x = np.concatenate( [ np.linspace(start = START_UNIF, stop = START_UNIF+INTERVAL_LENGTH, num=MC_STEPS // 2) , np.random.uniform(low = START_UNIF, high= START_UNIF+INTERVAL_LENGTH, size=MC_STEPS//2) ] ) \n",
        "        x = np.concatenate([ np.random.uniform(low = START_UNIF, high= START_UNIF+INTERVAL_LENGTH/10, size=MC_STEPS//4) , np.random.uniform(low = START_UNIF, high= START_UNIF+INTERVAL_LENGTH, size=MC_STEPS//2) , np.random.uniform(low = START_UNIF + 9*INTERVAL_LENGTH/10 , high= START_UNIF+INTERVAL_LENGTH, size=MC_STEPS//4) ])\n",
        "        x = np.expand_dims(x, axis = 1)\n",
        "        X = torch.Tensor(x) #coordinates are not sorted\n",
        "        #X = torch.zeros(MC_STEPS, 1).to(device)\n",
        "        #X.uniform_(0, INTERVAL_LENGTH)\n",
        "        #X.log_normal_(PROPOSAL_MU, PROPOSAL_SIGMA )\n",
        "        #print(X)\n",
        "        pred = model(X)\n",
        "        loss = loss_fn(pred.cpu().squeeze(), target_prices, strike_prices, is_call, X.cpu().squeeze())\n",
        "        \n",
        "        # Backpropagation\n",
        "        optimizer.zero_grad()\n",
        "        loss.backward()\n",
        "        torch.nn.utils.clip_grad_norm_(model.parameters(), 1e-1)\n",
        "        optimizer.step()\n",
        "    loss_history.append(float(loss))\n"
      ]
    },
    {
      "cell_type": "code",
      "source": [
        "np.expand_dims(x, axis = 1)"
      ],
      "metadata": {
        "colab": {
          "base_uri": "https://localhost:8080/"
        },
        "id": "jljPOUNPwOhH",
        "outputId": "6b8592bd-02dd-459c-9391-0c23d381f326"
      },
      "execution_count": 120,
      "outputs": [
        {
          "output_type": "execute_result",
          "data": {
            "text/plain": [
              "array([[[0.72448918]],\n",
              "\n",
              "       [[0.24299108]],\n",
              "\n",
              "       [[0.75016341]],\n",
              "\n",
              "       ...,\n",
              "\n",
              "       [[9.38250209]],\n",
              "\n",
              "       [[9.28129593]],\n",
              "\n",
              "       [[9.62279148]]])"
            ]
          },
          "metadata": {},
          "execution_count": 120
        }
      ]
    },
    {
      "cell_type": "code",
      "source": [
        "# EXPERIMENT \n",
        "i = 0\n",
        "X = torch.zeros(MC_STEPS)\n",
        "X.log_normal_(PROPOSAL_MU, PROPOSAL_SIGMA)\n",
        "X = np.array(X)\n",
        "#prices[i], strikes[i], is_call_options[i]\n",
        "#payoff =   np.maximum(np.zeros(MC_STEPS), X - strikes[i] ) if is_call_options[i] else np.maximum(np.zeros(MC_STEPS), strikes[i] - X)\n",
        "#print( ( prices[i] - (payoff.sum() / MC_STEPS))**2 )"
      ],
      "metadata": {
        "id": "nR5__7sFbYLD"
      },
      "execution_count": 121,
      "outputs": []
    },
    {
      "cell_type": "code",
      "source": [
        "x = np.linspace(0, 20, num = 10000)\n",
        "y = lognorm.pdf(x, SCALED_VOLATILITY, 0, np.exp(PROPOSAL_MU))\n",
        "plt.plot(x, y)"
      ],
      "metadata": {
        "id": "0Dzvy3028tI1",
        "colab": {
          "base_uri": "https://localhost:8080/",
          "height": 352
        },
        "outputId": "e741e885-ae1c-45de-d29a-6cfcf225d2ba"
      },
      "execution_count": 122,
      "outputs": [
        {
          "output_type": "stream",
          "name": "stderr",
          "text": [
            "/usr/local/lib/python3.7/dist-packages/scipy/stats/_distn_infrastructure.py:1740: RuntimeWarning: divide by zero encountered in true_divide\n",
            "  x = np.asarray((x - loc)/scale, dtype=dtyp)\n",
            "/usr/local/lib/python3.7/dist-packages/scipy/stats/_distn_infrastructure.py:1740: RuntimeWarning: invalid value encountered in true_divide\n",
            "  x = np.asarray((x - loc)/scale, dtype=dtyp)\n"
          ]
        },
        {
          "output_type": "execute_result",
          "data": {
            "text/plain": [
              "[<matplotlib.lines.Line2D at 0x7fd47bc64590>]"
            ]
          },
          "metadata": {},
          "execution_count": 122
        },
        {
          "output_type": "display_data",
          "data": {
            "text/plain": [
              "<Figure size 432x288 with 1 Axes>"
            ],
            "image/png": "[encoded data removed]"
          },
          "metadata": {
            "needs_background": "light"
          }
        }
      ]
    },
    {
      "cell_type": "code",
      "source": [
        "plt.plot(range(len(loss_history[-290:])), loss_history[-290:])\n",
        "#plt.ylim(bottom=-0.0001,top=100)"
      ],
      "metadata": {
        "colab": {
          "base_uri": "https://localhost:8080/",
          "height": 282
        },
        "id": "vG7g6t7hJDOz",
        "outputId": "32e190d3-1c0a-4ada-97d6-94be3392be5b"
      },
      "execution_count": 123,
      "outputs": [
        {
          "output_type": "execute_result",
          "data": {
            "text/plain": [
              "[<matplotlib.lines.Line2D at 0x7fd477eda650>]"
            ]
          },
          "metadata": {},
          "execution_count": 123
        },
        {
          "output_type": "display_data",
          "data": {
            "text/plain": [
              "<Figure size 432x288 with 1 Axes>"
            ],
            "image/png": "[encoded data removed]"
          },
          "metadata": {
            "needs_background": "light"
          }
        }
      ]
    },
    {
      "cell_type": "code",
      "execution_count": 124,
      "metadata": {
        "id": "tJWYi6YJIEFu",
        "colab": {
          "base_uri": "https://localhost:8080/",
          "height": 284
        },
        "outputId": "0c7b3a95-36c9-4660-e26d-ae7ddfc6f52c"
      },
      "outputs": [
        {
          "output_type": "execute_result",
          "data": {
            "text/plain": [
              "[<matplotlib.lines.Line2D at 0x7fd477e51310>]"
            ]
          },
          "metadata": {},
          "execution_count": 124
        },
        {
          "output_type": "display_data",
          "data": {
            "text/plain": [
              "<Figure size 432x288 with 1 Axes>"
            ],
            "image/png": "[encoded data removed]"
          },
          "metadata": {
            "needs_background": "light"
          }
        }
      ],
      "source": [
        "running_loss_average = uniform_filter1d(loss_history[-200:], size=50)\n",
        "plt.plot(range(len(running_loss_average)), running_loss_average)"
      ]
    },
    {
      "cell_type": "code",
      "execution_count": 125,
      "metadata": {
        "id": "FnvWSkqv7GyA",
        "colab": {
          "base_uri": "https://localhost:8080/"
        },
        "outputId": "64082c52-5c37-4ac0-bb91-bac2c9fdb894"
      },
      "outputs": [
        {
          "output_type": "execute_result",
          "data": {
            "text/plain": [
              "[152.6985086567115,\n",
              " 16.90975784413683,\n",
              " 11.124526153730915,\n",
              " 8.888629681438612,\n",
              " 8.623438347954338,\n",
              " 5.021276089083312,\n",
              " 3.2250305273702535,\n",
              " 3.1949272960939967,\n",
              " 0.058162279987084384,\n",
              " 2.6051698573266577,\n",
              " 1.0572318490653916,\n",
              " 7.271452894509096,\n",
              " 2.263973276644265,\n",
              " 3.306500164898182,\n",
              " 1.9161329635596671,\n",
              " 2.5743527594262092,\n",
              " 0.3012981890536129,\n",
              " 3.252863951666365,\n",
              " 2.4060315069719582,\n",
              " 0.19108492582860975,\n",
              " 0.20755676627325556,\n",
              " 1.1862511345750641,\n",
              " 0.3819758108042309,\n",
              " 1.119945444968876,\n",
              " 0.9100053015526667,\n",
              " 0.34252957803948697,\n",
              " 0.7646947724578067,\n",
              " 1.7197322134410342,\n",
              " 1.0089413062237895,\n",
              " 0.835795621942566,\n",
              " 1.85451036534435,\n",
              " 2.174061592827066,\n",
              " 0.3524171950971049,\n",
              " 0.7962334109768485,\n",
              " 0.4231165734420606,\n",
              " 1.371232480279591,\n",
              " 0.32575069141413987,\n",
              " 1.5330622466448671,\n",
              " 1.2796462667669946,\n",
              " 1.257960932089275,\n",
              " 0.49204491801445766,\n",
              " 1.7395237508872883,\n",
              " 0.7381535823353013,\n",
              " 0.19640193344264695,\n",
              " 1.3279962435670933,\n",
              " 3.904419679775458,\n",
              " 1.11574845286311,\n",
              " 1.970607138345441,\n",
              " 0.44787965509406513,\n",
              " 0.3605032833187112,\n",
              " 2.9650109801923037,\n",
              " 0.9004438743667915,\n",
              " 1.487895806856002,\n",
              " 0.9618791974650341,\n",
              " 1.107057689397382,\n",
              " 1.8557572650203156,\n",
              " 1.5222018881366224,\n",
              " 0.9409699792686395,\n",
              " 0.2620683830175663,\n",
              " 0.3031742050652299,\n",
              " 1.9446568934136486,\n",
              " 0.5799688116041615,\n",
              " 0.762852311094038,\n",
              " 3.4656928937462075,\n",
              " 0.8200672832713325,\n",
              " 0.27318812695807354,\n",
              " 1.771931761972553,\n",
              " 0.8818098954832853,\n",
              " 2.812749725383478,\n",
              " 1.1286866318834679,\n",
              " 1.461412639735074,\n",
              " 0.17955428714783103,\n",
              " 0.35929127866038424,\n",
              " 1.8607474591687296,\n",
              " 1.5133300604048259,\n",
              " 0.7263693006600173,\n",
              " 2.0780068218234518,\n",
              " 0.6178464633181088,\n",
              " 0.43752954128092764,\n",
              " 1.3134568596361724,\n",
              " 0.9716785456779182,\n",
              " 2.2224090503626206,\n",
              " 2.4447534434065687,\n",
              " 1.013211770626827,\n",
              " 0.4807491306971036,\n",
              " 1.5182704937854483,\n",
              " 0.6541449228523872,\n",
              " 0.9626353049986591,\n",
              " 2.1686534252506817,\n",
              " 1.7619345378877398,\n",
              " 0.20805411114056457,\n",
              " 0.20861428548331779,\n",
              " 0.9823553189848991,\n",
              " 1.7389742989907109,\n",
              " 0.27642954987549717,\n",
              " 0.6231130618028422,\n",
              " 0.21031728990432325,\n",
              " 1.3941923015260065,\n",
              " 0.41757742597640735,\n",
              " 1.1825865003879206,\n",
              " 0.9504315022169544,\n",
              " 0.35006521532559776,\n",
              " 1.8852674591297158,\n",
              " 0.3727516249084209,\n",
              " 0.4640307389109318,\n",
              " 1.8930419239292888,\n",
              " 0.27622629983562774,\n",
              " 0.23683095608279953,\n",
              " 0.8801732093403649,\n",
              " 0.3229844183490071,\n",
              " 1.2260687542667537,\n",
              " 0.47438445350731073,\n",
              " 0.5712654882618478,\n",
              " 2.838878028408791,\n",
              " 0.22697497715576093,\n",
              " 1.5853248567422888,\n",
              " 1.6001021531817305,\n",
              " 0.29105106804969155,\n",
              " 0.38655362141275873,\n",
              " 1.108700179207879,\n",
              " 0.6629237299517797,\n",
              " 0.8188201564937182,\n",
              " 1.6770793559609714,\n",
              " 0.7155873707463288,\n",
              " 0.4289013698083155,\n",
              " 0.6689242207814667,\n",
              " 0.7764134139306835,\n",
              " 0.7731136308450621,\n",
              " 1.9071727543861035,\n",
              " 2.279663879897064,\n",
              " 0.8413522121917623,\n",
              " 1.5758432057747331,\n",
              " 0.7237712726165455,\n",
              " 0.7124056652920137,\n",
              " 0.5783733592379885,\n",
              " 0.2179495876089277,\n",
              " 1.3858957076805125,\n",
              " 1.6009065720165592,\n",
              " 1.5377402702825407,\n",
              " 0.5921302104003486,\n",
              " 0.2371456074539297,\n",
              " 2.917924788502207,\n",
              " 2.7503739238368894,\n",
              " 1.583084227752839,\n",
              " 1.2145777761858512,\n",
              " 1.9037524087352842,\n",
              " 0.6963562374869544,\n",
              " 4.209330764495352,\n",
              " 1.5201099530205202,\n",
              " 0.8632665108128055,\n",
              " 2.7246315110643935,\n",
              " 0.9683689601873766,\n",
              " 1.0179867314944318,\n",
              " 0.1820802275456014,\n",
              " 0.8716482840676099,\n",
              " 1.3664653168300853,\n",
              " 1.0896170164658572,\n",
              " 0.5058017499568548,\n",
              " 2.6860943679191664,\n",
              " 1.0705049693500435,\n",
              " 1.587016175975098,\n",
              " 1.0958433057039652,\n",
              " 0.12691837789017743,\n",
              " 4.384127532761198,\n",
              " 0.2573769794527691,\n",
              " 2.5269792668431137,\n",
              " 5.035473179462887,\n",
              " 0.3072726901690595,\n",
              " 0.19666408319833978,\n",
              " 0.5494474644366494,\n",
              " 0.37333524007425545,\n",
              " 1.5403746570607584,\n",
              " 1.516736280052707,\n",
              " 0.8153558349598597,\n",
              " 1.198385556951166,\n",
              " 0.9594402607949455,\n",
              " 0.8511777536806309,\n",
              " 0.692170395617085,\n",
              " 0.6352628608194908,\n",
              " 1.6675258641746256,\n",
              " 0.3550270156740899,\n",
              " 0.8752635372284981,\n",
              " 1.1253101628986395,\n",
              " 1.2016805203886418,\n",
              " 4.421260985865838,\n",
              " 1.9047140545363581,\n",
              " 0.5258914574112876,\n",
              " 1.8934442081802068,\n",
              " 0.8785678397711758,\n",
              " 1.9051590162038792,\n",
              " 2.249847728824626,\n",
              " 1.9976722935107583,\n",
              " 1.1373582932249338,\n",
              " 1.1334356313334701,\n",
              " 1.991035085597704,\n",
              " 2.7920663687846448,\n",
              " 1.9362597140230435,\n",
              " 0.5778282027085009,\n",
              " 3.167541680484278,\n",
              " 0.9121713556809222,\n",
              " 0.18591907360240667,\n",
              " 0.21087932836004372,\n",
              " 0.6253922638965296,\n",
              " 0.48599779702868506,\n",
              " 1.1152779827222319,\n",
              " 1.1463997136731938,\n",
              " 0.5896547251611937,\n",
              " 0.6527792588149959,\n",
              " 0.23045040121989355,\n",
              " 0.7101601357194649,\n",
              " 1.1847605986231997,\n",
              " 0.35809596690725326,\n",
              " 0.3483730114671418,\n",
              " 0.1833358476103274,\n",
              " 1.1453498126179185,\n",
              " 2.3136956581654013,\n",
              " 1.5119319444389299,\n",
              " 0.05769003230257449,\n",
              " 0.49893989524756044,\n",
              " 0.5732105941441699,\n",
              " 1.0028493687046605,\n",
              " 1.9312822333125808,\n",
              " 1.0548467429586026,\n",
              " 0.11596277776428274,\n",
              " 0.601859315606622,\n",
              " 2.061772880092988,\n",
              " 0.6993069420742466,\n",
              " 1.8599224296232046,\n",
              " 1.7058227544341555,\n",
              " 1.2838196111799955,\n",
              " 0.30367350084637773,\n",
              " 0.05155466611953875,\n",
              " 1.244502401956665,\n",
              " 1.2271567137786838,\n",
              " 1.2062021734253239,\n",
              " 0.20830960410347155,\n",
              " 0.40327667192559113,\n",
              " 0.6805900470177617,\n",
              " 0.9073060819209542,\n",
              " 3.040576913874653,\n",
              " 0.901680061274091,\n",
              " 1.2468117161132568,\n",
              " 0.5880260977011054,\n",
              " 1.2952923813957158,\n",
              " 0.5361872088938902,\n",
              " 1.82949710466022,\n",
              " 1.12552137474745,\n",
              " 2.3794807223570578,\n",
              " 0.48091891232135187,\n",
              " 0.670251923485708,\n",
              " 0.3409112015019375,\n",
              " 1.3358254233266236,\n",
              " 0.905714914025909,\n",
              " 0.20384681605193886,\n",
              " 0.5655101027452702,\n",
              " 0.6413535273380729,\n",
              " 1.3830496773410492,\n",
              " 6.725597330966351,\n",
              " 0.8484456618692582,\n",
              " 0.6914267763556743,\n",
              " 0.9596442910225205,\n",
              " 0.12858549060115518,\n",
              " 0.07430304495496359,\n",
              " 0.19012093444871986,\n",
              " 0.8321340183411516,\n",
              " 0.11782369234143872,\n",
              " 0.4072224421586005,\n",
              " 1.573783281569307,\n",
              " 1.418433847342185,\n",
              " 0.2891470883494649,\n",
              " 1.5870998167072243,\n",
              " 1.6836004336551014,\n",
              " 2.578707961075679,\n",
              " 1.2216308018940936,\n",
              " 0.8982647939139996,\n",
              " 0.5353944851909158,\n",
              " 2.113003716615454,\n",
              " 1.0602929266834855,\n",
              " 0.33157692540567696,\n",
              " 0.24767978522696044,\n",
              " 2.1496081900359068,\n",
              " 0.410280497359602,\n",
              " 1.242029398928301,\n",
              " 0.8552428664354094,\n",
              " 1.5767973852782435,\n",
              " 1.0090025310716688,\n",
              " 0.17995775512290285,\n",
              " 0.25904639235851223,\n",
              " 0.3024789832597901,\n",
              " 0.23765852369986623,\n",
              " 1.1175625230257604,\n",
              " 0.4098048930890717,\n",
              " 2.6322866530602735,\n",
              " 0.5216874130319379,\n",
              " 0.19201966731164372,\n",
              " 0.9051598103705417,\n",
              " 0.8678257805990522,\n",
              " 0.3984466755845233,\n",
              " 0.234175430557797,\n",
              " 0.7901032590044484]"
            ]
          },
          "metadata": {},
          "execution_count": 125
        }
      ],
      "source": [
        "loss_history"
      ]
    },
    {
      "cell_type": "code",
      "execution_count": 126,
      "metadata": {
        "id": "B_-GpMdAD1s3",
        "colab": {
          "base_uri": "https://localhost:8080/",
          "height": 282
        },
        "outputId": "d22d9eca-5b76-44b2-b76d-eb52a37ef238"
      },
      "outputs": [
        {
          "output_type": "execute_result",
          "data": {
            "text/plain": [
              "[<matplotlib.lines.Line2D at 0x7fd477dcc810>]"
            ]
          },
          "metadata": {},
          "execution_count": 126
        },
        {
          "output_type": "display_data",
          "data": {
            "text/plain": [
              "<Figure size 432x288 with 1 Axes>"
            ],
            "image/png": "[encoded data removed]"
          },
          "metadata": {
            "needs_background": "light"
          }
        }
      ],
      "source": [
        "x = torch.Tensor(np.arange(0, 20, 0.01)).to(device).unsqueeze(-1)\n",
        "p = model(x)\n",
        "plt.plot(x.cpu().detach().numpy(), p.cpu().detach().numpy())"
      ]
    },
    {
      "cell_type": "code",
      "source": [
        "x = torch.Tensor(np.arange(0, 20 , 0.01)).to(device).unsqueeze(-1)\n",
        "p = model(x) \n",
        "plt.plot(x.cpu().detach().numpy() * LAMBDA, p.cpu().detach().numpy() / LAMBDA)"
      ],
      "metadata": {
        "colab": {
          "base_uri": "https://localhost:8080/",
          "height": 282
        },
        "id": "BAcFOpRlMfFY",
        "outputId": "f3c4ecf4-417b-4135-a103-1492bec1ef83"
      },
      "execution_count": 127,
      "outputs": [
        {
          "output_type": "execute_result",
          "data": {
            "text/plain": [
              "[<matplotlib.lines.Line2D at 0x7fd477d44250>]"
            ]
          },
          "metadata": {},
          "execution_count": 127
        },
        {
          "output_type": "display_data",
          "data": {
            "text/plain": [
              "<Figure size 432x288 with 1 Axes>"
            ],
            "image/png": "[encoded data removed]"
          },
          "metadata": {
            "needs_background": "light"
          }
        }
      ]
    },
    {
      "cell_type": "code",
      "source": [
        "x = np.linspace(0.0001, 20 * LAMBDA, num = 10000)\n",
        "y = lognorm.pdf(x , s=VOLATILITY, loc=0, scale=np.exp(PROPOSAL_MU))\n",
        "plt.plot(x, y)"
      ],
      "metadata": {
        "colab": {
          "base_uri": "https://localhost:8080/",
          "height": 317
        },
        "id": "7u0mwkHSM7ah",
        "outputId": "64864621-e1b7-4584-cc8a-56d20c044e24"
      },
      "execution_count": 128,
      "outputs": [
        {
          "output_type": "stream",
          "name": "stderr",
          "text": [
            "/usr/local/lib/python3.7/dist-packages/scipy/stats/_distn_infrastructure.py:1740: RuntimeWarning: divide by zero encountered in true_divide\n",
            "  x = np.asarray((x - loc)/scale, dtype=dtyp)\n"
          ]
        },
        {
          "output_type": "execute_result",
          "data": {
            "text/plain": [
              "[<matplotlib.lines.Line2D at 0x7fd477d2bf90>]"
            ]
          },
          "metadata": {},
          "execution_count": 128
        },
        {
          "output_type": "display_data",
          "data": {
            "text/plain": [
              "<Figure size 432x288 with 1 Axes>"
            ],
            "image/png": "[encoded data removed]"
          },
          "metadata": {
            "needs_background": "light"
          }
        }
      ]
    },
    {
      "cell_type": "code",
      "execution_count": 129,
      "metadata": {
        "id": "jBUi9fpb4-ye",
        "colab": {
          "base_uri": "https://localhost:8080/"
        },
        "outputId": "4a451bee-aaf8-4d4b-ec88-2d0e49236a12"
      },
      "outputs": [
        {
          "output_type": "stream",
          "name": "stdout",
          "text": [
            "Parameter containing:\n",
            "tensor([[-0.3030],\n",
            "        [-0.1798],\n",
            "        [ 0.5819],\n",
            "        [ 0.2316],\n",
            "        [-0.1800],\n",
            "        [-0.5222],\n",
            "        [-0.2866],\n",
            "        [-0.5507],\n",
            "        [-0.4675],\n",
            "        [-0.1076],\n",
            "        [ 0.0544],\n",
            "        [ 0.8814],\n",
            "        [-0.4594],\n",
            "        [ 0.1310],\n",
            "        [-0.3233],\n",
            "        [ 0.7971],\n",
            "        [-0.7323],\n",
            "        [ 0.8864],\n",
            "        [ 0.6744],\n",
            "        [ 0.4476],\n",
            "        [ 0.0787],\n",
            "        [ 0.1303],\n",
            "        [ 0.1456],\n",
            "        [-0.6853],\n",
            "        [ 0.5828],\n",
            "        [-0.1604],\n",
            "        [-0.0387],\n",
            "        [ 0.7153],\n",
            "        [ 0.6937],\n",
            "        [ 0.8763],\n",
            "        [ 0.0823],\n",
            "        [-0.0793],\n",
            "        [ 0.7070],\n",
            "        [-0.5868],\n",
            "        [-0.5757],\n",
            "        [-0.7911],\n",
            "        [ 0.5992],\n",
            "        [ 0.4225],\n",
            "        [ 0.7791],\n",
            "        [ 0.9635],\n",
            "        [ 0.8563],\n",
            "        [-0.1205],\n",
            "        [ 0.8378],\n",
            "        [ 0.7385],\n",
            "        [ 0.1775],\n",
            "        [-0.8126],\n",
            "        [-0.8659],\n",
            "        [ 0.3356],\n",
            "        [ 0.2873],\n",
            "        [ 0.1838],\n",
            "        [ 0.4514],\n",
            "        [ 0.8811],\n",
            "        [-0.6353],\n",
            "        [-0.1614],\n",
            "        [ 0.2951],\n",
            "        [-0.9050],\n",
            "        [ 0.4573],\n",
            "        [-0.3851],\n",
            "        [-0.7981],\n",
            "        [ 0.5502],\n",
            "        [-0.8474],\n",
            "        [-0.4562],\n",
            "        [ 0.3953],\n",
            "        [-0.5420],\n",
            "        [ 0.0440],\n",
            "        [ 0.8981],\n",
            "        [ 0.5076],\n",
            "        [ 0.0755],\n",
            "        [-0.3660],\n",
            "        [-0.6076],\n",
            "        [ 0.5317],\n",
            "        [ 0.3543],\n",
            "        [-0.5595],\n",
            "        [-0.1942],\n",
            "        [-0.9129],\n",
            "        [-0.6759],\n",
            "        [-0.8594],\n",
            "        [ 0.4507],\n",
            "        [ 0.7270],\n",
            "        [ 0.1965],\n",
            "        [-0.7543],\n",
            "        [-0.2062],\n",
            "        [-0.6901],\n",
            "        [-0.6511],\n",
            "        [ 0.2477],\n",
            "        [-0.1996],\n",
            "        [-0.3629],\n",
            "        [ 0.4231],\n",
            "        [-0.8122],\n",
            "        [ 0.7734],\n",
            "        [ 0.3952],\n",
            "        [ 0.9946],\n",
            "        [-0.8777],\n",
            "        [-0.5489],\n",
            "        [-0.7741],\n",
            "        [-0.7563],\n",
            "        [ 0.2813],\n",
            "        [ 0.8138],\n",
            "        [ 0.5771],\n",
            "        [ 0.3935],\n",
            "        [ 0.0600],\n",
            "        [-0.0833],\n",
            "        [-0.5828],\n",
            "        [-0.1903],\n",
            "        [-0.1463],\n",
            "        [ 0.0441],\n",
            "        [ 0.5047],\n",
            "        [-0.3020],\n",
            "        [-0.6226],\n",
            "        [-0.0606],\n",
            "        [-0.0200],\n",
            "        [-0.0956],\n",
            "        [-0.4187],\n",
            "        [-0.5897],\n",
            "        [-0.0307],\n",
            "        [ 0.5043],\n",
            "        [ 0.3771],\n",
            "        [-0.4029],\n",
            "        [ 0.2835],\n",
            "        [ 0.7152],\n",
            "        [ 0.8600],\n",
            "        [-0.0224],\n",
            "        [-0.7022],\n",
            "        [-0.8907],\n",
            "        [ 0.0375],\n",
            "        [ 0.2141],\n",
            "        [-0.3162],\n",
            "        [ 0.7565]], requires_grad=True)\n",
            "Parameter containing:\n",
            "tensor([ 0.7184, -0.8524,  0.9506,  0.3350,  0.4900,  0.4336,  0.4448, -0.8726,\n",
            "        -0.3175, -0.6282, -0.2145, -0.5797,  0.6026,  0.3557, -0.0905, -0.3583,\n",
            "        -0.7344, -0.5789,  0.9218, -0.0357, -0.4296, -0.1012, -0.6922,  0.0468,\n",
            "        -0.2021, -0.4832,  0.1181, -0.3356,  0.6581, -0.9455, -0.1883, -0.8290,\n",
            "         0.4241, -0.0923, -0.5549,  0.9884,  0.2979,  0.9547,  0.2804, -0.6053,\n",
            "         0.5340, -0.1088, -0.0563,  0.3449, -0.5932,  0.7941, -0.0212, -0.4260,\n",
            "        -0.8969, -0.7929, -0.9406, -0.7644,  0.5592,  0.4277,  0.6173,  0.3671,\n",
            "         0.1096,  0.7001, -0.2039,  0.5762, -0.1115,  0.0064,  0.7455, -0.7492,\n",
            "        -0.7622,  0.1524,  0.1288, -0.9884, -0.3031, -0.5514, -0.4578,  0.7259,\n",
            "         0.5134,  0.3828, -0.4361,  0.8701, -0.7334, -0.9882,  0.9846,  0.3943,\n",
            "        -0.5809, -0.4754, -0.2525,  0.5478,  0.4626, -0.0276, -0.7032, -0.7336,\n",
            "         0.7401,  0.7964,  0.7038,  0.1556, -0.2200, -0.2517, -0.9838,  0.6493,\n",
            "         0.8439, -0.1130, -0.9451,  0.1656, -0.1781, -0.1212, -0.3376, -0.9502,\n",
            "         0.3802, -0.1552,  0.0459,  0.7179, -0.5902,  0.8271, -0.2740, -0.1341,\n",
            "        -0.9157,  0.2240,  0.3179, -0.4810, -0.5133, -0.4093,  0.0516, -0.2152,\n",
            "         1.0036,  0.2232,  1.0063, -0.2060,  0.9048, -0.8806, -0.8439, -0.3647],\n",
            "       requires_grad=True)\n",
            "Parameter containing:\n",
            "tensor([[ 0.0748,  0.0030, -0.0291,  ..., -0.0206, -0.0469,  0.0600],\n",
            "        [-0.0468, -0.0266,  0.0578,  ..., -0.0016, -0.0448,  0.0585],\n",
            "        [ 0.0343, -0.0325, -0.0347,  ...,  0.0339, -0.0050, -0.0327],\n",
            "        ...,\n",
            "        [ 0.0294,  0.0737, -0.0118,  ..., -0.0460, -0.0150, -0.0443],\n",
            "        [ 0.0501, -0.0902,  0.0765,  ...,  0.0354, -0.0960,  0.0050],\n",
            "        [-0.0840,  0.0710, -0.0312,  ...,  0.0207, -0.0270, -0.0309]],\n",
            "       requires_grad=True)\n",
            "Parameter containing:\n",
            "tensor([ 0.0598,  0.0846,  0.0783,  0.0524,  0.0206, -0.0512, -0.0345,  0.0013,\n",
            "         0.0788, -0.0323,  0.0869, -0.0356,  0.0319,  0.0136, -0.0685,  0.0523,\n",
            "        -0.1106,  0.0826,  0.0285, -0.0332,  0.0495, -0.0332,  0.0252,  0.0440,\n",
            "         0.0921,  0.0088, -0.0020, -0.0723, -0.0957, -0.0550,  0.0444,  0.0620,\n",
            "         0.0151,  0.0110, -0.0662, -0.0261,  0.0174, -0.0147,  0.0235,  0.0512,\n",
            "        -0.0715, -0.0791, -0.0030, -0.0208,  0.0654, -0.0068,  0.0726, -0.0395,\n",
            "         0.0241,  0.0018,  0.0833,  0.0123,  0.0347,  0.0808,  0.0223,  0.0468,\n",
            "         0.0652, -0.0083,  0.0481,  0.0883, -0.0752,  0.0823,  0.0935, -0.0524,\n",
            "        -0.0439, -0.0615,  0.0380,  0.0150, -0.0103,  0.0174, -0.0424, -0.0336,\n",
            "        -0.0590,  0.0801, -0.0444,  0.0295, -0.0275,  0.0790,  0.0138, -0.0459,\n",
            "         0.0634,  0.0072, -0.0142, -0.0112,  0.0306, -0.0051,  0.0237,  0.0106,\n",
            "        -0.0712,  0.0202,  0.0921,  0.0145, -0.0089, -0.0356,  0.0362,  0.0521,\n",
            "         0.0593, -0.0625, -0.0363,  0.0223,  0.0405, -0.0388, -0.0333, -0.0076,\n",
            "        -0.0402,  0.0285,  0.0668, -0.0039,  0.0641,  0.0484, -0.0040, -0.0103,\n",
            "         0.0691,  0.0743,  0.0125, -0.0306,  0.0303, -0.0561,  0.0163,  0.0989,\n",
            "         0.0473,  0.0616, -0.0167,  0.0316,  0.0270, -0.0174, -0.0194, -0.0605,\n",
            "        -0.0724,  0.0739, -0.0947, -0.0811,  0.0372, -0.0036,  0.0427, -0.0251,\n",
            "        -0.0438, -0.0343, -0.0022,  0.0173, -0.0639,  0.0020, -0.0764, -0.0676,\n",
            "        -0.0439,  0.0090,  0.0362, -0.0534, -0.0945, -0.0198, -0.0687, -0.0227,\n",
            "         0.0818,  0.0511, -0.0167, -0.0954,  0.0153,  0.0844, -0.0508, -0.0281,\n",
            "         0.0194,  0.0009,  0.0645, -0.0699, -0.0709, -0.0407, -0.0274, -0.0498,\n",
            "         0.0806,  0.0734,  0.0385, -0.0403,  0.0488, -0.0442, -0.0435,  0.0164,\n",
            "        -0.0097,  0.0994, -0.0013,  0.1005,  0.0231,  0.0660,  0.0303, -0.0498,\n",
            "         0.0397, -0.0109,  0.0647, -0.0074,  0.0465,  0.0679,  0.0106,  0.0783,\n",
            "         0.0467, -0.0658, -0.0507, -0.0017,  0.0436, -0.0974, -0.0579, -0.0130,\n",
            "        -0.0495,  0.0045,  0.0643, -0.0835,  0.0800, -0.0584, -0.0243, -0.0842,\n",
            "        -0.0925,  0.0662, -0.0723,  0.0443, -0.0309,  0.0122, -0.0419,  0.0545,\n",
            "        -0.0573, -0.0099,  0.0644, -0.0309,  0.0520, -0.0441, -0.0061,  0.0189,\n",
            "        -0.0959,  0.0470, -0.0644, -0.0123, -0.0505, -0.0311,  0.0550, -0.0133,\n",
            "         0.0826,  0.0287,  0.0298, -0.0186, -0.0948, -0.0838, -0.0383, -0.0231,\n",
            "         0.0443,  0.0666, -0.0821,  0.0022, -0.0300, -0.0536, -0.0237, -0.0676,\n",
            "        -0.0171, -0.0010, -0.0648, -0.0076,  0.0341,  0.0304, -0.0410,  0.0202,\n",
            "         0.0776,  0.0160,  0.0838, -0.0308, -0.0102,  0.0262,  0.0326, -0.0383,\n",
            "        -0.0798,  0.0777,  0.0516, -0.0610, -0.0523,  0.0122,  0.0401, -0.0077,\n",
            "        -0.0736,  0.0516,  0.0038, -0.0105,  0.0166, -0.0659,  0.0591, -0.0825,\n",
            "         0.0068,  0.0640,  0.0530, -0.0772, -0.0249,  0.0150,  0.0414,  0.0874,\n",
            "         0.0710, -0.1058, -0.0593, -0.0032,  0.0884,  0.0108,  0.0579, -0.0719,\n",
            "        -0.0739,  0.0555, -0.0557, -0.0457,  0.0817, -0.0656, -0.0106,  0.0548,\n",
            "         0.0338, -0.0090,  0.0226,  0.0695, -0.0479, -0.0745, -0.0539, -0.0920,\n",
            "         0.0763,  0.0242, -0.0839, -0.0038,  0.0627, -0.0375, -0.0703, -0.1103,\n",
            "         0.0566,  0.0530,  0.0053,  0.0406,  0.0572, -0.0571, -0.0458,  0.0105,\n",
            "         0.0723, -0.0379, -0.0521,  0.0725, -0.0180, -0.0864, -0.0619, -0.0340,\n",
            "        -0.0043, -0.0489,  0.0214, -0.0523,  0.0075, -0.0894,  0.0548,  0.0547,\n",
            "        -0.0682, -0.0728, -0.0588,  0.0098, -0.0581,  0.0496,  0.0152, -0.0462,\n",
            "         0.0605, -0.0121,  0.0340,  0.0360, -0.0527,  0.0083,  0.0254, -0.0398,\n",
            "        -0.0110,  0.0044, -0.0191, -0.0138,  0.0206,  0.0094,  0.0149, -0.0089,\n",
            "        -0.0117,  0.0365,  0.0576,  0.0157,  0.0553, -0.0189, -0.0628,  0.0727,\n",
            "         0.0642, -0.0321, -0.0662,  0.0609, -0.0238,  0.0689,  0.0816, -0.0225,\n",
            "         0.0533,  0.0041,  0.0065, -0.0958, -0.0379, -0.0846, -0.0709, -0.0877,\n",
            "        -0.0627, -0.0070,  0.0599, -0.0192, -0.0205,  0.0345, -0.0163, -0.0104,\n",
            "        -0.0035, -0.0021,  0.0596, -0.0607,  0.0185, -0.0492,  0.0051, -0.0728,\n",
            "         0.0415,  0.0068,  0.0435, -0.0371, -0.0785, -0.0473, -0.0135,  0.0271,\n",
            "        -0.0270,  0.0338,  0.0576, -0.0287,  0.0077,  0.0790,  0.0650,  0.0443,\n",
            "        -0.0443, -0.0106, -0.0052, -0.0484, -0.0772,  0.0840,  0.0471, -0.0859,\n",
            "        -0.0620, -0.0207, -0.0007,  0.0586, -0.1011,  0.0082,  0.0876,  0.0582,\n",
            "        -0.0251,  0.0432,  0.0747, -0.0475,  0.0768, -0.0050,  0.0198, -0.0171,\n",
            "        -0.0129, -0.0513, -0.0554,  0.0344, -0.0671,  0.0574, -0.0041,  0.0563,\n",
            "         0.0116,  0.0110,  0.0149, -0.0080, -0.0393,  0.0910, -0.0436, -0.0770,\n",
            "         0.0022,  0.0256, -0.0723,  0.0928,  0.0419,  0.0152,  0.0530, -0.0312,\n",
            "        -0.0580,  0.0577,  0.0449, -0.0539,  0.0772, -0.0463,  0.0121, -0.0616,\n",
            "        -0.1126,  0.0600,  0.0285,  0.0628,  0.0700, -0.0235,  0.0157, -0.0179,\n",
            "         0.0731,  0.0140,  0.0568,  0.0415, -0.0249, -0.0581,  0.0603,  0.0570,\n",
            "         0.0197, -0.0758,  0.0356, -0.0589, -0.0635,  0.0033, -0.0375,  0.0289,\n",
            "        -0.0722, -0.0684, -0.0561, -0.0799,  0.0758, -0.0443,  0.0568,  0.0625],\n",
            "       requires_grad=True)\n",
            "Parameter containing:\n",
            "tensor([[ 0.0351,  0.0018, -0.0266,  ..., -0.0337, -0.0342,  0.0256],\n",
            "        [ 0.0074,  0.0191,  0.0057,  ..., -0.0195, -0.0277, -0.0351],\n",
            "        [-0.0157, -0.0439, -0.0259,  ..., -0.0352,  0.0361,  0.0045],\n",
            "        ...,\n",
            "        [-0.0419,  0.0134,  0.0025,  ..., -0.0093,  0.0033, -0.0481],\n",
            "        [ 0.0378, -0.0254,  0.0220,  ..., -0.0377, -0.0310,  0.0118],\n",
            "        [-0.0356,  0.0203, -0.0366,  ..., -0.0391,  0.0386, -0.0585]],\n",
            "       requires_grad=True)\n",
            "Parameter containing:\n",
            "tensor([ 0.0172, -0.0197,  0.0306, -0.0279, -0.0357,  0.0150,  0.0462, -0.0340,\n",
            "         0.0058,  0.0164,  0.0354, -0.0095, -0.0086, -0.0007, -0.0282,  0.0430,\n",
            "        -0.0015, -0.0218,  0.0159,  0.0186, -0.0231,  0.0519,  0.0081,  0.0249,\n",
            "        -0.0109, -0.0220,  0.0415,  0.0247,  0.0159, -0.0279, -0.0375, -0.0019,\n",
            "         0.0515,  0.0028,  0.0288,  0.0268,  0.0116, -0.0472, -0.0168,  0.0177,\n",
            "        -0.0206,  0.0507,  0.0484, -0.0472,  0.0389,  0.0016,  0.0281,  0.0185,\n",
            "         0.0283, -0.0395,  0.0366, -0.0338, -0.0117,  0.0135,  0.0410,  0.0328,\n",
            "        -0.0319, -0.0191,  0.0243,  0.0300,  0.0228,  0.0058, -0.0188,  0.0407,\n",
            "        -0.0404, -0.0050, -0.0089, -0.0063,  0.0472, -0.0102, -0.0210, -0.0154,\n",
            "         0.0161,  0.0248,  0.0388,  0.0379,  0.0246, -0.0213,  0.0323, -0.0269,\n",
            "        -0.0235, -0.0331,  0.0042,  0.0019, -0.0612, -0.0303,  0.0299,  0.0310,\n",
            "        -0.0031,  0.0385, -0.0457,  0.0355, -0.0181,  0.0130, -0.0378, -0.0278,\n",
            "        -0.0237,  0.0283,  0.0265, -0.0265, -0.0508, -0.0321, -0.0102, -0.0121,\n",
            "        -0.0143, -0.0272,  0.0062, -0.0027, -0.0154, -0.0429, -0.0266,  0.0460,\n",
            "         0.0326, -0.0473,  0.0184, -0.0413,  0.0002,  0.0427, -0.0180, -0.0078,\n",
            "        -0.0116,  0.0160, -0.0097, -0.0376,  0.0252, -0.0430, -0.0287,  0.0081],\n",
            "       requires_grad=True)\n",
            "Parameter containing:\n",
            "tensor([[-0.0094,  0.0015,  0.0776,  0.0663,  0.0718, -0.0487, -0.0855, -0.0844,\n",
            "         -0.0376, -0.0307,  0.0108,  0.0691,  0.0081,  0.0306, -0.0377, -0.0747,\n",
            "          0.0413, -0.0809,  0.0043, -0.0416, -0.0818, -0.0757, -0.0365,  0.0408,\n",
            "          0.0570, -0.0114, -0.0606, -0.0401,  0.0289, -0.0394,  0.0355,  0.0188,\n",
            "         -0.0298, -0.0156, -0.0379,  0.0488,  0.0226,  0.0735,  0.0847, -0.0783,\n",
            "          0.0634, -0.0418, -0.0302,  0.0431, -0.0751,  0.0169, -0.0326, -0.0920,\n",
            "          0.0398,  0.0939, -0.0238,  0.0527,  0.0170,  0.0372, -0.0674,  0.0348,\n",
            "          0.0298,  0.0112,  0.0352, -0.0097,  0.0145, -0.0628,  0.0666, -0.0135,\n",
            "          0.0453, -0.0686,  0.0610,  0.0039, -0.0113, -0.0641,  0.0240, -0.0541,\n",
            "         -0.0842, -0.0181, -0.0146, -0.0766, -0.0222,  0.0266,  0.0490,  0.0436,\n",
            "         -0.0389,  0.0502,  0.0572,  0.0583,  0.0465, -0.0455,  0.0020,  0.0335,\n",
            "          0.0235, -0.0226,  0.0816, -0.0321, -0.0854, -0.0255,  0.0954,  0.0288,\n",
            "         -0.0272,  0.0330,  0.0789,  0.0068,  0.0444,  0.0383, -0.0482, -0.0129,\n",
            "         -0.0675, -0.0784, -0.0613, -0.0623, -0.0465,  0.0689,  0.0384, -0.0932,\n",
            "          0.0590,  0.0806,  0.0840,  0.0760, -0.0244, -0.0109,  0.0689,  0.0832,\n",
            "          0.0663, -0.0979, -0.0882,  0.0199, -0.0112,  0.0697, -0.0711,  0.0220]],\n",
            "       requires_grad=True)\n",
            "Parameter containing:\n",
            "tensor([0.0211], requires_grad=True)\n"
          ]
        }
      ],
      "source": [
        "for para in model.parameters():\n",
        "    print(para)"
      ]
    },
    {
      "cell_type": "code",
      "source": [
        ""
      ],
      "metadata": {
        "id": "8ax6P0JPIPQL"
      },
      "execution_count": 129,
      "outputs": []
    }
  ],
  "metadata": {
    "colab": {
      "collapsed_sections": [],
      "name": "semester_project_final.ipynb",
      "provenance": [],
      "include_colab_link": true
    },
    "kernelspec": {
      "display_name": "Python 3",
      "language": "python",
      "name": "python3"
    },
    "language_info": {
      "codemirror_mode": {
        "name": "ipython",
        "version": 3
      },
      "file_extension": ".py",
      "mimetype": "text/x-python",
      "name": "python",
      "nbconvert_exporter": "python",
      "pygments_lexer": "ipython3",
      "version": "3.6.4"
    }
  },
  "nbformat": 4,
  "nbformat_minor": 0
}