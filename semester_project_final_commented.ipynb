{
 "cells": [
  {
   "cell_type": "markdown",
   "id": "3479bb4c",
   "metadata": {
    "papermill": {
     "duration": 0.012967,
     "end_time": "2023-06-13T07:17:00.583359",
     "exception": false,
     "start_time": "2023-06-13T07:17:00.570392",
     "status": "completed"
    },
    "tags": []
   },
   "source": [
    "## Learning Risk-neutral measures with Neural Networks\n",
    "\n",
    "\n",
    "The goal is using a neural network to learn the risk-neutral probability density function of the underlying asset from option data. In this notebook we are using options data from the JPX Tokyo Stock Exchange Prediction competition. In particular, we consider the European options on the NIKKEI225 index. Based on the spot prices of some of these options trading on a specific date, we learn the density function $p$ of the price of the index at the maturity time $T$ of the options. The knowledge of $p$ ha many potential applications. In this notebook we are able to deduce the price of options that are trading at the sime time as ours but of different kind and with different strikes than the ones of the training set.  \n",
    "\n",
    "To open the notebook on Kaggle, where the training data is, go to https://www.kaggle.com/code/michelemeziu/semester-project-notebook/"
   ]
  },
  {
   "cell_type": "code",
   "execution_count": 1,
   "id": "ecec49b6",
   "metadata": {
    "_cell_guid": "868963fd-8950-4c68-ba90-a4ec5ee01679",
    "_uuid": "5db6bf9c-2e45-4ac5-b6bb-45710b641c8c",
    "execution": {
     "iopub.execute_input": "2023-06-13T07:17:00.608026Z",
     "iopub.status.busy": "2023-06-13T07:17:00.607500Z",
     "iopub.status.idle": "2023-06-13T07:17:03.963805Z",
     "shell.execute_reply": "2023-06-13T07:17:03.962378Z"
    },
    "papermill": {
     "duration": 3.372691,
     "end_time": "2023-06-13T07:17:03.967261",
     "exception": false,
     "start_time": "2023-06-13T07:17:00.594570",
     "status": "completed"
    },
    "tags": []
   },
   "outputs": [
    {
     "name": "stdout",
     "output_type": "stream",
     "text": [
      "/kaggle/input/jpx-tokyo-stock-exchange-prediction/stock_list.csv\n",
      "/kaggle/input/jpx-tokyo-stock-exchange-prediction/example_test_files/sample_submission.csv\n",
      "/kaggle/input/jpx-tokyo-stock-exchange-prediction/example_test_files/options.csv\n",
      "/kaggle/input/jpx-tokyo-stock-exchange-prediction/example_test_files/financials.csv\n",
      "/kaggle/input/jpx-tokyo-stock-exchange-prediction/example_test_files/secondary_stock_prices.csv\n",
      "/kaggle/input/jpx-tokyo-stock-exchange-prediction/example_test_files/trades.csv\n",
      "/kaggle/input/jpx-tokyo-stock-exchange-prediction/example_test_files/stock_prices.csv\n",
      "/kaggle/input/jpx-tokyo-stock-exchange-prediction/jpx_tokyo_market_prediction/competition.cpython-37m-x86_64-linux-gnu.so\n",
      "/kaggle/input/jpx-tokyo-stock-exchange-prediction/jpx_tokyo_market_prediction/__init__.py\n",
      "/kaggle/input/jpx-tokyo-stock-exchange-prediction/data_specifications/stock_fin_spec.csv\n",
      "/kaggle/input/jpx-tokyo-stock-exchange-prediction/data_specifications/trades_spec.csv\n",
      "/kaggle/input/jpx-tokyo-stock-exchange-prediction/data_specifications/stock_price_spec.csv\n",
      "/kaggle/input/jpx-tokyo-stock-exchange-prediction/data_specifications/options_spec.csv\n",
      "/kaggle/input/jpx-tokyo-stock-exchange-prediction/data_specifications/stock_list_spec.csv\n",
      "/kaggle/input/jpx-tokyo-stock-exchange-prediction/train_files/options.csv\n",
      "/kaggle/input/jpx-tokyo-stock-exchange-prediction/train_files/financials.csv\n",
      "/kaggle/input/jpx-tokyo-stock-exchange-prediction/train_files/secondary_stock_prices.csv\n",
      "/kaggle/input/jpx-tokyo-stock-exchange-prediction/train_files/trades.csv\n",
      "/kaggle/input/jpx-tokyo-stock-exchange-prediction/train_files/stock_prices.csv\n",
      "/kaggle/input/jpx-tokyo-stock-exchange-prediction/supplemental_files/options.csv\n",
      "/kaggle/input/jpx-tokyo-stock-exchange-prediction/supplemental_files/financials.csv\n",
      "/kaggle/input/jpx-tokyo-stock-exchange-prediction/supplemental_files/secondary_stock_prices.csv\n",
      "/kaggle/input/jpx-tokyo-stock-exchange-prediction/supplemental_files/trades.csv\n",
      "/kaggle/input/jpx-tokyo-stock-exchange-prediction/supplemental_files/stock_prices.csv\n"
     ]
    }
   ],
   "source": [
    "# This Python 3 environment comes with many helpful analytics libraries installed\n",
    "# It is defined by the kaggle/python Docker image: https://github.com/kaggle/docker-python\n",
    "# For example, here's several helpful packages to load\n",
    "\n",
    "import numpy as np # linear algebra\n",
    "import pandas as pd # data processing, CSV file I/O (e.g. pd.read_csv)\n",
    "\n",
    "# Input data files are available in the read-only \"../input/\" directory\n",
    "# For example, running this (by clicking run or pressing Shift+Enter) will list all files under the input directory\n",
    "\n",
    "import os\n",
    "for dirname, _, filenames in os.walk('/kaggle/input'):\n",
    "    for filename in filenames:\n",
    "        print(os.path.join(dirname, filename))\n",
    "\n",
    "# You can write up to 20GB to the current directory (/kaggle/working/) that gets preserved as output when you create a version using \"Save & Run All\" \n",
    "# You can also write temporary files to /kaggle/temp/, but they won't be saved outside of the current session\n",
    "\n",
    "import numpy as np\n",
    "import torch\n",
    "from torch import nn\n",
    "from torch.utils.data import DataLoader\n",
    "from scipy.stats import lognorm\n",
    "from scipy.ndimage.filters import uniform_filter1d\n",
    "from matplotlib import pyplot as plt\n",
    "from tqdm import tqdm\n",
    "from sklearn.model_selection import train_test_split\n",
    "from datetime import date, datetime"
   ]
  },
  {
   "cell_type": "code",
   "execution_count": 2,
   "id": "0c699451",
   "metadata": {
    "execution": {
     "iopub.execute_input": "2023-06-13T07:17:03.992496Z",
     "iopub.status.busy": "2023-06-13T07:17:03.991850Z",
     "iopub.status.idle": "2023-06-13T07:17:03.997659Z",
     "shell.execute_reply": "2023-06-13T07:17:03.996256Z"
    },
    "papermill": {
     "duration": 0.021711,
     "end_time": "2023-06-13T07:17:04.000441",
     "exception": false,
     "start_time": "2023-06-13T07:17:03.978730",
     "status": "completed"
    },
    "tags": []
   },
   "outputs": [],
   "source": [
    "#integration parameters\n",
    "INTERVAL_LENGTH = 10\n",
    "START_UNIF = 0.01\n",
    "SCALING_CONSTANT = 10000"
   ]
  },
  {
   "cell_type": "code",
   "execution_count": 3,
   "id": "dc4db8f5",
   "metadata": {
    "execution": {
     "iopub.execute_input": "2023-06-13T07:17:04.025757Z",
     "iopub.status.busy": "2023-06-13T07:17:04.025303Z",
     "iopub.status.idle": "2023-06-13T07:17:34.951935Z",
     "shell.execute_reply": "2023-06-13T07:17:34.950810Z"
    },
    "papermill": {
     "duration": 30.942706,
     "end_time": "2023-06-13T07:17:34.955081",
     "exception": false,
     "start_time": "2023-06-13T07:17:04.012375",
     "status": "completed"
    },
    "tags": []
   },
   "outputs": [
    {
     "name": "stderr",
     "output_type": "stream",
     "text": [
      "/opt/conda/lib/python3.7/site-packages/IPython/core/interactiveshell.py:3552: DtypeWarning: Columns (7,8,9,10) have mixed types.Specify dtype option on import or set low_memory=False.\n",
      "  exec(code_obj, self.user_global_ns, self.user_ns)\n"
     ]
    }
   ],
   "source": [
    "options = pd.read_csv(\"../input/jpx-tokyo-stock-exchange-prediction/train_files/options.csv\")"
   ]
  },
  {
   "cell_type": "markdown",
   "id": "8d6c7ea7",
   "metadata": {
    "papermill": {
     "duration": 0.010832,
     "end_time": "2023-06-13T07:17:34.977262",
     "exception": false,
     "start_time": "2023-06-13T07:17:34.966430",
     "status": "completed"
    },
    "tags": []
   },
   "source": [
    "We look at options trading on $\\texttt{trading_date}$ and expiring on $\\texttt{option_expiry}$"
   ]
  },
  {
   "cell_type": "code",
   "execution_count": 4,
   "id": "93321266",
   "metadata": {
    "execution": {
     "iopub.execute_input": "2023-06-13T07:17:35.001445Z",
     "iopub.status.busy": "2023-06-13T07:17:35.000989Z",
     "iopub.status.idle": "2023-06-13T07:17:35.006623Z",
     "shell.execute_reply": "2023-06-13T07:17:35.005502Z"
    },
    "papermill": {
     "duration": 0.021132,
     "end_time": "2023-06-13T07:17:35.009583",
     "exception": false,
     "start_time": "2023-06-13T07:17:34.988451",
     "status": "completed"
    },
    "tags": []
   },
   "outputs": [],
   "source": [
    "option_expiry = 20170112\n",
    "trading_date = '2017-01-04'"
   ]
  },
  {
   "cell_type": "markdown",
   "id": "2ad5e16c",
   "metadata": {
    "papermill": {
     "duration": 0.010893,
     "end_time": "2023-06-13T07:17:35.031848",
     "exception": false,
     "start_time": "2023-06-13T07:17:35.020955",
     "status": "completed"
    },
    "tags": []
   },
   "source": [
    "We select the options from the dataset, and scale the prices according to SCALING_CONSTANT. This improves learning \n",
    "for the network."
   ]
  },
  {
   "cell_type": "code",
   "execution_count": 5,
   "id": "e45a60d2",
   "metadata": {
    "execution": {
     "iopub.execute_input": "2023-06-13T07:17:35.056215Z",
     "iopub.status.busy": "2023-06-13T07:17:35.055778Z",
     "iopub.status.idle": "2023-06-13T07:17:35.722352Z",
     "shell.execute_reply": "2023-06-13T07:17:35.720997Z"
    },
    "papermill": {
     "duration": 0.682341,
     "end_time": "2023-06-13T07:17:35.725525",
     "exception": false,
     "start_time": "2023-06-13T07:17:35.043184",
     "status": "completed"
    },
    "tags": []
   },
   "outputs": [],
   "source": [
    "pd.set_option('display.max_columns', None)\n",
    "dataset = options.loc[(options['LastTradingDay'] == option_expiry)\n",
    "                      & (options['WholeDayVolume']> 0) \n",
    "                      & (options['Date'] == trading_date)][['StrikePrice', 'Putcall', 'SettlementPrice']]    #[['WholeDayClose', 'SettlementPrice']]\n",
    "dataset[['StrikePrice', 'SettlementPrice']] = dataset[['StrikePrice', 'SettlementPrice']].transform(lambda x : x/SCALING_CONSTANT)\n",
    "dataset['Putcall'] = dataset['Putcall'].transform(lambda x : False if x==1 else True)"
   ]
  },
  {
   "cell_type": "code",
   "execution_count": 6,
   "id": "066399ad",
   "metadata": {
    "execution": {
     "iopub.execute_input": "2023-06-13T07:17:35.749989Z",
     "iopub.status.busy": "2023-06-13T07:17:35.749542Z",
     "iopub.status.idle": "2023-06-13T07:17:35.758446Z",
     "shell.execute_reply": "2023-06-13T07:17:35.757165Z"
    },
    "papermill": {
     "duration": 0.024362,
     "end_time": "2023-06-13T07:17:35.761126",
     "exception": false,
     "start_time": "2023-06-13T07:17:35.736764",
     "status": "completed"
    },
    "tags": []
   },
   "outputs": [],
   "source": [
    "train_df, test_df = train_test_split(dataset, test_size = 0.2)"
   ]
  },
  {
   "cell_type": "code",
   "execution_count": 7,
   "id": "f7db2319",
   "metadata": {
    "execution": {
     "iopub.execute_input": "2023-06-13T07:17:35.787138Z",
     "iopub.status.busy": "2023-06-13T07:17:35.785937Z",
     "iopub.status.idle": "2023-06-13T07:17:35.797600Z",
     "shell.execute_reply": "2023-06-13T07:17:35.796198Z"
    },
    "papermill": {
     "duration": 0.027944,
     "end_time": "2023-06-13T07:17:35.800512",
     "exception": false,
     "start_time": "2023-06-13T07:17:35.772568",
     "status": "completed"
    },
    "tags": []
   },
   "outputs": [
    {
     "data": {
      "text/plain": [
       "60"
      ]
     },
     "execution_count": 7,
     "metadata": {},
     "output_type": "execute_result"
    }
   ],
   "source": [
    "len(train_df)"
   ]
  },
  {
   "cell_type": "code",
   "execution_count": 8,
   "id": "b329e48a",
   "metadata": {
    "execution": {
     "iopub.execute_input": "2023-06-13T07:17:35.825112Z",
     "iopub.status.busy": "2023-06-13T07:17:35.824627Z",
     "iopub.status.idle": "2023-06-13T07:17:35.832476Z",
     "shell.execute_reply": "2023-06-13T07:17:35.831183Z"
    },
    "papermill": {
     "duration": 0.023492,
     "end_time": "2023-06-13T07:17:35.835506",
     "exception": false,
     "start_time": "2023-06-13T07:17:35.812014",
     "status": "completed"
    },
    "tags": []
   },
   "outputs": [
    {
     "data": {
      "text/plain": [
       "15"
      ]
     },
     "execution_count": 8,
     "metadata": {},
     "output_type": "execute_result"
    }
   ],
   "source": [
    "len(test_df)"
   ]
  },
  {
   "cell_type": "markdown",
   "id": "654c1b14",
   "metadata": {
    "papermill": {
     "duration": 0.011072,
     "end_time": "2023-06-13T07:17:35.858188",
     "exception": false,
     "start_time": "2023-06-13T07:17:35.847116",
     "status": "completed"
    },
    "tags": []
   },
   "source": [
    "For both the training and test data we feed in all the data in a single batch. There is no validation data."
   ]
  },
  {
   "cell_type": "code",
   "execution_count": 9,
   "id": "2b018ccb",
   "metadata": {
    "execution": {
     "iopub.execute_input": "2023-06-13T07:17:35.882931Z",
     "iopub.status.busy": "2023-06-13T07:17:35.882483Z",
     "iopub.status.idle": "2023-06-13T07:17:35.893320Z",
     "shell.execute_reply": "2023-06-13T07:17:35.892264Z"
    },
    "papermill": {
     "duration": 0.025835,
     "end_time": "2023-06-13T07:17:35.895543",
     "exception": false,
     "start_time": "2023-06-13T07:17:35.869708",
     "status": "completed"
    },
    "tags": []
   },
   "outputs": [],
   "source": [
    "prices_and_strikes = [ (train_df['SettlementPrice'].iloc[i], train_df['StrikePrice'].iloc[i], train_df['Putcall'].iloc[i]) for i in range(len(train_df))]\n",
    "train_set_size = len(prices_and_strikes)\n",
    "batch_size = train_set_size\n",
    "target_dataloader = DataLoader(prices_and_strikes , batch_size=batch_size, shuffle = True)"
   ]
  },
  {
   "cell_type": "code",
   "execution_count": 10,
   "id": "5176e8ee",
   "metadata": {
    "execution": {
     "iopub.execute_input": "2023-06-13T07:17:35.920204Z",
     "iopub.status.busy": "2023-06-13T07:17:35.919785Z",
     "iopub.status.idle": "2023-06-13T07:17:35.929346Z",
     "shell.execute_reply": "2023-06-13T07:17:35.928091Z"
    },
    "papermill": {
     "duration": 0.024977,
     "end_time": "2023-06-13T07:17:35.932054",
     "exception": false,
     "start_time": "2023-06-13T07:17:35.907077",
     "status": "completed"
    },
    "tags": []
   },
   "outputs": [],
   "source": [
    "test_prices_and_strikes = [ (test_df['SettlementPrice'].iloc[i], test_df['StrikePrice'].iloc[i], test_df['Putcall'].iloc[i]) for i in range(len(test_df))]\n",
    "test_set_size = len(test_prices_and_strikes)\n",
    "batch_size = len(test_prices_and_strikes)\n",
    "test_dataloader = DataLoader(test_prices_and_strikes , batch_size=batch_size, shuffle = True)"
   ]
  },
  {
   "cell_type": "markdown",
   "id": "af06a42a",
   "metadata": {
    "papermill": {
     "duration": 0.011016,
     "end_time": "2023-06-13T07:17:35.954569",
     "exception": false,
     "start_time": "2023-06-13T07:17:35.943553",
     "status": "completed"
    },
    "tags": []
   },
   "source": [
    "The following network learns the risk-neutral density, i.e. given a price for the index outputs the probability density of the index having that price at maturity $T$. The network is a vanilla neural network with leaky ReLU activation for intermediate layers and softplus in the last year. The condition that the integral over the NN's domain is $1$ is not enforced explicitely but is rather learned from the data."
   ]
  },
  {
   "cell_type": "code",
   "execution_count": 11,
   "id": "264627fb",
   "metadata": {
    "execution": {
     "iopub.execute_input": "2023-06-13T07:17:35.979454Z",
     "iopub.status.busy": "2023-06-13T07:17:35.979002Z",
     "iopub.status.idle": "2023-06-13T07:17:35.990604Z",
     "shell.execute_reply": "2023-06-13T07:17:35.989184Z"
    },
    "papermill": {
     "duration": 0.027489,
     "end_time": "2023-06-13T07:17:35.993462",
     "exception": false,
     "start_time": "2023-06-13T07:17:35.965973",
     "status": "completed"
    },
    "tags": []
   },
   "outputs": [],
   "source": [
    "class BaselineNet(nn.Module):\n",
    "    def __init__(self):\n",
    "        super(BaselineNet, self).__init__()\n",
    "        self.flatten = nn.Flatten()\n",
    "        self.linear_relu_stack = nn.Sequential(\n",
    "            nn.Linear(2, 128),\n",
    "            nn.LeakyReLU(1e-1),\n",
    "            \n",
    "            nn.Linear(128, 512),\n",
    "            nn.LeakyReLU(1e-1),   \n",
    "\n",
    "            nn.Linear(512, 128),\n",
    "            nn.LeakyReLU(1e-1),\n",
    "            \n",
    "            nn.Linear(128, 1)\n",
    "        )\n",
    "        self.softplus = nn.Softplus()\n",
    "        \n",
    "        \n",
    "    def forward(self, x):\n",
    "        x = self.flatten(x)\n",
    "        y = torch.log(x)\n",
    "        x = self.linear_relu_stack(torch.cat((x,y), 1))\n",
    "        x = self.softplus(x)\n",
    "        return x"
   ]
  },
  {
   "cell_type": "code",
   "execution_count": 12,
   "id": "02e16ac0",
   "metadata": {
    "execution": {
     "iopub.execute_input": "2023-06-13T07:17:36.018270Z",
     "iopub.status.busy": "2023-06-13T07:17:36.017754Z",
     "iopub.status.idle": "2023-06-13T07:17:36.031367Z",
     "shell.execute_reply": "2023-06-13T07:17:36.029757Z"
    },
    "papermill": {
     "duration": 0.029303,
     "end_time": "2023-06-13T07:17:36.034204",
     "exception": false,
     "start_time": "2023-06-13T07:17:36.004901",
     "status": "completed"
    },
    "tags": []
   },
   "outputs": [
    {
     "name": "stdout",
     "output_type": "stream",
     "text": [
      "Using cpu device\n"
     ]
    }
   ],
   "source": [
    "device = \"cuda\" if torch.cuda.is_available() else \"cpu\"\n",
    "print(f\"Using {device} device\")\n",
    "model_eq = BaselineNet().to(device)"
   ]
  },
  {
   "cell_type": "markdown",
   "id": "9e4f452a",
   "metadata": {
    "papermill": {
     "duration": 0.011138,
     "end_time": "2023-06-13T07:17:36.057075",
     "exception": false,
     "start_time": "2023-06-13T07:17:36.045937",
     "status": "completed"
    },
    "tags": []
   },
   "source": [
    "The loss function used to train the NN as described on the semester project on https://github.com/Antares01/NNs_for_option_pricing_semester_project"
   ]
  },
  {
   "cell_type": "code",
   "execution_count": 13,
   "id": "b494cacc",
   "metadata": {
    "execution": {
     "iopub.execute_input": "2023-06-13T07:17:36.082924Z",
     "iopub.status.busy": "2023-06-13T07:17:36.081862Z",
     "iopub.status.idle": "2023-06-13T07:17:36.092311Z",
     "shell.execute_reply": "2023-06-13T07:17:36.091300Z"
    },
    "papermill": {
     "duration": 0.026234,
     "end_time": "2023-06-13T07:17:36.094978",
     "exception": false,
     "start_time": "2023-06-13T07:17:36.068744",
     "status": "completed"
    },
    "tags": []
   },
   "outputs": [],
   "source": [
    "class OptionLoss(nn.Module):\n",
    "    def __init__(self):\n",
    "        super(OptionLoss,self).__init__()\n",
    "        self.huber = nn.HuberLoss()\n",
    "    \n",
    "    # outputs the MC_STEPS predictions, labels the TOT_OPTIONS labels\n",
    "    def forward(self, outputs, labels, strike, is_call, coordinates):\n",
    "        mc_steps = len(coordinates)\n",
    "        loss = 0\n",
    "        mc_integral = 0\n",
    "        payoff = lambda  j :  torch.max(torch.zeros(len(outputs)), coordinates - strike[j] ) if is_call[j] else torch.max(torch.zeros(len(outputs)), strike[j] - coordinates)\n",
    "        density = 1/INTERVAL_LENGTH \n",
    "        mc_prices = torch.stack([ torch.sum(payoff(j) * outputs / density)/mc_steps for j in range(len(labels))])\n",
    "        \n",
    "        return self.huber(mc_prices/labels, torch.ones_like(labels))\n"
   ]
  },
  {
   "cell_type": "markdown",
   "id": "edd12853",
   "metadata": {
    "papermill": {
     "duration": 0.011156,
     "end_time": "2023-06-13T07:17:36.117897",
     "exception": false,
     "start_time": "2023-06-13T07:17:36.106741",
     "status": "completed"
    },
    "tags": []
   },
   "source": [
    "The following class is used only for computing a score for testing the model and not for training. It computes the absolute value of the average deviation (in percentage) between the predicted price and the true option price."
   ]
  },
  {
   "cell_type": "code",
   "execution_count": 14,
   "id": "bffcba89",
   "metadata": {
    "execution": {
     "iopub.execute_input": "2023-06-13T07:17:36.143924Z",
     "iopub.status.busy": "2023-06-13T07:17:36.143157Z",
     "iopub.status.idle": "2023-06-13T07:17:36.154582Z",
     "shell.execute_reply": "2023-06-13T07:17:36.153535Z"
    },
    "papermill": {
     "duration": 0.0277,
     "end_time": "2023-06-13T07:17:36.157631",
     "exception": false,
     "start_time": "2023-06-13T07:17:36.129931",
     "status": "completed"
    },
    "tags": []
   },
   "outputs": [],
   "source": [
    "class AbsolutePercentageLoss(nn.Module):\n",
    "    def __init__(self):\n",
    "        super(AbsolutePercentageLoss, self).__init__()\n",
    "    \n",
    "    # outputs the MC_STEPS predictions, labels the TOT_OPTIONS labels\n",
    "    def forward(self, outputs, labels, strike, is_call, coordinates):\n",
    "        mc_steps = len(coordinates)\n",
    "        loss = 0\n",
    "        mc_integral = 0\n",
    "        payoff = lambda  j :  torch.max(torch.zeros(len(outputs)), coordinates - strike[j] ) if is_call[j] else torch.max(torch.zeros(len(outputs)), strike[j] - coordinates)\n",
    "        densities = 1/INTERVAL_LENGTH \n",
    "        for j in range(len(labels)):\n",
    "          mc_price = payoff(j) * outputs / densities\n",
    "          #print(\"true price \" + str(labels[j]) )\n",
    "          #print(\"predicted price \" + str(mc_price.sum() / mc_steps) )\n",
    "          #print(\"absolute difference \" + str(torch.abs(labels[j] -  mc_price.sum() / mc_steps)))\n",
    "          print(\"delta (percentage of true price)\" + str(torch.abs(labels[j] -  mc_price.sum() / mc_steps)/labels[j]) )\n",
    "          loss += torch.abs(labels[j] -  mc_price.sum() / mc_steps)/labels[j]\n",
    "        return loss  \n",
    "            "
   ]
  },
  {
   "cell_type": "code",
   "execution_count": 15,
   "id": "732ceaf5",
   "metadata": {
    "execution": {
     "iopub.execute_input": "2023-06-13T07:17:36.182936Z",
     "iopub.status.busy": "2023-06-13T07:17:36.182202Z",
     "iopub.status.idle": "2023-06-13T07:17:36.186889Z",
     "shell.execute_reply": "2023-06-13T07:17:36.186012Z"
    },
    "papermill": {
     "duration": 0.020379,
     "end_time": "2023-06-13T07:17:36.189522",
     "exception": false,
     "start_time": "2023-06-13T07:17:36.169143",
     "status": "completed"
    },
    "tags": []
   },
   "outputs": [],
   "source": [
    "test_error = AbsolutePercentageLoss()"
   ]
  },
  {
   "cell_type": "code",
   "execution_count": 16,
   "id": "e7a0c08e",
   "metadata": {
    "execution": {
     "iopub.execute_input": "2023-06-13T07:17:36.215014Z",
     "iopub.status.busy": "2023-06-13T07:17:36.214305Z",
     "iopub.status.idle": "2023-06-13T07:17:36.220265Z",
     "shell.execute_reply": "2023-06-13T07:17:36.219049Z"
    },
    "papermill": {
     "duration": 0.022075,
     "end_time": "2023-06-13T07:17:36.223245",
     "exception": false,
     "start_time": "2023-06-13T07:17:36.201170",
     "status": "completed"
    },
    "tags": []
   },
   "outputs": [],
   "source": [
    "optimizer_eq = torch.optim.Adam(model_eq.parameters(), lr=1e-4, weight_decay=1e-20)\n",
    "loss_fn = OptionLoss()\n",
    "test_error = AbsolutePercentageLoss()"
   ]
  },
  {
   "cell_type": "markdown",
   "id": "71dfa70c",
   "metadata": {
    "papermill": {
     "duration": 0.011589,
     "end_time": "2023-06-13T07:17:36.246399",
     "exception": false,
     "start_time": "2023-06-13T07:17:36.234810",
     "status": "completed"
    },
    "tags": []
   },
   "source": [
    "In the training loop we use scheduling, i.e. for the first iterations we evaluate the NN on few points to quickly learn the approximate shape of the disstribution. Afterwards we gradually increase the number of points to fine tune the network."
   ]
  },
  {
   "cell_type": "code",
   "execution_count": 17,
   "id": "5e22bc8f",
   "metadata": {
    "execution": {
     "iopub.execute_input": "2023-06-13T07:17:36.272231Z",
     "iopub.status.busy": "2023-06-13T07:17:36.271761Z",
     "iopub.status.idle": "2023-06-13T07:17:36.304945Z",
     "shell.execute_reply": "2023-06-13T07:17:36.303613Z"
    },
    "papermill": {
     "duration": 0.049402,
     "end_time": "2023-06-13T07:17:36.307472",
     "exception": false,
     "start_time": "2023-06-13T07:17:36.258070",
     "status": "completed"
    },
    "tags": []
   },
   "outputs": [],
   "source": [
    "def train(input_model, optimizer, loss_fn, C1, C2, target_dataloader, equidistant_window=False):\n",
    "    loss_history = []\n",
    "    for epoch in tqdm(range(int(396*C1))):\n",
    "        avg_loss = 0\n",
    "        for batch, (target_prices, strike_prices, is_call) in enumerate(target_dataloader):\n",
    "            if epoch < 100 * C1:\n",
    "                mc_steps = int(128*C2)\n",
    "            elif epoch < 300 * C1:\n",
    "                mc_steps = int(256*C2)\n",
    "                if epoch == int(100* C1):\n",
    "                    x = torch.Tensor(np.arange(0.1, 4 , 0.01)).to(device).unsqueeze(-1)\n",
    "                    p_eq = input_model(x)\n",
    "                    plt.plot(x.cpu().detach().numpy() * SCALING_CONSTANT, p_eq.cpu().detach().numpy() / SCALING_CONSTANT)\n",
    "                    plt.savefig(\"/kaggle/working/density1.png\")\n",
    "                    plt.close()\n",
    "            elif epoch < 350 * C1:\n",
    "                #change to relative mse maybe\n",
    "                mc_steps = int(512*C2)\n",
    "                if epoch == int(300 * C1):\n",
    "                    x = torch.Tensor(np.arange(0.1, 4 , 0.01)).to(device).unsqueeze(-1)\n",
    "                    p_eq = input_model(x)\n",
    "                    plt.plot(x.cpu().detach().numpy() * SCALING_CONSTANT, p_eq.cpu().detach().numpy() / SCALING_CONSTANT)\n",
    "                    plt.savefig(\"/kaggle/working/density2.png\")\n",
    "                    plt.close()\n",
    "            elif epoch < 375 * C1:\n",
    "                mc_steps = int(1024*C2)\n",
    "                if epoch == int(350 * C1):\n",
    "                    x = torch.Tensor(np.arange(0.1, 4 , 0.01)).to(device).unsqueeze(-1)\n",
    "                    p_eq = input_model(x)\n",
    "                    plt.plot(x.cpu().detach().numpy() * SCALING_CONSTANT, p_eq.cpu().detach().numpy() / SCALING_CONSTANT)\n",
    "                    plt.savefig(\"/kaggle/working/density3.png\")\n",
    "                    plt.close()\n",
    "            elif epoch < 387 * C1:\n",
    "                mc_steps = int(2048*C2)\n",
    "                if epoch == int(375 * C1):\n",
    "                    x = torch.Tensor(np.arange(0.1, 4 , 0.01)).to(device).unsqueeze(-1)\n",
    "                    p_eq = input_model(x)\n",
    "                    plt.plot(x.cpu().detach().numpy() * SCALING_CONSTANT, p_eq.cpu().detach().numpy() / SCALING_CONSTANT)\n",
    "                    plt.savefig(\"/kaggle/working/density4.png\")\n",
    "                \n",
    "            elif epoch < 393*C1:\n",
    "                mc_steps = int(4096*C2)\n",
    "                if epoch == int(387 * C1):\n",
    "                    x = torch.Tensor(np.arange(0.1, 4 , 0.01)).to(device).unsqueeze(-1)\n",
    "                    p_eq = input_model(x)\n",
    "                    plt.plot(x.cpu().detach().numpy() * SCALING_CONSTANT, p_eq.cpu().detach().numpy() / SCALING_CONSTANT)\n",
    "                    plt.savefig(\"/kaggle/working/density5.png\")\n",
    "                    plt.close()\n",
    "            else:\n",
    "                mc_steps = int(8192*C2)\n",
    "            \n",
    "            \n",
    "            if equidistant_window:\n",
    "                coordinates=np.linspace(start=START_UNIF+INTERVAL_LENGTH/(2*mc_steps),stop=START_UNIF+INTERVAL_LENGTH-INTERVAL_LENGTH/(2*mc_steps),num=mc_steps)+np.random.uniform(low=-INTERVAL_LENGTH/(2*mc_steps),high=INTERVAL_LENGTH/(2*mc_steps),size=mc_steps)\n",
    "                coordinates = coordinates.reshape(  -1, 1)\n",
    "                X = torch.tensor(coordinates, dtype = torch.float32).to(device)\n",
    "                \n",
    "\n",
    "            else:\n",
    "                X = torch.zeros(mc_steps, 1).to(device)\n",
    "                X.uniform_(START_UNIF, INTERVAL_LENGTH)\n",
    "\n",
    "\n",
    "\n",
    "            #print(X)\n",
    "            #X.log_normal_(PROPOSAL_MU, PROPOSAL_SIGMA )\n",
    "            #print(X)\n",
    "            pred = input_model(X)\n",
    "            loss = loss_fn(pred.cpu().squeeze(), target_prices, strike_prices, is_call, X.cpu().squeeze())\n",
    "            \n",
    "            # Backpropagation\n",
    "            optimizer.zero_grad()\n",
    "            loss.backward()\n",
    "            torch.nn.utils.clip_grad_norm_(input_model.parameters(), 1e-1)\n",
    "            optimizer.step()\n",
    "            avg_loss += loss\n",
    "        loss_history.append(float(avg_loss/(batch + 1)))\n",
    "    return loss_history"
   ]
  },
  {
   "cell_type": "code",
   "execution_count": 18,
   "id": "6e2e110a",
   "metadata": {
    "execution": {
     "iopub.execute_input": "2023-06-13T07:17:36.332286Z",
     "iopub.status.busy": "2023-06-13T07:17:36.331808Z",
     "iopub.status.idle": "2023-06-13T07:17:36.343135Z",
     "shell.execute_reply": "2023-06-13T07:17:36.341368Z"
    },
    "papermill": {
     "duration": 0.026778,
     "end_time": "2023-06-13T07:17:36.345849",
     "exception": false,
     "start_time": "2023-06-13T07:17:36.319071",
     "status": "completed"
    },
    "tags": []
   },
   "outputs": [],
   "source": [
    "def test(model, loss_fn, test_dataloader, mc_steps = 4096):\n",
    "    # only one single batch used\n",
    "    for batch, (target_prices, strike_prices, is_call) in enumerate(test_dataloader):\n",
    "        coordinates=np.linspace(start=START_UNIF+INTERVAL_LENGTH/(2*mc_steps),stop=START_UNIF+INTERVAL_LENGTH-INTERVAL_LENGTH/(2*mc_steps),num=mc_steps)+np.random.uniform(low=-INTERVAL_LENGTH/(2*mc_steps),high=INTERVAL_LENGTH/(2*mc_steps),size=mc_steps)\n",
    "        coordinates = coordinates.reshape(  -1, 1)\n",
    "        X = torch.tensor(coordinates, dtype = torch.float32).to(device)\n",
    "        pred = model(X)\n",
    "        loss = loss_fn(pred.cpu().squeeze(), target_prices, strike_prices, is_call, X.cpu().squeeze())\n",
    "    return loss/len(test_dataloader)\n"
   ]
  },
  {
   "cell_type": "code",
   "execution_count": 19,
   "id": "9b36d91f",
   "metadata": {
    "execution": {
     "iopub.execute_input": "2023-06-13T07:17:36.370752Z",
     "iopub.status.busy": "2023-06-13T07:17:36.370266Z",
     "iopub.status.idle": "2023-06-13T07:31:01.461724Z",
     "shell.execute_reply": "2023-06-13T07:31:01.460459Z"
    },
    "papermill": {
     "duration": 805.107725,
     "end_time": "2023-06-13T07:31:01.465193",
     "exception": false,
     "start_time": "2023-06-13T07:17:36.357468",
     "status": "completed"
    },
    "tags": []
   },
   "outputs": [
    {
     "name": "stderr",
     "output_type": "stream",
     "text": [
      "100%|██████████| 7920/7920 [13:25<00:00,  9.84it/s]\n"
     ]
    }
   ],
   "source": [
    "loss_history_eq = train(model_eq, optimizer_eq, loss_fn, 20, 2, target_dataloader, equidistant_window = True)"
   ]
  },
  {
   "cell_type": "code",
   "execution_count": 20,
   "id": "22307a86",
   "metadata": {
    "execution": {
     "iopub.execute_input": "2023-06-13T07:31:02.250031Z",
     "iopub.status.busy": "2023-06-13T07:31:02.249262Z",
     "iopub.status.idle": "2023-06-13T07:31:02.428070Z",
     "shell.execute_reply": "2023-06-13T07:31:02.426499Z"
    },
    "papermill": {
     "duration": 0.578085,
     "end_time": "2023-06-13T07:31:02.431203",
     "exception": false,
     "start_time": "2023-06-13T07:31:01.853118",
     "status": "completed"
    },
    "tags": []
   },
   "outputs": [],
   "source": [
    "x = torch.Tensor(np.arange(0.1, 4 , 0.01)).to(device).unsqueeze(-1)\n",
    "p_eq = model_eq(x)\n",
    "plt.plot(x.cpu().detach().numpy() * SCALING_CONSTANT, p_eq.cpu().detach().numpy() / SCALING_CONSTANT)\n",
    "plt.savefig(\"/kaggle/working/final_density.png\")\n",
    "plt.close()"
   ]
  },
  {
   "cell_type": "code",
   "execution_count": 21,
   "id": "d1adedfb",
   "metadata": {
    "execution": {
     "iopub.execute_input": "2023-06-13T07:31:03.247845Z",
     "iopub.status.busy": "2023-06-13T07:31:03.247046Z",
     "iopub.status.idle": "2023-06-13T07:31:03.871899Z",
     "shell.execute_reply": "2023-06-13T07:31:03.870682Z"
    },
    "papermill": {
     "duration": 0.997782,
     "end_time": "2023-06-13T07:31:03.875031",
     "exception": false,
     "start_time": "2023-06-13T07:31:02.877249",
     "status": "completed"
    },
    "tags": []
   },
   "outputs": [],
   "source": [
    "x = torch.Tensor(np.arange(0.1, 4 , 0.01)).to(device).unsqueeze(-1)\n",
    "p_eq = model_eq(x)\n",
    "plt.plot(x.cpu().detach().numpy() * SCALING_CONSTANT, p_eq.cpu().detach().numpy() / SCALING_CONSTANT)\n",
    "plt.yscale(\"log\")\n",
    "plt.savefig(\"/kaggle/working/logdensity.png\")\n",
    "plt.close()"
   ]
  },
  {
   "cell_type": "code",
   "execution_count": 22,
   "id": "deff9649",
   "metadata": {
    "execution": {
     "iopub.execute_input": "2023-06-13T07:31:04.616744Z",
     "iopub.status.busy": "2023-06-13T07:31:04.615861Z",
     "iopub.status.idle": "2023-06-13T07:31:04.792932Z",
     "shell.execute_reply": "2023-06-13T07:31:04.791655Z"
    },
    "papermill": {
     "duration": 0.551586,
     "end_time": "2023-06-13T07:31:04.796158",
     "exception": false,
     "start_time": "2023-06-13T07:31:04.244572",
     "status": "completed"
    },
    "tags": []
   },
   "outputs": [
    {
     "data": {
      "text/plain": [
       "[<matplotlib.lines.Line2D at 0x7fe9acfac990>]"
      ]
     },
     "execution_count": 22,
     "metadata": {},
     "output_type": "execute_result"
    },
    {
     "data": {
      "image/png": "[encoded data removed]",
      "text/plain": [
       "<Figure size 432x288 with 1 Axes>"
      ]
     },
     "metadata": {
      "needs_background": "light"
     },
     "output_type": "display_data"
    }
   ],
   "source": [
    "plt.plot(range(len(loss_history_eq)), loss_history_eq)"
   ]
  },
  {
   "cell_type": "code",
   "execution_count": 23,
   "id": "1c1137e1",
   "metadata": {
    "execution": {
     "iopub.execute_input": "2023-06-13T07:31:05.536479Z",
     "iopub.status.busy": "2023-06-13T07:31:05.535523Z",
     "iopub.status.idle": "2023-06-13T07:31:05.972063Z",
     "shell.execute_reply": "2023-06-13T07:31:05.970709Z"
    },
    "papermill": {
     "duration": 0.814338,
     "end_time": "2023-06-13T07:31:05.974977",
     "exception": false,
     "start_time": "2023-06-13T07:31:05.160639",
     "status": "completed"
    },
    "tags": []
   },
   "outputs": [],
   "source": [
    "plt.plot(range(len(loss_history_eq)), loss_history_eq)\n",
    "plt.yscale(\"log\")\n",
    "plt.savefig(\"/kaggle/working/loghistory.png\")\n",
    "plt.close()"
   ]
  },
  {
   "cell_type": "code",
   "execution_count": 24,
   "id": "f07f785b",
   "metadata": {
    "execution": {
     "iopub.execute_input": "2023-06-13T07:31:06.770298Z",
     "iopub.status.busy": "2023-06-13T07:31:06.769229Z",
     "iopub.status.idle": "2023-06-13T07:31:06.979256Z",
     "shell.execute_reply": "2023-06-13T07:31:06.978039Z"
    },
    "papermill": {
     "duration": 0.640099,
     "end_time": "2023-06-13T07:31:06.982367",
     "exception": false,
     "start_time": "2023-06-13T07:31:06.342268",
     "status": "completed"
    },
    "tags": []
   },
   "outputs": [
    {
     "data": {
      "text/plain": [
       "[<matplotlib.lines.Line2D at 0x7fe9acd07c50>]"
      ]
     },
     "execution_count": 24,
     "metadata": {},
     "output_type": "execute_result"
    },
    {
     "data": {
      "image/png": "[encoded data removed]",
      "text/plain": [
       "<Figure size 432x288 with 1 Axes>"
      ]
     },
     "metadata": {
      "needs_background": "light"
     },
     "output_type": "display_data"
    }
   ],
   "source": [
    "running_loss_average_eq = uniform_filter1d(loss_history_eq, size=50)\n",
    "plt.plot(range(len(running_loss_average_eq[-100:])), running_loss_average_eq[-100:])"
   ]
  },
  {
   "cell_type": "code",
   "execution_count": 25,
   "id": "aede6b61",
   "metadata": {
    "execution": {
     "iopub.execute_input": "2023-06-13T07:31:07.718456Z",
     "iopub.status.busy": "2023-06-13T07:31:07.718007Z",
     "iopub.status.idle": "2023-06-13T07:31:07.746464Z",
     "shell.execute_reply": "2023-06-13T07:31:07.745093Z"
    },
    "papermill": {
     "duration": 0.401044,
     "end_time": "2023-06-13T07:31:07.750090",
     "exception": false,
     "start_time": "2023-06-13T07:31:07.349046",
     "status": "completed"
    },
    "tags": []
   },
   "outputs": [
    {
     "name": "stdout",
     "output_type": "stream",
     "text": [
      "delta (percentage of true price)tensor(0.0342, dtype=torch.float64, grad_fn=<DivBackward0>)\n",
      "delta (percentage of true price)tensor(0.0874, dtype=torch.float64, grad_fn=<DivBackward0>)\n",
      "delta (percentage of true price)tensor(0.1252, dtype=torch.float64, grad_fn=<DivBackward0>)\n",
      "delta (percentage of true price)tensor(0.0564, dtype=torch.float64, grad_fn=<DivBackward0>)\n",
      "delta (percentage of true price)tensor(0.0187, dtype=torch.float64, grad_fn=<DivBackward0>)\n",
      "delta (percentage of true price)tensor(0.2262, dtype=torch.float64, grad_fn=<DivBackward0>)\n",
      "delta (percentage of true price)tensor(0.0522, dtype=torch.float64, grad_fn=<DivBackward0>)\n",
      "delta (percentage of true price)tensor(0.2430, dtype=torch.float64, grad_fn=<DivBackward0>)\n",
      "delta (percentage of true price)tensor(0.0519, dtype=torch.float64, grad_fn=<DivBackward0>)\n",
      "delta (percentage of true price)tensor(0.1638, dtype=torch.float64, grad_fn=<DivBackward0>)\n",
      "delta (percentage of true price)tensor(0.2389, dtype=torch.float64, grad_fn=<DivBackward0>)\n",
      "delta (percentage of true price)tensor(0.1120, dtype=torch.float64, grad_fn=<DivBackward0>)\n",
      "delta (percentage of true price)tensor(0.0009, dtype=torch.float64, grad_fn=<DivBackward0>)\n",
      "delta (percentage of true price)tensor(0.0217, dtype=torch.float64, grad_fn=<DivBackward0>)\n",
      "delta (percentage of true price)tensor(0.2762, dtype=torch.float64, grad_fn=<DivBackward0>)\n",
      "0.11391943146585844\n"
     ]
    }
   ],
   "source": [
    "total_error = test(model_eq, test_error, test_dataloader)\n",
    "average_error = total_error.detach().numpy() / len(test_prices_and_strikes)\n",
    "print(average_error)"
   ]
  },
  {
   "cell_type": "code",
   "execution_count": 26,
   "id": "30c6b389",
   "metadata": {
    "execution": {
     "iopub.execute_input": "2023-06-13T07:31:08.504981Z",
     "iopub.status.busy": "2023-06-13T07:31:08.504166Z",
     "iopub.status.idle": "2023-06-13T07:31:08.509198Z",
     "shell.execute_reply": "2023-06-13T07:31:08.508021Z"
    },
    "papermill": {
     "duration": 0.380342,
     "end_time": "2023-06-13T07:31:08.511887",
     "exception": false,
     "start_time": "2023-06-13T07:31:08.131545",
     "status": "completed"
    },
    "tags": []
   },
   "outputs": [],
   "source": [
    "#x = torch.Tensor(np.arange(0.001, 20, 0.01)).to(device).unsqueeze(-1)\n",
    "#p = np.array(model(x).detach())\n",
    "#print(np.argmax(p)*0.01*SCALING_CONSTANT)"
   ]
  }
 ],
 "metadata": {
  "kernelspec": {
   "display_name": "Python 3",
   "language": "python",
   "name": "python3"
  },
  "language_info": {
   "codemirror_mode": {
    "name": "ipython",
    "version": 3
   },
   "file_extension": ".py",
   "mimetype": "text/x-python",
   "name": "python",
   "nbconvert_exporter": "python",
   "pygments_lexer": "ipython3",
   "version": "3.7.12"
  },
  "papermill": {
   "default_parameters": {},
   "duration": 861.632339,
   "end_time": "2023-06-13T07:31:10.204281",
   "environment_variables": {},
   "exception": null,
   "input_path": "__notebook__.ipynb",
   "output_path": "__notebook__.ipynb",
   "parameters": {},
   "start_time": "2023-06-13T07:16:48.571942",
   "version": "2.3.4"
  }
 },
 "nbformat": 4,
 "nbformat_minor": 5
}
