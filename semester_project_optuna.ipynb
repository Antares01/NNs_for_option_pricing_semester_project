{
  "nbformat": 4,
  "nbformat_minor": 0,
  "metadata": {
    "colab": {
      "name": "semester_project_optuna.ipynb",
      "provenance": [],
      "collapsed_sections": [],
      "authorship_tag": "ABX9TyM++qGQvpBBEYhNkJWZQ5oc",
      "include_colab_link": true
    },
    "kernelspec": {
      "name": "python3",
      "display_name": "Python 3"
    },
    "language_info": {
      "name": "python"
    },
    "accelerator": "GPU"
  },
  "cells": [
    {
      "cell_type": "markdown",
      "metadata": {
        "id": "view-in-github",
        "colab_type": "text"
      },
      "source": [
        "<a href=\"https://colab.research.google.com/github/Antares01/semester_project_ml_for_finance/blob/main/semester_project_optuna.ipynb\" target=\"_parent\"><img src=\"https://colab.research.google.com/assets/colab-badge.svg\" alt=\"Open In Colab\"/></a>"
      ]
    },
    {
      "cell_type": "code",
      "execution_count": 17,
      "metadata": {
        "id": "uWpvigrS_GE5",
        "colab": {
          "base_uri": "https://localhost:8080/"
        },
        "outputId": "7117c16e-eb37-4d54-9cd8-8222292f6488"
      },
      "outputs": [
        {
          "output_type": "stream",
          "name": "stdout",
          "text": [
            "Requirement already satisfied: optuna in /usr/local/lib/python3.7/dist-packages (2.10.0)\n",
            "Requirement already satisfied: cliff in /usr/local/lib/python3.7/dist-packages (from optuna) (3.10.1)\n",
            "Requirement already satisfied: tqdm in /usr/local/lib/python3.7/dist-packages (from optuna) (4.62.3)\n",
            "Requirement already satisfied: colorlog in /usr/local/lib/python3.7/dist-packages (from optuna) (6.6.0)\n",
            "Requirement already satisfied: alembic in /usr/local/lib/python3.7/dist-packages (from optuna) (1.7.6)\n",
            "Requirement already satisfied: cmaes>=0.8.2 in /usr/local/lib/python3.7/dist-packages (from optuna) (0.8.2)\n",
            "Requirement already satisfied: packaging>=20.0 in /usr/local/lib/python3.7/dist-packages (from optuna) (21.3)\n",
            "Requirement already satisfied: scipy!=1.4.0 in /usr/local/lib/python3.7/dist-packages (from optuna) (1.4.1)\n",
            "Requirement already satisfied: sqlalchemy>=1.1.0 in /usr/local/lib/python3.7/dist-packages (from optuna) (1.4.31)\n",
            "Requirement already satisfied: numpy in /usr/local/lib/python3.7/dist-packages (from optuna) (1.21.5)\n",
            "Requirement already satisfied: PyYAML in /usr/local/lib/python3.7/dist-packages (from optuna) (3.13)\n",
            "Requirement already satisfied: pyparsing!=3.0.5,>=2.0.2 in /usr/local/lib/python3.7/dist-packages (from packaging>=20.0->optuna) (3.0.7)\n",
            "Requirement already satisfied: importlib-metadata in /usr/local/lib/python3.7/dist-packages (from sqlalchemy>=1.1.0->optuna) (4.11.1)\n",
            "Requirement already satisfied: greenlet!=0.4.17 in /usr/local/lib/python3.7/dist-packages (from sqlalchemy>=1.1.0->optuna) (1.1.2)\n",
            "Requirement already satisfied: importlib-resources in /usr/local/lib/python3.7/dist-packages (from alembic->optuna) (5.4.0)\n",
            "Requirement already satisfied: Mako in /usr/local/lib/python3.7/dist-packages (from alembic->optuna) (1.1.6)\n",
            "Requirement already satisfied: cmd2>=1.0.0 in /usr/local/lib/python3.7/dist-packages (from cliff->optuna) (2.4.0)\n",
            "Requirement already satisfied: pbr!=2.1.0,>=2.0.0 in /usr/local/lib/python3.7/dist-packages (from cliff->optuna) (5.8.1)\n",
            "Requirement already satisfied: PrettyTable>=0.7.2 in /usr/local/lib/python3.7/dist-packages (from cliff->optuna) (3.1.1)\n",
            "Requirement already satisfied: stevedore>=2.0.1 in /usr/local/lib/python3.7/dist-packages (from cliff->optuna) (3.5.0)\n",
            "Requirement already satisfied: autopage>=0.4.0 in /usr/local/lib/python3.7/dist-packages (from cliff->optuna) (0.5.0)\n",
            "Requirement already satisfied: pyperclip>=1.6 in /usr/local/lib/python3.7/dist-packages (from cmd2>=1.0.0->cliff->optuna) (1.8.2)\n",
            "Requirement already satisfied: typing-extensions in /usr/local/lib/python3.7/dist-packages (from cmd2>=1.0.0->cliff->optuna) (3.10.0.2)\n",
            "Requirement already satisfied: wcwidth>=0.1.7 in /usr/local/lib/python3.7/dist-packages (from cmd2>=1.0.0->cliff->optuna) (0.2.5)\n",
            "Requirement already satisfied: attrs>=16.3.0 in /usr/local/lib/python3.7/dist-packages (from cmd2>=1.0.0->cliff->optuna) (21.4.0)\n",
            "Requirement already satisfied: zipp>=0.5 in /usr/local/lib/python3.7/dist-packages (from importlib-metadata->sqlalchemy>=1.1.0->optuna) (3.7.0)\n",
            "Requirement already satisfied: MarkupSafe>=0.9.2 in /usr/local/lib/python3.7/dist-packages (from Mako->alembic->optuna) (2.0.1)\n"
          ]
        }
      ],
      "source": [
        "import numpy as np \n",
        "import torch\n",
        "from torch import nn\n",
        "from torch.utils.data import DataLoader\n",
        "from scipy.stats import lognorm\n",
        "from matplotlib import pyplot as plt\n",
        "from scipy.ndimage.filters import uniform_filter1d\n",
        "!pip install optuna\n",
        "import optuna\n",
        "from optuna.trial import TrialState "
      ]
    },
    {
      "cell_type": "code",
      "source": [
        "# option price generation parameters\n",
        "TOT_OPTIONS = 6\n",
        "\n",
        "# NN parameters\n",
        "MC_STEPS = 2**14\n",
        "EPOCHS = 50\n",
        "\n",
        "#integration parameter\n",
        "INTERVAL_LENGTH = 200"
      ],
      "metadata": {
        "id": "xbYYNJsiA6HU"
      },
      "execution_count": 18,
      "outputs": []
    },
    {
      "cell_type": "code",
      "source": [
        "# options generated with tf finance on another notebook\n",
        "prices = np.array([50.074627, 40.418575, 27.322807, 18.141014, 29.417988, 37.88154 ])\n",
        "\n",
        "strikes = np.array([50.0, 60.0, 75.0, 110.0, 125.0, 135.0])\n",
        "\n",
        "is_call_option = np.array([True, True, True, False, False, False])\n",
        "\n",
        "prices_and_strikes = [ (prices[i], strikes[i], is_call_option[i]) for i in range(TOT_OPTIONS)]"
      ],
      "metadata": {
        "id": "o9HX7SUaDIwL"
      },
      "execution_count": 19,
      "outputs": []
    },
    {
      "cell_type": "code",
      "source": [
        "#model generating function\n",
        "\n",
        "def define_model(trial):\n",
        "    # We optimize the number of layers, hidden units and dropout ratio in each layer.\n",
        "    n_layers = trial.suggest_int(\"n_layers\", 2, 4)\n",
        "    layers = []\n",
        "\n",
        "    in_features = 1\n",
        "    #network width\n",
        "    out_features = trial.suggest_int(\"n_width\", 32, 1024)\n",
        "\n",
        "    for i in range(n_layers - 1):\n",
        "        \n",
        "        layers.append(nn.Linear(in_features, out_features))\n",
        "        activation_name = trial.suggest_categorical(\"activation_l{}\".format(i), [\"LeakyReLU\", \"Sigmoid\", \"Tanh\"])\n",
        "        activation = getattr(nn, activation_name)()\n",
        "        layers.append(activation)\n",
        "\n",
        "        in_features = out_features\n",
        "\n",
        "    layers.append(nn.Linear(out_features, 1))\n",
        "    last_layer_name = trial.suggest_categorical(\"last_layer\", [\"Sigmoid\", \"Softplus\"])\n",
        "    last_layer = getattr(nn, last_layer_name)()\n",
        "    # vedi se inizializzare bias dell'ultimo layer\n",
        "    layers.append(last_layer)\n",
        "\n",
        "    return nn.Sequential(*layers)"
      ],
      "metadata": {
        "id": "5-lmfD4Dvucy"
      },
      "execution_count": 20,
      "outputs": []
    },
    {
      "cell_type": "code",
      "source": [
        "device = \"cuda\" if torch.cuda.is_available() else \"cpu\"\n",
        "print(f\"Using {device} device\")"
      ],
      "metadata": {
        "colab": {
          "base_uri": "https://localhost:8080/"
        },
        "id": "8nrCH3nVE8gH",
        "outputId": "652697ae-2a22-4311-e56a-6cbf4233d352"
      },
      "execution_count": 21,
      "outputs": [
        {
          "output_type": "stream",
          "name": "stdout",
          "text": [
            "Using cuda device\n"
          ]
        }
      ]
    },
    {
      "cell_type": "code",
      "source": [
        "class OptionLoss(nn.Module):\n",
        "\n",
        "    def __init__(self, beta):\n",
        "        super(OptionLoss,self).__init__()\n",
        "        self.beta = beta\n",
        "        self.relu = nn.ReLU()\n",
        "\n",
        "    def forward(self, p_densities, prices, strikes, is_call_option, X):\n",
        "        pricing_loss = 0\n",
        "        mc_integral = 0\n",
        "        payoff_function = lambda  j : self.relu(X - strikes[j])  if is_call_option[j] else self.relu(strikes[j] - X)\n",
        "        for j in range(len(prices)):\n",
        "          mc_price = payoff_function(j) * p_densities\n",
        "          pricing_loss += (prices[j] -  (INTERVAL_LENGTH * mc_price.sum() / MC_STEPS) )**2 \n",
        "\n",
        "        #print(pricing_loss)\n",
        "        X_1 = torch.clone(X[1:])\n",
        "        p_densities_1 = torch.clone(p_densities[1:])\n",
        "        \n",
        "        mc_integral = (X_1 - X[:-1]) * (p_densities_1 - p_densities[:-1])\n",
        "        #print(self.beta * (1 - 0.5 * mc_integral.sum())**2)\n",
        "        return pricing_loss  + self.beta * (1 - 0.5 * mc_integral.sum())**2\n",
        "        "
      ],
      "metadata": {
        "id": "ebKf_CXXG1jw"
      },
      "execution_count": 22,
      "outputs": []
    },
    {
      "cell_type": "code",
      "source": [
        "def objective(trial):\n",
        "\n",
        "    # Generate the model.\n",
        "    model = define_model(trial).to(device)\n",
        "    print(model)\n",
        "    lr = trial.suggest_float(\"lr\", 1e-7, 1e-1, log=True)\n",
        "    optimizer = torch.optim.Adam(model.parameters(), lr=lr)\n",
        "    beta = trial.suggest_float(\"beta\", 1e-1, 100, log=True)\n",
        "    loss_fn = OptionLoss(beta)\n",
        "    batch_size = trial.suggest_int(\"batch_size\", 2, 10)\n",
        "    target_dataloader = DataLoader(prices_and_strikes , batch_size=batch_size, shuffle = True)\n",
        "    loss_history = []\n",
        "    for epoch in range(EPOCHS):\n",
        "      for batch, (target_prices, strike_prices, is_call) in enumerate(target_dataloader):\n",
        "        X = torch.zeros(MC_STEPS, 1).to(device)\n",
        "        X.uniform_(0, INTERVAL_LENGTH)\n",
        "        #sorting important for the mc integral\n",
        "        X, _ = torch.sort(X)\n",
        "        #print(X)\n",
        "        pred = model(X)\n",
        "        loss = loss_fn(pred.cpu().squeeze(), target_prices, strike_prices, is_call, X.cpu().squeeze())\n",
        "        \n",
        "        # Backpropagation\n",
        "        optimizer.zero_grad()\n",
        "        loss.backward()\n",
        "        torch.nn.utils.clip_grad_norm_(model.parameters(), 1e1)\n",
        "        optimizer.step()\n",
        "        loss_history.append(loss)\n",
        "    \n",
        "    return sum(loss_history) / EPOCHS"
      ],
      "metadata": {
        "id": "4QcniEGPTkqu"
      },
      "execution_count": 23,
      "outputs": []
    },
    {
      "cell_type": "code",
      "source": [
        "study = optuna.create_study(direction=\"minimize\")\n",
        "study.optimize(objective, timeout=3600)\n"
      ],
      "metadata": {
        "id": "u7NDna1QxsYe",
        "colab": {
          "base_uri": "https://localhost:8080/"
        },
        "outputId": "b00299df-580a-46cc-e06c-3e41e76e9dc2"
      },
      "execution_count": 24,
      "outputs": [
        {
          "output_type": "stream",
          "name": "stderr",
          "text": [
            "\u001b[32m[I 2022-02-27 11:46:34,291]\u001b[0m A new study created in memory with name: no-name-9a349702-0647-46c4-bdb2-10aa0d69bf65\u001b[0m\n"
          ]
        },
        {
          "output_type": "stream",
          "name": "stdout",
          "text": [
            "Sequential(\n",
            "  (0): Linear(in_features=1, out_features=988, bias=True)\n",
            "  (1): LeakyReLU(negative_slope=0.01)\n",
            "  (2): Linear(in_features=988, out_features=1, bias=True)\n",
            "  (3): Sigmoid()\n",
            ")\n"
          ]
        },
        {
          "output_type": "stream",
          "name": "stderr",
          "text": [
            "\u001b[32m[I 2022-02-27 11:46:35,759]\u001b[0m Trial 0 finished with value: 24448678140.8559 and parameters: {'n_layers': 2, 'n_width': 988, 'activation_l0': 'LeakyReLU', 'last_layer': 'Sigmoid', 'lr': 1.2015300852635605e-06, 'beta': 9.931100210469163, 'batch_size': 2}. Best is trial 0 with value: 24448678140.8559.\u001b[0m\n"
          ]
        },
        {
          "output_type": "stream",
          "name": "stdout",
          "text": [
            "Sequential(\n",
            "  (0): Linear(in_features=1, out_features=414, bias=True)\n",
            "  (1): Tanh()\n",
            "  (2): Linear(in_features=414, out_features=1, bias=True)\n",
            "  (3): Softplus(beta=1, threshold=20)\n",
            ")\n"
          ]
        },
        {
          "output_type": "stream",
          "name": "stderr",
          "text": [
            "\u001b[32m[I 2022-02-27 11:46:36,159]\u001b[0m Trial 1 finished with value: 10442616.854280703 and parameters: {'n_layers': 2, 'n_width': 414, 'activation_l0': 'Tanh', 'last_layer': 'Softplus', 'lr': 0.027164861591266746, 'beta': 5.5743481885525, 'batch_size': 9}. Best is trial 1 with value: 10442616.854280703.\u001b[0m\n"
          ]
        },
        {
          "output_type": "stream",
          "name": "stdout",
          "text": [
            "Sequential(\n",
            "  (0): Linear(in_features=1, out_features=657, bias=True)\n",
            "  (1): Tanh()\n",
            "  (2): Linear(in_features=657, out_features=657, bias=True)\n",
            "  (3): Sigmoid()\n",
            "  (4): Linear(in_features=657, out_features=657, bias=True)\n",
            "  (5): Sigmoid()\n",
            "  (6): Linear(in_features=657, out_features=1, bias=True)\n",
            "  (7): Softplus(beta=1, threshold=20)\n",
            ")\n"
          ]
        },
        {
          "output_type": "stream",
          "name": "stderr",
          "text": [
            "\u001b[32m[I 2022-02-27 11:46:39,284]\u001b[0m Trial 2 finished with value: 2749010.7730130195 and parameters: {'n_layers': 4, 'n_width': 657, 'activation_l0': 'Tanh', 'activation_l1': 'Sigmoid', 'activation_l2': 'Sigmoid', 'last_layer': 'Softplus', 'lr': 0.005489360305142994, 'beta': 0.2637393547968236, 'batch_size': 9}. Best is trial 2 with value: 2749010.7730130195.\u001b[0m\n"
          ]
        },
        {
          "output_type": "stream",
          "name": "stdout",
          "text": [
            "Sequential(\n",
            "  (0): Linear(in_features=1, out_features=849, bias=True)\n",
            "  (1): LeakyReLU(negative_slope=0.01)\n",
            "  (2): Linear(in_features=849, out_features=849, bias=True)\n",
            "  (3): Sigmoid()\n",
            "  (4): Linear(in_features=849, out_features=1, bias=True)\n",
            "  (5): Sigmoid()\n",
            ")\n"
          ]
        },
        {
          "output_type": "stream",
          "name": "stderr",
          "text": [
            "\u001b[32m[I 2022-02-27 11:46:44,251]\u001b[0m Trial 3 finished with value: 42767899.64275601 and parameters: {'n_layers': 3, 'n_width': 849, 'activation_l0': 'LeakyReLU', 'activation_l1': 'Sigmoid', 'last_layer': 'Sigmoid', 'lr': 3.098438070270782e-05, 'beta': 0.2749434806912482, 'batch_size': 5}. Best is trial 2 with value: 2749010.7730130195.\u001b[0m\n"
          ]
        },
        {
          "output_type": "stream",
          "name": "stdout",
          "text": [
            "Sequential(\n",
            "  (0): Linear(in_features=1, out_features=865, bias=True)\n",
            "  (1): Tanh()\n",
            "  (2): Linear(in_features=865, out_features=1, bias=True)\n",
            "  (3): Softplus(beta=1, threshold=20)\n",
            ")\n"
          ]
        },
        {
          "output_type": "stream",
          "name": "stderr",
          "text": [
            "\u001b[32m[I 2022-02-27 11:46:44,967]\u001b[0m Trial 4 finished with value: 23541774.458309907 and parameters: {'n_layers': 2, 'n_width': 865, 'activation_l0': 'Tanh', 'last_layer': 'Softplus', 'lr': 0.00011228523597478256, 'beta': 4.52546787851144, 'batch_size': 6}. Best is trial 2 with value: 2749010.7730130195.\u001b[0m\n"
          ]
        },
        {
          "output_type": "stream",
          "name": "stdout",
          "text": [
            "Sequential(\n",
            "  (0): Linear(in_features=1, out_features=890, bias=True)\n",
            "  (1): LeakyReLU(negative_slope=0.01)\n",
            "  (2): Linear(in_features=890, out_features=890, bias=True)\n",
            "  (3): Sigmoid()\n",
            "  (4): Linear(in_features=890, out_features=1, bias=True)\n",
            "  (5): Sigmoid()\n",
            ")\n"
          ]
        },
        {
          "output_type": "stream",
          "name": "stderr",
          "text": [
            "\u001b[32m[I 2022-02-27 11:46:52,471]\u001b[0m Trial 5 finished with value: 163611115.29710564 and parameters: {'n_layers': 3, 'n_width': 890, 'activation_l0': 'LeakyReLU', 'activation_l1': 'Sigmoid', 'last_layer': 'Sigmoid', 'lr': 5.516615177961443e-07, 'beta': 7.112648555514055, 'batch_size': 2}. Best is trial 2 with value: 2749010.7730130195.\u001b[0m\n"
          ]
        },
        {
          "output_type": "stream",
          "name": "stdout",
          "text": [
            "Sequential(\n",
            "  (0): Linear(in_features=1, out_features=306, bias=True)\n",
            "  (1): LeakyReLU(negative_slope=0.01)\n",
            "  (2): Linear(in_features=306, out_features=306, bias=True)\n",
            "  (3): LeakyReLU(negative_slope=0.01)\n",
            "  (4): Linear(in_features=306, out_features=306, bias=True)\n",
            "  (5): Tanh()\n",
            "  (6): Linear(in_features=306, out_features=1, bias=True)\n",
            "  (7): Softplus(beta=1, threshold=20)\n",
            ")\n"
          ]
        },
        {
          "output_type": "stream",
          "name": "stderr",
          "text": [
            "\u001b[32m[I 2022-02-27 11:46:53,460]\u001b[0m Trial 6 finished with value: 112533540.10520224 and parameters: {'n_layers': 4, 'n_width': 306, 'activation_l0': 'LeakyReLU', 'activation_l1': 'LeakyReLU', 'activation_l2': 'Tanh', 'last_layer': 'Softplus', 'lr': 2.9768840287244503e-05, 'beta': 1.9210328814844202, 'batch_size': 9}. Best is trial 2 with value: 2749010.7730130195.\u001b[0m\n"
          ]
        },
        {
          "output_type": "stream",
          "name": "stdout",
          "text": [
            "Sequential(\n",
            "  (0): Linear(in_features=1, out_features=711, bias=True)\n",
            "  (1): Tanh()\n",
            "  (2): Linear(in_features=711, out_features=711, bias=True)\n",
            "  (3): Sigmoid()\n",
            "  (4): Linear(in_features=711, out_features=711, bias=True)\n",
            "  (5): Sigmoid()\n",
            "  (6): Linear(in_features=711, out_features=1, bias=True)\n",
            "  (7): Sigmoid()\n",
            ")\n"
          ]
        },
        {
          "output_type": "stream",
          "name": "stderr",
          "text": [
            "\u001b[32m[I 2022-02-27 11:46:59,912]\u001b[0m Trial 7 finished with value: 163995915.99402785 and parameters: {'n_layers': 4, 'n_width': 711, 'activation_l0': 'Tanh', 'activation_l1': 'Sigmoid', 'activation_l2': 'Sigmoid', 'last_layer': 'Sigmoid', 'lr': 1.0729175304999081e-07, 'beta': 0.524847688520931, 'batch_size': 5}. Best is trial 2 with value: 2749010.7730130195.\u001b[0m\n"
          ]
        },
        {
          "output_type": "stream",
          "name": "stdout",
          "text": [
            "Sequential(\n",
            "  (0): Linear(in_features=1, out_features=595, bias=True)\n",
            "  (1): LeakyReLU(negative_slope=0.01)\n",
            "  (2): Linear(in_features=595, out_features=1, bias=True)\n",
            "  (3): Softplus(beta=1, threshold=20)\n",
            ")\n"
          ]
        },
        {
          "output_type": "stream",
          "name": "stderr",
          "text": [
            "\u001b[32m[I 2022-02-27 11:47:00,609]\u001b[0m Trial 8 finished with value: 2335605065.935905 and parameters: {'n_layers': 2, 'n_width': 595, 'activation_l0': 'LeakyReLU', 'last_layer': 'Softplus', 'lr': 2.542533078844734e-05, 'beta': 4.3214930511893, 'batch_size': 5}. Best is trial 2 with value: 2749010.7730130195.\u001b[0m\n"
          ]
        },
        {
          "output_type": "stream",
          "name": "stdout",
          "text": [
            "Sequential(\n",
            "  (0): Linear(in_features=1, out_features=560, bias=True)\n",
            "  (1): Sigmoid()\n",
            "  (2): Linear(in_features=560, out_features=1, bias=True)\n",
            "  (3): Sigmoid()\n",
            ")\n"
          ]
        },
        {
          "output_type": "stream",
          "name": "stderr",
          "text": [
            "\u001b[32m[I 2022-02-27 11:47:00,939]\u001b[0m Trial 9 finished with value: 803843473.6796194 and parameters: {'n_layers': 2, 'n_width': 560, 'activation_l0': 'Sigmoid', 'last_layer': 'Sigmoid', 'lr': 5.520049165481559e-05, 'beta': 56.69902356403085, 'batch_size': 7}. Best is trial 2 with value: 2749010.7730130195.\u001b[0m\n"
          ]
        },
        {
          "output_type": "stream",
          "name": "stdout",
          "text": [
            "Sequential(\n",
            "  (0): Linear(in_features=1, out_features=55, bias=True)\n",
            "  (1): Sigmoid()\n",
            "  (2): Linear(in_features=55, out_features=55, bias=True)\n",
            "  (3): Tanh()\n",
            "  (4): Linear(in_features=55, out_features=55, bias=True)\n",
            "  (5): Sigmoid()\n",
            "  (6): Linear(in_features=55, out_features=1, bias=True)\n",
            "  (7): Softplus(beta=1, threshold=20)\n",
            ")\n"
          ]
        },
        {
          "output_type": "stream",
          "name": "stderr",
          "text": [
            "\u001b[32m[I 2022-02-27 11:47:01,272]\u001b[0m Trial 10 finished with value: 5752598.580926432 and parameters: {'n_layers': 4, 'n_width': 55, 'activation_l0': 'Sigmoid', 'activation_l1': 'Tanh', 'activation_l2': 'Sigmoid', 'last_layer': 'Softplus', 'lr': 0.043344011215104644, 'beta': 0.13256514161962002, 'batch_size': 10}. Best is trial 2 with value: 2749010.7730130195.\u001b[0m\n"
          ]
        },
        {
          "output_type": "stream",
          "name": "stdout",
          "text": [
            "Sequential(\n",
            "  (0): Linear(in_features=1, out_features=252, bias=True)\n",
            "  (1): Sigmoid()\n",
            "  (2): Linear(in_features=252, out_features=252, bias=True)\n",
            "  (3): Tanh()\n",
            "  (4): Linear(in_features=252, out_features=252, bias=True)\n",
            "  (5): Sigmoid()\n",
            "  (6): Linear(in_features=252, out_features=1, bias=True)\n",
            "  (7): Softplus(beta=1, threshold=20)\n",
            ")\n"
          ]
        },
        {
          "output_type": "stream",
          "name": "stderr",
          "text": [
            "\u001b[32m[I 2022-02-27 11:47:02,055]\u001b[0m Trial 11 finished with value: 41407859.49214848 and parameters: {'n_layers': 4, 'n_width': 252, 'activation_l0': 'Sigmoid', 'activation_l1': 'Tanh', 'activation_l2': 'Sigmoid', 'last_layer': 'Softplus', 'lr': 0.08039733132909342, 'beta': 0.13291368406496015, 'batch_size': 10}. Best is trial 2 with value: 2749010.7730130195.\u001b[0m\n"
          ]
        },
        {
          "output_type": "stream",
          "name": "stdout",
          "text": [
            "Sequential(\n",
            "  (0): Linear(in_features=1, out_features=34, bias=True)\n",
            "  (1): Sigmoid()\n",
            "  (2): Linear(in_features=34, out_features=34, bias=True)\n",
            "  (3): Tanh()\n",
            "  (4): Linear(in_features=34, out_features=34, bias=True)\n",
            "  (5): LeakyReLU(negative_slope=0.01)\n",
            "  (6): Linear(in_features=34, out_features=1, bias=True)\n",
            "  (7): Softplus(beta=1, threshold=20)\n",
            ")\n"
          ]
        },
        {
          "output_type": "stream",
          "name": "stderr",
          "text": [
            "\u001b[32m[I 2022-02-27 11:47:02,377]\u001b[0m Trial 12 finished with value: 20988775.188741595 and parameters: {'n_layers': 4, 'n_width': 34, 'activation_l0': 'Sigmoid', 'activation_l1': 'Tanh', 'activation_l2': 'LeakyReLU', 'last_layer': 'Softplus', 'lr': 0.004838898576688601, 'beta': 0.10629901800738005, 'batch_size': 8}. Best is trial 2 with value: 2749010.7730130195.\u001b[0m\n"
          ]
        },
        {
          "output_type": "stream",
          "name": "stdout",
          "text": [
            "Sequential(\n",
            "  (0): Linear(in_features=1, out_features=169, bias=True)\n",
            "  (1): Sigmoid()\n",
            "  (2): Linear(in_features=169, out_features=169, bias=True)\n",
            "  (3): Tanh()\n",
            "  (4): Linear(in_features=169, out_features=1, bias=True)\n",
            "  (5): Softplus(beta=1, threshold=20)\n",
            ")\n"
          ]
        },
        {
          "output_type": "stream",
          "name": "stderr",
          "text": [
            "\u001b[32m[I 2022-02-27 11:47:02,775]\u001b[0m Trial 13 finished with value: 4161569.210546928 and parameters: {'n_layers': 3, 'n_width': 169, 'activation_l0': 'Sigmoid', 'activation_l1': 'Tanh', 'last_layer': 'Softplus', 'lr': 0.001957932481616118, 'beta': 0.7931100156929781, 'batch_size': 10}. Best is trial 2 with value: 2749010.7730130195.\u001b[0m\n"
          ]
        },
        {
          "output_type": "stream",
          "name": "stdout",
          "text": [
            "Sequential(\n",
            "  (0): Linear(in_features=1, out_features=685, bias=True)\n",
            "  (1): Tanh()\n",
            "  (2): Linear(in_features=685, out_features=685, bias=True)\n",
            "  (3): LeakyReLU(negative_slope=0.01)\n",
            "  (4): Linear(in_features=685, out_features=1, bias=True)\n",
            "  (5): Softplus(beta=1, threshold=20)\n",
            ")\n"
          ]
        },
        {
          "output_type": "stream",
          "name": "stderr",
          "text": [
            "\u001b[32m[I 2022-02-27 11:47:04,387]\u001b[0m Trial 14 finished with value: 7712629.802573928 and parameters: {'n_layers': 3, 'n_width': 685, 'activation_l0': 'Tanh', 'activation_l1': 'LeakyReLU', 'last_layer': 'Softplus', 'lr': 0.0012344060736332485, 'beta': 0.9834951941777316, 'batch_size': 8}. Best is trial 2 with value: 2749010.7730130195.\u001b[0m\n"
          ]
        },
        {
          "output_type": "stream",
          "name": "stdout",
          "text": [
            "Sequential(\n",
            "  (0): Linear(in_features=1, out_features=200, bias=True)\n",
            "  (1): Sigmoid()\n",
            "  (2): Linear(in_features=200, out_features=200, bias=True)\n",
            "  (3): Sigmoid()\n",
            "  (4): Linear(in_features=200, out_features=1, bias=True)\n",
            "  (5): Softplus(beta=1, threshold=20)\n",
            ")\n"
          ]
        },
        {
          "output_type": "stream",
          "name": "stderr",
          "text": [
            "\u001b[32m[I 2022-02-27 11:47:04,861]\u001b[0m Trial 15 finished with value: 9383906.22588301 and parameters: {'n_layers': 3, 'n_width': 200, 'activation_l0': 'Sigmoid', 'activation_l1': 'Sigmoid', 'last_layer': 'Softplus', 'lr': 0.0009682243928520657, 'beta': 0.613093827795643, 'batch_size': 10}. Best is trial 2 with value: 2749010.7730130195.\u001b[0m\n"
          ]
        },
        {
          "output_type": "stream",
          "name": "stdout",
          "text": [
            "Sequential(\n",
            "  (0): Linear(in_features=1, out_features=427, bias=True)\n",
            "  (1): Tanh()\n",
            "  (2): Linear(in_features=427, out_features=427, bias=True)\n",
            "  (3): Tanh()\n",
            "  (4): Linear(in_features=427, out_features=1, bias=True)\n",
            "  (5): Softplus(beta=1, threshold=20)\n",
            ")\n"
          ]
        },
        {
          "output_type": "stream",
          "name": "stderr",
          "text": [
            "\u001b[32m[I 2022-02-27 11:47:05,759]\u001b[0m Trial 16 finished with value: 3145757.0801796014 and parameters: {'n_layers': 3, 'n_width': 427, 'activation_l0': 'Tanh', 'activation_l1': 'Tanh', 'last_layer': 'Softplus', 'lr': 0.0021085960702447973, 'beta': 1.3086029723938155, 'batch_size': 7}. Best is trial 2 with value: 2749010.7730130195.\u001b[0m\n"
          ]
        },
        {
          "output_type": "stream",
          "name": "stdout",
          "text": [
            "Sequential(\n",
            "  (0): Linear(in_features=1, out_features=427, bias=True)\n",
            "  (1): Tanh()\n",
            "  (2): Linear(in_features=427, out_features=427, bias=True)\n",
            "  (3): Tanh()\n",
            "  (4): Linear(in_features=427, out_features=1, bias=True)\n",
            "  (5): Softplus(beta=1, threshold=20)\n",
            ")\n"
          ]
        },
        {
          "output_type": "stream",
          "name": "stderr",
          "text": [
            "\u001b[32m[I 2022-02-27 11:47:06,670]\u001b[0m Trial 17 finished with value: 57287022.25610403 and parameters: {'n_layers': 3, 'n_width': 427, 'activation_l0': 'Tanh', 'activation_l1': 'Tanh', 'last_layer': 'Softplus', 'lr': 0.0002471058563506667, 'beta': 18.602947709804447, 'batch_size': 7}. Best is trial 2 with value: 2749010.7730130195.\u001b[0m\n"
          ]
        },
        {
          "output_type": "stream",
          "name": "stdout",
          "text": [
            "Sequential(\n",
            "  (0): Linear(in_features=1, out_features=434, bias=True)\n",
            "  (1): Tanh()\n",
            "  (2): Linear(in_features=434, out_features=434, bias=True)\n",
            "  (3): Sigmoid()\n",
            "  (4): Linear(in_features=434, out_features=434, bias=True)\n",
            "  (5): LeakyReLU(negative_slope=0.01)\n",
            "  (6): Linear(in_features=434, out_features=1, bias=True)\n",
            "  (7): Softplus(beta=1, threshold=20)\n",
            ")\n"
          ]
        },
        {
          "output_type": "stream",
          "name": "stderr",
          "text": [
            "\u001b[32m[I 2022-02-27 11:47:08,200]\u001b[0m Trial 18 finished with value: 5017982.997338743 and parameters: {'n_layers': 4, 'n_width': 434, 'activation_l0': 'Tanh', 'activation_l1': 'Sigmoid', 'activation_l2': 'LeakyReLU', 'last_layer': 'Softplus', 'lr': 0.008582041502998078, 'beta': 1.8074019088876863, 'batch_size': 7}. Best is trial 2 with value: 2749010.7730130195.\u001b[0m\n"
          ]
        },
        {
          "output_type": "stream",
          "name": "stdout",
          "text": [
            "Sequential(\n",
            "  (0): Linear(in_features=1, out_features=695, bias=True)\n",
            "  (1): Tanh()\n",
            "  (2): Linear(in_features=695, out_features=695, bias=True)\n",
            "  (3): LeakyReLU(negative_slope=0.01)\n",
            "  (4): Linear(in_features=695, out_features=1, bias=True)\n",
            "  (5): Softplus(beta=1, threshold=20)\n",
            ")\n"
          ]
        },
        {
          "output_type": "stream",
          "name": "stderr",
          "text": [
            "\u001b[32m[I 2022-02-27 11:47:11,451]\u001b[0m Trial 19 finished with value: 2993556.987553131 and parameters: {'n_layers': 3, 'n_width': 695, 'activation_l0': 'Tanh', 'activation_l1': 'LeakyReLU', 'last_layer': 'Softplus', 'lr': 0.00040378511859337886, 'beta': 0.3903698981087686, 'batch_size': 4}. Best is trial 2 with value: 2749010.7730130195.\u001b[0m\n"
          ]
        },
        {
          "output_type": "stream",
          "name": "stdout",
          "text": [
            "Sequential(\n",
            "  (0): Linear(in_features=1, out_features=714, bias=True)\n",
            "  (1): Tanh()\n",
            "  (2): Linear(in_features=714, out_features=714, bias=True)\n",
            "  (3): LeakyReLU(negative_slope=0.01)\n",
            "  (4): Linear(in_features=714, out_features=1, bias=True)\n",
            "  (5): Softplus(beta=1, threshold=20)\n",
            ")\n"
          ]
        },
        {
          "output_type": "stream",
          "name": "stderr",
          "text": [
            "\u001b[32m[I 2022-02-27 11:47:14,977]\u001b[0m Trial 20 finished with value: 3237923.5524899648 and parameters: {'n_layers': 3, 'n_width': 714, 'activation_l0': 'Tanh', 'activation_l1': 'LeakyReLU', 'last_layer': 'Softplus', 'lr': 0.00031063621511109407, 'beta': 0.31192819842651204, 'batch_size': 3}. Best is trial 2 with value: 2749010.7730130195.\u001b[0m\n"
          ]
        },
        {
          "output_type": "stream",
          "name": "stdout",
          "text": [
            "Sequential(\n",
            "  (0): Linear(in_features=1, out_features=624, bias=True)\n",
            "  (1): Tanh()\n",
            "  (2): Linear(in_features=624, out_features=624, bias=True)\n",
            "  (3): LeakyReLU(negative_slope=0.01)\n",
            "  (4): Linear(in_features=624, out_features=1, bias=True)\n",
            "  (5): Softplus(beta=1, threshold=20)\n",
            ")\n"
          ]
        },
        {
          "output_type": "stream",
          "name": "stderr",
          "text": [
            "\u001b[32m[I 2022-02-27 11:47:17,698]\u001b[0m Trial 21 finished with value: 2849953.5161580252 and parameters: {'n_layers': 3, 'n_width': 624, 'activation_l0': 'Tanh', 'activation_l1': 'LeakyReLU', 'last_layer': 'Softplus', 'lr': 0.004754057823163189, 'beta': 0.26689731395811694, 'batch_size': 4}. Best is trial 2 with value: 2749010.7730130195.\u001b[0m\n"
          ]
        },
        {
          "output_type": "stream",
          "name": "stdout",
          "text": [
            "Sequential(\n",
            "  (0): Linear(in_features=1, out_features=633, bias=True)\n",
            "  (1): Tanh()\n",
            "  (2): Linear(in_features=633, out_features=633, bias=True)\n",
            "  (3): LeakyReLU(negative_slope=0.01)\n",
            "  (4): Linear(in_features=633, out_features=1, bias=True)\n",
            "  (5): Softplus(beta=1, threshold=20)\n",
            ")\n"
          ]
        },
        {
          "output_type": "stream",
          "name": "stderr",
          "text": [
            "\u001b[32m[I 2022-02-27 11:47:20,361]\u001b[0m Trial 22 finished with value: 2142433.3249405106 and parameters: {'n_layers': 3, 'n_width': 633, 'activation_l0': 'Tanh', 'activation_l1': 'LeakyReLU', 'last_layer': 'Softplus', 'lr': 0.011037433342844627, 'beta': 0.2902508550653733, 'batch_size': 4}. Best is trial 22 with value: 2142433.3249405106.\u001b[0m\n"
          ]
        },
        {
          "output_type": "stream",
          "name": "stdout",
          "text": [
            "Sequential(\n",
            "  (0): Linear(in_features=1, out_features=595, bias=True)\n",
            "  (1): Tanh()\n",
            "  (2): Linear(in_features=595, out_features=595, bias=True)\n",
            "  (3): LeakyReLU(negative_slope=0.01)\n",
            "  (4): Linear(in_features=595, out_features=1, bias=True)\n",
            "  (5): Softplus(beta=1, threshold=20)\n",
            ")\n"
          ]
        },
        {
          "output_type": "stream",
          "name": "stderr",
          "text": [
            "\u001b[32m[I 2022-02-27 11:47:22,901]\u001b[0m Trial 23 finished with value: 3244216.1689761253 and parameters: {'n_layers': 3, 'n_width': 595, 'activation_l0': 'Tanh', 'activation_l1': 'LeakyReLU', 'last_layer': 'Softplus', 'lr': 0.01295471641645766, 'beta': 0.23513898251483784, 'batch_size': 4}. Best is trial 22 with value: 2142433.3249405106.\u001b[0m\n"
          ]
        },
        {
          "output_type": "stream",
          "name": "stdout",
          "text": [
            "Sequential(\n",
            "  (0): Linear(in_features=1, out_features=797, bias=True)\n",
            "  (1): Tanh()\n",
            "  (2): Linear(in_features=797, out_features=797, bias=True)\n",
            "  (3): LeakyReLU(negative_slope=0.01)\n",
            "  (4): Linear(in_features=797, out_features=797, bias=True)\n",
            "  (5): Tanh()\n",
            "  (6): Linear(in_features=797, out_features=1, bias=True)\n",
            "  (7): Softplus(beta=1, threshold=20)\n",
            ")\n"
          ]
        },
        {
          "output_type": "stream",
          "name": "stderr",
          "text": [
            "\u001b[32m[I 2022-02-27 11:47:29,949]\u001b[0m Trial 24 finished with value: 17575937.837647464 and parameters: {'n_layers': 4, 'n_width': 797, 'activation_l0': 'Tanh', 'activation_l1': 'LeakyReLU', 'activation_l2': 'Tanh', 'last_layer': 'Softplus', 'lr': 0.016679434863520255, 'beta': 0.2164690396043575, 'batch_size': 3}. Best is trial 22 with value: 2142433.3249405106.\u001b[0m\n"
          ]
        },
        {
          "output_type": "stream",
          "name": "stdout",
          "text": [
            "Sequential(\n",
            "  (0): Linear(in_features=1, out_features=506, bias=True)\n",
            "  (1): Tanh()\n",
            "  (2): Linear(in_features=506, out_features=506, bias=True)\n",
            "  (3): LeakyReLU(negative_slope=0.01)\n",
            "  (4): Linear(in_features=506, out_features=1, bias=True)\n",
            "  (5): Softplus(beta=1, threshold=20)\n",
            ")\n"
          ]
        },
        {
          "output_type": "stream",
          "name": "stderr",
          "text": [
            "\u001b[32m[I 2022-02-27 11:47:32,059]\u001b[0m Trial 25 finished with value: 3312297.2160045328 and parameters: {'n_layers': 3, 'n_width': 506, 'activation_l0': 'Tanh', 'activation_l1': 'LeakyReLU', 'last_layer': 'Softplus', 'lr': 0.0035301060477551643, 'beta': 0.18341294201444344, 'batch_size': 4}. Best is trial 22 with value: 2142433.3249405106.\u001b[0m\n"
          ]
        },
        {
          "output_type": "stream",
          "name": "stdout",
          "text": [
            "Sequential(\n",
            "  (0): Linear(in_features=1, out_features=647, bias=True)\n",
            "  (1): Tanh()\n",
            "  (2): Linear(in_features=647, out_features=647, bias=True)\n",
            "  (3): LeakyReLU(negative_slope=0.01)\n",
            "  (4): Linear(in_features=647, out_features=1, bias=True)\n",
            "  (5): Sigmoid()\n",
            ")\n"
          ]
        },
        {
          "output_type": "stream",
          "name": "stderr",
          "text": [
            "\u001b[32m[I 2022-02-27 11:47:34,935]\u001b[0m Trial 26 finished with value: 1980109.2023482507 and parameters: {'n_layers': 3, 'n_width': 647, 'activation_l0': 'Tanh', 'activation_l1': 'LeakyReLU', 'last_layer': 'Sigmoid', 'lr': 0.08208705391431234, 'beta': 0.4482328429357738, 'batch_size': 3}. Best is trial 26 with value: 1980109.2023482507.\u001b[0m\n"
          ]
        },
        {
          "output_type": "stream",
          "name": "stdout",
          "text": [
            "Sequential(\n",
            "  (0): Linear(in_features=1, out_features=502, bias=True)\n",
            "  (1): Tanh()\n",
            "  (2): Linear(in_features=502, out_features=502, bias=True)\n",
            "  (3): Sigmoid()\n",
            "  (4): Linear(in_features=502, out_features=502, bias=True)\n",
            "  (5): Sigmoid()\n",
            "  (6): Linear(in_features=502, out_features=1, bias=True)\n",
            "  (7): Sigmoid()\n",
            ")\n"
          ]
        },
        {
          "output_type": "stream",
          "name": "stderr",
          "text": [
            "\u001b[32m[I 2022-02-27 11:47:38,473]\u001b[0m Trial 27 finished with value: 10525237.236068254 and parameters: {'n_layers': 4, 'n_width': 502, 'activation_l0': 'Tanh', 'activation_l1': 'Sigmoid', 'activation_l2': 'Sigmoid', 'last_layer': 'Sigmoid', 'lr': 0.034957860241321095, 'beta': 0.47352995324735103, 'batch_size': 3}. Best is trial 26 with value: 1980109.2023482507.\u001b[0m\n"
          ]
        },
        {
          "output_type": "stream",
          "name": "stdout",
          "text": [
            "Sequential(\n",
            "  (0): Linear(in_features=1, out_features=777, bias=True)\n",
            "  (1): Tanh()\n",
            "  (2): Linear(in_features=777, out_features=777, bias=True)\n",
            "  (3): LeakyReLU(negative_slope=0.01)\n",
            "  (4): Linear(in_features=777, out_features=777, bias=True)\n",
            "  (5): Sigmoid()\n",
            "  (6): Linear(in_features=777, out_features=1, bias=True)\n",
            "  (7): Sigmoid()\n",
            ")\n"
          ]
        },
        {
          "output_type": "stream",
          "name": "stderr",
          "text": [
            "\u001b[32m[I 2022-02-27 11:47:41,927]\u001b[0m Trial 28 finished with value: 2454998.5155563783 and parameters: {'n_layers': 4, 'n_width': 777, 'activation_l0': 'Tanh', 'activation_l1': 'LeakyReLU', 'activation_l2': 'Sigmoid', 'last_layer': 'Sigmoid', 'lr': 0.05503799537336379, 'beta': 0.5578804259025806, 'batch_size': 6}. Best is trial 26 with value: 1980109.2023482507.\u001b[0m\n"
          ]
        },
        {
          "output_type": "stream",
          "name": "stdout",
          "text": [
            "Sequential(\n",
            "  (0): Linear(in_features=1, out_features=1021, bias=True)\n",
            "  (1): Tanh()\n",
            "  (2): Linear(in_features=1021, out_features=1, bias=True)\n",
            "  (3): Sigmoid()\n",
            ")\n"
          ]
        },
        {
          "output_type": "stream",
          "name": "stderr",
          "text": [
            "\u001b[32m[I 2022-02-27 11:47:43,341]\u001b[0m Trial 29 finished with value: 3933107.8929998074 and parameters: {'n_layers': 2, 'n_width': 1021, 'activation_l0': 'Tanh', 'last_layer': 'Sigmoid', 'lr': 0.09756319754318085, 'beta': 2.526220016676088, 'batch_size': 2}. Best is trial 26 with value: 1980109.2023482507.\u001b[0m\n"
          ]
        },
        {
          "output_type": "stream",
          "name": "stdout",
          "text": [
            "Sequential(\n",
            "  (0): Linear(in_features=1, out_features=775, bias=True)\n",
            "  (1): Tanh()\n",
            "  (2): Linear(in_features=775, out_features=1, bias=True)\n",
            "  (3): Sigmoid()\n",
            ")\n"
          ]
        },
        {
          "output_type": "stream",
          "name": "stderr",
          "text": [
            "\u001b[32m[I 2022-02-27 11:47:43,782]\u001b[0m Trial 30 finished with value: 516704072.05063474 and parameters: {'n_layers': 2, 'n_width': 775, 'activation_l0': 'Tanh', 'last_layer': 'Sigmoid', 'lr': 7.471615864048062e-06, 'beta': 14.25984094500986, 'batch_size': 6}. Best is trial 26 with value: 1980109.2023482507.\u001b[0m\n"
          ]
        },
        {
          "output_type": "stream",
          "name": "stdout",
          "text": [
            "Sequential(\n",
            "  (0): Linear(in_features=1, out_features=649, bias=True)\n",
            "  (1): Tanh()\n",
            "  (2): Linear(in_features=649, out_features=649, bias=True)\n",
            "  (3): LeakyReLU(negative_slope=0.01)\n",
            "  (4): Linear(in_features=649, out_features=649, bias=True)\n",
            "  (5): Sigmoid()\n",
            "  (6): Linear(in_features=649, out_features=1, bias=True)\n",
            "  (7): Sigmoid()\n",
            ")\n"
          ]
        },
        {
          "output_type": "stream",
          "name": "stderr",
          "text": [
            "\u001b[32m[I 2022-02-27 11:47:49,133]\u001b[0m Trial 31 finished with value: 908845.4954111075 and parameters: {'n_layers': 4, 'n_width': 649, 'activation_l0': 'Tanh', 'activation_l1': 'LeakyReLU', 'activation_l2': 'Sigmoid', 'last_layer': 'Sigmoid', 'lr': 0.012800042072261642, 'beta': 1.1966677540148705, 'batch_size': 3}. Best is trial 31 with value: 908845.4954111075.\u001b[0m\n"
          ]
        },
        {
          "output_type": "stream",
          "name": "stdout",
          "text": [
            "Sequential(\n",
            "  (0): Linear(in_features=1, out_features=952, bias=True)\n",
            "  (1): Tanh()\n",
            "  (2): Linear(in_features=952, out_features=952, bias=True)\n",
            "  (3): LeakyReLU(negative_slope=0.01)\n",
            "  (4): Linear(in_features=952, out_features=952, bias=True)\n",
            "  (5): Sigmoid()\n",
            "  (6): Linear(in_features=952, out_features=1, bias=True)\n",
            "  (7): Sigmoid()\n",
            ")\n"
          ]
        },
        {
          "output_type": "stream",
          "name": "stderr",
          "text": [
            "\u001b[32m[I 2022-02-27 11:47:58,502]\u001b[0m Trial 32 finished with value: 673487.1934360773 and parameters: {'n_layers': 4, 'n_width': 952, 'activation_l0': 'Tanh', 'activation_l1': 'LeakyReLU', 'activation_l2': 'Sigmoid', 'last_layer': 'Sigmoid', 'lr': 0.023511203654087712, 'beta': 0.9827098564105511, 'batch_size': 3}. Best is trial 32 with value: 673487.1934360773.\u001b[0m\n"
          ]
        },
        {
          "output_type": "stream",
          "name": "stdout",
          "text": [
            "Sequential(\n",
            "  (0): Linear(in_features=1, out_features=913, bias=True)\n",
            "  (1): Tanh()\n",
            "  (2): Linear(in_features=913, out_features=913, bias=True)\n",
            "  (3): LeakyReLU(negative_slope=0.01)\n",
            "  (4): Linear(in_features=913, out_features=913, bias=True)\n",
            "  (5): Sigmoid()\n",
            "  (6): Linear(in_features=913, out_features=1, bias=True)\n",
            "  (7): Sigmoid()\n",
            ")\n"
          ]
        },
        {
          "output_type": "stream",
          "name": "stderr",
          "text": [
            "\u001b[32m[I 2022-02-27 11:48:12,459]\u001b[0m Trial 33 finished with value: 1034491.5858517392 and parameters: {'n_layers': 4, 'n_width': 913, 'activation_l0': 'Tanh', 'activation_l1': 'LeakyReLU', 'activation_l2': 'Sigmoid', 'last_layer': 'Sigmoid', 'lr': 0.024526503852685372, 'beta': 1.1264227428838909, 'batch_size': 2}. Best is trial 32 with value: 673487.1934360773.\u001b[0m\n"
          ]
        },
        {
          "output_type": "stream",
          "name": "stdout",
          "text": [
            "Sequential(\n",
            "  (0): Linear(in_features=1, out_features=945, bias=True)\n",
            "  (1): Tanh()\n",
            "  (2): Linear(in_features=945, out_features=945, bias=True)\n",
            "  (3): LeakyReLU(negative_slope=0.01)\n",
            "  (4): Linear(in_features=945, out_features=945, bias=True)\n",
            "  (5): Sigmoid()\n",
            "  (6): Linear(in_features=945, out_features=1, bias=True)\n",
            "  (7): Sigmoid()\n",
            ")\n"
          ]
        },
        {
          "output_type": "stream",
          "name": "stderr",
          "text": [
            "\u001b[32m[I 2022-02-27 11:48:26,853]\u001b[0m Trial 34 finished with value: 1287152.2575280154 and parameters: {'n_layers': 4, 'n_width': 945, 'activation_l0': 'Tanh', 'activation_l1': 'LeakyReLU', 'activation_l2': 'Sigmoid', 'last_layer': 'Sigmoid', 'lr': 0.028245481151162655, 'beta': 1.124507879424844, 'batch_size': 2}. Best is trial 32 with value: 673487.1934360773.\u001b[0m\n"
          ]
        },
        {
          "output_type": "stream",
          "name": "stdout",
          "text": [
            "Sequential(\n",
            "  (0): Linear(in_features=1, out_features=942, bias=True)\n",
            "  (1): LeakyReLU(negative_slope=0.01)\n",
            "  (2): Linear(in_features=942, out_features=942, bias=True)\n",
            "  (3): LeakyReLU(negative_slope=0.01)\n",
            "  (4): Linear(in_features=942, out_features=942, bias=True)\n",
            "  (5): Sigmoid()\n",
            "  (6): Linear(in_features=942, out_features=1, bias=True)\n",
            "  (7): Sigmoid()\n",
            ")\n"
          ]
        },
        {
          "output_type": "stream",
          "name": "stderr",
          "text": [
            "\u001b[32m[I 2022-02-27 11:48:41,260]\u001b[0m Trial 35 finished with value: 3910342.476538392 and parameters: {'n_layers': 4, 'n_width': 942, 'activation_l0': 'LeakyReLU', 'activation_l1': 'LeakyReLU', 'activation_l2': 'Sigmoid', 'last_layer': 'Sigmoid', 'lr': 0.015940414084959907, 'beta': 1.1684896140299985, 'batch_size': 2}. Best is trial 32 with value: 673487.1934360773.\u001b[0m\n"
          ]
        },
        {
          "output_type": "stream",
          "name": "stdout",
          "text": [
            "Sequential(\n",
            "  (0): Linear(in_features=1, out_features=968, bias=True)\n",
            "  (1): Tanh()\n",
            "  (2): Linear(in_features=968, out_features=968, bias=True)\n",
            "  (3): LeakyReLU(negative_slope=0.01)\n",
            "  (4): Linear(in_features=968, out_features=968, bias=True)\n",
            "  (5): Sigmoid()\n",
            "  (6): Linear(in_features=968, out_features=1, bias=True)\n",
            "  (7): Sigmoid()\n",
            ")\n"
          ]
        },
        {
          "output_type": "stream",
          "name": "stderr",
          "text": [
            "\u001b[32m[I 2022-02-27 11:48:56,126]\u001b[0m Trial 36 finished with value: 512175.8471935417 and parameters: {'n_layers': 4, 'n_width': 968, 'activation_l0': 'Tanh', 'activation_l1': 'LeakyReLU', 'activation_l2': 'Sigmoid', 'last_layer': 'Sigmoid', 'lr': 0.026230234805038343, 'beta': 3.0411391019727043, 'batch_size': 2}. Best is trial 36 with value: 512175.8471935417.\u001b[0m\n"
          ]
        },
        {
          "output_type": "stream",
          "name": "stdout",
          "text": [
            "Sequential(\n",
            "  (0): Linear(in_features=1, out_features=971, bias=True)\n",
            "  (1): Tanh()\n",
            "  (2): Linear(in_features=971, out_features=971, bias=True)\n",
            "  (3): LeakyReLU(negative_slope=0.01)\n",
            "  (4): Linear(in_features=971, out_features=971, bias=True)\n",
            "  (5): Sigmoid()\n",
            "  (6): Linear(in_features=971, out_features=1, bias=True)\n",
            "  (7): Sigmoid()\n",
            ")\n"
          ]
        },
        {
          "output_type": "stream",
          "name": "stderr",
          "text": [
            "\u001b[32m[I 2022-02-27 11:49:06,217]\u001b[0m Trial 37 finished with value: 868184.3290215194 and parameters: {'n_layers': 4, 'n_width': 971, 'activation_l0': 'Tanh', 'activation_l1': 'LeakyReLU', 'activation_l2': 'Sigmoid', 'last_layer': 'Sigmoid', 'lr': 0.022143623816176006, 'beta': 3.251635932890957, 'batch_size': 3}. Best is trial 36 with value: 512175.8471935417.\u001b[0m\n"
          ]
        },
        {
          "output_type": "stream",
          "name": "stdout",
          "text": [
            "Sequential(\n",
            "  (0): Linear(in_features=1, out_features=999, bias=True)\n",
            "  (1): LeakyReLU(negative_slope=0.01)\n",
            "  (2): Linear(in_features=999, out_features=999, bias=True)\n",
            "  (3): LeakyReLU(negative_slope=0.01)\n",
            "  (4): Linear(in_features=999, out_features=999, bias=True)\n",
            "  (5): Sigmoid()\n",
            "  (6): Linear(in_features=999, out_features=1, bias=True)\n",
            "  (7): Sigmoid()\n",
            ")\n"
          ]
        },
        {
          "output_type": "stream",
          "name": "stderr",
          "text": [
            "\u001b[32m[I 2022-02-27 11:49:17,031]\u001b[0m Trial 38 finished with value: 2618585.729509541 and parameters: {'n_layers': 4, 'n_width': 999, 'activation_l0': 'LeakyReLU', 'activation_l1': 'LeakyReLU', 'activation_l2': 'Sigmoid', 'last_layer': 'Sigmoid', 'lr': 0.007753615642363961, 'beta': 2.908466175452782, 'batch_size': 3}. Best is trial 36 with value: 512175.8471935417.\u001b[0m\n"
          ]
        },
        {
          "output_type": "stream",
          "name": "stdout",
          "text": [
            "Sequential(\n",
            "  (0): Linear(in_features=1, out_features=835, bias=True)\n",
            "  (1): Tanh()\n",
            "  (2): Linear(in_features=835, out_features=835, bias=True)\n",
            "  (3): LeakyReLU(negative_slope=0.01)\n",
            "  (4): Linear(in_features=835, out_features=835, bias=True)\n",
            "  (5): Sigmoid()\n",
            "  (6): Linear(in_features=835, out_features=1, bias=True)\n",
            "  (7): Sigmoid()\n",
            ")\n"
          ]
        },
        {
          "output_type": "stream",
          "name": "stderr",
          "text": [
            "\u001b[32m[I 2022-02-27 11:49:25,576]\u001b[0m Trial 39 finished with value: 5448888.685017817 and parameters: {'n_layers': 4, 'n_width': 835, 'activation_l0': 'Tanh', 'activation_l1': 'LeakyReLU', 'activation_l2': 'Sigmoid', 'last_layer': 'Sigmoid', 'lr': 0.0006356539530571739, 'beta': 7.324286578794126, 'batch_size': 3}. Best is trial 36 with value: 512175.8471935417.\u001b[0m\n"
          ]
        },
        {
          "output_type": "stream",
          "name": "stdout",
          "text": [
            "Sequential(\n",
            "  (0): Linear(in_features=1, out_features=963, bias=True)\n",
            "  (1): Tanh()\n",
            "  (2): Linear(in_features=963, out_features=963, bias=True)\n",
            "  (3): LeakyReLU(negative_slope=0.01)\n",
            "  (4): Linear(in_features=963, out_features=963, bias=True)\n",
            "  (5): Sigmoid()\n",
            "  (6): Linear(in_features=963, out_features=1, bias=True)\n",
            "  (7): Sigmoid()\n",
            ")\n"
          ]
        },
        {
          "output_type": "stream",
          "name": "stderr",
          "text": [
            "\u001b[32m[I 2022-02-27 11:49:36,431]\u001b[0m Trial 40 finished with value: 96414109.04659633 and parameters: {'n_layers': 4, 'n_width': 963, 'activation_l0': 'Tanh', 'activation_l1': 'LeakyReLU', 'activation_l2': 'Sigmoid', 'last_layer': 'Sigmoid', 'lr': 3.2624813005082626e-06, 'beta': 3.874841819336992, 'batch_size': 5}. Best is trial 36 with value: 512175.8471935417.\u001b[0m\n"
          ]
        },
        {
          "output_type": "stream",
          "name": "stdout",
          "text": [
            "Sequential(\n",
            "  (0): Linear(in_features=1, out_features=888, bias=True)\n",
            "  (1): Tanh()\n",
            "  (2): Linear(in_features=888, out_features=888, bias=True)\n",
            "  (3): LeakyReLU(negative_slope=0.01)\n",
            "  (4): Linear(in_features=888, out_features=888, bias=True)\n",
            "  (5): Sigmoid()\n",
            "  (6): Linear(in_features=888, out_features=1, bias=True)\n",
            "  (7): Sigmoid()\n",
            ")\n"
          ]
        },
        {
          "output_type": "stream",
          "name": "stderr",
          "text": [
            "\u001b[32m[I 2022-02-27 11:49:48,563]\u001b[0m Trial 41 finished with value: 890256.6574907408 and parameters: {'n_layers': 4, 'n_width': 888, 'activation_l0': 'Tanh', 'activation_l1': 'LeakyReLU', 'activation_l2': 'Sigmoid', 'last_layer': 'Sigmoid', 'lr': 0.0289190830293753, 'beta': 1.7987936494526107, 'batch_size': 2}. Best is trial 36 with value: 512175.8471935417.\u001b[0m\n"
          ]
        },
        {
          "output_type": "stream",
          "name": "stdout",
          "text": [
            "Sequential(\n",
            "  (0): Linear(in_features=1, out_features=875, bias=True)\n",
            "  (1): Tanh()\n",
            "  (2): Linear(in_features=875, out_features=875, bias=True)\n",
            "  (3): LeakyReLU(negative_slope=0.01)\n",
            "  (4): Linear(in_features=875, out_features=875, bias=True)\n",
            "  (5): Sigmoid()\n",
            "  (6): Linear(in_features=875, out_features=1, bias=True)\n",
            "  (7): Sigmoid()\n",
            ")\n"
          ]
        },
        {
          "output_type": "stream",
          "name": "stderr",
          "text": [
            "\u001b[32m[I 2022-02-27 11:50:01,186]\u001b[0m Trial 42 finished with value: 943556.608927403 and parameters: {'n_layers': 4, 'n_width': 875, 'activation_l0': 'Tanh', 'activation_l1': 'LeakyReLU', 'activation_l2': 'Sigmoid', 'last_layer': 'Sigmoid', 'lr': 0.023511585382212614, 'beta': 1.985562711794032, 'batch_size': 2}. Best is trial 36 with value: 512175.8471935417.\u001b[0m\n"
          ]
        },
        {
          "output_type": "stream",
          "name": "stdout",
          "text": [
            "Sequential(\n",
            "  (0): Linear(in_features=1, out_features=830, bias=True)\n",
            "  (1): Tanh()\n",
            "  (2): Linear(in_features=830, out_features=830, bias=True)\n",
            "  (3): LeakyReLU(negative_slope=0.01)\n",
            "  (4): Linear(in_features=830, out_features=830, bias=True)\n",
            "  (5): Sigmoid()\n",
            "  (6): Linear(in_features=830, out_features=1, bias=True)\n",
            "  (7): Sigmoid()\n",
            ")\n"
          ]
        },
        {
          "output_type": "stream",
          "name": "stderr",
          "text": [
            "\u001b[32m[I 2022-02-27 11:50:12,770]\u001b[0m Trial 43 finished with value: 168644660.85907906 and parameters: {'n_layers': 4, 'n_width': 830, 'activation_l0': 'Tanh', 'activation_l1': 'LeakyReLU', 'activation_l2': 'Sigmoid', 'last_layer': 'Sigmoid', 'lr': 0.002756539616839478, 'beta': 6.302712621798943, 'batch_size': 2}. Best is trial 36 with value: 512175.8471935417.\u001b[0m\n"
          ]
        },
        {
          "output_type": "stream",
          "name": "stdout",
          "text": [
            "Sequential(\n",
            "  (0): Linear(in_features=1, out_features=892, bias=True)\n",
            "  (1): LeakyReLU(negative_slope=0.01)\n",
            "  (2): Linear(in_features=892, out_features=892, bias=True)\n",
            "  (3): LeakyReLU(negative_slope=0.01)\n",
            "  (4): Linear(in_features=892, out_features=892, bias=True)\n",
            "  (5): Sigmoid()\n",
            "  (6): Linear(in_features=892, out_features=1, bias=True)\n",
            "  (7): Sigmoid()\n",
            ")\n"
          ]
        },
        {
          "output_type": "stream",
          "name": "stderr",
          "text": [
            "\u001b[32m[I 2022-02-27 11:50:21,009]\u001b[0m Trial 44 finished with value: 23808826.39530889 and parameters: {'n_layers': 4, 'n_width': 892, 'activation_l0': 'LeakyReLU', 'activation_l1': 'LeakyReLU', 'activation_l2': 'Sigmoid', 'last_layer': 'Sigmoid', 'lr': 0.04406640775772201, 'beta': 1.7313213886272174, 'batch_size': 3}. Best is trial 36 with value: 512175.8471935417.\u001b[0m\n"
          ]
        },
        {
          "output_type": "stream",
          "name": "stdout",
          "text": [
            "Sequential(\n",
            "  (0): Linear(in_features=1, out_features=959, bias=True)\n",
            "  (1): Tanh()\n",
            "  (2): Linear(in_features=959, out_features=959, bias=True)\n",
            "  (3): LeakyReLU(negative_slope=0.01)\n",
            "  (4): Linear(in_features=959, out_features=959, bias=True)\n",
            "  (5): Tanh()\n",
            "  (6): Linear(in_features=959, out_features=1, bias=True)\n",
            "  (7): Sigmoid()\n",
            ")\n"
          ]
        },
        {
          "output_type": "stream",
          "name": "stderr",
          "text": [
            "\u001b[32m[I 2022-02-27 11:50:35,635]\u001b[0m Trial 45 finished with value: 19304846.055306677 and parameters: {'n_layers': 4, 'n_width': 959, 'activation_l0': 'Tanh', 'activation_l1': 'LeakyReLU', 'activation_l2': 'Tanh', 'last_layer': 'Sigmoid', 'lr': 0.007283567015775518, 'beta': 2.867136292546333, 'batch_size': 2}. Best is trial 36 with value: 512175.8471935417.\u001b[0m\n"
          ]
        },
        {
          "output_type": "stream",
          "name": "stdout",
          "text": [
            "Sequential(\n",
            "  (0): Linear(in_features=1, out_features=997, bias=True)\n",
            "  (1): Tanh()\n",
            "  (2): Linear(in_features=997, out_features=997, bias=True)\n",
            "  (3): LeakyReLU(negative_slope=0.01)\n",
            "  (4): Linear(in_features=997, out_features=997, bias=True)\n",
            "  (5): LeakyReLU(negative_slope=0.01)\n",
            "  (6): Linear(in_features=997, out_features=1, bias=True)\n",
            "  (7): Sigmoid()\n",
            ")\n"
          ]
        },
        {
          "output_type": "stream",
          "name": "stderr",
          "text": [
            "\u001b[32m[I 2022-02-27 11:50:45,869]\u001b[0m Trial 46 finished with value: 961419.4807433035 and parameters: {'n_layers': 4, 'n_width': 997, 'activation_l0': 'Tanh', 'activation_l1': 'LeakyReLU', 'activation_l2': 'LeakyReLU', 'last_layer': 'Sigmoid', 'lr': 0.014901501377389015, 'beta': 0.7301707278482138, 'batch_size': 3}. Best is trial 36 with value: 512175.8471935417.\u001b[0m\n"
          ]
        },
        {
          "output_type": "stream",
          "name": "stdout",
          "text": [
            "Sequential(\n",
            "  (0): Linear(in_features=1, out_features=753, bias=True)\n",
            "  (1): Tanh()\n",
            "  (2): Linear(in_features=753, out_features=753, bias=True)\n",
            "  (3): LeakyReLU(negative_slope=0.01)\n",
            "  (4): Linear(in_features=753, out_features=753, bias=True)\n",
            "  (5): Sigmoid()\n",
            "  (6): Linear(in_features=753, out_features=1, bias=True)\n",
            "  (7): Sigmoid()\n",
            ")\n"
          ]
        },
        {
          "output_type": "stream",
          "name": "stderr",
          "text": [
            "\u001b[32m[I 2022-02-27 11:50:52,221]\u001b[0m Trial 47 finished with value: 1770614.8025488704 and parameters: {'n_layers': 4, 'n_width': 753, 'activation_l0': 'Tanh', 'activation_l1': 'LeakyReLU', 'activation_l2': 'Sigmoid', 'last_layer': 'Sigmoid', 'lr': 0.05070326375589536, 'beta': 9.690420914478766, 'batch_size': 4}. Best is trial 36 with value: 512175.8471935417.\u001b[0m\n"
          ]
        },
        {
          "output_type": "stream",
          "name": "stdout",
          "text": [
            "Sequential(\n",
            "  (0): Linear(in_features=1, out_features=904, bias=True)\n",
            "  (1): Sigmoid()\n",
            "  (2): Linear(in_features=904, out_features=904, bias=True)\n",
            "  (3): LeakyReLU(negative_slope=0.01)\n",
            "  (4): Linear(in_features=904, out_features=904, bias=True)\n",
            "  (5): Sigmoid()\n",
            "  (6): Linear(in_features=904, out_features=1, bias=True)\n",
            "  (7): Sigmoid()\n",
            ")\n"
          ]
        },
        {
          "output_type": "stream",
          "name": "stderr",
          "text": [
            "\u001b[32m[I 2022-02-27 11:51:02,053]\u001b[0m Trial 48 finished with value: 78090862.56479882 and parameters: {'n_layers': 4, 'n_width': 904, 'activation_l0': 'Sigmoid', 'activation_l1': 'LeakyReLU', 'activation_l2': 'Sigmoid', 'last_layer': 'Sigmoid', 'lr': 3.054469991432733e-07, 'beta': 1.5406143728505872, 'batch_size': 3}. Best is trial 36 with value: 512175.8471935417.\u001b[0m\n"
          ]
        },
        {
          "output_type": "stream",
          "name": "stdout",
          "text": [
            "Sequential(\n",
            "  (0): Linear(in_features=1, out_features=1023, bias=True)\n",
            "  (1): LeakyReLU(negative_slope=0.01)\n",
            "  (2): Linear(in_features=1023, out_features=1023, bias=True)\n",
            "  (3): Sigmoid()\n",
            "  (4): Linear(in_features=1023, out_features=1023, bias=True)\n",
            "  (5): Sigmoid()\n",
            "  (6): Linear(in_features=1023, out_features=1, bias=True)\n",
            "  (7): Sigmoid()\n",
            ")\n"
          ]
        },
        {
          "output_type": "stream",
          "name": "stderr",
          "text": [
            "\u001b[32m[I 2022-02-27 11:51:18,953]\u001b[0m Trial 49 finished with value: 11749819.731462732 and parameters: {'n_layers': 4, 'n_width': 1023, 'activation_l0': 'LeakyReLU', 'activation_l1': 'Sigmoid', 'activation_l2': 'Sigmoid', 'last_layer': 'Sigmoid', 'lr': 9.883054829350171e-05, 'beta': 4.132374789065152, 'batch_size': 2}. Best is trial 36 with value: 512175.8471935417.\u001b[0m\n"
          ]
        },
        {
          "output_type": "stream",
          "name": "stdout",
          "text": [
            "Sequential(\n",
            "  (0): Linear(in_features=1, out_features=837, bias=True)\n",
            "  (1): Tanh()\n",
            "  (2): Linear(in_features=837, out_features=837, bias=True)\n",
            "  (3): LeakyReLU(negative_slope=0.01)\n",
            "  (4): Linear(in_features=837, out_features=837, bias=True)\n",
            "  (5): Sigmoid()\n",
            "  (6): Linear(in_features=837, out_features=1, bias=True)\n",
            "  (7): Sigmoid()\n",
            ")\n"
          ]
        },
        {
          "output_type": "stream",
          "name": "stderr",
          "text": [
            "\u001b[32m[I 2022-02-27 11:51:26,832]\u001b[0m Trial 50 finished with value: 1720063.7461979585 and parameters: {'n_layers': 4, 'n_width': 837, 'activation_l0': 'Tanh', 'activation_l1': 'LeakyReLU', 'activation_l2': 'Sigmoid', 'last_layer': 'Sigmoid', 'lr': 0.06001050486169749, 'beta': 0.8384914388644319, 'batch_size': 5}. Best is trial 36 with value: 512175.8471935417.\u001b[0m\n"
          ]
        },
        {
          "output_type": "stream",
          "name": "stdout",
          "text": [
            "Sequential(\n",
            "  (0): Linear(in_features=1, out_features=890, bias=True)\n",
            "  (1): Tanh()\n",
            "  (2): Linear(in_features=890, out_features=890, bias=True)\n",
            "  (3): LeakyReLU(negative_slope=0.01)\n",
            "  (4): Linear(in_features=890, out_features=890, bias=True)\n",
            "  (5): Sigmoid()\n",
            "  (6): Linear(in_features=890, out_features=1, bias=True)\n",
            "  (7): Sigmoid()\n",
            ")\n"
          ]
        },
        {
          "output_type": "stream",
          "name": "stderr",
          "text": [
            "\u001b[32m[I 2022-02-27 11:51:39,152]\u001b[0m Trial 51 finished with value: 441924.4937063568 and parameters: {'n_layers': 4, 'n_width': 890, 'activation_l0': 'Tanh', 'activation_l1': 'LeakyReLU', 'activation_l2': 'Sigmoid', 'last_layer': 'Sigmoid', 'lr': 0.020856482592801526, 'beta': 2.3401740819727044, 'batch_size': 2}. Best is trial 51 with value: 441924.4937063568.\u001b[0m\n"
          ]
        },
        {
          "output_type": "stream",
          "name": "stdout",
          "text": [
            "Sequential(\n",
            "  (0): Linear(in_features=1, out_features=916, bias=True)\n",
            "  (1): Tanh()\n",
            "  (2): Linear(in_features=916, out_features=916, bias=True)\n",
            "  (3): LeakyReLU(negative_slope=0.01)\n",
            "  (4): Linear(in_features=916, out_features=916, bias=True)\n",
            "  (5): Sigmoid()\n",
            "  (6): Linear(in_features=916, out_features=1, bias=True)\n",
            "  (7): Sigmoid()\n",
            ")\n"
          ]
        },
        {
          "output_type": "stream",
          "name": "stderr",
          "text": [
            "\u001b[32m[I 2022-02-27 11:51:52,903]\u001b[0m Trial 52 finished with value: 963028.9704021949 and parameters: {'n_layers': 4, 'n_width': 916, 'activation_l0': 'Tanh', 'activation_l1': 'LeakyReLU', 'activation_l2': 'Sigmoid', 'last_layer': 'Sigmoid', 'lr': 0.02533843431927614, 'beta': 2.260479016632292, 'batch_size': 2}. Best is trial 51 with value: 441924.4937063568.\u001b[0m\n"
          ]
        },
        {
          "output_type": "stream",
          "name": "stdout",
          "text": [
            "Sequential(\n",
            "  (0): Linear(in_features=1, out_features=865, bias=True)\n",
            "  (1): Tanh()\n",
            "  (2): Linear(in_features=865, out_features=865, bias=True)\n",
            "  (3): Tanh()\n",
            "  (4): Linear(in_features=865, out_features=865, bias=True)\n",
            "  (5): Sigmoid()\n",
            "  (6): Linear(in_features=865, out_features=1, bias=True)\n",
            "  (7): Sigmoid()\n",
            ")\n"
          ]
        },
        {
          "output_type": "stream",
          "name": "stderr",
          "text": [
            "\u001b[32m[I 2022-02-27 11:52:05,522]\u001b[0m Trial 53 finished with value: 712697.4980218437 and parameters: {'n_layers': 4, 'n_width': 865, 'activation_l0': 'Tanh', 'activation_l1': 'Tanh', 'activation_l2': 'Sigmoid', 'last_layer': 'Sigmoid', 'lr': 0.005894708963739019, 'beta': 3.6783943034419355, 'batch_size': 2}. Best is trial 51 with value: 441924.4937063568.\u001b[0m\n"
          ]
        },
        {
          "output_type": "stream",
          "name": "stdout",
          "text": [
            "Sequential(\n",
            "  (0): Linear(in_features=1, out_features=854, bias=True)\n",
            "  (1): Tanh()\n",
            "  (2): Linear(in_features=854, out_features=854, bias=True)\n",
            "  (3): Tanh()\n",
            "  (4): Linear(in_features=854, out_features=854, bias=True)\n",
            "  (5): Sigmoid()\n",
            "  (6): Linear(in_features=854, out_features=1, bias=True)\n",
            "  (7): Sigmoid()\n",
            ")\n"
          ]
        },
        {
          "output_type": "stream",
          "name": "stderr",
          "text": [
            "\u001b[32m[I 2022-02-27 11:52:18,364]\u001b[0m Trial 54 finished with value: 862055.203759353 and parameters: {'n_layers': 4, 'n_width': 854, 'activation_l0': 'Tanh', 'activation_l1': 'Tanh', 'activation_l2': 'Sigmoid', 'last_layer': 'Sigmoid', 'lr': 0.001404779021832353, 'beta': 3.1723844792941573, 'batch_size': 2}. Best is trial 51 with value: 441924.4937063568.\u001b[0m\n"
          ]
        },
        {
          "output_type": "stream",
          "name": "stdout",
          "text": [
            "Sequential(\n",
            "  (0): Linear(in_features=1, out_features=948, bias=True)\n",
            "  (1): Sigmoid()\n",
            "  (2): Linear(in_features=948, out_features=948, bias=True)\n",
            "  (3): Tanh()\n",
            "  (4): Linear(in_features=948, out_features=948, bias=True)\n",
            "  (5): Tanh()\n",
            "  (6): Linear(in_features=948, out_features=1, bias=True)\n",
            "  (7): Sigmoid()\n",
            ")\n"
          ]
        },
        {
          "output_type": "stream",
          "name": "stderr",
          "text": [
            "\u001b[32m[I 2022-02-27 11:52:33,648]\u001b[0m Trial 55 finished with value: 1210226.3787425926 and parameters: {'n_layers': 4, 'n_width': 948, 'activation_l0': 'Sigmoid', 'activation_l1': 'Tanh', 'activation_l2': 'Tanh', 'last_layer': 'Sigmoid', 'lr': 0.0013966449856723342, 'beta': 3.6289238309034286, 'batch_size': 2}. Best is trial 51 with value: 441924.4937063568.\u001b[0m\n"
          ]
        },
        {
          "output_type": "stream",
          "name": "stdout",
          "text": [
            "Sequential(\n",
            "  (0): Linear(in_features=1, out_features=809, bias=True)\n",
            "  (1): Tanh()\n",
            "  (2): Linear(in_features=809, out_features=809, bias=True)\n",
            "  (3): Tanh()\n",
            "  (4): Linear(in_features=809, out_features=809, bias=True)\n",
            "  (5): Sigmoid()\n",
            "  (6): Linear(in_features=809, out_features=1, bias=True)\n",
            "  (7): Sigmoid()\n",
            ")\n"
          ]
        },
        {
          "output_type": "stream",
          "name": "stderr",
          "text": [
            "\u001b[32m[I 2022-02-27 11:52:44,876]\u001b[0m Trial 56 finished with value: 1190577.1494364603 and parameters: {'n_layers': 4, 'n_width': 809, 'activation_l0': 'Tanh', 'activation_l1': 'Tanh', 'activation_l2': 'Sigmoid', 'last_layer': 'Sigmoid', 'lr': 0.004813443190772665, 'beta': 5.402472479960027, 'batch_size': 2}. Best is trial 51 with value: 441924.4937063568.\u001b[0m\n"
          ]
        },
        {
          "output_type": "stream",
          "name": "stdout",
          "text": [
            "Sequential(\n",
            "  (0): Linear(in_features=1, out_features=858, bias=True)\n",
            "  (1): Tanh()\n",
            "  (2): Linear(in_features=858, out_features=858, bias=True)\n",
            "  (3): Tanh()\n",
            "  (4): Linear(in_features=858, out_features=858, bias=True)\n",
            "  (5): Sigmoid()\n",
            "  (6): Linear(in_features=858, out_features=1, bias=True)\n",
            "  (7): Sigmoid()\n",
            ")\n"
          ]
        },
        {
          "output_type": "stream",
          "name": "stderr",
          "text": [
            "\u001b[32m[I 2022-02-27 11:52:53,395]\u001b[0m Trial 57 finished with value: 1516334.5237644813 and parameters: {'n_layers': 4, 'n_width': 858, 'activation_l0': 'Tanh', 'activation_l1': 'Tanh', 'activation_l2': 'Sigmoid', 'last_layer': 'Sigmoid', 'lr': 0.0030355241061116216, 'beta': 5.038270774610186, 'batch_size': 3}. Best is trial 51 with value: 441924.4937063568.\u001b[0m\n"
          ]
        },
        {
          "output_type": "stream",
          "name": "stdout",
          "text": [
            "Sequential(\n",
            "  (0): Linear(in_features=1, out_features=977, bias=True)\n",
            "  (1): Tanh()\n",
            "  (2): Linear(in_features=977, out_features=977, bias=True)\n",
            "  (3): Tanh()\n",
            "  (4): Linear(in_features=977, out_features=977, bias=True)\n",
            "  (5): Sigmoid()\n",
            "  (6): Linear(in_features=977, out_features=1, bias=True)\n",
            "  (7): Sigmoid()\n",
            ")\n"
          ]
        },
        {
          "output_type": "stream",
          "name": "stderr",
          "text": [
            "\u001b[32m[I 2022-02-27 11:53:09,185]\u001b[0m Trial 58 finished with value: 722230.6710356202 and parameters: {'n_layers': 4, 'n_width': 977, 'activation_l0': 'Tanh', 'activation_l1': 'Tanh', 'activation_l2': 'Sigmoid', 'last_layer': 'Sigmoid', 'lr': 0.006551894076419754, 'beta': 9.396546027641383, 'batch_size': 2}. Best is trial 51 with value: 441924.4937063568.\u001b[0m\n"
          ]
        },
        {
          "output_type": "stream",
          "name": "stdout",
          "text": [
            "Sequential(\n",
            "  (0): Linear(in_features=1, out_features=735, bias=True)\n",
            "  (1): Tanh()\n",
            "  (2): Linear(in_features=735, out_features=735, bias=True)\n",
            "  (3): Tanh()\n",
            "  (4): Linear(in_features=735, out_features=735, bias=True)\n",
            "  (5): LeakyReLU(negative_slope=0.01)\n",
            "  (6): Linear(in_features=735, out_features=1, bias=True)\n",
            "  (7): Sigmoid()\n",
            ")\n"
          ]
        },
        {
          "output_type": "stream",
          "name": "stderr",
          "text": [
            "\u001b[32m[I 2022-02-27 11:53:19,128]\u001b[0m Trial 59 finished with value: 813592291.18108 and parameters: {'n_layers': 4, 'n_width': 735, 'activation_l0': 'Tanh', 'activation_l1': 'Tanh', 'activation_l2': 'LeakyReLU', 'last_layer': 'Sigmoid', 'lr': 0.0017632085882604868, 'beta': 43.113809517466755, 'batch_size': 2}. Best is trial 51 with value: 441924.4937063568.\u001b[0m\n"
          ]
        },
        {
          "output_type": "stream",
          "name": "stdout",
          "text": [
            "Sequential(\n",
            "  (0): Linear(in_features=1, out_features=864, bias=True)\n",
            "  (1): Sigmoid()\n",
            "  (2): Linear(in_features=864, out_features=864, bias=True)\n",
            "  (3): Tanh()\n",
            "  (4): Linear(in_features=864, out_features=864, bias=True)\n",
            "  (5): Sigmoid()\n",
            "  (6): Linear(in_features=864, out_features=1, bias=True)\n",
            "  (7): Sigmoid()\n",
            ")\n"
          ]
        },
        {
          "output_type": "stream",
          "name": "stderr",
          "text": [
            "\u001b[32m[I 2022-02-27 11:53:31,833]\u001b[0m Trial 60 finished with value: 19080739.60710572 and parameters: {'n_layers': 4, 'n_width': 864, 'activation_l0': 'Sigmoid', 'activation_l1': 'Tanh', 'activation_l2': 'Sigmoid', 'last_layer': 'Sigmoid', 'lr': 0.0006574216882446142, 'beta': 9.104378122905104, 'batch_size': 2}. Best is trial 51 with value: 441924.4937063568.\u001b[0m\n"
          ]
        },
        {
          "output_type": "stream",
          "name": "stdout",
          "text": [
            "Sequential(\n",
            "  (0): Linear(in_features=1, out_features=975, bias=True)\n",
            "  (1): Tanh()\n",
            "  (2): Linear(in_features=975, out_features=975, bias=True)\n",
            "  (3): Tanh()\n",
            "  (4): Linear(in_features=975, out_features=975, bias=True)\n",
            "  (5): Sigmoid()\n",
            "  (6): Linear(in_features=975, out_features=1, bias=True)\n",
            "  (7): Sigmoid()\n",
            ")\n"
          ]
        },
        {
          "output_type": "stream",
          "name": "stderr",
          "text": [
            "\u001b[32m[I 2022-02-27 11:53:42,344]\u001b[0m Trial 61 finished with value: 2509421.392583917 and parameters: {'n_layers': 4, 'n_width': 975, 'activation_l0': 'Tanh', 'activation_l1': 'Tanh', 'activation_l2': 'Sigmoid', 'last_layer': 'Sigmoid', 'lr': 0.006267389133758826, 'beta': 3.0202560344096683, 'batch_size': 3}. Best is trial 51 with value: 441924.4937063568.\u001b[0m\n"
          ]
        },
        {
          "output_type": "stream",
          "name": "stdout",
          "text": [
            "Sequential(\n",
            "  (0): Linear(in_features=1, out_features=931, bias=True)\n",
            "  (1): Tanh()\n",
            "  (2): Linear(in_features=931, out_features=931, bias=True)\n",
            "  (3): Tanh()\n",
            "  (4): Linear(in_features=931, out_features=931, bias=True)\n",
            "  (5): Sigmoid()\n",
            "  (6): Linear(in_features=931, out_features=1, bias=True)\n",
            "  (7): Sigmoid()\n",
            ")\n"
          ]
        },
        {
          "output_type": "stream",
          "name": "stderr",
          "text": [
            "\u001b[32m[I 2022-02-27 11:53:56,864]\u001b[0m Trial 62 finished with value: 1138410.4274778212 and parameters: {'n_layers': 4, 'n_width': 931, 'activation_l0': 'Tanh', 'activation_l1': 'Tanh', 'activation_l2': 'Sigmoid', 'last_layer': 'Sigmoid', 'lr': 0.0078073548993608, 'beta': 17.54327780372149, 'batch_size': 2}. Best is trial 51 with value: 441924.4937063568.\u001b[0m\n"
          ]
        },
        {
          "output_type": "stream",
          "name": "stdout",
          "text": [
            "Sequential(\n",
            "  (0): Linear(in_features=1, out_features=974, bias=True)\n",
            "  (1): Tanh()\n",
            "  (2): Linear(in_features=974, out_features=974, bias=True)\n",
            "  (3): Tanh()\n",
            "  (4): Linear(in_features=974, out_features=974, bias=True)\n",
            "  (5): Sigmoid()\n",
            "  (6): Linear(in_features=974, out_features=1, bias=True)\n",
            "  (7): Sigmoid()\n",
            ")\n"
          ]
        },
        {
          "output_type": "stream",
          "name": "stderr",
          "text": [
            "\u001b[32m[I 2022-02-27 11:54:07,444]\u001b[0m Trial 63 finished with value: 746880.7633836642 and parameters: {'n_layers': 4, 'n_width': 974, 'activation_l0': 'Tanh', 'activation_l1': 'Tanh', 'activation_l2': 'Sigmoid', 'last_layer': 'Sigmoid', 'lr': 0.0039046752423137917, 'beta': 8.013311330921109, 'batch_size': 3}. Best is trial 51 with value: 441924.4937063568.\u001b[0m\n"
          ]
        },
        {
          "output_type": "stream",
          "name": "stdout",
          "text": [
            "Sequential(\n",
            "  (0): Linear(in_features=1, out_features=1022, bias=True)\n",
            "  (1): Tanh()\n",
            "  (2): Linear(in_features=1022, out_features=1022, bias=True)\n",
            "  (3): Tanh()\n",
            "  (4): Linear(in_features=1022, out_features=1022, bias=True)\n",
            "  (5): Tanh()\n",
            "  (6): Linear(in_features=1022, out_features=1, bias=True)\n",
            "  (7): Sigmoid()\n",
            ")\n"
          ]
        },
        {
          "output_type": "stream",
          "name": "stderr",
          "text": [
            "\u001b[32m[I 2022-02-27 11:54:23,665]\u001b[0m Trial 64 finished with value: 3735195.9269227167 and parameters: {'n_layers': 4, 'n_width': 1022, 'activation_l0': 'Tanh', 'activation_l1': 'Tanh', 'activation_l2': 'Tanh', 'last_layer': 'Sigmoid', 'lr': 0.0037893900604214, 'beta': 13.62588365480849, 'batch_size': 2}. Best is trial 51 with value: 441924.4937063568.\u001b[0m\n"
          ]
        },
        {
          "output_type": "stream",
          "name": "stdout",
          "text": [
            "Sequential(\n",
            "  (0): Linear(in_features=1, out_features=369, bias=True)\n",
            "  (1): Tanh()\n",
            "  (2): Linear(in_features=369, out_features=369, bias=True)\n",
            "  (3): Tanh()\n",
            "  (4): Linear(in_features=369, out_features=369, bias=True)\n",
            "  (5): Sigmoid()\n",
            "  (6): Linear(in_features=369, out_features=1, bias=True)\n",
            "  (7): Sigmoid()\n",
            ")\n"
          ]
        },
        {
          "output_type": "stream",
          "name": "stderr",
          "text": [
            "\u001b[32m[I 2022-02-27 11:54:26,123]\u001b[0m Trial 65 finished with value: 5724562.45990463 and parameters: {'n_layers': 4, 'n_width': 369, 'activation_l0': 'Tanh', 'activation_l1': 'Tanh', 'activation_l2': 'Sigmoid', 'last_layer': 'Sigmoid', 'lr': 0.0007554737402826278, 'beta': 7.075415911156735, 'batch_size': 4}. Best is trial 51 with value: 441924.4937063568.\u001b[0m\n"
          ]
        },
        {
          "output_type": "stream",
          "name": "stdout",
          "text": [
            "Sequential(\n",
            "  (0): Linear(in_features=1, out_features=989, bias=True)\n",
            "  (1): Tanh()\n",
            "  (2): Linear(in_features=989, out_features=989, bias=True)\n",
            "  (3): Tanh()\n",
            "  (4): Linear(in_features=989, out_features=989, bias=True)\n",
            "  (5): LeakyReLU(negative_slope=0.01)\n",
            "  (6): Linear(in_features=989, out_features=1, bias=True)\n",
            "  (7): Sigmoid()\n",
            ")\n"
          ]
        },
        {
          "output_type": "stream",
          "name": "stderr",
          "text": [
            "\u001b[32m[I 2022-02-27 11:54:36,289]\u001b[0m Trial 66 finished with value: 1229245.040903354 and parameters: {'n_layers': 4, 'n_width': 989, 'activation_l0': 'Tanh', 'activation_l1': 'Tanh', 'activation_l2': 'LeakyReLU', 'last_layer': 'Sigmoid', 'lr': 0.002228988618458054, 'beta': 2.3807069421809164, 'batch_size': 3}. Best is trial 51 with value: 441924.4937063568.\u001b[0m\n"
          ]
        },
        {
          "output_type": "stream",
          "name": "stdout",
          "text": [
            "Sequential(\n",
            "  (0): Linear(in_features=1, out_features=806, bias=True)\n",
            "  (1): Tanh()\n",
            "  (2): Linear(in_features=806, out_features=806, bias=True)\n",
            "  (3): Tanh()\n",
            "  (4): Linear(in_features=806, out_features=806, bias=True)\n",
            "  (5): Sigmoid()\n",
            "  (6): Linear(in_features=806, out_features=1, bias=True)\n",
            "  (7): Sigmoid()\n",
            ")\n"
          ]
        },
        {
          "output_type": "stream",
          "name": "stderr",
          "text": [
            "\u001b[32m[I 2022-02-27 11:54:40,133]\u001b[0m Trial 67 finished with value: 5393962.990186786 and parameters: {'n_layers': 4, 'n_width': 806, 'activation_l0': 'Tanh', 'activation_l1': 'Tanh', 'activation_l2': 'Sigmoid', 'last_layer': 'Sigmoid', 'lr': 0.00020360969121461275, 'beta': 8.291162345574461, 'batch_size': 8}. Best is trial 51 with value: 441924.4937063568.\u001b[0m\n"
          ]
        },
        {
          "output_type": "stream",
          "name": "stdout",
          "text": [
            "Sequential(\n",
            "  (0): Linear(in_features=1, out_features=916, bias=True)\n",
            "  (1): Tanh()\n",
            "  (2): Linear(in_features=916, out_features=916, bias=True)\n",
            "  (3): Tanh()\n",
            "  (4): Linear(in_features=916, out_features=916, bias=True)\n",
            "  (5): Sigmoid()\n",
            "  (6): Linear(in_features=916, out_features=1, bias=True)\n",
            "  (7): Sigmoid()\n",
            ")\n"
          ]
        },
        {
          "output_type": "stream",
          "name": "stderr",
          "text": [
            "\u001b[32m[I 2022-02-27 11:54:54,316]\u001b[0m Trial 68 finished with value: 1446547.528937079 and parameters: {'n_layers': 4, 'n_width': 916, 'activation_l0': 'Tanh', 'activation_l1': 'Tanh', 'activation_l2': 'Sigmoid', 'last_layer': 'Sigmoid', 'lr': 0.008879052457723321, 'beta': 11.748752574443538, 'batch_size': 2}. Best is trial 51 with value: 441924.4937063568.\u001b[0m\n"
          ]
        },
        {
          "output_type": "stream",
          "name": "stdout",
          "text": [
            "Sequential(\n",
            "  (0): Linear(in_features=1, out_features=89, bias=True)\n",
            "  (1): Tanh()\n",
            "  (2): Linear(in_features=89, out_features=89, bias=True)\n",
            "  (3): Tanh()\n",
            "  (4): Linear(in_features=89, out_features=89, bias=True)\n",
            "  (5): Sigmoid()\n",
            "  (6): Linear(in_features=89, out_features=1, bias=True)\n",
            "  (7): Sigmoid()\n",
            ")\n"
          ]
        },
        {
          "output_type": "stream",
          "name": "stderr",
          "text": [
            "\u001b[32m[I 2022-02-27 11:54:55,284]\u001b[0m Trial 69 finished with value: 7253628.19936886 and parameters: {'n_layers': 4, 'n_width': 89, 'activation_l0': 'Tanh', 'activation_l1': 'Tanh', 'activation_l2': 'Sigmoid', 'last_layer': 'Sigmoid', 'lr': 0.0012737729113518855, 'beta': 36.4217076056769, 'batch_size': 2}. Best is trial 51 with value: 441924.4937063568.\u001b[0m\n"
          ]
        },
        {
          "output_type": "stream",
          "name": "stdout",
          "text": [
            "Sequential(\n",
            "  (0): Linear(in_features=1, out_features=857, bias=True)\n",
            "  (1): LeakyReLU(negative_slope=0.01)\n",
            "  (2): Linear(in_features=857, out_features=857, bias=True)\n",
            "  (3): Sigmoid()\n",
            "  (4): Linear(in_features=857, out_features=857, bias=True)\n",
            "  (5): Sigmoid()\n",
            "  (6): Linear(in_features=857, out_features=1, bias=True)\n",
            "  (7): Sigmoid()\n",
            ")\n"
          ]
        },
        {
          "output_type": "stream",
          "name": "stderr",
          "text": [
            "\u001b[32m[I 2022-02-27 11:55:03,568]\u001b[0m Trial 70 finished with value: 2040245.2519330946 and parameters: {'n_layers': 4, 'n_width': 857, 'activation_l0': 'LeakyReLU', 'activation_l1': 'Sigmoid', 'activation_l2': 'Sigmoid', 'last_layer': 'Sigmoid', 'lr': 0.01159563039323049, 'beta': 4.76356858481486, 'batch_size': 4}. Best is trial 51 with value: 441924.4937063568.\u001b[0m\n"
          ]
        },
        {
          "output_type": "stream",
          "name": "stdout",
          "text": [
            "Sequential(\n",
            "  (0): Linear(in_features=1, out_features=981, bias=True)\n",
            "  (1): Tanh()\n",
            "  (2): Linear(in_features=981, out_features=981, bias=True)\n",
            "  (3): Tanh()\n",
            "  (4): Linear(in_features=981, out_features=981, bias=True)\n",
            "  (5): Sigmoid()\n",
            "  (6): Linear(in_features=981, out_features=1, bias=True)\n",
            "  (7): Sigmoid()\n",
            ")\n"
          ]
        },
        {
          "output_type": "stream",
          "name": "stderr",
          "text": [
            "\u001b[32m[I 2022-02-27 11:55:13,919]\u001b[0m Trial 71 finished with value: 2212166.9410548154 and parameters: {'n_layers': 4, 'n_width': 981, 'activation_l0': 'Tanh', 'activation_l1': 'Tanh', 'activation_l2': 'Sigmoid', 'last_layer': 'Sigmoid', 'lr': 0.018181929584793543, 'beta': 3.750194347275854, 'batch_size': 3}. Best is trial 51 with value: 441924.4937063568.\u001b[0m\n"
          ]
        },
        {
          "output_type": "stream",
          "name": "stdout",
          "text": [
            "Sequential(\n",
            "  (0): Linear(in_features=1, out_features=935, bias=True)\n",
            "  (1): Tanh()\n",
            "  (2): Linear(in_features=935, out_features=935, bias=True)\n",
            "  (3): Tanh()\n",
            "  (4): Linear(in_features=935, out_features=935, bias=True)\n",
            "  (5): Sigmoid()\n",
            "  (6): Linear(in_features=935, out_features=1, bias=True)\n",
            "  (7): Sigmoid()\n",
            ")\n"
          ]
        },
        {
          "output_type": "stream",
          "name": "stderr",
          "text": [
            "\u001b[32m[I 2022-02-27 11:55:23,806]\u001b[0m Trial 72 finished with value: 23204188.720013224 and parameters: {'n_layers': 4, 'n_width': 935, 'activation_l0': 'Tanh', 'activation_l1': 'Tanh', 'activation_l2': 'Sigmoid', 'last_layer': 'Sigmoid', 'lr': 0.004380453853559052, 'beta': 26.4435396125953, 'batch_size': 3}. Best is trial 51 with value: 441924.4937063568.\u001b[0m\n"
          ]
        },
        {
          "output_type": "stream",
          "name": "stdout",
          "text": [
            "Sequential(\n",
            "  (0): Linear(in_features=1, out_features=968, bias=True)\n",
            "  (1): Tanh()\n",
            "  (2): Linear(in_features=968, out_features=968, bias=True)\n",
            "  (3): Tanh()\n",
            "  (4): Linear(in_features=968, out_features=968, bias=True)\n",
            "  (5): Sigmoid()\n",
            "  (6): Linear(in_features=968, out_features=1, bias=True)\n",
            "  (7): Sigmoid()\n",
            ")\n"
          ]
        },
        {
          "output_type": "stream",
          "name": "stderr",
          "text": [
            "\u001b[32m[I 2022-02-27 11:55:33,886]\u001b[0m Trial 73 finished with value: 6925651.296294221 and parameters: {'n_layers': 4, 'n_width': 968, 'activation_l0': 'Tanh', 'activation_l1': 'Tanh', 'activation_l2': 'Sigmoid', 'last_layer': 'Sigmoid', 'lr': 0.01751415386511526, 'beta': 92.52555221152484, 'batch_size': 3}. Best is trial 51 with value: 441924.4937063568.\u001b[0m\n"
          ]
        },
        {
          "output_type": "stream",
          "name": "stdout",
          "text": [
            "Sequential(\n",
            "  (0): Linear(in_features=1, out_features=891, bias=True)\n",
            "  (1): Tanh()\n",
            "  (2): Linear(in_features=891, out_features=891, bias=True)\n",
            "  (3): Tanh()\n",
            "  (4): Linear(in_features=891, out_features=891, bias=True)\n",
            "  (5): Sigmoid()\n",
            "  (6): Linear(in_features=891, out_features=1, bias=True)\n",
            "  (7): Sigmoid()\n",
            ")\n"
          ]
        },
        {
          "output_type": "stream",
          "name": "stderr",
          "text": [
            "\u001b[32m[I 2022-02-27 11:55:42,363]\u001b[0m Trial 74 finished with value: 948635.7880933598 and parameters: {'n_layers': 4, 'n_width': 891, 'activation_l0': 'Tanh', 'activation_l1': 'Tanh', 'activation_l2': 'Sigmoid', 'last_layer': 'Sigmoid', 'lr': 0.03911472937471404, 'beta': 1.462396103830801, 'batch_size': 3}. Best is trial 51 with value: 441924.4937063568.\u001b[0m\n"
          ]
        },
        {
          "output_type": "stream",
          "name": "stdout",
          "text": [
            "Sequential(\n",
            "  (0): Linear(in_features=1, out_features=999, bias=True)\n",
            "  (1): Tanh()\n",
            "  (2): Linear(in_features=999, out_features=999, bias=True)\n",
            "  (3): Sigmoid()\n",
            "  (4): Linear(in_features=999, out_features=999, bias=True)\n",
            "  (5): Sigmoid()\n",
            "  (6): Linear(in_features=999, out_features=1, bias=True)\n",
            "  (7): Sigmoid()\n",
            ")\n"
          ]
        },
        {
          "output_type": "stream",
          "name": "stderr",
          "text": [
            "\u001b[32m[I 2022-02-27 11:55:47,427]\u001b[0m Trial 75 finished with value: 2381505.3954222016 and parameters: {'n_layers': 4, 'n_width': 999, 'activation_l0': 'Tanh', 'activation_l1': 'Sigmoid', 'activation_l2': 'Sigmoid', 'last_layer': 'Sigmoid', 'lr': 0.06945738904276157, 'beta': 5.327220218881969, 'batch_size': 9}. Best is trial 51 with value: 441924.4937063568.\u001b[0m\n"
          ]
        },
        {
          "output_type": "stream",
          "name": "stdout",
          "text": [
            "Sequential(\n",
            "  (0): Linear(in_features=1, out_features=929, bias=True)\n",
            "  (1): Tanh()\n",
            "  (2): Linear(in_features=929, out_features=929, bias=True)\n",
            "  (3): Tanh()\n",
            "  (4): Linear(in_features=929, out_features=929, bias=True)\n",
            "  (5): Sigmoid()\n",
            "  (6): Linear(in_features=929, out_features=1, bias=True)\n",
            "  (7): Sigmoid()\n",
            ")\n"
          ]
        },
        {
          "output_type": "stream",
          "name": "stderr",
          "text": [
            "\u001b[32m[I 2022-02-27 11:56:02,174]\u001b[0m Trial 76 finished with value: 1189311.3692425534 and parameters: {'n_layers': 4, 'n_width': 929, 'activation_l0': 'Tanh', 'activation_l1': 'Tanh', 'activation_l2': 'Sigmoid', 'last_layer': 'Sigmoid', 'lr': 0.006167347679520276, 'beta': 3.3824570856664744, 'batch_size': 2}. Best is trial 51 with value: 441924.4937063568.\u001b[0m\n"
          ]
        },
        {
          "output_type": "stream",
          "name": "stdout",
          "text": [
            "Sequential(\n",
            "  (0): Linear(in_features=1, out_features=958, bias=True)\n",
            "  (1): Tanh()\n",
            "  (2): Linear(in_features=958, out_features=958, bias=True)\n",
            "  (3): Tanh()\n",
            "  (4): Linear(in_features=958, out_features=958, bias=True)\n",
            "  (5): Sigmoid()\n",
            "  (6): Linear(in_features=958, out_features=1, bias=True)\n",
            "  (7): Sigmoid()\n",
            ")\n"
          ]
        },
        {
          "output_type": "stream",
          "name": "stderr",
          "text": [
            "\u001b[32m[I 2022-02-27 11:56:12,010]\u001b[0m Trial 77 finished with value: 6496248.766058546 and parameters: {'n_layers': 4, 'n_width': 958, 'activation_l0': 'Tanh', 'activation_l1': 'Tanh', 'activation_l2': 'Sigmoid', 'last_layer': 'Sigmoid', 'lr': 0.010533066160178363, 'beta': 2.4787611509245533, 'batch_size': 4}. Best is trial 51 with value: 441924.4937063568.\u001b[0m\n"
          ]
        },
        {
          "output_type": "stream",
          "name": "stdout",
          "text": [
            "Sequential(\n",
            "  (0): Linear(in_features=1, out_features=890, bias=True)\n",
            "  (1): Tanh()\n",
            "  (2): Linear(in_features=890, out_features=890, bias=True)\n",
            "  (3): LeakyReLU(negative_slope=0.01)\n",
            "  (4): Linear(in_features=890, out_features=890, bias=True)\n",
            "  (5): Sigmoid()\n",
            "  (6): Linear(in_features=890, out_features=1, bias=True)\n",
            "  (7): Sigmoid()\n",
            ")\n"
          ]
        },
        {
          "output_type": "stream",
          "name": "stderr",
          "text": [
            "\u001b[32m[I 2022-02-27 11:56:20,181]\u001b[0m Trial 78 finished with value: 1363912.079732562 and parameters: {'n_layers': 4, 'n_width': 890, 'activation_l0': 'Tanh', 'activation_l1': 'LeakyReLU', 'activation_l2': 'Sigmoid', 'last_layer': 'Sigmoid', 'lr': 0.09965806481156333, 'beta': 6.208934638757187, 'batch_size': 3}. Best is trial 51 with value: 441924.4937063568.\u001b[0m\n"
          ]
        },
        {
          "output_type": "stream",
          "name": "stdout",
          "text": [
            "Sequential(\n",
            "  (0): Linear(in_features=1, out_features=783, bias=True)\n",
            "  (1): Sigmoid()\n",
            "  (2): Linear(in_features=783, out_features=783, bias=True)\n",
            "  (3): LeakyReLU(negative_slope=0.01)\n",
            "  (4): Linear(in_features=783, out_features=1, bias=True)\n",
            "  (5): Sigmoid()\n",
            ")\n"
          ]
        },
        {
          "output_type": "stream",
          "name": "stderr",
          "text": [
            "\u001b[32m[I 2022-02-27 11:56:25,862]\u001b[0m Trial 79 finished with value: 33621389.055874094 and parameters: {'n_layers': 3, 'n_width': 783, 'activation_l0': 'Sigmoid', 'activation_l1': 'LeakyReLU', 'last_layer': 'Sigmoid', 'lr': 0.020080730462047915, 'beta': 11.475935912657418, 'batch_size': 2}. Best is trial 51 with value: 441924.4937063568.\u001b[0m\n"
          ]
        },
        {
          "output_type": "stream",
          "name": "stdout",
          "text": [
            "Sequential(\n",
            "  (0): Linear(in_features=1, out_features=989, bias=True)\n",
            "  (1): Tanh()\n",
            "  (2): Linear(in_features=989, out_features=989, bias=True)\n",
            "  (3): Tanh()\n",
            "  (4): Linear(in_features=989, out_features=989, bias=True)\n",
            "  (5): Tanh()\n",
            "  (6): Linear(in_features=989, out_features=1, bias=True)\n",
            "  (7): Sigmoid()\n",
            ")\n"
          ]
        },
        {
          "output_type": "stream",
          "name": "stderr",
          "text": [
            "\u001b[32m[I 2022-02-27 11:56:40,861]\u001b[0m Trial 80 finished with value: 455328085.8982711 and parameters: {'n_layers': 4, 'n_width': 989, 'activation_l0': 'Tanh', 'activation_l1': 'Tanh', 'activation_l2': 'Tanh', 'last_layer': 'Sigmoid', 'lr': 0.0364148180509264, 'beta': 4.423577472583715, 'batch_size': 2}. Best is trial 51 with value: 441924.4937063568.\u001b[0m\n"
          ]
        },
        {
          "output_type": "stream",
          "name": "stdout",
          "text": [
            "Sequential(\n",
            "  (0): Linear(in_features=1, out_features=876, bias=True)\n",
            "  (1): Tanh()\n",
            "  (2): Linear(in_features=876, out_features=876, bias=True)\n",
            "  (3): LeakyReLU(negative_slope=0.01)\n",
            "  (4): Linear(in_features=876, out_features=876, bias=True)\n",
            "  (5): Sigmoid()\n",
            "  (6): Linear(in_features=876, out_features=1, bias=True)\n",
            "  (7): Sigmoid()\n",
            ")\n"
          ]
        },
        {
          "output_type": "stream",
          "name": "stderr",
          "text": [
            "\u001b[32m[I 2022-02-27 11:56:52,944]\u001b[0m Trial 81 finished with value: 684705.9792266334 and parameters: {'n_layers': 4, 'n_width': 876, 'activation_l0': 'Tanh', 'activation_l1': 'LeakyReLU', 'activation_l2': 'Sigmoid', 'last_layer': 'Sigmoid', 'lr': 0.03103125089605684, 'beta': 1.9360690467715747, 'batch_size': 2}. Best is trial 51 with value: 441924.4937063568.\u001b[0m\n"
          ]
        },
        {
          "output_type": "stream",
          "name": "stdout",
          "text": [
            "Sequential(\n",
            "  (0): Linear(in_features=1, out_features=830, bias=True)\n",
            "  (1): Tanh()\n",
            "  (2): Linear(in_features=830, out_features=830, bias=True)\n",
            "  (3): LeakyReLU(negative_slope=0.01)\n",
            "  (4): Linear(in_features=830, out_features=830, bias=True)\n",
            "  (5): Sigmoid()\n",
            "  (6): Linear(in_features=830, out_features=1, bias=True)\n",
            "  (7): Sigmoid()\n",
            ")\n"
          ]
        },
        {
          "output_type": "stream",
          "name": "stderr",
          "text": [
            "\u001b[32m[I 2022-02-27 11:57:04,273]\u001b[0m Trial 82 finished with value: 953770.8381836244 and parameters: {'n_layers': 4, 'n_width': 830, 'activation_l0': 'Tanh', 'activation_l1': 'LeakyReLU', 'activation_l2': 'Sigmoid', 'last_layer': 'Sigmoid', 'lr': 0.011858891135926333, 'beta': 1.4547686386493484, 'batch_size': 2}. Best is trial 51 with value: 441924.4937063568.\u001b[0m\n"
          ]
        },
        {
          "output_type": "stream",
          "name": "stdout",
          "text": [
            "Sequential(\n",
            "  (0): Linear(in_features=1, out_features=868, bias=True)\n",
            "  (1): Tanh()\n",
            "  (2): Linear(in_features=868, out_features=868, bias=True)\n",
            "  (3): LeakyReLU(negative_slope=0.01)\n",
            "  (4): Linear(in_features=868, out_features=868, bias=True)\n",
            "  (5): Sigmoid()\n",
            "  (6): Linear(in_features=868, out_features=1, bias=True)\n",
            "  (7): Sigmoid()\n",
            ")\n"
          ]
        },
        {
          "output_type": "stream",
          "name": "stderr",
          "text": [
            "\u001b[32m[I 2022-02-27 11:57:16,278]\u001b[0m Trial 83 finished with value: 1307595.1166498552 and parameters: {'n_layers': 4, 'n_width': 868, 'activation_l0': 'Tanh', 'activation_l1': 'LeakyReLU', 'activation_l2': 'Sigmoid', 'last_layer': 'Sigmoid', 'lr': 0.03648889427973792, 'beta': 2.0912349440069047, 'batch_size': 2}. Best is trial 51 with value: 441924.4937063568.\u001b[0m\n"
          ]
        },
        {
          "output_type": "stream",
          "name": "stdout",
          "text": [
            "Sequential(\n",
            "  (0): Linear(in_features=1, out_features=912, bias=True)\n",
            "  (1): Tanh()\n",
            "  (2): Linear(in_features=912, out_features=912, bias=True)\n",
            "  (3): LeakyReLU(negative_slope=0.01)\n",
            "  (4): Linear(in_features=912, out_features=912, bias=True)\n",
            "  (5): Sigmoid()\n",
            "  (6): Linear(in_features=912, out_features=1, bias=True)\n",
            "  (7): Sigmoid()\n",
            ")\n"
          ]
        },
        {
          "output_type": "stream",
          "name": "stderr",
          "text": [
            "\u001b[32m[I 2022-02-27 11:57:30,446]\u001b[0m Trial 84 finished with value: 1152897.9886967533 and parameters: {'n_layers': 4, 'n_width': 912, 'activation_l0': 'Tanh', 'activation_l1': 'LeakyReLU', 'activation_l2': 'Sigmoid', 'last_layer': 'Sigmoid', 'lr': 0.021856285828767016, 'beta': 3.0195907300752394, 'batch_size': 2}. Best is trial 51 with value: 441924.4937063568.\u001b[0m\n"
          ]
        },
        {
          "output_type": "stream",
          "name": "stdout",
          "text": [
            "Sequential(\n",
            "  (0): Linear(in_features=1, out_features=948, bias=True)\n",
            "  (1): Tanh()\n",
            "  (2): Linear(in_features=948, out_features=948, bias=True)\n",
            "  (3): LeakyReLU(negative_slope=0.01)\n",
            "  (4): Linear(in_features=948, out_features=948, bias=True)\n",
            "  (5): LeakyReLU(negative_slope=0.01)\n",
            "  (6): Linear(in_features=948, out_features=1, bias=True)\n",
            "  (7): Sigmoid()\n",
            ")\n"
          ]
        },
        {
          "output_type": "stream",
          "name": "stderr",
          "text": [
            "\u001b[32m[I 2022-02-27 11:57:40,634]\u001b[0m Trial 85 finished with value: 16512574.844485307 and parameters: {'n_layers': 4, 'n_width': 948, 'activation_l0': 'Tanh', 'activation_l1': 'LeakyReLU', 'activation_l2': 'LeakyReLU', 'last_layer': 'Sigmoid', 'lr': 1.4775529399412984e-05, 'beta': 0.8865227645160305, 'batch_size': 3}. Best is trial 51 with value: 441924.4937063568.\u001b[0m\n"
          ]
        },
        {
          "output_type": "stream",
          "name": "stdout",
          "text": [
            "Sequential(\n",
            "  (0): Linear(in_features=1, out_features=1007, bias=True)\n",
            "  (1): Tanh()\n",
            "  (2): Linear(in_features=1007, out_features=1007, bias=True)\n",
            "  (3): LeakyReLU(negative_slope=0.01)\n",
            "  (4): Linear(in_features=1007, out_features=1007, bias=True)\n",
            "  (5): Sigmoid()\n",
            "  (6): Linear(in_features=1007, out_features=1, bias=True)\n",
            "  (7): Sigmoid()\n",
            ")\n"
          ]
        },
        {
          "output_type": "stream",
          "name": "stderr",
          "text": [
            "\u001b[32m[I 2022-02-27 11:57:51,700]\u001b[0m Trial 86 finished with value: 2656710.7403220604 and parameters: {'n_layers': 4, 'n_width': 1007, 'activation_l0': 'Tanh', 'activation_l1': 'LeakyReLU', 'activation_l2': 'Sigmoid', 'last_layer': 'Sigmoid', 'lr': 0.002808879366769068, 'beta': 1.679365040795453, 'batch_size': 3}. Best is trial 51 with value: 441924.4937063568.\u001b[0m\n"
          ]
        },
        {
          "output_type": "stream",
          "name": "stdout",
          "text": [
            "Sequential(\n",
            "  (0): Linear(in_features=1, out_features=755, bias=True)\n",
            "  (1): LeakyReLU(negative_slope=0.01)\n",
            "  (2): Linear(in_features=755, out_features=755, bias=True)\n",
            "  (3): LeakyReLU(negative_slope=0.01)\n",
            "  (4): Linear(in_features=755, out_features=755, bias=True)\n",
            "  (5): Sigmoid()\n",
            "  (6): Linear(in_features=755, out_features=1, bias=True)\n",
            "  (7): Sigmoid()\n",
            ")\n"
          ]
        },
        {
          "output_type": "stream",
          "name": "stderr",
          "text": [
            "\u001b[32m[I 2022-02-27 11:58:01,251]\u001b[0m Trial 87 finished with value: 4899287.109808615 and parameters: {'n_layers': 4, 'n_width': 755, 'activation_l0': 'LeakyReLU', 'activation_l1': 'LeakyReLU', 'activation_l2': 'Sigmoid', 'last_layer': 'Sigmoid', 'lr': 0.06638393356532218, 'beta': 0.6845848458873055, 'batch_size': 2}. Best is trial 51 with value: 441924.4937063568.\u001b[0m\n"
          ]
        },
        {
          "output_type": "stream",
          "name": "stdout",
          "text": [
            "Sequential(\n",
            "  (0): Linear(in_features=1, out_features=882, bias=True)\n",
            "  (1): Tanh()\n",
            "  (2): Linear(in_features=882, out_features=882, bias=True)\n",
            "  (3): Sigmoid()\n",
            "  (4): Linear(in_features=882, out_features=882, bias=True)\n",
            "  (5): Sigmoid()\n",
            "  (6): Linear(in_features=882, out_features=1, bias=True)\n",
            "  (7): Sigmoid()\n",
            ")\n"
          ]
        },
        {
          "output_type": "stream",
          "name": "stderr",
          "text": [
            "\u001b[32m[I 2022-02-27 11:58:09,243]\u001b[0m Trial 88 finished with value: 1034858.9816176203 and parameters: {'n_layers': 4, 'n_width': 882, 'activation_l0': 'Tanh', 'activation_l1': 'Sigmoid', 'activation_l2': 'Sigmoid', 'last_layer': 'Sigmoid', 'lr': 0.029875508887322617, 'beta': 0.9937592648270784, 'batch_size': 5}. Best is trial 51 with value: 441924.4937063568.\u001b[0m\n"
          ]
        },
        {
          "output_type": "stream",
          "name": "stdout",
          "text": [
            "Sequential(\n",
            "  (0): Linear(in_features=1, out_features=969, bias=True)\n",
            "  (1): Tanh()\n",
            "  (2): Linear(in_features=969, out_features=969, bias=True)\n",
            "  (3): LeakyReLU(negative_slope=0.01)\n",
            "  (4): Linear(in_features=969, out_features=969, bias=True)\n",
            "  (5): Sigmoid()\n",
            "  (6): Linear(in_features=969, out_features=1, bias=True)\n",
            "  (7): Sigmoid()\n",
            ")\n"
          ]
        },
        {
          "output_type": "stream",
          "name": "stderr",
          "text": [
            "\u001b[32m[I 2022-02-27 11:58:25,124]\u001b[0m Trial 89 finished with value: 822613.3178649838 and parameters: {'n_layers': 4, 'n_width': 969, 'activation_l0': 'Tanh', 'activation_l1': 'LeakyReLU', 'activation_l2': 'Sigmoid', 'last_layer': 'Sigmoid', 'lr': 0.00531706378876655, 'beta': 2.7491091757587562, 'batch_size': 2}. Best is trial 51 with value: 441924.4937063568.\u001b[0m\n"
          ]
        },
        {
          "output_type": "stream",
          "name": "stdout",
          "text": [
            "Sequential(\n",
            "  (0): Linear(in_features=1, out_features=825, bias=True)\n",
            "  (1): Tanh()\n",
            "  (2): Linear(in_features=825, out_features=1, bias=True)\n",
            "  (3): Softplus(beta=1, threshold=20)\n",
            ")\n"
          ]
        },
        {
          "output_type": "stream",
          "name": "stderr",
          "text": [
            "\u001b[32m[I 2022-02-27 11:58:26,369]\u001b[0m Trial 90 finished with value: 4361498.679627391 and parameters: {'n_layers': 2, 'n_width': 825, 'activation_l0': 'Tanh', 'last_layer': 'Softplus', 'lr': 0.005683290373013859, 'beta': 2.645874814438201, 'batch_size': 2}. Best is trial 51 with value: 441924.4937063568.\u001b[0m\n"
          ]
        },
        {
          "output_type": "stream",
          "name": "stdout",
          "text": [
            "Sequential(\n",
            "  (0): Linear(in_features=1, out_features=958, bias=True)\n",
            "  (1): Tanh()\n",
            "  (2): Linear(in_features=958, out_features=958, bias=True)\n",
            "  (3): LeakyReLU(negative_slope=0.01)\n",
            "  (4): Linear(in_features=958, out_features=958, bias=True)\n",
            "  (5): Sigmoid()\n",
            "  (6): Linear(in_features=958, out_features=1, bias=True)\n",
            "  (7): Sigmoid()\n",
            ")\n"
          ]
        },
        {
          "output_type": "stream",
          "name": "stderr",
          "text": [
            "\u001b[32m[I 2022-02-27 11:58:40,797]\u001b[0m Trial 91 finished with value: 708323.1316623846 and parameters: {'n_layers': 4, 'n_width': 958, 'activation_l0': 'Tanh', 'activation_l1': 'LeakyReLU', 'activation_l2': 'Sigmoid', 'last_layer': 'Sigmoid', 'lr': 0.014057660802692998, 'beta': 2.044876515943053, 'batch_size': 2}. Best is trial 51 with value: 441924.4937063568.\u001b[0m\n"
          ]
        },
        {
          "output_type": "stream",
          "name": "stdout",
          "text": [
            "Sequential(\n",
            "  (0): Linear(in_features=1, out_features=921, bias=True)\n",
            "  (1): Tanh()\n",
            "  (2): Linear(in_features=921, out_features=921, bias=True)\n",
            "  (3): LeakyReLU(negative_slope=0.01)\n",
            "  (4): Linear(in_features=921, out_features=921, bias=True)\n",
            "  (5): Sigmoid()\n",
            "  (6): Linear(in_features=921, out_features=1, bias=True)\n",
            "  (7): Sigmoid()\n",
            ")\n"
          ]
        },
        {
          "output_type": "stream",
          "name": "stderr",
          "text": [
            "\u001b[32m[I 2022-02-27 11:58:55,566]\u001b[0m Trial 92 finished with value: 13420235.772520637 and parameters: {'n_layers': 4, 'n_width': 921, 'activation_l0': 'Tanh', 'activation_l1': 'LeakyReLU', 'activation_l2': 'Sigmoid', 'last_layer': 'Sigmoid', 'lr': 0.008384117573417449, 'beta': 2.0370402674111507, 'batch_size': 2}. Best is trial 51 with value: 441924.4937063568.\u001b[0m\n"
          ]
        },
        {
          "output_type": "stream",
          "name": "stdout",
          "text": [
            "Sequential(\n",
            "  (0): Linear(in_features=1, out_features=969, bias=True)\n",
            "  (1): Tanh()\n",
            "  (2): Linear(in_features=969, out_features=969, bias=True)\n",
            "  (3): LeakyReLU(negative_slope=0.01)\n",
            "  (4): Linear(in_features=969, out_features=969, bias=True)\n",
            "  (5): Sigmoid()\n",
            "  (6): Linear(in_features=969, out_features=1, bias=True)\n",
            "  (7): Sigmoid()\n",
            ")\n"
          ]
        },
        {
          "output_type": "stream",
          "name": "stderr",
          "text": [
            "\u001b[32m[I 2022-02-27 11:59:11,343]\u001b[0m Trial 93 finished with value: 3194288.0950050596 and parameters: {'n_layers': 4, 'n_width': 969, 'activation_l0': 'Tanh', 'activation_l1': 'LeakyReLU', 'activation_l2': 'Sigmoid', 'last_layer': 'Sigmoid', 'lr': 0.013956342838574335, 'beta': 4.037521125404474, 'batch_size': 2}. Best is trial 51 with value: 441924.4937063568.\u001b[0m\n"
          ]
        },
        {
          "output_type": "stream",
          "name": "stdout",
          "text": [
            "Sequential(\n",
            "  (0): Linear(in_features=1, out_features=903, bias=True)\n",
            "  (1): Tanh()\n",
            "  (2): Linear(in_features=903, out_features=903, bias=True)\n",
            "  (3): LeakyReLU(negative_slope=0.01)\n",
            "  (4): Linear(in_features=903, out_features=903, bias=True)\n",
            "  (5): Sigmoid()\n",
            "  (6): Linear(in_features=903, out_features=1, bias=True)\n",
            "  (7): Sigmoid()\n",
            ")\n"
          ]
        },
        {
          "output_type": "stream",
          "name": "stderr",
          "text": [
            "\u001b[32m[I 2022-02-27 11:59:25,864]\u001b[0m Trial 94 finished with value: 1286815.8823612141 and parameters: {'n_layers': 4, 'n_width': 903, 'activation_l0': 'Tanh', 'activation_l1': 'LeakyReLU', 'activation_l2': 'Sigmoid', 'last_layer': 'Sigmoid', 'lr': 0.0037865048711885575, 'beta': 1.2799655633862663, 'batch_size': 2}. Best is trial 51 with value: 441924.4937063568.\u001b[0m\n"
          ]
        },
        {
          "output_type": "stream",
          "name": "stdout",
          "text": [
            "Sequential(\n",
            "  (0): Linear(in_features=1, out_features=946, bias=True)\n",
            "  (1): Tanh()\n",
            "  (2): Linear(in_features=946, out_features=946, bias=True)\n",
            "  (3): LeakyReLU(negative_slope=0.01)\n",
            "  (4): Linear(in_features=946, out_features=946, bias=True)\n",
            "  (5): Sigmoid()\n",
            "  (6): Linear(in_features=946, out_features=1, bias=True)\n",
            "  (7): Sigmoid()\n",
            ")\n"
          ]
        },
        {
          "output_type": "stream",
          "name": "stderr",
          "text": [
            "\u001b[32m[I 2022-02-27 11:59:40,959]\u001b[0m Trial 95 finished with value: 2277090.160100688 and parameters: {'n_layers': 4, 'n_width': 946, 'activation_l0': 'Tanh', 'activation_l1': 'LeakyReLU', 'activation_l2': 'Sigmoid', 'last_layer': 'Sigmoid', 'lr': 0.0024994626808198025, 'beta': 2.210161540369489, 'batch_size': 2}. Best is trial 51 with value: 441924.4937063568.\u001b[0m\n"
          ]
        },
        {
          "output_type": "stream",
          "name": "stdout",
          "text": [
            "Sequential(\n",
            "  (0): Linear(in_features=1, out_features=555, bias=True)\n",
            "  (1): Tanh()\n",
            "  (2): Linear(in_features=555, out_features=555, bias=True)\n",
            "  (3): LeakyReLU(negative_slope=0.01)\n",
            "  (4): Linear(in_features=555, out_features=555, bias=True)\n",
            "  (5): Sigmoid()\n",
            "  (6): Linear(in_features=555, out_features=1, bias=True)\n",
            "  (7): Sigmoid()\n",
            ")\n"
          ]
        },
        {
          "output_type": "stream",
          "name": "stderr",
          "text": [
            "\u001b[32m[I 2022-02-27 11:59:47,414]\u001b[0m Trial 96 finished with value: 3178108.50829402 and parameters: {'n_layers': 4, 'n_width': 555, 'activation_l0': 'Tanh', 'activation_l1': 'LeakyReLU', 'activation_l2': 'Sigmoid', 'last_layer': 'Sigmoid', 'lr': 0.0009849476840622271, 'beta': 6.0945051025237245, 'batch_size': 2}. Best is trial 51 with value: 441924.4937063568.\u001b[0m\n"
          ]
        },
        {
          "output_type": "stream",
          "name": "stdout",
          "text": [
            "Sequential(\n",
            "  (0): Linear(in_features=1, out_features=850, bias=True)\n",
            "  (1): Tanh()\n",
            "  (2): Linear(in_features=850, out_features=850, bias=True)\n",
            "  (3): LeakyReLU(negative_slope=0.01)\n",
            "  (4): Linear(in_features=850, out_features=850, bias=True)\n",
            "  (5): Sigmoid()\n",
            "  (6): Linear(in_features=850, out_features=1, bias=True)\n",
            "  (7): Sigmoid()\n",
            ")\n"
          ]
        },
        {
          "output_type": "stream",
          "name": "stderr",
          "text": [
            "\u001b[32m[I 2022-02-27 11:59:59,525]\u001b[0m Trial 97 finished with value: 6281292.650576925 and parameters: {'n_layers': 4, 'n_width': 850, 'activation_l0': 'Tanh', 'activation_l1': 'LeakyReLU', 'activation_l2': 'Sigmoid', 'last_layer': 'Sigmoid', 'lr': 0.005328482688640994, 'beta': 7.806046486829509, 'batch_size': 2}. Best is trial 51 with value: 441924.4937063568.\u001b[0m\n"
          ]
        },
        {
          "output_type": "stream",
          "name": "stdout",
          "text": [
            "Sequential(\n",
            "  (0): Linear(in_features=1, out_features=680, bias=True)\n",
            "  (1): Sigmoid()\n",
            "  (2): Linear(in_features=680, out_features=680, bias=True)\n",
            "  (3): Tanh()\n",
            "  (4): Linear(in_features=680, out_features=680, bias=True)\n",
            "  (5): Tanh()\n",
            "  (6): Linear(in_features=680, out_features=1, bias=True)\n",
            "  (7): Sigmoid()\n",
            ")\n"
          ]
        },
        {
          "output_type": "stream",
          "name": "stderr",
          "text": [
            "\u001b[32m[I 2022-02-27 12:00:08,114]\u001b[0m Trial 98 finished with value: 3916347.8371028025 and parameters: {'n_layers': 4, 'n_width': 680, 'activation_l0': 'Sigmoid', 'activation_l1': 'Tanh', 'activation_l2': 'Tanh', 'last_layer': 'Sigmoid', 'lr': 0.0017440270030720417, 'beta': 3.41772794210523, 'batch_size': 2}. Best is trial 51 with value: 441924.4937063568.\u001b[0m\n"
          ]
        },
        {
          "output_type": "stream",
          "name": "stdout",
          "text": [
            "Sequential(\n",
            "  (0): Linear(in_features=1, out_features=1013, bias=True)\n",
            "  (1): Tanh()\n",
            "  (2): Linear(in_features=1013, out_features=1013, bias=True)\n",
            "  (3): LeakyReLU(negative_slope=0.01)\n",
            "  (4): Linear(in_features=1013, out_features=1013, bias=True)\n",
            "  (5): Sigmoid()\n",
            "  (6): Linear(in_features=1013, out_features=1, bias=True)\n",
            "  (7): Sigmoid()\n",
            ")\n"
          ]
        },
        {
          "output_type": "stream",
          "name": "stderr",
          "text": [
            "\u001b[32m[I 2022-02-27 12:00:19,035]\u001b[0m Trial 99 finished with value: 2462224.531285978 and parameters: {'n_layers': 4, 'n_width': 1013, 'activation_l0': 'Tanh', 'activation_l1': 'LeakyReLU', 'activation_l2': 'Sigmoid', 'last_layer': 'Sigmoid', 'lr': 0.008955386909279864, 'beta': 1.6972911525676804, 'batch_size': 3}. Best is trial 51 with value: 441924.4937063568.\u001b[0m\n"
          ]
        },
        {
          "output_type": "stream",
          "name": "stdout",
          "text": [
            "Sequential(\n",
            "  (0): Linear(in_features=1, out_features=979, bias=True)\n",
            "  (1): Tanh()\n",
            "  (2): Linear(in_features=979, out_features=979, bias=True)\n",
            "  (3): Tanh()\n",
            "  (4): Linear(in_features=979, out_features=979, bias=True)\n",
            "  (5): LeakyReLU(negative_slope=0.01)\n",
            "  (6): Linear(in_features=979, out_features=1, bias=True)\n",
            "  (7): Sigmoid()\n",
            ")\n"
          ]
        },
        {
          "output_type": "stream",
          "name": "stderr",
          "text": [
            "\u001b[32m[I 2022-02-27 12:00:24,089]\u001b[0m Trial 100 finished with value: 5951478.706141162 and parameters: {'n_layers': 4, 'n_width': 979, 'activation_l0': 'Tanh', 'activation_l1': 'Tanh', 'activation_l2': 'LeakyReLU', 'last_layer': 'Sigmoid', 'lr': 0.0533596260242654, 'beta': 2.7199279206478497, 'batch_size': 6}. Best is trial 51 with value: 441924.4937063568.\u001b[0m\n"
          ]
        },
        {
          "output_type": "stream",
          "name": "stdout",
          "text": [
            "Sequential(\n",
            "  (0): Linear(in_features=1, out_features=935, bias=True)\n",
            "  (1): Tanh()\n",
            "  (2): Linear(in_features=935, out_features=935, bias=True)\n",
            "  (3): LeakyReLU(negative_slope=0.01)\n",
            "  (4): Linear(in_features=935, out_features=935, bias=True)\n",
            "  (5): Sigmoid()\n",
            "  (6): Linear(in_features=935, out_features=1, bias=True)\n",
            "  (7): Sigmoid()\n",
            ")\n"
          ]
        },
        {
          "output_type": "stream",
          "name": "stderr",
          "text": [
            "\u001b[32m[I 2022-02-27 12:00:33,656]\u001b[0m Trial 101 finished with value: 1353384.071720237 and parameters: {'n_layers': 4, 'n_width': 935, 'activation_l0': 'Tanh', 'activation_l1': 'LeakyReLU', 'activation_l2': 'Sigmoid', 'last_layer': 'Sigmoid', 'lr': 0.025016883544066174, 'beta': 3.2484202675535694, 'batch_size': 3}. Best is trial 51 with value: 441924.4937063568.\u001b[0m\n"
          ]
        },
        {
          "output_type": "stream",
          "name": "stdout",
          "text": [
            "Sequential(\n",
            "  (0): Linear(in_features=1, out_features=964, bias=True)\n",
            "  (1): Tanh()\n",
            "  (2): Linear(in_features=964, out_features=964, bias=True)\n",
            "  (3): LeakyReLU(negative_slope=0.01)\n",
            "  (4): Linear(in_features=964, out_features=964, bias=True)\n",
            "  (5): Sigmoid()\n",
            "  (6): Linear(in_features=964, out_features=1, bias=True)\n",
            "  (7): Sigmoid()\n",
            ")\n"
          ]
        },
        {
          "output_type": "stream",
          "name": "stderr",
          "text": [
            "\u001b[32m[I 2022-02-27 12:00:48,752]\u001b[0m Trial 102 finished with value: 1480677.1491589926 and parameters: {'n_layers': 4, 'n_width': 964, 'activation_l0': 'Tanh', 'activation_l1': 'LeakyReLU', 'activation_l2': 'Sigmoid', 'last_layer': 'Sigmoid', 'lr': 0.015103460855362747, 'beta': 4.671000749498704, 'batch_size': 2}. Best is trial 51 with value: 441924.4937063568.\u001b[0m\n"
          ]
        },
        {
          "output_type": "stream",
          "name": "stdout",
          "text": [
            "Sequential(\n",
            "  (0): Linear(in_features=1, out_features=878, bias=True)\n",
            "  (1): Tanh()\n",
            "  (2): Linear(in_features=878, out_features=878, bias=True)\n",
            "  (3): LeakyReLU(negative_slope=0.01)\n",
            "  (4): Linear(in_features=878, out_features=878, bias=True)\n",
            "  (5): Sigmoid()\n",
            "  (6): Linear(in_features=878, out_features=1, bias=True)\n",
            "  (7): Sigmoid()\n",
            ")\n"
          ]
        },
        {
          "output_type": "stream",
          "name": "stderr",
          "text": [
            "\u001b[32m[I 2022-02-27 12:00:57,215]\u001b[0m Trial 103 finished with value: 973027.2067406396 and parameters: {'n_layers': 4, 'n_width': 878, 'activation_l0': 'Tanh', 'activation_l1': 'LeakyReLU', 'activation_l2': 'Sigmoid', 'last_layer': 'Sigmoid', 'lr': 0.019647925593233088, 'beta': 1.9114899491383388, 'batch_size': 3}. Best is trial 51 with value: 441924.4937063568.\u001b[0m\n"
          ]
        },
        {
          "output_type": "stream",
          "name": "stdout",
          "text": [
            "Sequential(\n",
            "  (0): Linear(in_features=1, out_features=992, bias=True)\n",
            "  (1): Tanh()\n",
            "  (2): Linear(in_features=992, out_features=992, bias=True)\n",
            "  (3): LeakyReLU(negative_slope=0.01)\n",
            "  (4): Linear(in_features=992, out_features=992, bias=True)\n",
            "  (5): Sigmoid()\n",
            "  (6): Linear(in_features=992, out_features=1, bias=True)\n",
            "  (7): Sigmoid()\n",
            ")\n"
          ]
        },
        {
          "output_type": "stream",
          "name": "stderr",
          "text": [
            "\u001b[32m[I 2022-02-27 12:01:12,086]\u001b[0m Trial 104 finished with value: 1496974.838441638 and parameters: {'n_layers': 4, 'n_width': 992, 'activation_l0': 'Tanh', 'activation_l1': 'LeakyReLU', 'activation_l2': 'Sigmoid', 'last_layer': 'Sigmoid', 'lr': 0.047365767931565904, 'beta': 2.3432516276113167, 'batch_size': 2}. Best is trial 51 with value: 441924.4937063568.\u001b[0m\n"
          ]
        },
        {
          "output_type": "stream",
          "name": "stdout",
          "text": [
            "Sequential(\n",
            "  (0): Linear(in_features=1, out_features=904, bias=True)\n",
            "  (1): Tanh()\n",
            "  (2): Linear(in_features=904, out_features=904, bias=True)\n",
            "  (3): LeakyReLU(negative_slope=0.01)\n",
            "  (4): Linear(in_features=904, out_features=904, bias=True)\n",
            "  (5): Sigmoid()\n",
            "  (6): Linear(in_features=904, out_features=1, bias=True)\n",
            "  (7): Sigmoid()\n",
            ")\n"
          ]
        },
        {
          "output_type": "stream",
          "name": "stderr",
          "text": [
            "\u001b[32m[I 2022-02-27 12:01:21,839]\u001b[0m Trial 105 finished with value: 1553775.984745512 and parameters: {'n_layers': 4, 'n_width': 904, 'activation_l0': 'Tanh', 'activation_l1': 'LeakyReLU', 'activation_l2': 'Sigmoid', 'last_layer': 'Sigmoid', 'lr': 0.0004479104814034172, 'beta': 1.0319910432486419, 'batch_size': 4}. Best is trial 51 with value: 441924.4937063568.\u001b[0m\n"
          ]
        },
        {
          "output_type": "stream",
          "name": "stdout",
          "text": [
            "Sequential(\n",
            "  (0): Linear(in_features=1, out_features=954, bias=True)\n",
            "  (1): LeakyReLU(negative_slope=0.01)\n",
            "  (2): Linear(in_features=954, out_features=954, bias=True)\n",
            "  (3): Tanh()\n",
            "  (4): Linear(in_features=954, out_features=954, bias=True)\n",
            "  (5): Sigmoid()\n",
            "  (6): Linear(in_features=954, out_features=1, bias=True)\n",
            "  (7): Softplus(beta=1, threshold=20)\n",
            ")\n"
          ]
        },
        {
          "output_type": "stream",
          "name": "stderr",
          "text": [
            "\u001b[32m[I 2022-02-27 12:01:31,784]\u001b[0m Trial 106 finished with value: 285319553.7432917 and parameters: {'n_layers': 4, 'n_width': 954, 'activation_l0': 'LeakyReLU', 'activation_l1': 'Tanh', 'activation_l2': 'Sigmoid', 'last_layer': 'Softplus', 'lr': 0.010374227750034885, 'beta': 3.8364930188471753, 'batch_size': 3}. Best is trial 51 with value: 441924.4937063568.\u001b[0m\n"
          ]
        },
        {
          "output_type": "stream",
          "name": "stdout",
          "text": [
            "Sequential(\n",
            "  (0): Linear(in_features=1, out_features=919, bias=True)\n",
            "  (1): Tanh()\n",
            "  (2): Linear(in_features=919, out_features=919, bias=True)\n",
            "  (3): LeakyReLU(negative_slope=0.01)\n",
            "  (4): Linear(in_features=919, out_features=919, bias=True)\n",
            "  (5): Sigmoid()\n",
            "  (6): Linear(in_features=919, out_features=1, bias=True)\n",
            "  (7): Sigmoid()\n",
            ")\n"
          ]
        },
        {
          "output_type": "stream",
          "name": "stderr",
          "text": [
            "\u001b[32m[I 2022-02-27 12:01:46,385]\u001b[0m Trial 107 finished with value: 1231172.4930642007 and parameters: {'n_layers': 4, 'n_width': 919, 'activation_l0': 'Tanh', 'activation_l1': 'LeakyReLU', 'activation_l2': 'Sigmoid', 'last_layer': 'Sigmoid', 'lr': 0.006311089176314696, 'beta': 2.822331106717784, 'batch_size': 2}. Best is trial 51 with value: 441924.4937063568.\u001b[0m\n"
          ]
        },
        {
          "output_type": "stream",
          "name": "stdout",
          "text": [
            "Sequential(\n",
            "  (0): Linear(in_features=1, out_features=1013, bias=True)\n",
            "  (1): Tanh()\n",
            "  (2): Linear(in_features=1013, out_features=1013, bias=True)\n",
            "  (3): Sigmoid()\n",
            "  (4): Linear(in_features=1013, out_features=1, bias=True)\n",
            "  (5): Sigmoid()\n",
            ")\n"
          ]
        },
        {
          "output_type": "stream",
          "name": "stderr",
          "text": [
            "\u001b[32m[I 2022-02-27 12:01:52,344]\u001b[0m Trial 108 finished with value: 2119373.4831939484 and parameters: {'n_layers': 3, 'n_width': 1013, 'activation_l0': 'Tanh', 'activation_l1': 'Sigmoid', 'last_layer': 'Sigmoid', 'lr': 0.0035038794880336336, 'beta': 1.3558025642151743, 'batch_size': 3}. Best is trial 51 with value: 441924.4937063568.\u001b[0m\n"
          ]
        },
        {
          "output_type": "stream",
          "name": "stdout",
          "text": [
            "Sequential(\n",
            "  (0): Linear(in_features=1, out_features=935, bias=True)\n",
            "  (1): Tanh()\n",
            "  (2): Linear(in_features=935, out_features=935, bias=True)\n",
            "  (3): Tanh()\n",
            "  (4): Linear(in_features=935, out_features=935, bias=True)\n",
            "  (5): Sigmoid()\n",
            "  (6): Linear(in_features=935, out_features=1, bias=True)\n",
            "  (7): Sigmoid()\n",
            ")\n"
          ]
        },
        {
          "output_type": "stream",
          "name": "stderr",
          "text": [
            "\u001b[32m[I 2022-02-27 12:02:06,307]\u001b[0m Trial 109 finished with value: 13054165.194379698 and parameters: {'n_layers': 4, 'n_width': 935, 'activation_l0': 'Tanh', 'activation_l1': 'Tanh', 'activation_l2': 'Sigmoid', 'last_layer': 'Sigmoid', 'lr': 0.02995064078483869, 'beta': 5.879694867918843, 'batch_size': 2}. Best is trial 51 with value: 441924.4937063568.\u001b[0m\n"
          ]
        },
        {
          "output_type": "stream",
          "name": "stdout",
          "text": [
            "Sequential(\n",
            "  (0): Linear(in_features=1, out_features=982, bias=True)\n",
            "  (1): Tanh()\n",
            "  (2): Linear(in_features=982, out_features=982, bias=True)\n",
            "  (3): LeakyReLU(negative_slope=0.01)\n",
            "  (4): Linear(in_features=982, out_features=982, bias=True)\n",
            "  (5): Sigmoid()\n",
            "  (6): Linear(in_features=982, out_features=1, bias=True)\n",
            "  (7): Sigmoid()\n",
            ")\n"
          ]
        },
        {
          "output_type": "stream",
          "name": "stderr",
          "text": [
            "\u001b[32m[I 2022-02-27 12:02:22,174]\u001b[0m Trial 110 finished with value: 776194.7011334449 and parameters: {'n_layers': 4, 'n_width': 982, 'activation_l0': 'Tanh', 'activation_l1': 'LeakyReLU', 'activation_l2': 'Sigmoid', 'last_layer': 'Sigmoid', 'lr': 0.014748693813161339, 'beta': 1.5741457827091803, 'batch_size': 2}. Best is trial 51 with value: 441924.4937063568.\u001b[0m\n"
          ]
        },
        {
          "output_type": "stream",
          "name": "stdout",
          "text": [
            "Sequential(\n",
            "  (0): Linear(in_features=1, out_features=978, bias=True)\n",
            "  (1): Tanh()\n",
            "  (2): Linear(in_features=978, out_features=978, bias=True)\n",
            "  (3): LeakyReLU(negative_slope=0.01)\n",
            "  (4): Linear(in_features=978, out_features=978, bias=True)\n",
            "  (5): Sigmoid()\n",
            "  (6): Linear(in_features=978, out_features=1, bias=True)\n",
            "  (7): Sigmoid()\n",
            ")\n"
          ]
        },
        {
          "output_type": "stream",
          "name": "stderr",
          "text": [
            "\u001b[32m[I 2022-02-27 12:02:37,984]\u001b[0m Trial 111 finished with value: 1106839.2206549253 and parameters: {'n_layers': 4, 'n_width': 978, 'activation_l0': 'Tanh', 'activation_l1': 'LeakyReLU', 'activation_l2': 'Sigmoid', 'last_layer': 'Sigmoid', 'lr': 0.013685470038579815, 'beta': 1.6174512214702577, 'batch_size': 2}. Best is trial 51 with value: 441924.4937063568.\u001b[0m\n"
          ]
        },
        {
          "output_type": "stream",
          "name": "stdout",
          "text": [
            "Sequential(\n",
            "  (0): Linear(in_features=1, out_features=989, bias=True)\n",
            "  (1): Tanh()\n",
            "  (2): Linear(in_features=989, out_features=989, bias=True)\n",
            "  (3): LeakyReLU(negative_slope=0.01)\n",
            "  (4): Linear(in_features=989, out_features=989, bias=True)\n",
            "  (5): Sigmoid()\n",
            "  (6): Linear(in_features=989, out_features=1, bias=True)\n",
            "  (7): Sigmoid()\n",
            ")\n"
          ]
        },
        {
          "output_type": "stream",
          "name": "stderr",
          "text": [
            "\u001b[32m[I 2022-02-27 12:02:53,452]\u001b[0m Trial 112 finished with value: 447961291.6949798 and parameters: {'n_layers': 4, 'n_width': 989, 'activation_l0': 'Tanh', 'activation_l1': 'LeakyReLU', 'activation_l2': 'Sigmoid', 'last_layer': 'Sigmoid', 'lr': 0.009843881205765211, 'beta': 16.843314014708646, 'batch_size': 2}. Best is trial 51 with value: 441924.4937063568.\u001b[0m\n"
          ]
        },
        {
          "output_type": "stream",
          "name": "stdout",
          "text": [
            "Sequential(\n",
            "  (0): Linear(in_features=1, out_features=959, bias=True)\n",
            "  (1): Tanh()\n",
            "  (2): Linear(in_features=959, out_features=959, bias=True)\n",
            "  (3): LeakyReLU(negative_slope=0.01)\n",
            "  (4): Linear(in_features=959, out_features=959, bias=True)\n",
            "  (5): Sigmoid()\n",
            "  (6): Linear(in_features=959, out_features=1, bias=True)\n",
            "  (7): Sigmoid()\n",
            ")\n"
          ]
        },
        {
          "output_type": "stream",
          "name": "stderr",
          "text": [
            "\u001b[32m[I 2022-02-27 12:03:07,959]\u001b[0m Trial 113 finished with value: 1490675.0450573375 and parameters: {'n_layers': 4, 'n_width': 959, 'activation_l0': 'Tanh', 'activation_l1': 'LeakyReLU', 'activation_l2': 'Sigmoid', 'last_layer': 'Sigmoid', 'lr': 0.01761696356194532, 'beta': 2.016151048259914, 'batch_size': 2}. Best is trial 51 with value: 441924.4937063568.\u001b[0m\n"
          ]
        },
        {
          "output_type": "stream",
          "name": "stdout",
          "text": [
            "Sequential(\n",
            "  (0): Linear(in_features=1, out_features=472, bias=True)\n",
            "  (1): Tanh()\n",
            "  (2): Linear(in_features=472, out_features=472, bias=True)\n",
            "  (3): LeakyReLU(negative_slope=0.01)\n",
            "  (4): Linear(in_features=472, out_features=472, bias=True)\n",
            "  (5): Sigmoid()\n",
            "  (6): Linear(in_features=472, out_features=1, bias=True)\n",
            "  (7): Sigmoid()\n",
            ")\n"
          ]
        },
        {
          "output_type": "stream",
          "name": "stderr",
          "text": [
            "\u001b[32m[I 2022-02-27 12:03:13,100]\u001b[0m Trial 114 finished with value: 1223721.4699557268 and parameters: {'n_layers': 4, 'n_width': 472, 'activation_l0': 'Tanh', 'activation_l1': 'LeakyReLU', 'activation_l2': 'Sigmoid', 'last_layer': 'Sigmoid', 'lr': 0.0067386443972874905, 'beta': 2.4840889847125593, 'batch_size': 2}. Best is trial 51 with value: 441924.4937063568.\u001b[0m\n"
          ]
        },
        {
          "output_type": "stream",
          "name": "stdout",
          "text": [
            "Sequential(\n",
            "  (0): Linear(in_features=1, out_features=903, bias=True)\n",
            "  (1): Tanh()\n",
            "  (2): Linear(in_features=903, out_features=903, bias=True)\n",
            "  (3): LeakyReLU(negative_slope=0.01)\n",
            "  (4): Linear(in_features=903, out_features=903, bias=True)\n",
            "  (5): Sigmoid()\n",
            "  (6): Linear(in_features=903, out_features=1, bias=True)\n",
            "  (7): Sigmoid()\n",
            ")\n"
          ]
        },
        {
          "output_type": "stream",
          "name": "stderr",
          "text": [
            "\u001b[32m[I 2022-02-27 12:03:22,741]\u001b[0m Trial 115 finished with value: 3079883.080636497 and parameters: {'n_layers': 4, 'n_width': 903, 'activation_l0': 'Tanh', 'activation_l1': 'LeakyReLU', 'activation_l2': 'Sigmoid', 'last_layer': 'Sigmoid', 'lr': 0.004817216576353923, 'beta': 3.2067817397108915, 'batch_size': 3}. Best is trial 51 with value: 441924.4937063568.\u001b[0m\n"
          ]
        },
        {
          "output_type": "stream",
          "name": "stdout",
          "text": [
            "Sequential(\n",
            "  (0): Linear(in_features=1, out_features=1022, bias=True)\n",
            "  (1): Tanh()\n",
            "  (2): Linear(in_features=1022, out_features=1022, bias=True)\n",
            "  (3): Tanh()\n",
            "  (4): Linear(in_features=1022, out_features=1022, bias=True)\n",
            "  (5): Sigmoid()\n",
            "  (6): Linear(in_features=1022, out_features=1, bias=True)\n",
            "  (7): Sigmoid()\n",
            ")\n"
          ]
        },
        {
          "output_type": "stream",
          "name": "stderr",
          "text": [
            "\u001b[32m[I 2022-02-27 12:03:38,370]\u001b[0m Trial 116 finished with value: 17936628.169887956 and parameters: {'n_layers': 4, 'n_width': 1022, 'activation_l0': 'Tanh', 'activation_l1': 'Tanh', 'activation_l2': 'Sigmoid', 'last_layer': 'Sigmoid', 'lr': 0.03335654458541317, 'beta': 22.085204819084936, 'batch_size': 2}. Best is trial 51 with value: 441924.4937063568.\u001b[0m\n"
          ]
        },
        {
          "output_type": "stream",
          "name": "stdout",
          "text": [
            "Sequential(\n",
            "  (0): Linear(in_features=1, out_features=854, bias=True)\n",
            "  (1): Tanh()\n",
            "  (2): Linear(in_features=854, out_features=854, bias=True)\n",
            "  (3): LeakyReLU(negative_slope=0.01)\n",
            "  (4): Linear(in_features=854, out_features=854, bias=True)\n",
            "  (5): Tanh()\n",
            "  (6): Linear(in_features=854, out_features=1, bias=True)\n",
            "  (7): Sigmoid()\n",
            ")\n"
          ]
        },
        {
          "output_type": "stream",
          "name": "stderr",
          "text": [
            "\u001b[32m[I 2022-02-27 12:03:50,217]\u001b[0m Trial 117 finished with value: 5976184.645382781 and parameters: {'n_layers': 4, 'n_width': 854, 'activation_l0': 'Tanh', 'activation_l1': 'LeakyReLU', 'activation_l2': 'Tanh', 'last_layer': 'Sigmoid', 'lr': 0.02142731074379013, 'beta': 1.152142958521716, 'batch_size': 2}. Best is trial 51 with value: 441924.4937063568.\u001b[0m\n"
          ]
        },
        {
          "output_type": "stream",
          "name": "stdout",
          "text": [
            "Sequential(\n",
            "  (0): Linear(in_features=1, out_features=274, bias=True)\n",
            "  (1): Sigmoid()\n",
            "  (2): Linear(in_features=274, out_features=274, bias=True)\n",
            "  (3): Tanh()\n",
            "  (4): Linear(in_features=274, out_features=274, bias=True)\n",
            "  (5): Sigmoid()\n",
            "  (6): Linear(in_features=274, out_features=1, bias=True)\n",
            "  (7): Sigmoid()\n",
            ")\n"
          ]
        },
        {
          "output_type": "stream",
          "name": "stderr",
          "text": [
            "\u001b[32m[I 2022-02-27 12:03:51,950]\u001b[0m Trial 118 finished with value: 1632614.4092591852 and parameters: {'n_layers': 4, 'n_width': 274, 'activation_l0': 'Sigmoid', 'activation_l1': 'Tanh', 'activation_l2': 'Sigmoid', 'last_layer': 'Sigmoid', 'lr': 0.04416666955484669, 'beta': 1.8358460013387463, 'batch_size': 3}. Best is trial 51 with value: 441924.4937063568.\u001b[0m\n"
          ]
        },
        {
          "output_type": "stream",
          "name": "stdout",
          "text": [
            "Sequential(\n",
            "  (0): Linear(in_features=1, out_features=812, bias=True)\n",
            "  (1): Tanh()\n",
            "  (2): Linear(in_features=812, out_features=812, bias=True)\n",
            "  (3): LeakyReLU(negative_slope=0.01)\n",
            "  (4): Linear(in_features=812, out_features=812, bias=True)\n",
            "  (5): Sigmoid()\n",
            "  (6): Linear(in_features=812, out_features=1, bias=True)\n",
            "  (7): Sigmoid()\n",
            ")\n"
          ]
        },
        {
          "output_type": "stream",
          "name": "stderr",
          "text": [
            "\u001b[32m[I 2022-02-27 12:04:03,409]\u001b[0m Trial 119 finished with value: 11491411.68144267 and parameters: {'n_layers': 4, 'n_width': 812, 'activation_l0': 'Tanh', 'activation_l1': 'LeakyReLU', 'activation_l2': 'Sigmoid', 'last_layer': 'Sigmoid', 'lr': 4.3539194231558095e-05, 'beta': 1.4175600904785566, 'batch_size': 2}. Best is trial 51 with value: 441924.4937063568.\u001b[0m\n"
          ]
        },
        {
          "output_type": "stream",
          "name": "stdout",
          "text": [
            "Sequential(\n",
            "  (0): Linear(in_features=1, out_features=875, bias=True)\n",
            "  (1): Tanh()\n",
            "  (2): Linear(in_features=875, out_features=875, bias=True)\n",
            "  (3): LeakyReLU(negative_slope=0.01)\n",
            "  (4): Linear(in_features=875, out_features=875, bias=True)\n",
            "  (5): LeakyReLU(negative_slope=0.01)\n",
            "  (6): Linear(in_features=875, out_features=1, bias=True)\n",
            "  (7): Sigmoid()\n",
            ")\n"
          ]
        },
        {
          "output_type": "stream",
          "name": "stderr",
          "text": [
            "\u001b[32m[I 2022-02-27 12:04:15,485]\u001b[0m Trial 120 finished with value: 967368.8546231156 and parameters: {'n_layers': 4, 'n_width': 875, 'activation_l0': 'Tanh', 'activation_l1': 'LeakyReLU', 'activation_l2': 'LeakyReLU', 'last_layer': 'Sigmoid', 'lr': 0.01320476436092543, 'beta': 4.458046999888779, 'batch_size': 2}. Best is trial 51 with value: 441924.4937063568.\u001b[0m\n"
          ]
        },
        {
          "output_type": "stream",
          "name": "stdout",
          "text": [
            "Sequential(\n",
            "  (0): Linear(in_features=1, out_features=937, bias=True)\n",
            "  (1): Tanh()\n",
            "  (2): Linear(in_features=937, out_features=937, bias=True)\n",
            "  (3): LeakyReLU(negative_slope=0.01)\n",
            "  (4): Linear(in_features=937, out_features=937, bias=True)\n",
            "  (5): Sigmoid()\n",
            "  (6): Linear(in_features=937, out_features=1, bias=True)\n",
            "  (7): Sigmoid()\n",
            ")\n"
          ]
        },
        {
          "output_type": "stream",
          "name": "stderr",
          "text": [
            "\u001b[32m[I 2022-02-27 12:04:29,922]\u001b[0m Trial 121 finished with value: 556619.690804136 and parameters: {'n_layers': 4, 'n_width': 937, 'activation_l0': 'Tanh', 'activation_l1': 'LeakyReLU', 'activation_l2': 'Sigmoid', 'last_layer': 'Sigmoid', 'lr': 0.023560809201405457, 'beta': 2.1796322492297047, 'batch_size': 2}. Best is trial 51 with value: 441924.4937063568.\u001b[0m\n"
          ]
        },
        {
          "output_type": "stream",
          "name": "stdout",
          "text": [
            "Sequential(\n",
            "  (0): Linear(in_features=1, out_features=937, bias=True)\n",
            "  (1): Tanh()\n",
            "  (2): Linear(in_features=937, out_features=937, bias=True)\n",
            "  (3): LeakyReLU(negative_slope=0.01)\n",
            "  (4): Linear(in_features=937, out_features=937, bias=True)\n",
            "  (5): Sigmoid()\n",
            "  (6): Linear(in_features=937, out_features=1, bias=True)\n",
            "  (7): Sigmoid()\n",
            ")\n"
          ]
        },
        {
          "output_type": "stream",
          "name": "stderr",
          "text": [
            "\u001b[32m[I 2022-02-27 12:04:44,044]\u001b[0m Trial 122 finished with value: 665885.7235490329 and parameters: {'n_layers': 4, 'n_width': 937, 'activation_l0': 'Tanh', 'activation_l1': 'LeakyReLU', 'activation_l2': 'Sigmoid', 'last_layer': 'Sigmoid', 'lr': 0.022249702840459035, 'beta': 2.2526930443798103, 'batch_size': 2}. Best is trial 51 with value: 441924.4937063568.\u001b[0m\n"
          ]
        },
        {
          "output_type": "stream",
          "name": "stdout",
          "text": [
            "Sequential(\n",
            "  (0): Linear(in_features=1, out_features=926, bias=True)\n",
            "  (1): Tanh()\n",
            "  (2): Linear(in_features=926, out_features=926, bias=True)\n",
            "  (3): LeakyReLU(negative_slope=0.01)\n",
            "  (4): Linear(in_features=926, out_features=926, bias=True)\n",
            "  (5): Sigmoid()\n",
            "  (6): Linear(in_features=926, out_features=1, bias=True)\n",
            "  (7): Sigmoid()\n",
            ")\n"
          ]
        },
        {
          "output_type": "stream",
          "name": "stderr",
          "text": [
            "\u001b[32m[I 2022-02-27 12:04:57,949]\u001b[0m Trial 123 finished with value: 1078305.3478777255 and parameters: {'n_layers': 4, 'n_width': 926, 'activation_l0': 'Tanh', 'activation_l1': 'LeakyReLU', 'activation_l2': 'Sigmoid', 'last_layer': 'Sigmoid', 'lr': 0.073742064972534, 'beta': 2.2168974295889865, 'batch_size': 2}. Best is trial 51 with value: 441924.4937063568.\u001b[0m\n"
          ]
        },
        {
          "output_type": "stream",
          "name": "stdout",
          "text": [
            "Sequential(\n",
            "  (0): Linear(in_features=1, out_features=943, bias=True)\n",
            "  (1): Tanh()\n",
            "  (2): Linear(in_features=943, out_features=943, bias=True)\n",
            "  (3): LeakyReLU(negative_slope=0.01)\n",
            "  (4): Linear(in_features=943, out_features=943, bias=True)\n",
            "  (5): Sigmoid()\n",
            "  (6): Linear(in_features=943, out_features=1, bias=True)\n",
            "  (7): Sigmoid()\n",
            ")\n"
          ]
        },
        {
          "output_type": "stream",
          "name": "stderr",
          "text": [
            "\u001b[32m[I 2022-02-27 12:05:12,181]\u001b[0m Trial 124 finished with value: 658653.8502319988 and parameters: {'n_layers': 4, 'n_width': 943, 'activation_l0': 'Tanh', 'activation_l1': 'LeakyReLU', 'activation_l2': 'Sigmoid', 'last_layer': 'Sigmoid', 'lr': 0.02800193630917204, 'beta': 11.558700149976891, 'batch_size': 2}. Best is trial 51 with value: 441924.4937063568.\u001b[0m\n"
          ]
        },
        {
          "output_type": "stream",
          "name": "stdout",
          "text": [
            "Sequential(\n",
            "  (0): Linear(in_features=1, out_features=943, bias=True)\n",
            "  (1): Tanh()\n",
            "  (2): Linear(in_features=943, out_features=943, bias=True)\n",
            "  (3): LeakyReLU(negative_slope=0.01)\n",
            "  (4): Linear(in_features=943, out_features=943, bias=True)\n",
            "  (5): Sigmoid()\n",
            "  (6): Linear(in_features=943, out_features=1, bias=True)\n",
            "  (7): Sigmoid()\n",
            ")\n"
          ]
        },
        {
          "output_type": "stream",
          "name": "stderr",
          "text": [
            "\u001b[32m[I 2022-02-27 12:05:26,347]\u001b[0m Trial 125 finished with value: 664864.6889119942 and parameters: {'n_layers': 4, 'n_width': 943, 'activation_l0': 'Tanh', 'activation_l1': 'LeakyReLU', 'activation_l2': 'Sigmoid', 'last_layer': 'Sigmoid', 'lr': 0.030187138389817368, 'beta': 13.405281816319171, 'batch_size': 2}. Best is trial 51 with value: 441924.4937063568.\u001b[0m\n"
          ]
        },
        {
          "output_type": "stream",
          "name": "stdout",
          "text": [
            "Sequential(\n",
            "  (0): Linear(in_features=1, out_features=944, bias=True)\n",
            "  (1): Tanh()\n",
            "  (2): Linear(in_features=944, out_features=944, bias=True)\n",
            "  (3): LeakyReLU(negative_slope=0.01)\n",
            "  (4): Linear(in_features=944, out_features=944, bias=True)\n",
            "  (5): Sigmoid()\n",
            "  (6): Linear(in_features=944, out_features=1, bias=True)\n",
            "  (7): Softplus(beta=1, threshold=20)\n",
            ")\n"
          ]
        },
        {
          "output_type": "stream",
          "name": "stderr",
          "text": [
            "\u001b[32m[I 2022-02-27 12:05:40,562]\u001b[0m Trial 126 finished with value: 1147893.1568858954 and parameters: {'n_layers': 4, 'n_width': 944, 'activation_l0': 'Tanh', 'activation_l1': 'LeakyReLU', 'activation_l2': 'Sigmoid', 'last_layer': 'Softplus', 'lr': 0.028820268537653546, 'beta': 10.729009088639415, 'batch_size': 2}. Best is trial 51 with value: 441924.4937063568.\u001b[0m\n"
          ]
        },
        {
          "output_type": "stream",
          "name": "stdout",
          "text": [
            "Sequential(\n",
            "  (0): Linear(in_features=1, out_features=1001, bias=True)\n",
            "  (1): Tanh()\n",
            "  (2): Linear(in_features=1001, out_features=1001, bias=True)\n",
            "  (3): LeakyReLU(negative_slope=0.01)\n",
            "  (4): Linear(in_features=1001, out_features=1001, bias=True)\n",
            "  (5): Sigmoid()\n",
            "  (6): Linear(in_features=1001, out_features=1, bias=True)\n",
            "  (7): Sigmoid()\n",
            ")\n"
          ]
        },
        {
          "output_type": "stream",
          "name": "stderr",
          "text": [
            "\u001b[32m[I 2022-02-27 12:05:55,883]\u001b[0m Trial 127 finished with value: 792560.7852541964 and parameters: {'n_layers': 4, 'n_width': 1001, 'activation_l0': 'Tanh', 'activation_l1': 'LeakyReLU', 'activation_l2': 'Sigmoid', 'last_layer': 'Sigmoid', 'lr': 0.05808457023991436, 'beta': 15.571262490311293, 'batch_size': 2}. Best is trial 51 with value: 441924.4937063568.\u001b[0m\n"
          ]
        },
        {
          "output_type": "stream",
          "name": "stdout",
          "text": [
            "Sequential(\n",
            "  (0): Linear(in_features=1, out_features=893, bias=True)\n",
            "  (1): LeakyReLU(negative_slope=0.01)\n",
            "  (2): Linear(in_features=893, out_features=893, bias=True)\n",
            "  (3): LeakyReLU(negative_slope=0.01)\n",
            "  (4): Linear(in_features=893, out_features=893, bias=True)\n",
            "  (5): Sigmoid()\n",
            "  (6): Linear(in_features=893, out_features=1, bias=True)\n",
            "  (7): Sigmoid()\n",
            ")\n"
          ]
        },
        {
          "output_type": "stream",
          "name": "stderr",
          "text": [
            "\u001b[32m[I 2022-02-27 12:06:08,300]\u001b[0m Trial 128 finished with value: 121141439.01683976 and parameters: {'n_layers': 4, 'n_width': 893, 'activation_l0': 'LeakyReLU', 'activation_l1': 'LeakyReLU', 'activation_l2': 'Sigmoid', 'last_layer': 'Sigmoid', 'lr': 0.035727803242539595, 'beta': 20.805729994993666, 'batch_size': 2}. Best is trial 51 with value: 441924.4937063568.\u001b[0m\n"
          ]
        },
        {
          "output_type": "stream",
          "name": "stdout",
          "text": [
            "Sequential(\n",
            "  (0): Linear(in_features=1, out_features=945, bias=True)\n",
            "  (1): Tanh()\n",
            "  (2): Linear(in_features=945, out_features=945, bias=True)\n",
            "  (3): LeakyReLU(negative_slope=0.01)\n",
            "  (4): Linear(in_features=945, out_features=945, bias=True)\n",
            "  (5): Sigmoid()\n",
            "  (6): Linear(in_features=945, out_features=1, bias=True)\n",
            "  (7): Sigmoid()\n",
            ")\n"
          ]
        },
        {
          "output_type": "stream",
          "name": "stderr",
          "text": [
            "\u001b[32m[I 2022-02-27 12:06:22,639]\u001b[0m Trial 129 finished with value: 2695900.717501803 and parameters: {'n_layers': 4, 'n_width': 945, 'activation_l0': 'Tanh', 'activation_l1': 'LeakyReLU', 'activation_l2': 'Sigmoid', 'last_layer': 'Sigmoid', 'lr': 0.02381199821025898, 'beta': 10.316531059272968, 'batch_size': 2}. Best is trial 51 with value: 441924.4937063568.\u001b[0m\n"
          ]
        },
        {
          "output_type": "stream",
          "name": "stdout",
          "text": [
            "Sequential(\n",
            "  (0): Linear(in_features=1, out_features=921, bias=True)\n",
            "  (1): Tanh()\n",
            "  (2): Linear(in_features=921, out_features=921, bias=True)\n",
            "  (3): LeakyReLU(negative_slope=0.01)\n",
            "  (4): Linear(in_features=921, out_features=921, bias=True)\n",
            "  (5): Sigmoid()\n",
            "  (6): Linear(in_features=921, out_features=1, bias=True)\n",
            "  (7): Sigmoid()\n",
            ")\n"
          ]
        },
        {
          "output_type": "stream",
          "name": "stderr",
          "text": [
            "\u001b[32m[I 2022-02-27 12:06:36,953]\u001b[0m Trial 130 finished with value: 1752060527.6573625 and parameters: {'n_layers': 4, 'n_width': 921, 'activation_l0': 'Tanh', 'activation_l1': 'LeakyReLU', 'activation_l2': 'Sigmoid', 'last_layer': 'Sigmoid', 'lr': 0.016206509119275812, 'beta': 13.000374821403202, 'batch_size': 2}. Best is trial 51 with value: 441924.4937063568.\u001b[0m\n"
          ]
        },
        {
          "output_type": "stream",
          "name": "stdout",
          "text": [
            "Sequential(\n",
            "  (0): Linear(in_features=1, out_features=991, bias=True)\n",
            "  (1): Tanh()\n",
            "  (2): Linear(in_features=991, out_features=991, bias=True)\n",
            "  (3): LeakyReLU(negative_slope=0.01)\n",
            "  (4): Linear(in_features=991, out_features=991, bias=True)\n",
            "  (5): Sigmoid()\n",
            "  (6): Linear(in_features=991, out_features=1, bias=True)\n",
            "  (7): Sigmoid()\n",
            ")\n"
          ]
        },
        {
          "output_type": "stream",
          "name": "stderr",
          "text": [
            "\u001b[32m[I 2022-02-27 12:06:52,102]\u001b[0m Trial 131 finished with value: 513007.74256079114 and parameters: {'n_layers': 4, 'n_width': 991, 'activation_l0': 'Tanh', 'activation_l1': 'LeakyReLU', 'activation_l2': 'Sigmoid', 'last_layer': 'Sigmoid', 'lr': 0.06437489825513366, 'beta': 17.222862956041507, 'batch_size': 2}. Best is trial 51 with value: 441924.4937063568.\u001b[0m\n"
          ]
        },
        {
          "output_type": "stream",
          "name": "stdout",
          "text": [
            "Sequential(\n",
            "  (0): Linear(in_features=1, out_features=980, bias=True)\n",
            "  (1): Tanh()\n",
            "  (2): Linear(in_features=980, out_features=980, bias=True)\n",
            "  (3): LeakyReLU(negative_slope=0.01)\n",
            "  (4): Linear(in_features=980, out_features=980, bias=True)\n",
            "  (5): Sigmoid()\n",
            "  (6): Linear(in_features=980, out_features=1, bias=True)\n",
            "  (7): Sigmoid()\n",
            ")\n"
          ]
        },
        {
          "output_type": "stream",
          "name": "stderr",
          "text": [
            "\u001b[32m[I 2022-02-27 12:07:07,125]\u001b[0m Trial 132 finished with value: 1134909.279912006 and parameters: {'n_layers': 4, 'n_width': 980, 'activation_l0': 'Tanh', 'activation_l1': 'LeakyReLU', 'activation_l2': 'Sigmoid', 'last_layer': 'Sigmoid', 'lr': 0.08231725184779556, 'beta': 13.520464710660498, 'batch_size': 2}. Best is trial 51 with value: 441924.4937063568.\u001b[0m\n"
          ]
        },
        {
          "output_type": "stream",
          "name": "stdout",
          "text": [
            "Sequential(\n",
            "  (0): Linear(in_features=1, out_features=998, bias=True)\n",
            "  (1): Tanh()\n",
            "  (2): Linear(in_features=998, out_features=998, bias=True)\n",
            "  (3): LeakyReLU(negative_slope=0.01)\n",
            "  (4): Linear(in_features=998, out_features=998, bias=True)\n",
            "  (5): Sigmoid()\n",
            "  (6): Linear(in_features=998, out_features=1, bias=True)\n",
            "  (7): Sigmoid()\n",
            ")\n"
          ]
        },
        {
          "output_type": "stream",
          "name": "stderr",
          "text": [
            "\u001b[32m[I 2022-02-27 12:07:22,436]\u001b[0m Trial 133 finished with value: 1127160.6842139948 and parameters: {'n_layers': 4, 'n_width': 998, 'activation_l0': 'Tanh', 'activation_l1': 'LeakyReLU', 'activation_l2': 'Sigmoid', 'last_layer': 'Sigmoid', 'lr': 0.04995720601154178, 'beta': 25.56099511686657, 'batch_size': 2}. Best is trial 51 with value: 441924.4937063568.\u001b[0m\n"
          ]
        },
        {
          "output_type": "stream",
          "name": "stdout",
          "text": [
            "Sequential(\n",
            "  (0): Linear(in_features=1, out_features=962, bias=True)\n",
            "  (1): Tanh()\n",
            "  (2): Linear(in_features=962, out_features=962, bias=True)\n",
            "  (3): LeakyReLU(negative_slope=0.01)\n",
            "  (4): Linear(in_features=962, out_features=962, bias=True)\n",
            "  (5): Sigmoid()\n",
            "  (6): Linear(in_features=962, out_features=1, bias=True)\n",
            "  (7): Sigmoid()\n",
            ")\n"
          ]
        },
        {
          "output_type": "stream",
          "name": "stderr",
          "text": [
            "\u001b[32m[I 2022-02-27 12:07:37,365]\u001b[0m Trial 134 finished with value: 998007.7315220003 and parameters: {'n_layers': 4, 'n_width': 962, 'activation_l0': 'Tanh', 'activation_l1': 'LeakyReLU', 'activation_l2': 'Sigmoid', 'last_layer': 'Sigmoid', 'lr': 0.04045617490308966, 'beta': 9.166769096978873, 'batch_size': 2}. Best is trial 51 with value: 441924.4937063568.\u001b[0m\n"
          ]
        },
        {
          "output_type": "stream",
          "name": "stdout",
          "text": [
            "Sequential(\n",
            "  (0): Linear(in_features=1, out_features=372, bias=True)\n",
            "  (1): Tanh()\n",
            "  (2): Linear(in_features=372, out_features=372, bias=True)\n",
            "  (3): LeakyReLU(negative_slope=0.01)\n",
            "  (4): Linear(in_features=372, out_features=372, bias=True)\n",
            "  (5): Sigmoid()\n",
            "  (6): Linear(in_features=372, out_features=1, bias=True)\n",
            "  (7): Sigmoid()\n",
            ")\n"
          ]
        },
        {
          "output_type": "stream",
          "name": "stderr",
          "text": [
            "\u001b[32m[I 2022-02-27 12:07:40,824]\u001b[0m Trial 135 finished with value: 2685200.77791865 and parameters: {'n_layers': 4, 'n_width': 372, 'activation_l0': 'Tanh', 'activation_l1': 'LeakyReLU', 'activation_l2': 'Sigmoid', 'last_layer': 'Sigmoid', 'lr': 0.02502936480478777, 'beta': 12.318386644946383, 'batch_size': 2}. Best is trial 51 with value: 441924.4937063568.\u001b[0m\n"
          ]
        },
        {
          "output_type": "stream",
          "name": "stdout",
          "text": [
            "Sequential(\n",
            "  (0): Linear(in_features=1, out_features=905, bias=True)\n",
            "  (1): Tanh()\n",
            "  (2): Linear(in_features=905, out_features=905, bias=True)\n",
            "  (3): LeakyReLU(negative_slope=0.01)\n",
            "  (4): Linear(in_features=905, out_features=905, bias=True)\n",
            "  (5): Sigmoid()\n",
            "  (6): Linear(in_features=905, out_features=1, bias=True)\n",
            "  (7): Sigmoid()\n",
            ")\n"
          ]
        },
        {
          "output_type": "stream",
          "name": "stderr",
          "text": [
            "\u001b[32m[I 2022-02-27 12:07:55,210]\u001b[0m Trial 136 finished with value: 17907543.77681414 and parameters: {'n_layers': 4, 'n_width': 905, 'activation_l0': 'Tanh', 'activation_l1': 'LeakyReLU', 'activation_l2': 'Sigmoid', 'last_layer': 'Sigmoid', 'lr': 0.017226692434429994, 'beta': 19.643418551387597, 'batch_size': 2}. Best is trial 51 with value: 441924.4937063568.\u001b[0m\n"
          ]
        },
        {
          "output_type": "stream",
          "name": "stdout",
          "text": [
            "Sequential(\n",
            "  (0): Linear(in_features=1, out_features=928, bias=True)\n",
            "  (1): Tanh()\n",
            "  (2): Linear(in_features=928, out_features=928, bias=True)\n",
            "  (3): LeakyReLU(negative_slope=0.01)\n",
            "  (4): Linear(in_features=928, out_features=928, bias=True)\n",
            "  (5): Sigmoid()\n",
            "  (6): Linear(in_features=928, out_features=1, bias=True)\n",
            "  (7): Sigmoid()\n",
            ")\n"
          ]
        },
        {
          "output_type": "stream",
          "name": "stderr",
          "text": [
            "\u001b[32m[I 2022-02-27 12:08:09,579]\u001b[0m Trial 137 finished with value: 35379133.88741385 and parameters: {'n_layers': 4, 'n_width': 928, 'activation_l0': 'Tanh', 'activation_l1': 'LeakyReLU', 'activation_l2': 'Sigmoid', 'last_layer': 'Sigmoid', 'lr': 0.011904142800788208, 'beta': 15.092530034142872, 'batch_size': 2}. Best is trial 51 with value: 441924.4937063568.\u001b[0m\n"
          ]
        },
        {
          "output_type": "stream",
          "name": "stdout",
          "text": [
            "Sequential(\n",
            "  (0): Linear(in_features=1, out_features=950, bias=True)\n",
            "  (1): Tanh()\n",
            "  (2): Linear(in_features=950, out_features=950, bias=True)\n",
            "  (3): LeakyReLU(negative_slope=0.01)\n",
            "  (4): Linear(in_features=950, out_features=950, bias=True)\n",
            "  (5): Sigmoid()\n",
            "  (6): Linear(in_features=950, out_features=1, bias=True)\n",
            "  (7): Sigmoid()\n",
            ")\n"
          ]
        },
        {
          "output_type": "stream",
          "name": "stderr",
          "text": [
            "\u001b[32m[I 2022-02-27 12:08:19,024]\u001b[0m Trial 138 finished with value: 862010.1434816106 and parameters: {'n_layers': 4, 'n_width': 950, 'activation_l0': 'Tanh', 'activation_l1': 'LeakyReLU', 'activation_l2': 'Sigmoid', 'last_layer': 'Sigmoid', 'lr': 0.09884768014482812, 'beta': 7.662460760634112, 'batch_size': 3}. Best is trial 51 with value: 441924.4937063568.\u001b[0m\n"
          ]
        },
        {
          "output_type": "stream",
          "name": "stdout",
          "text": [
            "Sequential(\n",
            "  (0): Linear(in_features=1, out_features=1023, bias=True)\n",
            "  (1): Tanh()\n",
            "  (2): Linear(in_features=1023, out_features=1023, bias=True)\n",
            "  (3): LeakyReLU(negative_slope=0.01)\n",
            "  (4): Linear(in_features=1023, out_features=1023, bias=True)\n",
            "  (5): Tanh()\n",
            "  (6): Linear(in_features=1023, out_features=1, bias=True)\n",
            "  (7): Sigmoid()\n",
            ")\n"
          ]
        },
        {
          "output_type": "stream",
          "name": "stderr",
          "text": [
            "\u001b[32m[I 2022-02-27 12:08:34,544]\u001b[0m Trial 139 finished with value: 42621177.18720727 and parameters: {'n_layers': 4, 'n_width': 1023, 'activation_l0': 'Tanh', 'activation_l1': 'LeakyReLU', 'activation_l2': 'Tanh', 'last_layer': 'Sigmoid', 'lr': 0.030992270419509006, 'beta': 9.189868618501757, 'batch_size': 2}. Best is trial 51 with value: 441924.4937063568.\u001b[0m\n"
          ]
        },
        {
          "output_type": "stream",
          "name": "stdout",
          "text": [
            "Sequential(\n",
            "  (0): Linear(in_features=1, out_features=979, bias=True)\n",
            "  (1): Tanh()\n",
            "  (2): Linear(in_features=979, out_features=979, bias=True)\n",
            "  (3): Sigmoid()\n",
            "  (4): Linear(in_features=979, out_features=979, bias=True)\n",
            "  (5): Sigmoid()\n",
            "  (6): Linear(in_features=979, out_features=1, bias=True)\n",
            "  (7): Sigmoid()\n",
            ")\n"
          ]
        },
        {
          "output_type": "stream",
          "name": "stderr",
          "text": [
            "\u001b[32m[I 2022-02-27 12:08:49,453]\u001b[0m Trial 140 finished with value: 886680.6829335093 and parameters: {'n_layers': 4, 'n_width': 979, 'activation_l0': 'Tanh', 'activation_l1': 'Sigmoid', 'activation_l2': 'Sigmoid', 'last_layer': 'Sigmoid', 'lr': 0.043337204703600335, 'beta': 25.158229411653902, 'batch_size': 2}. Best is trial 51 with value: 441924.4937063568.\u001b[0m\n"
          ]
        },
        {
          "output_type": "stream",
          "name": "stdout",
          "text": [
            "Sequential(\n",
            "  (0): Linear(in_features=1, out_features=1007, bias=True)\n",
            "  (1): Tanh()\n",
            "  (2): Linear(in_features=1007, out_features=1007, bias=True)\n",
            "  (3): LeakyReLU(negative_slope=0.01)\n",
            "  (4): Linear(in_features=1007, out_features=1007, bias=True)\n",
            "  (5): Sigmoid()\n",
            "  (6): Linear(in_features=1007, out_features=1, bias=True)\n",
            "  (7): Sigmoid()\n",
            ")\n"
          ]
        },
        {
          "output_type": "stream",
          "name": "stderr",
          "text": [
            "\u001b[32m[I 2022-02-27 12:09:04,813]\u001b[0m Trial 141 finished with value: 969850.2897751263 and parameters: {'n_layers': 4, 'n_width': 1007, 'activation_l0': 'Tanh', 'activation_l1': 'LeakyReLU', 'activation_l2': 'Sigmoid', 'last_layer': 'Sigmoid', 'lr': 0.07887700489489063, 'beta': 15.633430633127679, 'batch_size': 2}. Best is trial 51 with value: 441924.4937063568.\u001b[0m\n"
          ]
        },
        {
          "output_type": "stream",
          "name": "stdout",
          "text": [
            "Sequential(\n",
            "  (0): Linear(in_features=1, out_features=1003, bias=True)\n",
            "  (1): Tanh()\n",
            "  (2): Linear(in_features=1003, out_features=1003, bias=True)\n",
            "  (3): LeakyReLU(negative_slope=0.01)\n",
            "  (4): Linear(in_features=1003, out_features=1003, bias=True)\n",
            "  (5): Sigmoid()\n",
            "  (6): Linear(in_features=1003, out_features=1, bias=True)\n",
            "  (7): Sigmoid()\n",
            ")\n"
          ]
        },
        {
          "output_type": "stream",
          "name": "stderr",
          "text": [
            "\u001b[32m[I 2022-02-27 12:09:09,978]\u001b[0m Trial 142 finished with value: 2203309.732658013 and parameters: {'n_layers': 4, 'n_width': 1003, 'activation_l0': 'Tanh', 'activation_l1': 'LeakyReLU', 'activation_l2': 'Sigmoid', 'last_layer': 'Sigmoid', 'lr': 0.05992296549690898, 'beta': 11.208823354591736, 'batch_size': 8}. Best is trial 51 with value: 441924.4937063568.\u001b[0m\n"
          ]
        },
        {
          "output_type": "stream",
          "name": "stdout",
          "text": [
            "Sequential(\n",
            "  (0): Linear(in_features=1, out_features=988, bias=True)\n",
            "  (1): Tanh()\n",
            "  (2): Linear(in_features=988, out_features=988, bias=True)\n",
            "  (3): LeakyReLU(negative_slope=0.01)\n",
            "  (4): Linear(in_features=988, out_features=988, bias=True)\n",
            "  (5): Sigmoid()\n",
            "  (6): Linear(in_features=988, out_features=1, bias=True)\n",
            "  (7): Sigmoid()\n",
            ")\n"
          ]
        },
        {
          "output_type": "stream",
          "name": "stderr",
          "text": [
            "\u001b[32m[I 2022-02-27 12:09:15,081]\u001b[0m Trial 143 finished with value: 1783818.0783969718 and parameters: {'n_layers': 4, 'n_width': 988, 'activation_l0': 'Tanh', 'activation_l1': 'LeakyReLU', 'activation_l2': 'Sigmoid', 'last_layer': 'Sigmoid', 'lr': 0.06201568538478866, 'beta': 17.343751686338454, 'batch_size': 7}. Best is trial 51 with value: 441924.4937063568.\u001b[0m\n"
          ]
        },
        {
          "output_type": "stream",
          "name": "stdout",
          "text": [
            "Sequential(\n",
            "  (0): Linear(in_features=1, out_features=962, bias=True)\n",
            "  (1): Tanh()\n",
            "  (2): Linear(in_features=962, out_features=962, bias=True)\n",
            "  (3): LeakyReLU(negative_slope=0.01)\n",
            "  (4): Linear(in_features=962, out_features=962, bias=True)\n",
            "  (5): Sigmoid()\n",
            "  (6): Linear(in_features=962, out_features=1, bias=True)\n",
            "  (7): Sigmoid()\n",
            ")\n"
          ]
        },
        {
          "output_type": "stream",
          "name": "stderr",
          "text": [
            "\u001b[32m[I 2022-02-27 12:09:30,531]\u001b[0m Trial 144 finished with value: 2754147.2747916733 and parameters: {'n_layers': 4, 'n_width': 962, 'activation_l0': 'Tanh', 'activation_l1': 'LeakyReLU', 'activation_l2': 'Sigmoid', 'last_layer': 'Sigmoid', 'lr': 0.020896853559700043, 'beta': 14.538855666731088, 'batch_size': 2}. Best is trial 51 with value: 441924.4937063568.\u001b[0m\n"
          ]
        },
        {
          "output_type": "stream",
          "name": "stdout",
          "text": [
            "Sequential(\n",
            "  (0): Linear(in_features=1, out_features=933, bias=True)\n",
            "  (1): Tanh()\n",
            "  (2): Linear(in_features=933, out_features=933, bias=True)\n",
            "  (3): LeakyReLU(negative_slope=0.01)\n",
            "  (4): Linear(in_features=933, out_features=933, bias=True)\n",
            "  (5): Sigmoid()\n",
            "  (6): Linear(in_features=933, out_features=1, bias=True)\n",
            "  (7): Sigmoid()\n",
            ")\n"
          ]
        },
        {
          "output_type": "stream",
          "name": "stderr",
          "text": [
            "\u001b[32m[I 2022-02-27 12:09:44,656]\u001b[0m Trial 145 finished with value: 519419.2580495552 and parameters: {'n_layers': 4, 'n_width': 933, 'activation_l0': 'Tanh', 'activation_l1': 'LeakyReLU', 'activation_l2': 'Sigmoid', 'last_layer': 'Sigmoid', 'lr': 0.028766965486434648, 'beta': 30.300591727151886, 'batch_size': 2}. Best is trial 51 with value: 441924.4937063568.\u001b[0m\n"
          ]
        },
        {
          "output_type": "stream",
          "name": "stdout",
          "text": [
            "Sequential(\n",
            "  (0): Linear(in_features=1, out_features=934, bias=True)\n",
            "  (1): Sigmoid()\n",
            "  (2): Linear(in_features=934, out_features=934, bias=True)\n",
            "  (3): LeakyReLU(negative_slope=0.01)\n",
            "  (4): Linear(in_features=934, out_features=934, bias=True)\n",
            "  (5): Sigmoid()\n",
            "  (6): Linear(in_features=934, out_features=1, bias=True)\n",
            "  (7): Sigmoid()\n",
            ")\n"
          ]
        },
        {
          "output_type": "stream",
          "name": "stderr",
          "text": [
            "\u001b[32m[I 2022-02-27 12:09:59,597]\u001b[0m Trial 146 finished with value: 234497697.8289202 and parameters: {'n_layers': 4, 'n_width': 934, 'activation_l0': 'Sigmoid', 'activation_l1': 'LeakyReLU', 'activation_l2': 'Sigmoid', 'last_layer': 'Sigmoid', 'lr': 0.00876518914176928, 'beta': 31.580696052294158, 'batch_size': 2}. Best is trial 51 with value: 441924.4937063568.\u001b[0m\n"
          ]
        },
        {
          "output_type": "stream",
          "name": "stdout",
          "text": [
            "Sequential(\n",
            "  (0): Linear(in_features=1, out_features=877, bias=True)\n",
            "  (1): Tanh()\n",
            "  (2): Linear(in_features=877, out_features=877, bias=True)\n",
            "  (3): LeakyReLU(negative_slope=0.01)\n",
            "  (4): Linear(in_features=877, out_features=877, bias=True)\n",
            "  (5): LeakyReLU(negative_slope=0.01)\n",
            "  (6): Linear(in_features=877, out_features=1, bias=True)\n",
            "  (7): Sigmoid()\n",
            ")\n"
          ]
        },
        {
          "output_type": "stream",
          "name": "stderr",
          "text": [
            "\u001b[32m[I 2022-02-27 12:10:12,821]\u001b[0m Trial 147 finished with value: 89185084.03894532 and parameters: {'n_layers': 4, 'n_width': 877, 'activation_l0': 'Tanh', 'activation_l1': 'LeakyReLU', 'activation_l2': 'LeakyReLU', 'last_layer': 'Sigmoid', 'lr': 1.90464282049837e-06, 'beta': 58.59512028357855, 'batch_size': 2}. Best is trial 51 with value: 441924.4937063568.\u001b[0m\n"
          ]
        },
        {
          "output_type": "stream",
          "name": "stdout",
          "text": [
            "Sequential(\n",
            "  (0): Linear(in_features=1, out_features=910, bias=True)\n",
            "  (1): Tanh()\n",
            "  (2): Linear(in_features=910, out_features=910, bias=True)\n",
            "  (3): LeakyReLU(negative_slope=0.01)\n",
            "  (4): Linear(in_features=910, out_features=910, bias=True)\n",
            "  (5): Sigmoid()\n",
            "  (6): Linear(in_features=910, out_features=1, bias=True)\n",
            "  (7): Softplus(beta=1, threshold=20)\n",
            ")\n"
          ]
        },
        {
          "output_type": "stream",
          "name": "stderr",
          "text": [
            "\u001b[32m[I 2022-02-27 12:10:26,818]\u001b[0m Trial 148 finished with value: 2281727.8305761726 and parameters: {'n_layers': 4, 'n_width': 910, 'activation_l0': 'Tanh', 'activation_l1': 'LeakyReLU', 'activation_l2': 'Sigmoid', 'last_layer': 'Softplus', 'lr': 0.024529773020081816, 'beta': 1.6258229980935435, 'batch_size': 2}. Best is trial 51 with value: 441924.4937063568.\u001b[0m\n"
          ]
        },
        {
          "output_type": "stream",
          "name": "stdout",
          "text": [
            "Sequential(\n",
            "  (0): Linear(in_features=1, out_features=889, bias=True)\n",
            "  (1): Tanh()\n",
            "  (2): Linear(in_features=889, out_features=889, bias=True)\n",
            "  (3): LeakyReLU(negative_slope=0.01)\n",
            "  (4): Linear(in_features=889, out_features=889, bias=True)\n",
            "  (5): Sigmoid()\n",
            "  (6): Linear(in_features=889, out_features=1, bias=True)\n",
            "  (7): Sigmoid()\n",
            ")\n"
          ]
        },
        {
          "output_type": "stream",
          "name": "stderr",
          "text": [
            "\u001b[32m[I 2022-02-27 12:10:31,166]\u001b[0m Trial 149 finished with value: 16443663.043087877 and parameters: {'n_layers': 4, 'n_width': 889, 'activation_l0': 'Tanh', 'activation_l1': 'LeakyReLU', 'activation_l2': 'Sigmoid', 'last_layer': 'Sigmoid', 'lr': 0.01437926459813953, 'beta': 36.85501631933451, 'batch_size': 6}. Best is trial 51 with value: 441924.4937063568.\u001b[0m\n"
          ]
        },
        {
          "output_type": "stream",
          "name": "stdout",
          "text": [
            "Sequential(\n",
            "  (0): Linear(in_features=1, out_features=946, bias=True)\n",
            "  (1): Tanh()\n",
            "  (2): Linear(in_features=946, out_features=946, bias=True)\n",
            "  (3): LeakyReLU(negative_slope=0.01)\n",
            "  (4): Linear(in_features=946, out_features=946, bias=True)\n",
            "  (5): Sigmoid()\n",
            "  (6): Linear(in_features=946, out_features=1, bias=True)\n",
            "  (7): Sigmoid()\n",
            ")\n"
          ]
        },
        {
          "output_type": "stream",
          "name": "stderr",
          "text": [
            "\u001b[32m[I 2022-02-27 12:10:40,643]\u001b[0m Trial 150 finished with value: 1642738.955402071 and parameters: {'n_layers': 4, 'n_width': 946, 'activation_l0': 'Tanh', 'activation_l1': 'LeakyReLU', 'activation_l2': 'Sigmoid', 'last_layer': 'Sigmoid', 'lr': 0.03201740777680308, 'beta': 1.246323563465663, 'batch_size': 3}. Best is trial 51 with value: 441924.4937063568.\u001b[0m\n"
          ]
        },
        {
          "output_type": "stream",
          "name": "stdout",
          "text": [
            "Sequential(\n",
            "  (0): Linear(in_features=1, out_features=970, bias=True)\n",
            "  (1): Tanh()\n",
            "  (2): Linear(in_features=970, out_features=970, bias=True)\n",
            "  (3): LeakyReLU(negative_slope=0.01)\n",
            "  (4): Linear(in_features=970, out_features=970, bias=True)\n",
            "  (5): Sigmoid()\n",
            "  (6): Linear(in_features=970, out_features=1, bias=True)\n",
            "  (7): Sigmoid()\n",
            ")\n"
          ]
        },
        {
          "output_type": "stream",
          "name": "stderr",
          "text": [
            "\u001b[32m[I 2022-02-27 12:10:55,565]\u001b[0m Trial 151 finished with value: 981917.3596353456 and parameters: {'n_layers': 4, 'n_width': 970, 'activation_l0': 'Tanh', 'activation_l1': 'LeakyReLU', 'activation_l2': 'Sigmoid', 'last_layer': 'Sigmoid', 'lr': 0.053294308553603134, 'beta': 6.779431764189882, 'batch_size': 2}. Best is trial 51 with value: 441924.4937063568.\u001b[0m\n"
          ]
        },
        {
          "output_type": "stream",
          "name": "stdout",
          "text": [
            "Sequential(\n",
            "  (0): Linear(in_features=1, out_features=996, bias=True)\n",
            "  (1): Tanh()\n",
            "  (2): Linear(in_features=996, out_features=996, bias=True)\n",
            "  (3): LeakyReLU(negative_slope=0.01)\n",
            "  (4): Linear(in_features=996, out_features=996, bias=True)\n",
            "  (5): Sigmoid()\n",
            "  (6): Linear(in_features=996, out_features=1, bias=True)\n",
            "  (7): Sigmoid()\n",
            ")\n"
          ]
        },
        {
          "output_type": "stream",
          "name": "stderr",
          "text": [
            "\u001b[32m[I 2022-02-27 12:11:10,741]\u001b[0m Trial 152 finished with value: 507500.85866080935 and parameters: {'n_layers': 4, 'n_width': 996, 'activation_l0': 'Tanh', 'activation_l1': 'LeakyReLU', 'activation_l2': 'Sigmoid', 'last_layer': 'Sigmoid', 'lr': 0.03797350955224054, 'beta': 2.046847885582947, 'batch_size': 2}. Best is trial 51 with value: 441924.4937063568.\u001b[0m\n"
          ]
        },
        {
          "output_type": "stream",
          "name": "stdout",
          "text": [
            "Sequential(\n",
            "  (0): Linear(in_features=1, out_features=926, bias=True)\n",
            "  (1): Tanh()\n",
            "  (2): Linear(in_features=926, out_features=926, bias=True)\n",
            "  (3): LeakyReLU(negative_slope=0.01)\n",
            "  (4): Linear(in_features=926, out_features=926, bias=True)\n",
            "  (5): Sigmoid()\n",
            "  (6): Linear(in_features=926, out_features=1, bias=True)\n",
            "  (7): Sigmoid()\n",
            ")\n"
          ]
        },
        {
          "output_type": "stream",
          "name": "stderr",
          "text": [
            "\u001b[32m[I 2022-02-27 12:11:24,649]\u001b[0m Trial 153 finished with value: 927941.3591471554 and parameters: {'n_layers': 4, 'n_width': 926, 'activation_l0': 'Tanh', 'activation_l1': 'LeakyReLU', 'activation_l2': 'Sigmoid', 'last_layer': 'Sigmoid', 'lr': 0.039316640875031277, 'beta': 1.9464693541544242, 'batch_size': 2}. Best is trial 51 with value: 441924.4937063568.\u001b[0m\n"
          ]
        },
        {
          "output_type": "stream",
          "name": "stdout",
          "text": [
            "Sequential(\n",
            "  (0): Linear(in_features=1, out_features=981, bias=True)\n",
            "  (1): Tanh()\n",
            "  (2): Linear(in_features=981, out_features=981, bias=True)\n",
            "  (3): LeakyReLU(negative_slope=0.01)\n",
            "  (4): Linear(in_features=981, out_features=981, bias=True)\n",
            "  (5): Sigmoid()\n",
            "  (6): Linear(in_features=981, out_features=1, bias=True)\n",
            "  (7): Sigmoid()\n",
            ")\n"
          ]
        },
        {
          "output_type": "stream",
          "name": "stderr",
          "text": [
            "\u001b[32m[I 2022-02-27 12:11:39,746]\u001b[0m Trial 154 finished with value: 770149.7162764653 and parameters: {'n_layers': 4, 'n_width': 981, 'activation_l0': 'Tanh', 'activation_l1': 'LeakyReLU', 'activation_l2': 'Sigmoid', 'last_layer': 'Sigmoid', 'lr': 0.027329765636050544, 'beta': 2.4347855422689126, 'batch_size': 2}. Best is trial 51 with value: 441924.4937063568.\u001b[0m\n"
          ]
        },
        {
          "output_type": "stream",
          "name": "stdout",
          "text": [
            "Sequential(\n",
            "  (0): Linear(in_features=1, out_features=959, bias=True)\n",
            "  (1): Tanh()\n",
            "  (2): Linear(in_features=959, out_features=959, bias=True)\n",
            "  (3): Tanh()\n",
            "  (4): Linear(in_features=959, out_features=959, bias=True)\n",
            "  (5): Sigmoid()\n",
            "  (6): Linear(in_features=959, out_features=1, bias=True)\n",
            "  (7): Sigmoid()\n",
            ")\n"
          ]
        },
        {
          "output_type": "stream",
          "name": "stderr",
          "text": [
            "\u001b[32m[I 2022-02-27 12:11:54,287]\u001b[0m Trial 155 finished with value: 2691105.51709088 and parameters: {'n_layers': 4, 'n_width': 959, 'activation_l0': 'Tanh', 'activation_l1': 'Tanh', 'activation_l2': 'Sigmoid', 'last_layer': 'Sigmoid', 'lr': 0.02067338961964477, 'beta': 2.5659815301637363, 'batch_size': 2}. Best is trial 51 with value: 441924.4937063568.\u001b[0m\n"
          ]
        },
        {
          "output_type": "stream",
          "name": "stdout",
          "text": [
            "Sequential(\n",
            "  (0): Linear(in_features=1, out_features=943, bias=True)\n",
            "  (1): Tanh()\n",
            "  (2): Linear(in_features=943, out_features=943, bias=True)\n",
            "  (3): LeakyReLU(negative_slope=0.01)\n",
            "  (4): Linear(in_features=943, out_features=943, bias=True)\n",
            "  (5): Sigmoid()\n",
            "  (6): Linear(in_features=943, out_features=1, bias=True)\n",
            "  (7): Sigmoid()\n",
            ")\n"
          ]
        },
        {
          "output_type": "stream",
          "name": "stderr",
          "text": [
            "\u001b[32m[I 2022-02-27 12:12:08,508]\u001b[0m Trial 156 finished with value: 570700.9471103727 and parameters: {'n_layers': 4, 'n_width': 943, 'activation_l0': 'Tanh', 'activation_l1': 'LeakyReLU', 'activation_l2': 'Sigmoid', 'last_layer': 'Sigmoid', 'lr': 0.030024542024497614, 'beta': 2.1120343413824565, 'batch_size': 2}. Best is trial 51 with value: 441924.4937063568.\u001b[0m\n"
          ]
        },
        {
          "output_type": "stream",
          "name": "stdout",
          "text": [
            "Sequential(\n",
            "  (0): Linear(in_features=1, out_features=910, bias=True)\n",
            "  (1): LeakyReLU(negative_slope=0.01)\n",
            "  (2): Linear(in_features=910, out_features=910, bias=True)\n",
            "  (3): LeakyReLU(negative_slope=0.01)\n",
            "  (4): Linear(in_features=910, out_features=910, bias=True)\n",
            "  (5): Sigmoid()\n",
            "  (6): Linear(in_features=910, out_features=1, bias=True)\n",
            "  (7): Sigmoid()\n",
            ")\n"
          ]
        },
        {
          "output_type": "stream",
          "name": "stderr",
          "text": [
            "\u001b[32m[I 2022-02-27 12:12:22,411]\u001b[0m Trial 157 finished with value: 98535733.61964664 and parameters: {'n_layers': 4, 'n_width': 910, 'activation_l0': 'LeakyReLU', 'activation_l1': 'LeakyReLU', 'activation_l2': 'Sigmoid', 'last_layer': 'Sigmoid', 'lr': 0.03616955357301479, 'beta': 54.977076143210446, 'batch_size': 2}. Best is trial 51 with value: 441924.4937063568.\u001b[0m\n"
          ]
        },
        {
          "output_type": "stream",
          "name": "stdout",
          "text": [
            "Sequential(\n",
            "  (0): Linear(in_features=1, out_features=943, bias=True)\n",
            "  (1): Tanh()\n",
            "  (2): Linear(in_features=943, out_features=943, bias=True)\n",
            "  (3): LeakyReLU(negative_slope=0.01)\n",
            "  (4): Linear(in_features=943, out_features=943, bias=True)\n",
            "  (5): Sigmoid()\n",
            "  (6): Linear(in_features=943, out_features=1, bias=True)\n",
            "  (7): Sigmoid()\n",
            ")\n"
          ]
        },
        {
          "output_type": "stream",
          "name": "stderr",
          "text": [
            "\u001b[32m[I 2022-02-27 12:12:37,261]\u001b[0m Trial 158 finished with value: 979537.4152625273 and parameters: {'n_layers': 4, 'n_width': 943, 'activation_l0': 'Tanh', 'activation_l1': 'LeakyReLU', 'activation_l2': 'Sigmoid', 'last_layer': 'Sigmoid', 'lr': 0.018454558727938265, 'beta': 0.4233310525685612, 'batch_size': 2}. Best is trial 51 with value: 441924.4937063568.\u001b[0m\n"
          ]
        },
        {
          "output_type": "stream",
          "name": "stdout",
          "text": [
            "Sequential(\n",
            "  (0): Linear(in_features=1, out_features=191, bias=True)\n",
            "  (1): Tanh()\n",
            "  (2): Linear(in_features=191, out_features=1, bias=True)\n",
            "  (3): Sigmoid()\n",
            ")\n"
          ]
        },
        {
          "output_type": "stream",
          "name": "stderr",
          "text": [
            "\u001b[32m[I 2022-02-27 12:12:37,915]\u001b[0m Trial 159 finished with value: 7912224.157379505 and parameters: {'n_layers': 2, 'n_width': 191, 'activation_l0': 'Tanh', 'last_layer': 'Sigmoid', 'lr': 0.011020338012316442, 'beta': 1.853931090977577, 'batch_size': 2}. Best is trial 51 with value: 441924.4937063568.\u001b[0m\n"
          ]
        },
        {
          "output_type": "stream",
          "name": "stdout",
          "text": [
            "Sequential(\n",
            "  (0): Linear(in_features=1, out_features=872, bias=True)\n",
            "  (1): Tanh()\n",
            "  (2): Linear(in_features=872, out_features=872, bias=True)\n",
            "  (3): Sigmoid()\n",
            "  (4): Linear(in_features=872, out_features=872, bias=True)\n",
            "  (5): Sigmoid()\n",
            "  (6): Linear(in_features=872, out_features=1, bias=True)\n",
            "  (7): Sigmoid()\n",
            ")\n"
          ]
        },
        {
          "output_type": "stream",
          "name": "stderr",
          "text": [
            "\u001b[32m[I 2022-02-27 12:12:45,702]\u001b[0m Trial 160 finished with value: 800051.1518416555 and parameters: {'n_layers': 4, 'n_width': 872, 'activation_l0': 'Tanh', 'activation_l1': 'Sigmoid', 'activation_l2': 'Sigmoid', 'last_layer': 'Sigmoid', 'lr': 0.04688184950842169, 'beta': 8.189532998447941, 'batch_size': 3}. Best is trial 51 with value: 441924.4937063568.\u001b[0m\n"
          ]
        },
        {
          "output_type": "stream",
          "name": "stdout",
          "text": [
            "Sequential(\n",
            "  (0): Linear(in_features=1, out_features=990, bias=True)\n",
            "  (1): Tanh()\n",
            "  (2): Linear(in_features=990, out_features=990, bias=True)\n",
            "  (3): LeakyReLU(negative_slope=0.01)\n",
            "  (4): Linear(in_features=990, out_features=990, bias=True)\n",
            "  (5): Sigmoid()\n",
            "  (6): Linear(in_features=990, out_features=1, bias=True)\n",
            "  (7): Sigmoid()\n",
            ")\n"
          ]
        },
        {
          "output_type": "stream",
          "name": "stderr",
          "text": [
            "\u001b[32m[I 2022-02-27 12:13:00,765]\u001b[0m Trial 161 finished with value: 671673.0486267138 and parameters: {'n_layers': 4, 'n_width': 990, 'activation_l0': 'Tanh', 'activation_l1': 'LeakyReLU', 'activation_l2': 'Sigmoid', 'last_layer': 'Sigmoid', 'lr': 0.02790550569048557, 'beta': 2.2746058703395273, 'batch_size': 2}. Best is trial 51 with value: 441924.4937063568.\u001b[0m\n"
          ]
        },
        {
          "output_type": "stream",
          "name": "stdout",
          "text": [
            "Sequential(\n",
            "  (0): Linear(in_features=1, out_features=959, bias=True)\n",
            "  (1): Tanh()\n",
            "  (2): Linear(in_features=959, out_features=959, bias=True)\n",
            "  (3): LeakyReLU(negative_slope=0.01)\n",
            "  (4): Linear(in_features=959, out_features=959, bias=True)\n",
            "  (5): Sigmoid()\n",
            "  (6): Linear(in_features=959, out_features=1, bias=True)\n",
            "  (7): Sigmoid()\n",
            ")\n"
          ]
        },
        {
          "output_type": "stream",
          "name": "stderr",
          "text": [
            "\u001b[32m[I 2022-02-27 12:13:15,196]\u001b[0m Trial 162 finished with value: 749501.9158203882 and parameters: {'n_layers': 4, 'n_width': 959, 'activation_l0': 'Tanh', 'activation_l1': 'LeakyReLU', 'activation_l2': 'Sigmoid', 'last_layer': 'Sigmoid', 'lr': 0.02617141870596059, 'beta': 2.2096188478649497, 'batch_size': 2}. Best is trial 51 with value: 441924.4937063568.\u001b[0m\n"
          ]
        },
        {
          "output_type": "stream",
          "name": "stdout",
          "text": [
            "Sequential(\n",
            "  (0): Linear(in_features=1, out_features=934, bias=True)\n",
            "  (1): Tanh()\n",
            "  (2): Linear(in_features=934, out_features=934, bias=True)\n",
            "  (3): LeakyReLU(negative_slope=0.01)\n",
            "  (4): Linear(in_features=934, out_features=934, bias=True)\n",
            "  (5): Sigmoid()\n",
            "  (6): Linear(in_features=934, out_features=1, bias=True)\n",
            "  (7): Sigmoid()\n",
            ")\n"
          ]
        },
        {
          "output_type": "stream",
          "name": "stderr",
          "text": [
            "\u001b[32m[I 2022-02-27 12:13:29,258]\u001b[0m Trial 163 finished with value: 792755.7659729909 and parameters: {'n_layers': 4, 'n_width': 934, 'activation_l0': 'Tanh', 'activation_l1': 'LeakyReLU', 'activation_l2': 'Sigmoid', 'last_layer': 'Sigmoid', 'lr': 0.03151515749562341, 'beta': 0.5766947476158675, 'batch_size': 2}. Best is trial 51 with value: 441924.4937063568.\u001b[0m\n"
          ]
        },
        {
          "output_type": "stream",
          "name": "stdout",
          "text": [
            "Sequential(\n",
            "  (0): Linear(in_features=1, out_features=603, bias=True)\n",
            "  (1): Tanh()\n",
            "  (2): Linear(in_features=603, out_features=603, bias=True)\n",
            "  (3): LeakyReLU(negative_slope=0.01)\n",
            "  (4): Linear(in_features=603, out_features=603, bias=True)\n",
            "  (5): Sigmoid()\n",
            "  (6): Linear(in_features=603, out_features=1, bias=True)\n",
            "  (7): Sigmoid()\n",
            ")\n"
          ]
        },
        {
          "output_type": "stream",
          "name": "stderr",
          "text": [
            "\u001b[32m[I 2022-02-27 12:13:36,390]\u001b[0m Trial 164 finished with value: 1189294.1664878754 and parameters: {'n_layers': 4, 'n_width': 603, 'activation_l0': 'Tanh', 'activation_l1': 'LeakyReLU', 'activation_l2': 'Sigmoid', 'last_layer': 'Sigmoid', 'lr': 0.018966008458831264, 'beta': 2.870724610603298, 'batch_size': 2}. Best is trial 51 with value: 441924.4937063568.\u001b[0m\n"
          ]
        },
        {
          "output_type": "stream",
          "name": "stdout",
          "text": [
            "Sequential(\n",
            "  (0): Linear(in_features=1, out_features=996, bias=True)\n",
            "  (1): Tanh()\n",
            "  (2): Linear(in_features=996, out_features=996, bias=True)\n",
            "  (3): Tanh()\n",
            "  (4): Linear(in_features=996, out_features=996, bias=True)\n",
            "  (5): Sigmoid()\n",
            "  (6): Linear(in_features=996, out_features=1, bias=True)\n",
            "  (7): Sigmoid()\n",
            ")\n"
          ]
        },
        {
          "output_type": "stream",
          "name": "stderr",
          "text": [
            "\u001b[32m[I 2022-02-27 12:13:51,345]\u001b[0m Trial 165 finished with value: 653300.8118182656 and parameters: {'n_layers': 4, 'n_width': 996, 'activation_l0': 'Tanh', 'activation_l1': 'Tanh', 'activation_l2': 'Sigmoid', 'last_layer': 'Sigmoid', 'lr': 0.049645706270588355, 'beta': 2.181030792924024, 'batch_size': 2}. Best is trial 51 with value: 441924.4937063568.\u001b[0m\n"
          ]
        },
        {
          "output_type": "stream",
          "name": "stdout",
          "text": [
            "Sequential(\n",
            "  (0): Linear(in_features=1, out_features=1006, bias=True)\n",
            "  (1): Tanh()\n",
            "  (2): Linear(in_features=1006, out_features=1006, bias=True)\n",
            "  (3): LeakyReLU(negative_slope=0.01)\n",
            "  (4): Linear(in_features=1006, out_features=1006, bias=True)\n",
            "  (5): Sigmoid()\n",
            "  (6): Linear(in_features=1006, out_features=1, bias=True)\n",
            "  (7): Sigmoid()\n",
            ")\n"
          ]
        },
        {
          "output_type": "stream",
          "name": "stderr",
          "text": [
            "\u001b[32m[I 2022-02-27 12:14:06,625]\u001b[0m Trial 166 finished with value: 1032399.9039163399 and parameters: {'n_layers': 4, 'n_width': 1006, 'activation_l0': 'Tanh', 'activation_l1': 'LeakyReLU', 'activation_l2': 'Sigmoid', 'last_layer': 'Sigmoid', 'lr': 0.04317350609823437, 'beta': 2.1342011204772167, 'batch_size': 2}. Best is trial 51 with value: 441924.4937063568.\u001b[0m\n"
          ]
        },
        {
          "output_type": "stream",
          "name": "stdout",
          "text": [
            "Sequential(\n",
            "  (0): Linear(in_features=1, out_features=992, bias=True)\n",
            "  (1): Tanh()\n",
            "  (2): Linear(in_features=992, out_features=992, bias=True)\n",
            "  (3): LeakyReLU(negative_slope=0.01)\n",
            "  (4): Linear(in_features=992, out_features=992, bias=True)\n",
            "  (5): Sigmoid()\n",
            "  (6): Linear(in_features=992, out_features=1, bias=True)\n",
            "  (7): Sigmoid()\n",
            ")\n"
          ]
        },
        {
          "output_type": "stream",
          "name": "stderr",
          "text": [
            "\u001b[32m[I 2022-02-27 12:14:21,476]\u001b[0m Trial 167 finished with value: 1093669.041977731 and parameters: {'n_layers': 4, 'n_width': 992, 'activation_l0': 'Tanh', 'activation_l1': 'LeakyReLU', 'activation_l2': 'Sigmoid', 'last_layer': 'Sigmoid', 'lr': 0.07376071214951689, 'beta': 3.5183599129443484, 'batch_size': 2}. Best is trial 51 with value: 441924.4937063568.\u001b[0m\n"
          ]
        },
        {
          "output_type": "stream",
          "name": "stdout",
          "text": [
            "Sequential(\n",
            "  (0): Linear(in_features=1, out_features=901, bias=True)\n",
            "  (1): Tanh()\n",
            "  (2): Linear(in_features=901, out_features=901, bias=True)\n",
            "  (3): Tanh()\n",
            "  (4): Linear(in_features=901, out_features=901, bias=True)\n",
            "  (5): Sigmoid()\n",
            "  (6): Linear(in_features=901, out_features=1, bias=True)\n",
            "  (7): Sigmoid()\n",
            ")\n"
          ]
        },
        {
          "output_type": "stream",
          "name": "stderr",
          "text": [
            "\u001b[32m[I 2022-02-27 12:14:36,388]\u001b[0m Trial 168 finished with value: 114311916.73541927 and parameters: {'n_layers': 4, 'n_width': 901, 'activation_l0': 'Tanh', 'activation_l1': 'Tanh', 'activation_l2': 'Sigmoid', 'last_layer': 'Sigmoid', 'lr': 2.0415944702306744e-07, 'beta': 2.537446234284146, 'batch_size': 2}. Best is trial 51 with value: 441924.4937063568.\u001b[0m\n"
          ]
        },
        {
          "output_type": "stream",
          "name": "stdout",
          "text": [
            "Sequential(\n",
            "  (0): Linear(in_features=1, out_features=1024, bias=True)\n",
            "  (1): Tanh()\n",
            "  (2): Linear(in_features=1024, out_features=1024, bias=True)\n",
            "  (3): LeakyReLU(negative_slope=0.01)\n",
            "  (4): Linear(in_features=1024, out_features=1024, bias=True)\n",
            "  (5): Tanh()\n",
            "  (6): Linear(in_features=1024, out_features=1, bias=True)\n",
            "  (7): Sigmoid()\n",
            ")\n"
          ]
        },
        {
          "output_type": "stream",
          "name": "stderr",
          "text": [
            "\u001b[32m[I 2022-02-27 12:14:51,179]\u001b[0m Trial 169 finished with value: 1428175786.1267154 and parameters: {'n_layers': 4, 'n_width': 1024, 'activation_l0': 'Tanh', 'activation_l1': 'LeakyReLU', 'activation_l2': 'Tanh', 'last_layer': 'Sigmoid', 'lr': 0.033859566241661365, 'beta': 1.4245621570516251, 'batch_size': 2}. Best is trial 51 with value: 441924.4937063568.\u001b[0m\n"
          ]
        },
        {
          "output_type": "stream",
          "name": "stdout",
          "text": [
            "Sequential(\n",
            "  (0): Linear(in_features=1, out_features=953, bias=True)\n",
            "  (1): Tanh()\n",
            "  (2): Linear(in_features=953, out_features=953, bias=True)\n",
            "  (3): LeakyReLU(negative_slope=0.01)\n",
            "  (4): Linear(in_features=953, out_features=953, bias=True)\n",
            "  (5): Sigmoid()\n",
            "  (6): Linear(in_features=953, out_features=1, bias=True)\n",
            "  (7): Sigmoid()\n",
            ")\n"
          ]
        },
        {
          "output_type": "stream",
          "name": "stderr",
          "text": [
            "\u001b[32m[I 2022-02-27 12:15:05,419]\u001b[0m Trial 170 finished with value: 424252.8029731642 and parameters: {'n_layers': 4, 'n_width': 953, 'activation_l0': 'Tanh', 'activation_l1': 'LeakyReLU', 'activation_l2': 'Sigmoid', 'last_layer': 'Sigmoid', 'lr': 0.05669152473064728, 'beta': 1.7429549646881122, 'batch_size': 2}. Best is trial 170 with value: 424252.8029731642.\u001b[0m\n"
          ]
        },
        {
          "output_type": "stream",
          "name": "stdout",
          "text": [
            "Sequential(\n",
            "  (0): Linear(in_features=1, out_features=959, bias=True)\n",
            "  (1): Tanh()\n",
            "  (2): Linear(in_features=959, out_features=959, bias=True)\n",
            "  (3): LeakyReLU(negative_slope=0.01)\n",
            "  (4): Linear(in_features=959, out_features=959, bias=True)\n",
            "  (5): Sigmoid()\n",
            "  (6): Linear(in_features=959, out_features=1, bias=True)\n",
            "  (7): Sigmoid()\n",
            ")\n"
          ]
        },
        {
          "output_type": "stream",
          "name": "stderr",
          "text": [
            "\u001b[32m[I 2022-02-27 12:15:19,777]\u001b[0m Trial 171 finished with value: 580286.0687608656 and parameters: {'n_layers': 4, 'n_width': 959, 'activation_l0': 'Tanh', 'activation_l1': 'LeakyReLU', 'activation_l2': 'Sigmoid', 'last_layer': 'Sigmoid', 'lr': 0.05346028180109615, 'beta': 1.8017827888097657, 'batch_size': 2}. Best is trial 170 with value: 424252.8029731642.\u001b[0m\n"
          ]
        },
        {
          "output_type": "stream",
          "name": "stdout",
          "text": [
            "Sequential(\n",
            "  (0): Linear(in_features=1, out_features=947, bias=True)\n",
            "  (1): Tanh()\n",
            "  (2): Linear(in_features=947, out_features=947, bias=True)\n",
            "  (3): LeakyReLU(negative_slope=0.01)\n",
            "  (4): Linear(in_features=947, out_features=947, bias=True)\n",
            "  (5): Sigmoid()\n",
            "  (6): Linear(in_features=947, out_features=1, bias=True)\n",
            "  (7): Sigmoid()\n",
            ")\n"
          ]
        },
        {
          "output_type": "stream",
          "name": "stderr",
          "text": [
            "\u001b[32m[I 2022-02-27 12:15:33,995]\u001b[0m Trial 172 finished with value: 632778.6203119659 and parameters: {'n_layers': 4, 'n_width': 947, 'activation_l0': 'Tanh', 'activation_l1': 'LeakyReLU', 'activation_l2': 'Sigmoid', 'last_layer': 'Sigmoid', 'lr': 0.059016100998707875, 'beta': 1.716336512869936, 'batch_size': 2}. Best is trial 170 with value: 424252.8029731642.\u001b[0m\n"
          ]
        },
        {
          "output_type": "stream",
          "name": "stdout",
          "text": [
            "Sequential(\n",
            "  (0): Linear(in_features=1, out_features=950, bias=True)\n",
            "  (1): Tanh()\n",
            "  (2): Linear(in_features=950, out_features=950, bias=True)\n",
            "  (3): LeakyReLU(negative_slope=0.01)\n",
            "  (4): Linear(in_features=950, out_features=950, bias=True)\n",
            "  (5): Sigmoid()\n",
            "  (6): Linear(in_features=950, out_features=1, bias=True)\n",
            "  (7): Sigmoid()\n",
            ")\n"
          ]
        },
        {
          "output_type": "stream",
          "name": "stderr",
          "text": [
            "\u001b[32m[I 2022-02-27 12:15:48,191]\u001b[0m Trial 173 finished with value: 396234.24636465794 and parameters: {'n_layers': 4, 'n_width': 950, 'activation_l0': 'Tanh', 'activation_l1': 'LeakyReLU', 'activation_l2': 'Sigmoid', 'last_layer': 'Sigmoid', 'lr': 0.058066482066347076, 'beta': 1.7128529598874414, 'batch_size': 2}. Best is trial 173 with value: 396234.24636465794.\u001b[0m\n"
          ]
        },
        {
          "output_type": "stream",
          "name": "stdout",
          "text": [
            "Sequential(\n",
            "  (0): Linear(in_features=1, out_features=922, bias=True)\n",
            "  (1): Tanh()\n",
            "  (2): Linear(in_features=922, out_features=922, bias=True)\n",
            "  (3): LeakyReLU(negative_slope=0.01)\n",
            "  (4): Linear(in_features=922, out_features=922, bias=True)\n",
            "  (5): Sigmoid()\n",
            "  (6): Linear(in_features=922, out_features=1, bias=True)\n",
            "  (7): Sigmoid()\n",
            ")\n"
          ]
        },
        {
          "output_type": "stream",
          "name": "stderr",
          "text": [
            "\u001b[32m[I 2022-02-27 12:16:02,046]\u001b[0m Trial 174 finished with value: 864172.2010327168 and parameters: {'n_layers': 4, 'n_width': 922, 'activation_l0': 'Tanh', 'activation_l1': 'LeakyReLU', 'activation_l2': 'Sigmoid', 'last_layer': 'Sigmoid', 'lr': 0.08833641089024576, 'beta': 1.570166056364767, 'batch_size': 2}. Best is trial 173 with value: 396234.24636465794.\u001b[0m\n"
          ]
        },
        {
          "output_type": "stream",
          "name": "stdout",
          "text": [
            "Sequential(\n",
            "  (0): Linear(in_features=1, out_features=941, bias=True)\n",
            "  (1): Tanh()\n",
            "  (2): Linear(in_features=941, out_features=941, bias=True)\n",
            "  (3): LeakyReLU(negative_slope=0.01)\n",
            "  (4): Linear(in_features=941, out_features=941, bias=True)\n",
            "  (5): Sigmoid()\n",
            "  (6): Linear(in_features=941, out_features=1, bias=True)\n",
            "  (7): Sigmoid()\n",
            ")\n"
          ]
        },
        {
          "output_type": "stream",
          "name": "stderr",
          "text": [
            "\u001b[32m[I 2022-02-27 12:16:16,186]\u001b[0m Trial 175 finished with value: 415645.582879271 and parameters: {'n_layers': 4, 'n_width': 941, 'activation_l0': 'Tanh', 'activation_l1': 'LeakyReLU', 'activation_l2': 'Sigmoid', 'last_layer': 'Sigmoid', 'lr': 0.06229437465116452, 'beta': 1.7882583438916195, 'batch_size': 2}. Best is trial 173 with value: 396234.24636465794.\u001b[0m\n"
          ]
        },
        {
          "output_type": "stream",
          "name": "stdout",
          "text": [
            "Sequential(\n",
            "  (0): Linear(in_features=1, out_features=944, bias=True)\n",
            "  (1): Tanh()\n",
            "  (2): Linear(in_features=944, out_features=944, bias=True)\n",
            "  (3): LeakyReLU(negative_slope=0.01)\n",
            "  (4): Linear(in_features=944, out_features=944, bias=True)\n",
            "  (5): Sigmoid()\n",
            "  (6): Linear(in_features=944, out_features=1, bias=True)\n",
            "  (7): Sigmoid()\n",
            ")\n"
          ]
        },
        {
          "output_type": "stream",
          "name": "stderr",
          "text": [
            "\u001b[32m[I 2022-02-27 12:16:30,053]\u001b[0m Trial 176 finished with value: 832071.0531480601 and parameters: {'n_layers': 4, 'n_width': 944, 'activation_l0': 'Tanh', 'activation_l1': 'LeakyReLU', 'activation_l2': 'Sigmoid', 'last_layer': 'Sigmoid', 'lr': 0.062059607534094736, 'beta': 1.6620650624734512, 'batch_size': 2}. Best is trial 173 with value: 396234.24636465794.\u001b[0m\n"
          ]
        },
        {
          "output_type": "stream",
          "name": "stdout",
          "text": [
            "Sequential(\n",
            "  (0): Linear(in_features=1, out_features=967, bias=True)\n",
            "  (1): Tanh()\n",
            "  (2): Linear(in_features=967, out_features=967, bias=True)\n",
            "  (3): LeakyReLU(negative_slope=0.01)\n",
            "  (4): Linear(in_features=967, out_features=967, bias=True)\n",
            "  (5): Sigmoid()\n",
            "  (6): Linear(in_features=967, out_features=1, bias=True)\n",
            "  (7): Sigmoid()\n",
            ")\n"
          ]
        },
        {
          "output_type": "stream",
          "name": "stderr",
          "text": [
            "\u001b[32m[I 2022-02-27 12:16:45,044]\u001b[0m Trial 177 finished with value: 471923.3870349274 and parameters: {'n_layers': 4, 'n_width': 967, 'activation_l0': 'Tanh', 'activation_l1': 'LeakyReLU', 'activation_l2': 'Sigmoid', 'last_layer': 'Sigmoid', 'lr': 0.05450740172413235, 'beta': 1.7713093437075556, 'batch_size': 2}. Best is trial 173 with value: 396234.24636465794.\u001b[0m\n"
          ]
        },
        {
          "output_type": "stream",
          "name": "stdout",
          "text": [
            "Sequential(\n",
            "  (0): Linear(in_features=1, out_features=975, bias=True)\n",
            "  (1): Tanh()\n",
            "  (2): Linear(in_features=975, out_features=975, bias=True)\n",
            "  (3): LeakyReLU(negative_slope=0.01)\n",
            "  (4): Linear(in_features=975, out_features=975, bias=True)\n",
            "  (5): Sigmoid()\n",
            "  (6): Linear(in_features=975, out_features=1, bias=True)\n",
            "  (7): Softplus(beta=1, threshold=20)\n",
            ")\n"
          ]
        },
        {
          "output_type": "stream",
          "name": "stderr",
          "text": [
            "\u001b[32m[I 2022-02-27 12:17:00,052]\u001b[0m Trial 178 finished with value: 2265193.7556525855 and parameters: {'n_layers': 4, 'n_width': 975, 'activation_l0': 'Tanh', 'activation_l1': 'LeakyReLU', 'activation_l2': 'Sigmoid', 'last_layer': 'Softplus', 'lr': 0.0662791200373733, 'beta': 1.8809338062042542, 'batch_size': 2}. Best is trial 173 with value: 396234.24636465794.\u001b[0m\n"
          ]
        },
        {
          "output_type": "stream",
          "name": "stdout",
          "text": [
            "Sequential(\n",
            "  (0): Linear(in_features=1, out_features=1001, bias=True)\n",
            "  (1): Sigmoid()\n",
            "  (2): Linear(in_features=1001, out_features=1001, bias=True)\n",
            "  (3): LeakyReLU(negative_slope=0.01)\n",
            "  (4): Linear(in_features=1001, out_features=1001, bias=True)\n",
            "  (5): Sigmoid()\n",
            "  (6): Linear(in_features=1001, out_features=1, bias=True)\n",
            "  (7): Sigmoid()\n",
            ")\n"
          ]
        },
        {
          "output_type": "stream",
          "name": "stderr",
          "text": [
            "\u001b[32m[I 2022-02-27 12:17:15,478]\u001b[0m Trial 179 finished with value: 902332.1410257815 and parameters: {'n_layers': 4, 'n_width': 1001, 'activation_l0': 'Sigmoid', 'activation_l1': 'LeakyReLU', 'activation_l2': 'Sigmoid', 'last_layer': 'Sigmoid', 'lr': 0.05059287276640003, 'beta': 2.2495065228388116, 'batch_size': 2}. Best is trial 173 with value: 396234.24636465794.\u001b[0m\n"
          ]
        },
        {
          "output_type": "stream",
          "name": "stdout",
          "text": [
            "Sequential(\n",
            "  (0): Linear(in_features=1, out_features=948, bias=True)\n",
            "  (1): Tanh()\n",
            "  (2): Linear(in_features=948, out_features=948, bias=True)\n",
            "  (3): LeakyReLU(negative_slope=0.01)\n",
            "  (4): Linear(in_features=948, out_features=1, bias=True)\n",
            "  (5): Sigmoid()\n",
            ")\n"
          ]
        },
        {
          "output_type": "stream",
          "name": "stderr",
          "text": [
            "\u001b[32m[I 2022-02-27 12:17:23,043]\u001b[0m Trial 180 finished with value: 889899.5380220402 and parameters: {'n_layers': 3, 'n_width': 948, 'activation_l0': 'Tanh', 'activation_l1': 'LeakyReLU', 'last_layer': 'Sigmoid', 'lr': 0.07669054514871962, 'beta': 1.2984218882690317, 'batch_size': 2}. Best is trial 173 with value: 396234.24636465794.\u001b[0m\n"
          ]
        },
        {
          "output_type": "stream",
          "name": "stdout",
          "text": [
            "Sequential(\n",
            "  (0): Linear(in_features=1, out_features=966, bias=True)\n",
            "  (1): Tanh()\n",
            "  (2): Linear(in_features=966, out_features=966, bias=True)\n",
            "  (3): LeakyReLU(negative_slope=0.01)\n",
            "  (4): Linear(in_features=966, out_features=966, bias=True)\n",
            "  (5): Sigmoid()\n",
            "  (6): Linear(in_features=966, out_features=1, bias=True)\n",
            "  (7): Sigmoid()\n",
            ")\n"
          ]
        },
        {
          "output_type": "stream",
          "name": "stderr",
          "text": [
            "\u001b[32m[I 2022-02-27 12:17:37,921]\u001b[0m Trial 181 finished with value: 468362.87938972394 and parameters: {'n_layers': 4, 'n_width': 966, 'activation_l0': 'Tanh', 'activation_l1': 'LeakyReLU', 'activation_l2': 'Sigmoid', 'last_layer': 'Sigmoid', 'lr': 0.09775171603532534, 'beta': 1.6504693272304927, 'batch_size': 2}. Best is trial 173 with value: 396234.24636465794.\u001b[0m\n"
          ]
        },
        {
          "output_type": "stream",
          "name": "stdout",
          "text": [
            "Sequential(\n",
            "  (0): Linear(in_features=1, out_features=972, bias=True)\n",
            "  (1): Tanh()\n",
            "  (2): Linear(in_features=972, out_features=972, bias=True)\n",
            "  (3): LeakyReLU(negative_slope=0.01)\n",
            "  (4): Linear(in_features=972, out_features=972, bias=True)\n",
            "  (5): Sigmoid()\n",
            "  (6): Linear(in_features=972, out_features=1, bias=True)\n",
            "  (7): Sigmoid()\n",
            ")\n"
          ]
        },
        {
          "output_type": "stream",
          "name": "stderr",
          "text": [
            "\u001b[32m[I 2022-02-27 12:17:52,798]\u001b[0m Trial 182 finished with value: 731803.4788398518 and parameters: {'n_layers': 4, 'n_width': 972, 'activation_l0': 'Tanh', 'activation_l1': 'LeakyReLU', 'activation_l2': 'Sigmoid', 'last_layer': 'Sigmoid', 'lr': 0.09511401148822721, 'beta': 1.7505523296851786, 'batch_size': 2}. Best is trial 173 with value: 396234.24636465794.\u001b[0m\n"
          ]
        },
        {
          "output_type": "stream",
          "name": "stdout",
          "text": [
            "Sequential(\n",
            "  (0): Linear(in_features=1, out_features=927, bias=True)\n",
            "  (1): Tanh()\n",
            "  (2): Linear(in_features=927, out_features=927, bias=True)\n",
            "  (3): LeakyReLU(negative_slope=0.01)\n",
            "  (4): Linear(in_features=927, out_features=927, bias=True)\n",
            "  (5): Sigmoid()\n",
            "  (6): Linear(in_features=927, out_features=1, bias=True)\n",
            "  (7): Sigmoid()\n",
            ")\n"
          ]
        },
        {
          "output_type": "stream",
          "name": "stderr",
          "text": [
            "\u001b[32m[I 2022-02-27 12:18:06,722]\u001b[0m Trial 183 finished with value: 1152516.389666714 and parameters: {'n_layers': 4, 'n_width': 927, 'activation_l0': 'Tanh', 'activation_l1': 'LeakyReLU', 'activation_l2': 'Sigmoid', 'last_layer': 'Sigmoid', 'lr': 0.05449161297008711, 'beta': 2.14318689627823, 'batch_size': 2}. Best is trial 173 with value: 396234.24636465794.\u001b[0m\n"
          ]
        },
        {
          "output_type": "stream",
          "name": "stdout",
          "text": [
            "Sequential(\n",
            "  (0): Linear(in_features=1, out_features=966, bias=True)\n",
            "  (1): Tanh()\n",
            "  (2): Linear(in_features=966, out_features=966, bias=True)\n",
            "  (3): LeakyReLU(negative_slope=0.01)\n",
            "  (4): Linear(in_features=966, out_features=966, bias=True)\n",
            "  (5): Sigmoid()\n",
            "  (6): Linear(in_features=966, out_features=1, bias=True)\n",
            "  (7): Sigmoid()\n",
            ")\n"
          ]
        },
        {
          "output_type": "stream",
          "name": "stderr",
          "text": [
            "\u001b[32m[I 2022-02-27 12:18:11,786]\u001b[0m Trial 184 finished with value: 1805641.540054875 and parameters: {'n_layers': 4, 'n_width': 966, 'activation_l0': 'Tanh', 'activation_l1': 'LeakyReLU', 'activation_l2': 'Sigmoid', 'last_layer': 'Sigmoid', 'lr': 0.04647639678439874, 'beta': 1.4856323193289664, 'batch_size': 10}. Best is trial 173 with value: 396234.24636465794.\u001b[0m\n"
          ]
        },
        {
          "output_type": "stream",
          "name": "stdout",
          "text": [
            "Sequential(\n",
            "  (0): Linear(in_features=1, out_features=989, bias=True)\n",
            "  (1): Tanh()\n",
            "  (2): Linear(in_features=989, out_features=989, bias=True)\n",
            "  (3): LeakyReLU(negative_slope=0.01)\n",
            "  (4): Linear(in_features=989, out_features=989, bias=True)\n",
            "  (5): Sigmoid()\n",
            "  (6): Linear(in_features=989, out_features=1, bias=True)\n",
            "  (7): Sigmoid()\n",
            ")\n"
          ]
        },
        {
          "output_type": "stream",
          "name": "stderr",
          "text": [
            "\u001b[32m[I 2022-02-27 12:18:26,865]\u001b[0m Trial 185 finished with value: 790484.2472430456 and parameters: {'n_layers': 4, 'n_width': 989, 'activation_l0': 'Tanh', 'activation_l1': 'LeakyReLU', 'activation_l2': 'Sigmoid', 'last_layer': 'Sigmoid', 'lr': 0.06559020283970336, 'beta': 2.425883775591474, 'batch_size': 2}. Best is trial 173 with value: 396234.24636465794.\u001b[0m\n"
          ]
        },
        {
          "output_type": "stream",
          "name": "stdout",
          "text": [
            "Sequential(\n",
            "  (0): Linear(in_features=1, out_features=949, bias=True)\n",
            "  (1): Tanh()\n",
            "  (2): Linear(in_features=949, out_features=949, bias=True)\n",
            "  (3): LeakyReLU(negative_slope=0.01)\n",
            "  (4): Linear(in_features=949, out_features=949, bias=True)\n",
            "  (5): Sigmoid()\n",
            "  (6): Linear(in_features=949, out_features=1, bias=True)\n",
            "  (7): Sigmoid()\n",
            ")\n"
          ]
        },
        {
          "output_type": "stream",
          "name": "stderr",
          "text": [
            "\u001b[32m[I 2022-02-27 12:18:41,037]\u001b[0m Trial 186 finished with value: 713395.1125832505 and parameters: {'n_layers': 4, 'n_width': 949, 'activation_l0': 'Tanh', 'activation_l1': 'LeakyReLU', 'activation_l2': 'Sigmoid', 'last_layer': 'Sigmoid', 'lr': 0.0962525401461079, 'beta': 1.7301621963795877, 'batch_size': 2}. Best is trial 173 with value: 396234.24636465794.\u001b[0m\n"
          ]
        },
        {
          "output_type": "stream",
          "name": "stdout",
          "text": [
            "Sequential(\n",
            "  (0): Linear(in_features=1, out_features=997, bias=True)\n",
            "  (1): Tanh()\n",
            "  (2): Linear(in_features=997, out_features=997, bias=True)\n",
            "  (3): LeakyReLU(negative_slope=0.01)\n",
            "  (4): Linear(in_features=997, out_features=997, bias=True)\n",
            "  (5): LeakyReLU(negative_slope=0.01)\n",
            "  (6): Linear(in_features=997, out_features=1, bias=True)\n",
            "  (7): Sigmoid()\n",
            ")\n"
          ]
        },
        {
          "output_type": "stream",
          "name": "stderr",
          "text": [
            "\u001b[32m[I 2022-02-27 12:18:56,300]\u001b[0m Trial 187 finished with value: 634665.2195793929 and parameters: {'n_layers': 4, 'n_width': 997, 'activation_l0': 'Tanh', 'activation_l1': 'LeakyReLU', 'activation_l2': 'LeakyReLU', 'last_layer': 'Sigmoid', 'lr': 0.043306968829208176, 'beta': 1.3926578361209427, 'batch_size': 2}. Best is trial 173 with value: 396234.24636465794.\u001b[0m\n"
          ]
        },
        {
          "output_type": "stream",
          "name": "stdout",
          "text": [
            "Sequential(\n",
            "  (0): Linear(in_features=1, out_features=924, bias=True)\n",
            "  (1): Tanh()\n",
            "  (2): Linear(in_features=924, out_features=924, bias=True)\n",
            "  (3): LeakyReLU(negative_slope=0.01)\n",
            "  (4): Linear(in_features=924, out_features=924, bias=True)\n",
            "  (5): Sigmoid()\n",
            "  (6): Linear(in_features=924, out_features=1, bias=True)\n",
            "  (7): Sigmoid()\n",
            ")\n"
          ]
        },
        {
          "output_type": "stream",
          "name": "stderr",
          "text": [
            "\u001b[32m[I 2022-02-27 12:19:10,172]\u001b[0m Trial 188 finished with value: 697278.8975461308 and parameters: {'n_layers': 4, 'n_width': 924, 'activation_l0': 'Tanh', 'activation_l1': 'LeakyReLU', 'activation_l2': 'Sigmoid', 'last_layer': 'Sigmoid', 'lr': 0.04257994442790071, 'beta': 1.1538186989221684, 'batch_size': 2}. Best is trial 173 with value: 396234.24636465794.\u001b[0m\n"
          ]
        },
        {
          "output_type": "stream",
          "name": "stdout",
          "text": [
            "Sequential(\n",
            "  (0): Linear(in_features=1, out_features=961, bias=True)\n",
            "  (1): Tanh()\n",
            "  (2): Linear(in_features=961, out_features=961, bias=True)\n",
            "  (3): LeakyReLU(negative_slope=0.01)\n",
            "  (4): Linear(in_features=961, out_features=961, bias=True)\n",
            "  (5): LeakyReLU(negative_slope=0.01)\n",
            "  (6): Linear(in_features=961, out_features=1, bias=True)\n",
            "  (7): Sigmoid()\n",
            ")\n"
          ]
        },
        {
          "output_type": "stream",
          "name": "stderr",
          "text": [
            "\u001b[32m[I 2022-02-27 12:19:25,054]\u001b[0m Trial 189 finished with value: 778217.8891963088 and parameters: {'n_layers': 4, 'n_width': 961, 'activation_l0': 'Tanh', 'activation_l1': 'LeakyReLU', 'activation_l2': 'LeakyReLU', 'last_layer': 'Sigmoid', 'lr': 0.06853208875953556, 'beta': 1.36362156090321, 'batch_size': 2}. Best is trial 173 with value: 396234.24636465794.\u001b[0m\n"
          ]
        },
        {
          "output_type": "stream",
          "name": "stdout",
          "text": [
            "Sequential(\n",
            "  (0): Linear(in_features=1, out_features=1008, bias=True)\n",
            "  (1): Tanh()\n",
            "  (2): Linear(in_features=1008, out_features=1008, bias=True)\n",
            "  (3): LeakyReLU(negative_slope=0.01)\n",
            "  (4): Linear(in_features=1008, out_features=1008, bias=True)\n",
            "  (5): LeakyReLU(negative_slope=0.01)\n",
            "  (6): Linear(in_features=1008, out_features=1, bias=True)\n",
            "  (7): Sigmoid()\n",
            ")\n"
          ]
        },
        {
          "output_type": "stream",
          "name": "stderr",
          "text": [
            "\u001b[32m[I 2022-02-27 12:19:40,151]\u001b[0m Trial 190 finished with value: 457877908.62000144 and parameters: {'n_layers': 4, 'n_width': 1008, 'activation_l0': 'Tanh', 'activation_l1': 'LeakyReLU', 'activation_l2': 'LeakyReLU', 'last_layer': 'Sigmoid', 'lr': 0.040033335078525994, 'beta': 1.857980929047599, 'batch_size': 2}. Best is trial 173 with value: 396234.24636465794.\u001b[0m\n"
          ]
        },
        {
          "output_type": "stream",
          "name": "stdout",
          "text": [
            "Sequential(\n",
            "  (0): Linear(in_features=1, out_features=987, bias=True)\n",
            "  (1): Tanh()\n",
            "  (2): Linear(in_features=987, out_features=987, bias=True)\n",
            "  (3): LeakyReLU(negative_slope=0.01)\n",
            "  (4): Linear(in_features=987, out_features=987, bias=True)\n",
            "  (5): LeakyReLU(negative_slope=0.01)\n",
            "  (6): Linear(in_features=987, out_features=1, bias=True)\n",
            "  (7): Sigmoid()\n",
            ")\n"
          ]
        },
        {
          "output_type": "stream",
          "name": "stderr",
          "text": [
            "\u001b[32m[I 2022-02-27 12:19:55,311]\u001b[0m Trial 191 finished with value: 459358536.15410125 and parameters: {'n_layers': 4, 'n_width': 987, 'activation_l0': 'Tanh', 'activation_l1': 'LeakyReLU', 'activation_l2': 'LeakyReLU', 'last_layer': 'Sigmoid', 'lr': 0.054047021654692384, 'beta': 1.533111373609968, 'batch_size': 2}. Best is trial 173 with value: 396234.24636465794.\u001b[0m\n"
          ]
        },
        {
          "output_type": "stream",
          "name": "stdout",
          "text": [
            "Sequential(\n",
            "  (0): Linear(in_features=1, out_features=994, bias=True)\n",
            "  (1): Tanh()\n",
            "  (2): Linear(in_features=994, out_features=994, bias=True)\n",
            "  (3): LeakyReLU(negative_slope=0.01)\n",
            "  (4): Linear(in_features=994, out_features=994, bias=True)\n",
            "  (5): LeakyReLU(negative_slope=0.01)\n",
            "  (6): Linear(in_features=994, out_features=1, bias=True)\n",
            "  (7): Sigmoid()\n",
            ")\n"
          ]
        },
        {
          "output_type": "stream",
          "name": "stderr",
          "text": [
            "\u001b[32m[I 2022-02-27 12:20:10,481]\u001b[0m Trial 192 finished with value: 76698955.81587848 and parameters: {'n_layers': 4, 'n_width': 994, 'activation_l0': 'Tanh', 'activation_l1': 'LeakyReLU', 'activation_l2': 'LeakyReLU', 'last_layer': 'Sigmoid', 'lr': 0.03578188066711511, 'beta': 2.1824853307575998, 'batch_size': 2}. Best is trial 173 with value: 396234.24636465794.\u001b[0m\n"
          ]
        },
        {
          "output_type": "stream",
          "name": "stdout",
          "text": [
            "Sequential(\n",
            "  (0): Linear(in_features=1, out_features=938, bias=True)\n",
            "  (1): Tanh()\n",
            "  (2): Linear(in_features=938, out_features=938, bias=True)\n",
            "  (3): LeakyReLU(negative_slope=0.01)\n",
            "  (4): Linear(in_features=938, out_features=938, bias=True)\n",
            "  (5): Sigmoid()\n",
            "  (6): Linear(in_features=938, out_features=1, bias=True)\n",
            "  (7): Sigmoid()\n",
            ")\n"
          ]
        },
        {
          "output_type": "stream",
          "name": "stderr",
          "text": [
            "\u001b[32m[I 2022-02-27 12:20:24,521]\u001b[0m Trial 193 finished with value: 607585.3028454585 and parameters: {'n_layers': 4, 'n_width': 938, 'activation_l0': 'Tanh', 'activation_l1': 'LeakyReLU', 'activation_l2': 'Sigmoid', 'last_layer': 'Sigmoid', 'lr': 0.060729113991715315, 'beta': 1.8820395043363864, 'batch_size': 2}. Best is trial 173 with value: 396234.24636465794.\u001b[0m\n"
          ]
        },
        {
          "output_type": "stream",
          "name": "stdout",
          "text": [
            "Sequential(\n",
            "  (0): Linear(in_features=1, out_features=937, bias=True)\n",
            "  (1): Tanh()\n",
            "  (2): Linear(in_features=937, out_features=937, bias=True)\n",
            "  (3): LeakyReLU(negative_slope=0.01)\n",
            "  (4): Linear(in_features=937, out_features=937, bias=True)\n",
            "  (5): Sigmoid()\n",
            "  (6): Linear(in_features=937, out_features=1, bias=True)\n",
            "  (7): Sigmoid()\n",
            ")\n"
          ]
        },
        {
          "output_type": "stream",
          "name": "stderr",
          "text": [
            "\u001b[32m[I 2022-02-27 12:20:38,615]\u001b[0m Trial 194 finished with value: 998099.7893872149 and parameters: {'n_layers': 4, 'n_width': 937, 'activation_l0': 'Tanh', 'activation_l1': 'LeakyReLU', 'activation_l2': 'Sigmoid', 'last_layer': 'Sigmoid', 'lr': 0.06077482446102894, 'beta': 1.879811706968828, 'batch_size': 2}. Best is trial 173 with value: 396234.24636465794.\u001b[0m\n"
          ]
        },
        {
          "output_type": "stream",
          "name": "stdout",
          "text": [
            "Sequential(\n",
            "  (0): Linear(in_features=1, out_features=915, bias=True)\n",
            "  (1): Tanh()\n",
            "  (2): Linear(in_features=915, out_features=915, bias=True)\n",
            "  (3): LeakyReLU(negative_slope=0.01)\n",
            "  (4): Linear(in_features=915, out_features=915, bias=True)\n",
            "  (5): LeakyReLU(negative_slope=0.01)\n",
            "  (6): Linear(in_features=915, out_features=1, bias=True)\n",
            "  (7): Sigmoid()\n",
            ")\n"
          ]
        },
        {
          "output_type": "stream",
          "name": "stderr",
          "text": [
            "\u001b[32m[I 2022-02-27 12:20:52,446]\u001b[0m Trial 195 finished with value: 1072940.1789088633 and parameters: {'n_layers': 4, 'n_width': 915, 'activation_l0': 'Tanh', 'activation_l1': 'LeakyReLU', 'activation_l2': 'LeakyReLU', 'last_layer': 'Sigmoid', 'lr': 0.07624194149698636, 'beta': 2.685398759522744, 'batch_size': 2}. Best is trial 173 with value: 396234.24636465794.\u001b[0m\n"
          ]
        },
        {
          "output_type": "stream",
          "name": "stdout",
          "text": [
            "Sequential(\n",
            "  (0): Linear(in_features=1, out_features=960, bias=True)\n",
            "  (1): Tanh()\n",
            "  (2): Linear(in_features=960, out_features=960, bias=True)\n",
            "  (3): LeakyReLU(negative_slope=0.01)\n",
            "  (4): Linear(in_features=960, out_features=960, bias=True)\n",
            "  (5): Sigmoid()\n",
            "  (6): Linear(in_features=960, out_features=1, bias=True)\n",
            "  (7): Sigmoid()\n",
            ")\n"
          ]
        },
        {
          "output_type": "stream",
          "name": "stderr",
          "text": [
            "\u001b[32m[I 2022-02-27 12:21:06,362]\u001b[0m Trial 196 finished with value: 1065341.4633570986 and parameters: {'n_layers': 4, 'n_width': 960, 'activation_l0': 'Tanh', 'activation_l1': 'LeakyReLU', 'activation_l2': 'Sigmoid', 'last_layer': 'Sigmoid', 'lr': 0.04871937162271102, 'beta': 0.9729815237860704, 'batch_size': 2}. Best is trial 173 with value: 396234.24636465794.\u001b[0m\n"
          ]
        },
        {
          "output_type": "stream",
          "name": "stdout",
          "text": [
            "Sequential(\n",
            "  (0): Linear(in_features=1, out_features=941, bias=True)\n",
            "  (1): LeakyReLU(negative_slope=0.01)\n",
            "  (2): Linear(in_features=941, out_features=941, bias=True)\n",
            "  (3): LeakyReLU(negative_slope=0.01)\n",
            "  (4): Linear(in_features=941, out_features=941, bias=True)\n",
            "  (5): Sigmoid()\n",
            "  (6): Linear(in_features=941, out_features=1, bias=True)\n",
            "  (7): Sigmoid()\n",
            ")\n"
          ]
        },
        {
          "output_type": "stream",
          "name": "stderr",
          "text": [
            "\u001b[32m[I 2022-02-27 12:21:20,601]\u001b[0m Trial 197 finished with value: 5739560.300128859 and parameters: {'n_layers': 4, 'n_width': 941, 'activation_l0': 'LeakyReLU', 'activation_l1': 'LeakyReLU', 'activation_l2': 'Sigmoid', 'last_layer': 'Sigmoid', 'lr': 0.0780665643391023, 'beta': 1.5786176141601673, 'batch_size': 2}. Best is trial 173 with value: 396234.24636465794.\u001b[0m\n"
          ]
        },
        {
          "output_type": "stream",
          "name": "stdout",
          "text": [
            "Sequential(\n",
            "  (0): Linear(in_features=1, out_features=898, bias=True)\n",
            "  (1): Tanh()\n",
            "  (2): Linear(in_features=898, out_features=898, bias=True)\n",
            "  (3): LeakyReLU(negative_slope=0.01)\n",
            "  (4): Linear(in_features=898, out_features=898, bias=True)\n",
            "  (5): Sigmoid()\n",
            "  (6): Linear(in_features=898, out_features=1, bias=True)\n",
            "  (7): Sigmoid()\n",
            ")\n"
          ]
        },
        {
          "output_type": "stream",
          "name": "stderr",
          "text": [
            "\u001b[32m[I 2022-02-27 12:21:25,235]\u001b[0m Trial 198 finished with value: 2405642.6584569276 and parameters: {'n_layers': 4, 'n_width': 898, 'activation_l0': 'Tanh', 'activation_l1': 'LeakyReLU', 'activation_l2': 'Sigmoid', 'last_layer': 'Sigmoid', 'lr': 0.03587871972332548, 'beta': 1.3072997825212678, 'batch_size': 9}. Best is trial 173 with value: 396234.24636465794.\u001b[0m\n"
          ]
        },
        {
          "output_type": "stream",
          "name": "stdout",
          "text": [
            "Sequential(\n",
            "  (0): Linear(in_features=1, out_features=967, bias=True)\n",
            "  (1): Tanh()\n",
            "  (2): Linear(in_features=967, out_features=967, bias=True)\n",
            "  (3): LeakyReLU(negative_slope=0.01)\n",
            "  (4): Linear(in_features=967, out_features=967, bias=True)\n",
            "  (5): Sigmoid()\n",
            "  (6): Linear(in_features=967, out_features=1, bias=True)\n",
            "  (7): Sigmoid()\n",
            ")\n"
          ]
        },
        {
          "output_type": "stream",
          "name": "stderr",
          "text": [
            "\u001b[32m[I 2022-02-27 12:21:40,166]\u001b[0m Trial 199 finished with value: 673498.4131212496 and parameters: {'n_layers': 4, 'n_width': 967, 'activation_l0': 'Tanh', 'activation_l1': 'LeakyReLU', 'activation_l2': 'Sigmoid', 'last_layer': 'Sigmoid', 'lr': 0.09566553411139814, 'beta': 3.024843049513258, 'batch_size': 2}. Best is trial 173 with value: 396234.24636465794.\u001b[0m\n"
          ]
        },
        {
          "output_type": "stream",
          "name": "stdout",
          "text": [
            "Sequential(\n",
            "  (0): Linear(in_features=1, out_features=934, bias=True)\n",
            "  (1): Tanh()\n",
            "  (2): Linear(in_features=934, out_features=934, bias=True)\n",
            "  (3): LeakyReLU(negative_slope=0.01)\n",
            "  (4): Linear(in_features=934, out_features=934, bias=True)\n",
            "  (5): Sigmoid()\n",
            "  (6): Linear(in_features=934, out_features=1, bias=True)\n",
            "  (7): Sigmoid()\n",
            ")\n"
          ]
        },
        {
          "output_type": "stream",
          "name": "stderr",
          "text": [
            "\u001b[32m[I 2022-02-27 12:21:54,151]\u001b[0m Trial 200 finished with value: 936785.495836127 and parameters: {'n_layers': 4, 'n_width': 934, 'activation_l0': 'Tanh', 'activation_l1': 'LeakyReLU', 'activation_l2': 'Sigmoid', 'last_layer': 'Sigmoid', 'lr': 0.055858674824850386, 'beta': 2.0291695226620905, 'batch_size': 2}. Best is trial 173 with value: 396234.24636465794.\u001b[0m\n"
          ]
        },
        {
          "output_type": "stream",
          "name": "stdout",
          "text": [
            "Sequential(\n",
            "  (0): Linear(in_features=1, out_features=984, bias=True)\n",
            "  (1): Tanh()\n",
            "  (2): Linear(in_features=984, out_features=984, bias=True)\n",
            "  (3): LeakyReLU(negative_slope=0.01)\n",
            "  (4): Linear(in_features=984, out_features=984, bias=True)\n",
            "  (5): Sigmoid()\n",
            "  (6): Linear(in_features=984, out_features=1, bias=True)\n",
            "  (7): Sigmoid()\n",
            ")\n"
          ]
        },
        {
          "output_type": "stream",
          "name": "stderr",
          "text": [
            "\u001b[32m[I 2022-02-27 12:22:09,116]\u001b[0m Trial 201 finished with value: 683398.5062719636 and parameters: {'n_layers': 4, 'n_width': 984, 'activation_l0': 'Tanh', 'activation_l1': 'LeakyReLU', 'activation_l2': 'Sigmoid', 'last_layer': 'Sigmoid', 'lr': 0.027727671226385215, 'beta': 1.7530866216243726, 'batch_size': 2}. Best is trial 173 with value: 396234.24636465794.\u001b[0m\n"
          ]
        },
        {
          "output_type": "stream",
          "name": "stdout",
          "text": [
            "Sequential(\n",
            "  (0): Linear(in_features=1, out_features=1022, bias=True)\n",
            "  (1): Tanh()\n",
            "  (2): Linear(in_features=1022, out_features=1022, bias=True)\n",
            "  (3): LeakyReLU(negative_slope=0.01)\n",
            "  (4): Linear(in_features=1022, out_features=1022, bias=True)\n",
            "  (5): Sigmoid()\n",
            "  (6): Linear(in_features=1022, out_features=1, bias=True)\n",
            "  (7): Sigmoid()\n",
            ")\n"
          ]
        },
        {
          "output_type": "stream",
          "name": "stderr",
          "text": [
            "\u001b[32m[I 2022-02-27 12:22:24,574]\u001b[0m Trial 202 finished with value: 730947.6260154693 and parameters: {'n_layers': 4, 'n_width': 1022, 'activation_l0': 'Tanh', 'activation_l1': 'LeakyReLU', 'activation_l2': 'Sigmoid', 'last_layer': 'Sigmoid', 'lr': 0.042576092851343006, 'beta': 2.356308963757105, 'batch_size': 2}. Best is trial 173 with value: 396234.24636465794.\u001b[0m\n"
          ]
        },
        {
          "output_type": "stream",
          "name": "stdout",
          "text": [
            "Sequential(\n",
            "  (0): Linear(in_features=1, out_features=973, bias=True)\n",
            "  (1): Tanh()\n",
            "  (2): Linear(in_features=973, out_features=973, bias=True)\n",
            "  (3): LeakyReLU(negative_slope=0.01)\n",
            "  (4): Linear(in_features=973, out_features=973, bias=True)\n",
            "  (5): Sigmoid()\n",
            "  (6): Linear(in_features=973, out_features=1, bias=True)\n",
            "  (7): Sigmoid()\n",
            ")\n"
          ]
        },
        {
          "output_type": "stream",
          "name": "stderr",
          "text": [
            "\u001b[32m[I 2022-02-27 12:22:39,650]\u001b[0m Trial 203 finished with value: 353851.7168641779 and parameters: {'n_layers': 4, 'n_width': 973, 'activation_l0': 'Tanh', 'activation_l1': 'LeakyReLU', 'activation_l2': 'Sigmoid', 'last_layer': 'Sigmoid', 'lr': 0.02671479278443427, 'beta': 1.9642314460711379, 'batch_size': 2}. Best is trial 203 with value: 353851.7168641779.\u001b[0m\n"
          ]
        },
        {
          "output_type": "stream",
          "name": "stdout",
          "text": [
            "Sequential(\n",
            "  (0): Linear(in_features=1, out_features=954, bias=True)\n",
            "  (1): Tanh()\n",
            "  (2): Linear(in_features=954, out_features=954, bias=True)\n",
            "  (3): LeakyReLU(negative_slope=0.01)\n",
            "  (4): Linear(in_features=954, out_features=954, bias=True)\n",
            "  (5): Sigmoid()\n",
            "  (6): Linear(in_features=954, out_features=1, bias=True)\n",
            "  (7): Sigmoid()\n",
            ")\n"
          ]
        },
        {
          "output_type": "stream",
          "name": "stderr",
          "text": [
            "\u001b[32m[I 2022-02-27 12:22:53,914]\u001b[0m Trial 204 finished with value: 572747.2189952265 and parameters: {'n_layers': 4, 'n_width': 954, 'activation_l0': 'Tanh', 'activation_l1': 'LeakyReLU', 'activation_l2': 'Sigmoid', 'last_layer': 'Sigmoid', 'lr': 0.024381214307749175, 'beta': 1.7426513542184618, 'batch_size': 2}. Best is trial 203 with value: 353851.7168641779.\u001b[0m\n"
          ]
        },
        {
          "output_type": "stream",
          "name": "stdout",
          "text": [
            "Sequential(\n",
            "  (0): Linear(in_features=1, out_features=971, bias=True)\n",
            "  (1): Tanh()\n",
            "  (2): Linear(in_features=971, out_features=971, bias=True)\n",
            "  (3): LeakyReLU(negative_slope=0.01)\n",
            "  (4): Linear(in_features=971, out_features=971, bias=True)\n",
            "  (5): Sigmoid()\n",
            "  (6): Linear(in_features=971, out_features=1, bias=True)\n",
            "  (7): Sigmoid()\n",
            ")\n"
          ]
        },
        {
          "output_type": "stream",
          "name": "stderr",
          "text": [
            "\u001b[32m[I 2022-02-27 12:23:08,976]\u001b[0m Trial 205 finished with value: 936337.3750632028 and parameters: {'n_layers': 4, 'n_width': 971, 'activation_l0': 'Tanh', 'activation_l1': 'LeakyReLU', 'activation_l2': 'Sigmoid', 'last_layer': 'Sigmoid', 'lr': 0.048882854674030925, 'beta': 1.4380629931787667, 'batch_size': 2}. Best is trial 203 with value: 353851.7168641779.\u001b[0m\n"
          ]
        },
        {
          "output_type": "stream",
          "name": "stdout",
          "text": [
            "Sequential(\n",
            "  (0): Linear(in_features=1, out_features=957, bias=True)\n",
            "  (1): Tanh()\n",
            "  (2): Linear(in_features=957, out_features=957, bias=True)\n",
            "  (3): LeakyReLU(negative_slope=0.01)\n",
            "  (4): Linear(in_features=957, out_features=957, bias=True)\n",
            "  (5): Sigmoid()\n",
            "  (6): Linear(in_features=957, out_features=1, bias=True)\n",
            "  (7): Sigmoid()\n",
            ")\n"
          ]
        },
        {
          "output_type": "stream",
          "name": "stderr",
          "text": [
            "\u001b[32m[I 2022-02-27 12:23:23,236]\u001b[0m Trial 206 finished with value: 417245.52915596135 and parameters: {'n_layers': 4, 'n_width': 957, 'activation_l0': 'Tanh', 'activation_l1': 'LeakyReLU', 'activation_l2': 'Sigmoid', 'last_layer': 'Sigmoid', 'lr': 0.03365000169423835, 'beta': 1.6580048184860345, 'batch_size': 2}. Best is trial 203 with value: 353851.7168641779.\u001b[0m\n"
          ]
        },
        {
          "output_type": "stream",
          "name": "stdout",
          "text": [
            "Sequential(\n",
            "  (0): Linear(in_features=1, out_features=959, bias=True)\n",
            "  (1): Tanh()\n",
            "  (2): Linear(in_features=959, out_features=959, bias=True)\n",
            "  (3): LeakyReLU(negative_slope=0.01)\n",
            "  (4): Linear(in_features=959, out_features=959, bias=True)\n",
            "  (5): Sigmoid()\n",
            "  (6): Linear(in_features=959, out_features=1, bias=True)\n",
            "  (7): Sigmoid()\n",
            ")\n"
          ]
        },
        {
          "output_type": "stream",
          "name": "stderr",
          "text": [
            "\u001b[32m[I 2022-02-27 12:23:37,504]\u001b[0m Trial 207 finished with value: 653754.5146314763 and parameters: {'n_layers': 4, 'n_width': 959, 'activation_l0': 'Tanh', 'activation_l1': 'LeakyReLU', 'activation_l2': 'Sigmoid', 'last_layer': 'Sigmoid', 'lr': 0.06678461353131036, 'beta': 1.6987914428995257, 'batch_size': 2}. Best is trial 203 with value: 353851.7168641779.\u001b[0m\n"
          ]
        },
        {
          "output_type": "stream",
          "name": "stdout",
          "text": [
            "Sequential(\n",
            "  (0): Linear(in_features=1, out_features=999, bias=True)\n",
            "  (1): Tanh()\n",
            "  (2): Linear(in_features=999, out_features=999, bias=True)\n",
            "  (3): LeakyReLU(negative_slope=0.01)\n",
            "  (4): Linear(in_features=999, out_features=999, bias=True)\n",
            "  (5): Sigmoid()\n",
            "  (6): Linear(in_features=999, out_features=1, bias=True)\n",
            "  (7): Sigmoid()\n",
            ")\n"
          ]
        },
        {
          "output_type": "stream",
          "name": "stderr",
          "text": [
            "\u001b[32m[I 2022-02-27 12:23:52,762]\u001b[0m Trial 208 finished with value: 420127.44015097513 and parameters: {'n_layers': 4, 'n_width': 999, 'activation_l0': 'Tanh', 'activation_l1': 'LeakyReLU', 'activation_l2': 'Sigmoid', 'last_layer': 'Sigmoid', 'lr': 0.06267842949294546, 'beta': 1.1076436088917563, 'batch_size': 2}. Best is trial 203 with value: 353851.7168641779.\u001b[0m\n"
          ]
        },
        {
          "output_type": "stream",
          "name": "stdout",
          "text": [
            "Sequential(\n",
            "  (0): Linear(in_features=1, out_features=1007, bias=True)\n",
            "  (1): Tanh()\n",
            "  (2): Linear(in_features=1007, out_features=1007, bias=True)\n",
            "  (3): LeakyReLU(negative_slope=0.01)\n",
            "  (4): Linear(in_features=1007, out_features=1007, bias=True)\n",
            "  (5): Sigmoid()\n",
            "  (6): Linear(in_features=1007, out_features=1, bias=True)\n",
            "  (7): Sigmoid()\n",
            ")\n"
          ]
        },
        {
          "output_type": "stream",
          "name": "stderr",
          "text": [
            "\u001b[32m[I 2022-02-27 12:24:08,080]\u001b[0m Trial 209 finished with value: 453692.43346647685 and parameters: {'n_layers': 4, 'n_width': 1007, 'activation_l0': 'Tanh', 'activation_l1': 'LeakyReLU', 'activation_l2': 'Sigmoid', 'last_layer': 'Sigmoid', 'lr': 0.03809222082819466, 'beta': 1.1993943273925631, 'batch_size': 2}. Best is trial 203 with value: 353851.7168641779.\u001b[0m\n"
          ]
        },
        {
          "output_type": "stream",
          "name": "stdout",
          "text": [
            "Sequential(\n",
            "  (0): Linear(in_features=1, out_features=1016, bias=True)\n",
            "  (1): Tanh()\n",
            "  (2): Linear(in_features=1016, out_features=1016, bias=True)\n",
            "  (3): LeakyReLU(negative_slope=0.01)\n",
            "  (4): Linear(in_features=1016, out_features=1016, bias=True)\n",
            "  (5): Tanh()\n",
            "  (6): Linear(in_features=1016, out_features=1, bias=True)\n",
            "  (7): Softplus(beta=1, threshold=20)\n",
            ")\n"
          ]
        },
        {
          "output_type": "stream",
          "name": "stderr",
          "text": [
            "\u001b[32m[I 2022-02-27 12:24:23,242]\u001b[0m Trial 210 finished with value: 423088810.0389812 and parameters: {'n_layers': 4, 'n_width': 1016, 'activation_l0': 'Tanh', 'activation_l1': 'LeakyReLU', 'activation_l2': 'Tanh', 'last_layer': 'Softplus', 'lr': 0.03799626756959585, 'beta': 1.3477073241164597, 'batch_size': 2}. Best is trial 203 with value: 353851.7168641779.\u001b[0m\n"
          ]
        },
        {
          "output_type": "stream",
          "name": "stdout",
          "text": [
            "Sequential(\n",
            "  (0): Linear(in_features=1, out_features=1003, bias=True)\n",
            "  (1): Tanh()\n",
            "  (2): Linear(in_features=1003, out_features=1003, bias=True)\n",
            "  (3): LeakyReLU(negative_slope=0.01)\n",
            "  (4): Linear(in_features=1003, out_features=1003, bias=True)\n",
            "  (5): Sigmoid()\n",
            "  (6): Linear(in_features=1003, out_features=1, bias=True)\n",
            "  (7): Sigmoid()\n",
            ")\n"
          ]
        },
        {
          "output_type": "stream",
          "name": "stderr",
          "text": [
            "\u001b[32m[I 2022-02-27 12:24:38,496]\u001b[0m Trial 211 finished with value: 412947.34748190286 and parameters: {'n_layers': 4, 'n_width': 1003, 'activation_l0': 'Tanh', 'activation_l1': 'LeakyReLU', 'activation_l2': 'Sigmoid', 'last_layer': 'Sigmoid', 'lr': 0.05792137047498484, 'beta': 1.0776943350742065, 'batch_size': 2}. Best is trial 203 with value: 353851.7168641779.\u001b[0m\n"
          ]
        },
        {
          "output_type": "stream",
          "name": "stdout",
          "text": [
            "Sequential(\n",
            "  (0): Linear(in_features=1, out_features=999, bias=True)\n",
            "  (1): Tanh()\n",
            "  (2): Linear(in_features=999, out_features=999, bias=True)\n",
            "  (3): LeakyReLU(negative_slope=0.01)\n",
            "  (4): Linear(in_features=999, out_features=999, bias=True)\n",
            "  (5): Sigmoid()\n",
            "  (6): Linear(in_features=999, out_features=1, bias=True)\n",
            "  (7): Sigmoid()\n",
            ")\n"
          ]
        },
        {
          "output_type": "stream",
          "name": "stderr",
          "text": [
            "\u001b[32m[I 2022-02-27 12:24:53,722]\u001b[0m Trial 212 finished with value: 504219.60284913355 and parameters: {'n_layers': 4, 'n_width': 999, 'activation_l0': 'Tanh', 'activation_l1': 'LeakyReLU', 'activation_l2': 'Sigmoid', 'last_layer': 'Sigmoid', 'lr': 0.07270905326412147, 'beta': 0.8789193364397019, 'batch_size': 2}. Best is trial 203 with value: 353851.7168641779.\u001b[0m\n"
          ]
        },
        {
          "output_type": "stream",
          "name": "stdout",
          "text": [
            "Sequential(\n",
            "  (0): Linear(in_features=1, out_features=978, bias=True)\n",
            "  (1): Tanh()\n",
            "  (2): Linear(in_features=978, out_features=978, bias=True)\n",
            "  (3): LeakyReLU(negative_slope=0.01)\n",
            "  (4): Linear(in_features=978, out_features=978, bias=True)\n",
            "  (5): Sigmoid()\n",
            "  (6): Linear(in_features=978, out_features=1, bias=True)\n",
            "  (7): Sigmoid()\n",
            ")\n"
          ]
        },
        {
          "output_type": "stream",
          "name": "stderr",
          "text": [
            "\u001b[32m[I 2022-02-27 12:25:08,745]\u001b[0m Trial 213 finished with value: 1104673.1556718692 and parameters: {'n_layers': 4, 'n_width': 978, 'activation_l0': 'Tanh', 'activation_l1': 'LeakyReLU', 'activation_l2': 'Sigmoid', 'last_layer': 'Sigmoid', 'lr': 0.09973107425852679, 'beta': 0.7670379720243816, 'batch_size': 2}. Best is trial 203 with value: 353851.7168641779.\u001b[0m\n"
          ]
        },
        {
          "output_type": "stream",
          "name": "stdout",
          "text": [
            "Sequential(\n",
            "  (0): Linear(in_features=1, out_features=1024, bias=True)\n",
            "  (1): Tanh()\n",
            "  (2): Linear(in_features=1024, out_features=1024, bias=True)\n",
            "  (3): LeakyReLU(negative_slope=0.01)\n",
            "  (4): Linear(in_features=1024, out_features=1024, bias=True)\n",
            "  (5): Sigmoid()\n",
            "  (6): Linear(in_features=1024, out_features=1, bias=True)\n",
            "  (7): Sigmoid()\n",
            ")\n"
          ]
        },
        {
          "output_type": "stream",
          "name": "stderr",
          "text": [
            "\u001b[32m[I 2022-02-27 12:25:23,397]\u001b[0m Trial 214 finished with value: 521349.07976974634 and parameters: {'n_layers': 4, 'n_width': 1024, 'activation_l0': 'Tanh', 'activation_l1': 'LeakyReLU', 'activation_l2': 'Sigmoid', 'last_layer': 'Sigmoid', 'lr': 0.06086459023391249, 'beta': 0.6766330554517337, 'batch_size': 2}. Best is trial 203 with value: 353851.7168641779.\u001b[0m\n"
          ]
        },
        {
          "output_type": "stream",
          "name": "stdout",
          "text": [
            "Sequential(\n",
            "  (0): Linear(in_features=1, out_features=1020, bias=True)\n",
            "  (1): Tanh()\n",
            "  (2): Linear(in_features=1020, out_features=1020, bias=True)\n",
            "  (3): LeakyReLU(negative_slope=0.01)\n",
            "  (4): Linear(in_features=1020, out_features=1020, bias=True)\n",
            "  (5): Sigmoid()\n",
            "  (6): Linear(in_features=1020, out_features=1, bias=True)\n",
            "  (7): Sigmoid()\n",
            ")\n"
          ]
        },
        {
          "output_type": "stream",
          "name": "stderr",
          "text": [
            "\u001b[32m[I 2022-02-27 12:25:38,766]\u001b[0m Trial 215 finished with value: 1109703.9995229444 and parameters: {'n_layers': 4, 'n_width': 1020, 'activation_l0': 'Tanh', 'activation_l1': 'LeakyReLU', 'activation_l2': 'Sigmoid', 'last_layer': 'Sigmoid', 'lr': 0.0801211340221263, 'beta': 0.6678527589734637, 'batch_size': 2}. Best is trial 203 with value: 353851.7168641779.\u001b[0m\n"
          ]
        },
        {
          "output_type": "stream",
          "name": "stdout",
          "text": [
            "Sequential(\n",
            "  (0): Linear(in_features=1, out_features=1005, bias=True)\n",
            "  (1): Tanh()\n",
            "  (2): Linear(in_features=1005, out_features=1005, bias=True)\n",
            "  (3): LeakyReLU(negative_slope=0.01)\n",
            "  (4): Linear(in_features=1005, out_features=1005, bias=True)\n",
            "  (5): Sigmoid()\n",
            "  (6): Linear(in_features=1005, out_features=1, bias=True)\n",
            "  (7): Sigmoid()\n",
            ")\n"
          ]
        },
        {
          "output_type": "stream",
          "name": "stderr",
          "text": [
            "\u001b[32m[I 2022-02-27 12:25:54,055]\u001b[0m Trial 216 finished with value: 812229.6797477346 and parameters: {'n_layers': 4, 'n_width': 1005, 'activation_l0': 'Tanh', 'activation_l1': 'LeakyReLU', 'activation_l2': 'Sigmoid', 'last_layer': 'Sigmoid', 'lr': 0.06361992443861218, 'beta': 0.8579787884567686, 'batch_size': 2}. Best is trial 203 with value: 353851.7168641779.\u001b[0m\n"
          ]
        },
        {
          "output_type": "stream",
          "name": "stdout",
          "text": [
            "Sequential(\n",
            "  (0): Linear(in_features=1, out_features=1008, bias=True)\n",
            "  (1): Tanh()\n",
            "  (2): Linear(in_features=1008, out_features=1008, bias=True)\n",
            "  (3): LeakyReLU(negative_slope=0.01)\n",
            "  (4): Linear(in_features=1008, out_features=1008, bias=True)\n",
            "  (5): Sigmoid()\n",
            "  (6): Linear(in_features=1008, out_features=1, bias=True)\n",
            "  (7): Sigmoid()\n",
            ")\n"
          ]
        },
        {
          "output_type": "stream",
          "name": "stderr",
          "text": [
            "\u001b[32m[I 2022-02-27 12:26:09,193]\u001b[0m Trial 217 finished with value: 777536.0156115058 and parameters: {'n_layers': 4, 'n_width': 1008, 'activation_l0': 'Tanh', 'activation_l1': 'LeakyReLU', 'activation_l2': 'Sigmoid', 'last_layer': 'Sigmoid', 'lr': 0.035850193714552586, 'beta': 1.0029023379593938, 'batch_size': 2}. Best is trial 203 with value: 353851.7168641779.\u001b[0m\n"
          ]
        },
        {
          "output_type": "stream",
          "name": "stdout",
          "text": [
            "Sequential(\n",
            "  (0): Linear(in_features=1, out_features=1024, bias=True)\n",
            "  (1): Sigmoid()\n",
            "  (2): Linear(in_features=1024, out_features=1024, bias=True)\n",
            "  (3): LeakyReLU(negative_slope=0.01)\n",
            "  (4): Linear(in_features=1024, out_features=1024, bias=True)\n",
            "  (5): Sigmoid()\n",
            "  (6): Linear(in_features=1024, out_features=1, bias=True)\n",
            "  (7): Sigmoid()\n",
            ")\n"
          ]
        },
        {
          "output_type": "stream",
          "name": "stderr",
          "text": [
            "\u001b[32m[I 2022-02-27 12:26:23,804]\u001b[0m Trial 218 finished with value: 1178599.8686598518 and parameters: {'n_layers': 4, 'n_width': 1024, 'activation_l0': 'Sigmoid', 'activation_l1': 'LeakyReLU', 'activation_l2': 'Sigmoid', 'last_layer': 'Sigmoid', 'lr': 0.07115448857615263, 'beta': 0.7855401752174767, 'batch_size': 2}. Best is trial 203 with value: 353851.7168641779.\u001b[0m\n"
          ]
        },
        {
          "output_type": "stream",
          "name": "stdout",
          "text": [
            "Sequential(\n",
            "  (0): Linear(in_features=1, out_features=983, bias=True)\n",
            "  (1): Tanh()\n",
            "  (2): Linear(in_features=983, out_features=983, bias=True)\n",
            "  (3): LeakyReLU(negative_slope=0.01)\n",
            "  (4): Linear(in_features=983, out_features=983, bias=True)\n",
            "  (5): Sigmoid()\n",
            "  (6): Linear(in_features=983, out_features=1, bias=True)\n",
            "  (7): Sigmoid()\n",
            ")\n"
          ]
        },
        {
          "output_type": "stream",
          "name": "stderr",
          "text": [
            "\u001b[32m[I 2022-02-27 12:26:38,919]\u001b[0m Trial 219 finished with value: 1436373.9824676255 and parameters: {'n_layers': 4, 'n_width': 983, 'activation_l0': 'Tanh', 'activation_l1': 'LeakyReLU', 'activation_l2': 'Sigmoid', 'last_layer': 'Sigmoid', 'lr': 0.05121912553276519, 'beta': 1.0824876117848228, 'batch_size': 2}. Best is trial 203 with value: 353851.7168641779.\u001b[0m\n"
          ]
        },
        {
          "output_type": "stream",
          "name": "stdout",
          "text": [
            "Sequential(\n",
            "  (0): Linear(in_features=1, out_features=970, bias=True)\n",
            "  (1): Tanh()\n",
            "  (2): Linear(in_features=970, out_features=970, bias=True)\n",
            "  (3): Sigmoid()\n",
            "  (4): Linear(in_features=970, out_features=970, bias=True)\n",
            "  (5): Sigmoid()\n",
            "  (6): Linear(in_features=970, out_features=1, bias=True)\n",
            "  (7): Sigmoid()\n",
            ")\n"
          ]
        },
        {
          "output_type": "stream",
          "name": "stderr",
          "text": [
            "\u001b[32m[I 2022-02-27 12:26:55,121]\u001b[0m Trial 220 finished with value: 12478872.222473321 and parameters: {'n_layers': 4, 'n_width': 970, 'activation_l0': 'Tanh', 'activation_l1': 'Sigmoid', 'activation_l2': 'Sigmoid', 'last_layer': 'Sigmoid', 'lr': 1.0050542186668922e-05, 'beta': 0.9295380257453865, 'batch_size': 2}. Best is trial 203 with value: 353851.7168641779.\u001b[0m\n"
          ]
        },
        {
          "output_type": "stream",
          "name": "stdout",
          "text": [
            "Sequential(\n",
            "  (0): Linear(in_features=1, out_features=956, bias=True)\n",
            "  (1): Tanh()\n",
            "  (2): Linear(in_features=956, out_features=956, bias=True)\n",
            "  (3): LeakyReLU(negative_slope=0.01)\n",
            "  (4): Linear(in_features=956, out_features=956, bias=True)\n",
            "  (5): Sigmoid()\n",
            "  (6): Linear(in_features=956, out_features=1, bias=True)\n",
            "  (7): Sigmoid()\n",
            ")\n"
          ]
        },
        {
          "output_type": "stream",
          "name": "stderr",
          "text": [
            "\u001b[32m[I 2022-02-27 12:27:09,295]\u001b[0m Trial 221 finished with value: 675506.8541753936 and parameters: {'n_layers': 4, 'n_width': 956, 'activation_l0': 'Tanh', 'activation_l1': 'LeakyReLU', 'activation_l2': 'Sigmoid', 'last_layer': 'Sigmoid', 'lr': 0.05657203730842938, 'beta': 1.1992968572639746, 'batch_size': 2}. Best is trial 203 with value: 353851.7168641779.\u001b[0m\n"
          ]
        },
        {
          "output_type": "stream",
          "name": "stdout",
          "text": [
            "Sequential(\n",
            "  (0): Linear(in_features=1, out_features=996, bias=True)\n",
            "  (1): Tanh()\n",
            "  (2): Linear(in_features=996, out_features=996, bias=True)\n",
            "  (3): LeakyReLU(negative_slope=0.01)\n",
            "  (4): Linear(in_features=996, out_features=996, bias=True)\n",
            "  (5): Sigmoid()\n",
            "  (6): Linear(in_features=996, out_features=1, bias=True)\n",
            "  (7): Sigmoid()\n",
            ")\n"
          ]
        },
        {
          "output_type": "stream",
          "name": "stderr",
          "text": [
            "\u001b[32m[I 2022-02-27 12:27:24,400]\u001b[0m Trial 222 finished with value: 1046550.6243190025 and parameters: {'n_layers': 4, 'n_width': 996, 'activation_l0': 'Tanh', 'activation_l1': 'LeakyReLU', 'activation_l2': 'Sigmoid', 'last_layer': 'Sigmoid', 'lr': 0.07501734542016211, 'beta': 0.5293968195811583, 'batch_size': 2}. Best is trial 203 with value: 353851.7168641779.\u001b[0m\n"
          ]
        },
        {
          "output_type": "stream",
          "name": "stdout",
          "text": [
            "Sequential(\n",
            "  (0): Linear(in_features=1, out_features=977, bias=True)\n",
            "  (1): Tanh()\n",
            "  (2): Linear(in_features=977, out_features=977, bias=True)\n",
            "  (3): LeakyReLU(negative_slope=0.01)\n",
            "  (4): Linear(in_features=977, out_features=977, bias=True)\n",
            "  (5): Sigmoid()\n",
            "  (6): Linear(in_features=977, out_features=1, bias=True)\n",
            "  (7): Sigmoid()\n",
            ")\n"
          ]
        },
        {
          "output_type": "stream",
          "name": "stderr",
          "text": [
            "\u001b[32m[I 2022-02-27 12:27:40,855]\u001b[0m Trial 223 finished with value: 2350649.1279169596 and parameters: {'n_layers': 4, 'n_width': 977, 'activation_l0': 'Tanh', 'activation_l1': 'LeakyReLU', 'activation_l2': 'Sigmoid', 'last_layer': 'Sigmoid', 'lr': 0.0001721008803196123, 'beta': 0.6531749397952518, 'batch_size': 2}. Best is trial 203 with value: 353851.7168641779.\u001b[0m\n"
          ]
        },
        {
          "output_type": "stream",
          "name": "stdout",
          "text": [
            "Sequential(\n",
            "  (0): Linear(in_features=1, out_features=956, bias=True)\n",
            "  (1): Tanh()\n",
            "  (2): Linear(in_features=956, out_features=956, bias=True)\n",
            "  (3): LeakyReLU(negative_slope=0.01)\n",
            "  (4): Linear(in_features=956, out_features=956, bias=True)\n",
            "  (5): Sigmoid()\n",
            "  (6): Linear(in_features=956, out_features=1, bias=True)\n",
            "  (7): Sigmoid()\n",
            ")\n"
          ]
        },
        {
          "output_type": "stream",
          "name": "stderr",
          "text": [
            "\u001b[32m[I 2022-02-27 12:27:55,058]\u001b[0m Trial 224 finished with value: 1068112.7045530344 and parameters: {'n_layers': 4, 'n_width': 956, 'activation_l0': 'Tanh', 'activation_l1': 'LeakyReLU', 'activation_l2': 'Sigmoid', 'last_layer': 'Sigmoid', 'lr': 0.03702589439917907, 'beta': 1.1917549667769487, 'batch_size': 2}. Best is trial 203 with value: 353851.7168641779.\u001b[0m\n"
          ]
        },
        {
          "output_type": "stream",
          "name": "stdout",
          "text": [
            "Sequential(\n",
            "  (0): Linear(in_features=1, out_features=1001, bias=True)\n",
            "  (1): Tanh()\n",
            "  (2): Linear(in_features=1001, out_features=1001, bias=True)\n",
            "  (3): LeakyReLU(negative_slope=0.01)\n",
            "  (4): Linear(in_features=1001, out_features=1001, bias=True)\n",
            "  (5): Sigmoid()\n",
            "  (6): Linear(in_features=1001, out_features=1, bias=True)\n",
            "  (7): Sigmoid()\n",
            ")\n"
          ]
        },
        {
          "output_type": "stream",
          "name": "stderr",
          "text": [
            "\u001b[32m[I 2022-02-27 12:28:10,295]\u001b[0m Trial 225 finished with value: 741156.5983159493 and parameters: {'n_layers': 4, 'n_width': 1001, 'activation_l0': 'Tanh', 'activation_l1': 'LeakyReLU', 'activation_l2': 'Sigmoid', 'last_layer': 'Sigmoid', 'lr': 0.06063410631044335, 'beta': 1.8595043765044845, 'batch_size': 2}. Best is trial 203 with value: 353851.7168641779.\u001b[0m\n"
          ]
        },
        {
          "output_type": "stream",
          "name": "stdout",
          "text": [
            "Sequential(\n",
            "  (0): Linear(in_features=1, out_features=972, bias=True)\n",
            "  (1): Tanh()\n",
            "  (2): Linear(in_features=972, out_features=972, bias=True)\n",
            "  (3): LeakyReLU(negative_slope=0.01)\n",
            "  (4): Linear(in_features=972, out_features=972, bias=True)\n",
            "  (5): Sigmoid()\n",
            "  (6): Linear(in_features=972, out_features=1, bias=True)\n",
            "  (7): Sigmoid()\n",
            ")\n"
          ]
        },
        {
          "output_type": "stream",
          "name": "stderr",
          "text": [
            "\u001b[32m[I 2022-02-27 12:28:25,304]\u001b[0m Trial 226 finished with value: 743106.7990867379 and parameters: {'n_layers': 4, 'n_width': 972, 'activation_l0': 'Tanh', 'activation_l1': 'LeakyReLU', 'activation_l2': 'Sigmoid', 'last_layer': 'Sigmoid', 'lr': 0.028031129955649346, 'beta': 1.5733068415900806, 'batch_size': 2}. Best is trial 203 with value: 353851.7168641779.\u001b[0m\n"
          ]
        },
        {
          "output_type": "stream",
          "name": "stdout",
          "text": [
            "Sequential(\n",
            "  (0): Linear(in_features=1, out_features=919, bias=True)\n",
            "  (1): Tanh()\n",
            "  (2): Linear(in_features=919, out_features=919, bias=True)\n",
            "  (3): LeakyReLU(negative_slope=0.01)\n",
            "  (4): Linear(in_features=919, out_features=919, bias=True)\n",
            "  (5): Sigmoid()\n",
            "  (6): Linear(in_features=919, out_features=1, bias=True)\n",
            "  (7): Sigmoid()\n",
            ")\n"
          ]
        },
        {
          "output_type": "stream",
          "name": "stderr",
          "text": [
            "\u001b[32m[I 2022-02-27 12:28:39,196]\u001b[0m Trial 227 finished with value: 528100.5658031475 and parameters: {'n_layers': 4, 'n_width': 919, 'activation_l0': 'Tanh', 'activation_l1': 'LeakyReLU', 'activation_l2': 'Sigmoid', 'last_layer': 'Sigmoid', 'lr': 0.046135524363159715, 'beta': 1.0604730060182368, 'batch_size': 2}. Best is trial 203 with value: 353851.7168641779.\u001b[0m\n"
          ]
        },
        {
          "output_type": "stream",
          "name": "stdout",
          "text": [
            "Sequential(\n",
            "  (0): Linear(in_features=1, out_features=922, bias=True)\n",
            "  (1): Tanh()\n",
            "  (2): Linear(in_features=922, out_features=922, bias=True)\n",
            "  (3): LeakyReLU(negative_slope=0.01)\n",
            "  (4): Linear(in_features=922, out_features=922, bias=True)\n",
            "  (5): Sigmoid()\n",
            "  (6): Linear(in_features=922, out_features=1, bias=True)\n",
            "  (7): Sigmoid()\n",
            ")\n"
          ]
        },
        {
          "output_type": "stream",
          "name": "stderr",
          "text": [
            "\u001b[32m[I 2022-02-27 12:28:53,118]\u001b[0m Trial 228 finished with value: 584882.4165537957 and parameters: {'n_layers': 4, 'n_width': 922, 'activation_l0': 'Tanh', 'activation_l1': 'LeakyReLU', 'activation_l2': 'Sigmoid', 'last_layer': 'Sigmoid', 'lr': 0.022574084461783134, 'beta': 1.0692476482099122, 'batch_size': 2}. Best is trial 203 with value: 353851.7168641779.\u001b[0m\n"
          ]
        },
        {
          "output_type": "stream",
          "name": "stdout",
          "text": [
            "Sequential(\n",
            "  (0): Linear(in_features=1, out_features=913, bias=True)\n",
            "  (1): Tanh()\n",
            "  (2): Linear(in_features=913, out_features=913, bias=True)\n",
            "  (3): LeakyReLU(negative_slope=0.01)\n",
            "  (4): Linear(in_features=913, out_features=913, bias=True)\n",
            "  (5): Sigmoid()\n",
            "  (6): Linear(in_features=913, out_features=1, bias=True)\n",
            "  (7): Sigmoid()\n",
            ")\n"
          ]
        },
        {
          "output_type": "stream",
          "name": "stderr",
          "text": [
            "\u001b[32m[I 2022-02-27 12:29:07,519]\u001b[0m Trial 229 finished with value: 1021840.2260529756 and parameters: {'n_layers': 4, 'n_width': 913, 'activation_l0': 'Tanh', 'activation_l1': 'LeakyReLU', 'activation_l2': 'Sigmoid', 'last_layer': 'Sigmoid', 'lr': 0.021366758257831343, 'beta': 0.8799110643835594, 'batch_size': 2}. Best is trial 203 with value: 353851.7168641779.\u001b[0m\n"
          ]
        },
        {
          "output_type": "stream",
          "name": "stdout",
          "text": [
            "Sequential(\n",
            "  (0): Linear(in_features=1, out_features=917, bias=True)\n",
            "  (1): Tanh()\n",
            "  (2): Linear(in_features=917, out_features=917, bias=True)\n",
            "  (3): LeakyReLU(negative_slope=0.01)\n",
            "  (4): Linear(in_features=917, out_features=917, bias=True)\n",
            "  (5): Sigmoid()\n",
            "  (6): Linear(in_features=917, out_features=1, bias=True)\n",
            "  (7): Sigmoid()\n",
            ")\n"
          ]
        },
        {
          "output_type": "stream",
          "name": "stderr",
          "text": [
            "\u001b[32m[I 2022-02-27 12:29:21,474]\u001b[0m Trial 230 finished with value: 985019.0810945261 and parameters: {'n_layers': 4, 'n_width': 917, 'activation_l0': 'Tanh', 'activation_l1': 'LeakyReLU', 'activation_l2': 'Sigmoid', 'last_layer': 'Sigmoid', 'lr': 0.024656673969319018, 'beta': 1.074917733102325, 'batch_size': 2}. Best is trial 203 with value: 353851.7168641779.\u001b[0m\n"
          ]
        },
        {
          "output_type": "stream",
          "name": "stdout",
          "text": [
            "Sequential(\n",
            "  (0): Linear(in_features=1, out_features=935, bias=True)\n",
            "  (1): Tanh()\n",
            "  (2): Linear(in_features=935, out_features=935, bias=True)\n",
            "  (3): LeakyReLU(negative_slope=0.01)\n",
            "  (4): Linear(in_features=935, out_features=935, bias=True)\n",
            "  (5): Sigmoid()\n",
            "  (6): Linear(in_features=935, out_features=1, bias=True)\n",
            "  (7): Sigmoid()\n",
            ")\n"
          ]
        },
        {
          "output_type": "stream",
          "name": "stderr",
          "text": [
            "\u001b[32m[I 2022-02-27 12:29:35,531]\u001b[0m Trial 231 finished with value: 677602.0563266744 and parameters: {'n_layers': 4, 'n_width': 935, 'activation_l0': 'Tanh', 'activation_l1': 'LeakyReLU', 'activation_l2': 'Sigmoid', 'last_layer': 'Sigmoid', 'lr': 0.04532814906470132, 'beta': 1.026797790909696, 'batch_size': 2}. Best is trial 203 with value: 353851.7168641779.\u001b[0m\n"
          ]
        },
        {
          "output_type": "stream",
          "name": "stdout",
          "text": [
            "Sequential(\n",
            "  (0): Linear(in_features=1, out_features=982, bias=True)\n",
            "  (1): Tanh()\n",
            "  (2): Linear(in_features=982, out_features=982, bias=True)\n",
            "  (3): LeakyReLU(negative_slope=0.01)\n",
            "  (4): Linear(in_features=982, out_features=982, bias=True)\n",
            "  (5): Sigmoid()\n",
            "  (6): Linear(in_features=982, out_features=1, bias=True)\n",
            "  (7): Sigmoid()\n",
            ")\n"
          ]
        },
        {
          "output_type": "stream",
          "name": "stderr",
          "text": [
            "\u001b[32m[I 2022-02-27 12:29:50,577]\u001b[0m Trial 232 finished with value: 1453461.27248171 and parameters: {'n_layers': 4, 'n_width': 982, 'activation_l0': 'Tanh', 'activation_l1': 'LeakyReLU', 'activation_l2': 'Sigmoid', 'last_layer': 'Sigmoid', 'lr': 0.03366668224725533, 'beta': 0.7187025268935797, 'batch_size': 2}. Best is trial 203 with value: 353851.7168641779.\u001b[0m\n"
          ]
        },
        {
          "output_type": "stream",
          "name": "stdout",
          "text": [
            "Sequential(\n",
            "  (0): Linear(in_features=1, out_features=957, bias=True)\n",
            "  (1): Tanh()\n",
            "  (2): Linear(in_features=957, out_features=957, bias=True)\n",
            "  (3): LeakyReLU(negative_slope=0.01)\n",
            "  (4): Linear(in_features=957, out_features=957, bias=True)\n",
            "  (5): Sigmoid()\n",
            "  (6): Linear(in_features=957, out_features=1, bias=True)\n",
            "  (7): Sigmoid()\n",
            ")\n"
          ]
        },
        {
          "output_type": "stream",
          "name": "stderr",
          "text": [
            "\u001b[32m[I 2022-02-27 12:30:04,809]\u001b[0m Trial 233 finished with value: 254748.3564301329 and parameters: {'n_layers': 4, 'n_width': 957, 'activation_l0': 'Tanh', 'activation_l1': 'LeakyReLU', 'activation_l2': 'Sigmoid', 'last_layer': 'Sigmoid', 'lr': 0.096690655799314, 'beta': 1.2028822938024264, 'batch_size': 2}. Best is trial 233 with value: 254748.3564301329.\u001b[0m\n"
          ]
        },
        {
          "output_type": "stream",
          "name": "stdout",
          "text": [
            "Sequential(\n",
            "  (0): Linear(in_features=1, out_features=959, bias=True)\n",
            "  (1): Tanh()\n",
            "  (2): Linear(in_features=959, out_features=959, bias=True)\n",
            "  (3): LeakyReLU(negative_slope=0.01)\n",
            "  (4): Linear(in_features=959, out_features=959, bias=True)\n",
            "  (5): Sigmoid()\n",
            "  (6): Linear(in_features=959, out_features=1, bias=True)\n",
            "  (7): Sigmoid()\n",
            ")\n"
          ]
        },
        {
          "output_type": "stream",
          "name": "stderr",
          "text": [
            "\u001b[32m[I 2022-02-27 12:30:19,066]\u001b[0m Trial 234 finished with value: 803506.9143774982 and parameters: {'n_layers': 4, 'n_width': 959, 'activation_l0': 'Tanh', 'activation_l1': 'LeakyReLU', 'activation_l2': 'Sigmoid', 'last_layer': 'Sigmoid', 'lr': 0.09141077660043523, 'beta': 1.189327053616128, 'batch_size': 2}. Best is trial 233 with value: 254748.3564301329.\u001b[0m\n"
          ]
        },
        {
          "output_type": "stream",
          "name": "stdout",
          "text": [
            "Sequential(\n",
            "  (0): Linear(in_features=1, out_features=999, bias=True)\n",
            "  (1): Tanh()\n",
            "  (2): Linear(in_features=999, out_features=999, bias=True)\n",
            "  (3): LeakyReLU(negative_slope=0.01)\n",
            "  (4): Linear(in_features=999, out_features=999, bias=True)\n",
            "  (5): Sigmoid()\n",
            "  (6): Linear(in_features=999, out_features=1, bias=True)\n",
            "  (7): Sigmoid()\n",
            ")\n"
          ]
        },
        {
          "output_type": "stream",
          "name": "stderr",
          "text": [
            "\u001b[32m[I 2022-02-27 12:30:34,258]\u001b[0m Trial 235 finished with value: 801867.6122896151 and parameters: {'n_layers': 4, 'n_width': 999, 'activation_l0': 'Tanh', 'activation_l1': 'LeakyReLU', 'activation_l2': 'Sigmoid', 'last_layer': 'Sigmoid', 'lr': 0.04654798032851172, 'beta': 0.8584548120743177, 'batch_size': 2}. Best is trial 233 with value: 254748.3564301329.\u001b[0m\n"
          ]
        },
        {
          "output_type": "stream",
          "name": "stdout",
          "text": [
            "Sequential(\n",
            "  (0): Linear(in_features=1, out_features=978, bias=True)\n",
            "  (1): Tanh()\n",
            "  (2): Linear(in_features=978, out_features=978, bias=True)\n",
            "  (3): LeakyReLU(negative_slope=0.01)\n",
            "  (4): Linear(in_features=978, out_features=978, bias=True)\n",
            "  (5): Sigmoid()\n",
            "  (6): Linear(in_features=978, out_features=1, bias=True)\n",
            "  (7): Sigmoid()\n",
            ")\n"
          ]
        },
        {
          "output_type": "stream",
          "name": "stderr",
          "text": [
            "\u001b[32m[I 2022-02-27 12:30:49,305]\u001b[0m Trial 236 finished with value: 1012862.8045476604 and parameters: {'n_layers': 4, 'n_width': 978, 'activation_l0': 'Tanh', 'activation_l1': 'LeakyReLU', 'activation_l2': 'Sigmoid', 'last_layer': 'Sigmoid', 'lr': 0.07805571502078104, 'beta': 1.0809969003446598, 'batch_size': 2}. Best is trial 233 with value: 254748.3564301329.\u001b[0m\n"
          ]
        },
        {
          "output_type": "stream",
          "name": "stdout",
          "text": [
            "Sequential(\n",
            "  (0): Linear(in_features=1, out_features=957, bias=True)\n",
            "  (1): LeakyReLU(negative_slope=0.01)\n",
            "  (2): Linear(in_features=957, out_features=957, bias=True)\n",
            "  (3): LeakyReLU(negative_slope=0.01)\n",
            "  (4): Linear(in_features=957, out_features=957, bias=True)\n",
            "  (5): Sigmoid()\n",
            "  (6): Linear(in_features=957, out_features=1, bias=True)\n",
            "  (7): Sigmoid()\n",
            ")\n"
          ]
        },
        {
          "output_type": "stream",
          "name": "stderr",
          "text": [
            "\u001b[32m[I 2022-02-27 12:31:03,714]\u001b[0m Trial 237 finished with value: 473942658.1453076 and parameters: {'n_layers': 4, 'n_width': 957, 'activation_l0': 'LeakyReLU', 'activation_l1': 'LeakyReLU', 'activation_l2': 'Sigmoid', 'last_layer': 'Sigmoid', 'lr': 0.09930518127486124, 'beta': 1.2788457085248506, 'batch_size': 2}. Best is trial 233 with value: 254748.3564301329.\u001b[0m\n"
          ]
        },
        {
          "output_type": "stream",
          "name": "stdout",
          "text": [
            "Sequential(\n",
            "  (0): Linear(in_features=1, out_features=923, bias=True)\n",
            "  (1): Tanh()\n",
            "  (2): Linear(in_features=923, out_features=923, bias=True)\n",
            "  (3): LeakyReLU(negative_slope=0.01)\n",
            "  (4): Linear(in_features=923, out_features=923, bias=True)\n",
            "  (5): Sigmoid()\n",
            "  (6): Linear(in_features=923, out_features=1, bias=True)\n",
            "  (7): Sigmoid()\n",
            ")\n"
          ]
        },
        {
          "output_type": "stream",
          "name": "stderr",
          "text": [
            "\u001b[32m[I 2022-02-27 12:31:18,386]\u001b[0m Trial 238 finished with value: 7149616216.470136 and parameters: {'n_layers': 4, 'n_width': 923, 'activation_l0': 'Tanh', 'activation_l1': 'LeakyReLU', 'activation_l2': 'Sigmoid', 'last_layer': 'Sigmoid', 'lr': 0.022780654479395552, 'beta': 99.12794131405377, 'batch_size': 2}. Best is trial 233 with value: 254748.3564301329.\u001b[0m\n"
          ]
        },
        {
          "output_type": "stream",
          "name": "stdout",
          "text": [
            "Sequential(\n",
            "  (0): Linear(in_features=1, out_features=1004, bias=True)\n",
            "  (1): Tanh()\n",
            "  (2): Linear(in_features=1004, out_features=1004, bias=True)\n",
            "  (3): LeakyReLU(negative_slope=0.01)\n",
            "  (4): Linear(in_features=1004, out_features=1004, bias=True)\n",
            "  (5): Sigmoid()\n",
            "  (6): Linear(in_features=1004, out_features=1, bias=True)\n",
            "  (7): Sigmoid()\n",
            ")\n"
          ]
        },
        {
          "output_type": "stream",
          "name": "stderr",
          "text": [
            "\u001b[32m[I 2022-02-27 12:31:33,503]\u001b[0m Trial 239 finished with value: 703814.5677410689 and parameters: {'n_layers': 4, 'n_width': 1004, 'activation_l0': 'Tanh', 'activation_l1': 'LeakyReLU', 'activation_l2': 'Sigmoid', 'last_layer': 'Sigmoid', 'lr': 0.03126304168041159, 'beta': 1.4451057559777294, 'batch_size': 2}. Best is trial 233 with value: 254748.3564301329.\u001b[0m\n"
          ]
        },
        {
          "output_type": "stream",
          "name": "stdout",
          "text": [
            "Sequential(\n",
            "  (0): Linear(in_features=1, out_features=894, bias=True)\n",
            "  (1): Tanh()\n",
            "  (2): Linear(in_features=894, out_features=894, bias=True)\n",
            "  (3): LeakyReLU(negative_slope=0.01)\n",
            "  (4): Linear(in_features=894, out_features=894, bias=True)\n",
            "  (5): Sigmoid()\n",
            "  (6): Linear(in_features=894, out_features=1, bias=True)\n",
            "  (7): Sigmoid()\n",
            ")\n"
          ]
        },
        {
          "output_type": "stream",
          "name": "stderr",
          "text": [
            "\u001b[32m[I 2022-02-27 12:31:45,734]\u001b[0m Trial 240 finished with value: 831055.644252935 and parameters: {'n_layers': 4, 'n_width': 894, 'activation_l0': 'Tanh', 'activation_l1': 'LeakyReLU', 'activation_l2': 'Sigmoid', 'last_layer': 'Sigmoid', 'lr': 0.03931712755835469, 'beta': 1.0415106666082634, 'batch_size': 2}. Best is trial 233 with value: 254748.3564301329.\u001b[0m\n"
          ]
        },
        {
          "output_type": "stream",
          "name": "stdout",
          "text": [
            "Sequential(\n",
            "  (0): Linear(in_features=1, out_features=940, bias=True)\n",
            "  (1): Tanh()\n",
            "  (2): Linear(in_features=940, out_features=940, bias=True)\n",
            "  (3): LeakyReLU(negative_slope=0.01)\n",
            "  (4): Linear(in_features=940, out_features=940, bias=True)\n",
            "  (5): Sigmoid()\n",
            "  (6): Linear(in_features=940, out_features=1, bias=True)\n",
            "  (7): Sigmoid()\n",
            ")\n"
          ]
        },
        {
          "output_type": "stream",
          "name": "stderr",
          "text": [
            "\u001b[32m[I 2022-02-27 12:31:59,723]\u001b[0m Trial 241 finished with value: 923534.2866209513 and parameters: {'n_layers': 4, 'n_width': 940, 'activation_l0': 'Tanh', 'activation_l1': 'LeakyReLU', 'activation_l2': 'Sigmoid', 'last_layer': 'Sigmoid', 'lr': 0.06021544108434342, 'beta': 1.9316783336100254, 'batch_size': 2}. Best is trial 233 with value: 254748.3564301329.\u001b[0m\n"
          ]
        },
        {
          "output_type": "stream",
          "name": "stdout",
          "text": [
            "Sequential(\n",
            "  (0): Linear(in_features=1, out_features=950, bias=True)\n",
            "  (1): Tanh()\n",
            "  (2): Linear(in_features=950, out_features=950, bias=True)\n",
            "  (3): LeakyReLU(negative_slope=0.01)\n",
            "  (4): Linear(in_features=950, out_features=950, bias=True)\n",
            "  (5): Sigmoid()\n",
            "  (6): Linear(in_features=950, out_features=1, bias=True)\n",
            "  (7): Sigmoid()\n",
            ")\n"
          ]
        },
        {
          "output_type": "stream",
          "name": "stderr",
          "text": [
            "\u001b[32m[I 2022-02-27 12:32:13,865]\u001b[0m Trial 242 finished with value: 632288.9750264027 and parameters: {'n_layers': 4, 'n_width': 950, 'activation_l0': 'Tanh', 'activation_l1': 'LeakyReLU', 'activation_l2': 'Sigmoid', 'last_layer': 'Sigmoid', 'lr': 0.06924510850232438, 'beta': 1.6075139387029607, 'batch_size': 2}. Best is trial 233 with value: 254748.3564301329.\u001b[0m\n"
          ]
        },
        {
          "output_type": "stream",
          "name": "stdout",
          "text": [
            "Sequential(\n",
            "  (0): Linear(in_features=1, out_features=978, bias=True)\n",
            "  (1): Tanh()\n",
            "  (2): Linear(in_features=978, out_features=978, bias=True)\n",
            "  (3): LeakyReLU(negative_slope=0.01)\n",
            "  (4): Linear(in_features=978, out_features=978, bias=True)\n",
            "  (5): Sigmoid()\n",
            "  (6): Linear(in_features=978, out_features=1, bias=True)\n",
            "  (7): Sigmoid()\n",
            ")\n"
          ]
        },
        {
          "output_type": "stream",
          "name": "stderr",
          "text": [
            "\u001b[32m[I 2022-02-27 12:32:28,979]\u001b[0m Trial 243 finished with value: 741854.6742188894 and parameters: {'n_layers': 4, 'n_width': 978, 'activation_l0': 'Tanh', 'activation_l1': 'LeakyReLU', 'activation_l2': 'Sigmoid', 'last_layer': 'Sigmoid', 'lr': 0.05017490338550957, 'beta': 1.9257443454081649, 'batch_size': 2}. Best is trial 233 with value: 254748.3564301329.\u001b[0m\n"
          ]
        },
        {
          "output_type": "stream",
          "name": "stdout",
          "text": [
            "Sequential(\n",
            "  (0): Linear(in_features=1, out_features=925, bias=True)\n",
            "  (1): Tanh()\n",
            "  (2): Linear(in_features=925, out_features=925, bias=True)\n",
            "  (3): LeakyReLU(negative_slope=0.01)\n",
            "  (4): Linear(in_features=925, out_features=925, bias=True)\n",
            "  (5): Sigmoid()\n",
            "  (6): Linear(in_features=925, out_features=1, bias=True)\n",
            "  (7): Sigmoid()\n",
            ")\n"
          ]
        },
        {
          "output_type": "stream",
          "name": "stderr",
          "text": [
            "\u001b[32m[I 2022-02-27 12:32:42,869]\u001b[0m Trial 244 finished with value: 879180.2544628103 and parameters: {'n_layers': 4, 'n_width': 925, 'activation_l0': 'Tanh', 'activation_l1': 'LeakyReLU', 'activation_l2': 'Sigmoid', 'last_layer': 'Sigmoid', 'lr': 0.06968582530514186, 'beta': 0.9539642895649, 'batch_size': 2}. Best is trial 233 with value: 254748.3564301329.\u001b[0m\n"
          ]
        },
        {
          "output_type": "stream",
          "name": "stdout",
          "text": [
            "Sequential(\n",
            "  (0): Linear(in_features=1, out_features=963, bias=True)\n",
            "  (1): Tanh()\n",
            "  (2): Linear(in_features=963, out_features=963, bias=True)\n",
            "  (3): LeakyReLU(negative_slope=0.01)\n",
            "  (4): Linear(in_features=963, out_features=963, bias=True)\n",
            "  (5): Sigmoid()\n",
            "  (6): Linear(in_features=963, out_features=1, bias=True)\n",
            "  (7): Sigmoid()\n",
            ")\n"
          ]
        },
        {
          "output_type": "stream",
          "name": "stderr",
          "text": [
            "\u001b[32m[I 2022-02-27 12:32:57,876]\u001b[0m Trial 245 finished with value: 689374.7942308353 and parameters: {'n_layers': 4, 'n_width': 963, 'activation_l0': 'Tanh', 'activation_l1': 'LeakyReLU', 'activation_l2': 'Sigmoid', 'last_layer': 'Sigmoid', 'lr': 0.04268296425777441, 'beta': 1.3972404700317875, 'batch_size': 2}. Best is trial 233 with value: 254748.3564301329.\u001b[0m\n"
          ]
        },
        {
          "output_type": "stream",
          "name": "stdout",
          "text": [
            "Sequential(\n",
            "  (0): Linear(in_features=1, out_features=985, bias=True)\n",
            "  (1): Tanh()\n",
            "  (2): Linear(in_features=985, out_features=985, bias=True)\n",
            "  (3): LeakyReLU(negative_slope=0.01)\n",
            "  (4): Linear(in_features=985, out_features=985, bias=True)\n",
            "  (5): Sigmoid()\n",
            "  (6): Linear(in_features=985, out_features=1, bias=True)\n",
            "  (7): Sigmoid()\n",
            ")\n"
          ]
        },
        {
          "output_type": "stream",
          "name": "stderr",
          "text": [
            "\u001b[32m[I 2022-02-27 12:33:08,081]\u001b[0m Trial 246 finished with value: 1406110.1156906898 and parameters: {'n_layers': 4, 'n_width': 985, 'activation_l0': 'Tanh', 'activation_l1': 'LeakyReLU', 'activation_l2': 'Sigmoid', 'last_layer': 'Sigmoid', 'lr': 0.02818211978816577, 'beta': 2.053735766356364, 'batch_size': 5}. Best is trial 233 with value: 254748.3564301329.\u001b[0m\n"
          ]
        },
        {
          "output_type": "stream",
          "name": "stdout",
          "text": [
            "Sequential(\n",
            "  (0): Linear(in_features=1, out_features=913, bias=True)\n",
            "  (1): Tanh()\n",
            "  (2): Linear(in_features=913, out_features=913, bias=True)\n",
            "  (3): LeakyReLU(negative_slope=0.01)\n",
            "  (4): Linear(in_features=913, out_features=913, bias=True)\n",
            "  (5): Sigmoid()\n",
            "  (6): Linear(in_features=913, out_features=1, bias=True)\n",
            "  (7): Sigmoid()\n",
            ")\n"
          ]
        },
        {
          "output_type": "stream",
          "name": "stderr",
          "text": [
            "\u001b[32m[I 2022-02-27 12:33:21,910]\u001b[0m Trial 247 finished with value: 880525.8836052268 and parameters: {'n_layers': 4, 'n_width': 913, 'activation_l0': 'Tanh', 'activation_l1': 'LeakyReLU', 'activation_l2': 'Sigmoid', 'last_layer': 'Sigmoid', 'lr': 0.05692796808914073, 'beta': 0.7641062073301925, 'batch_size': 2}. Best is trial 233 with value: 254748.3564301329.\u001b[0m\n"
          ]
        },
        {
          "output_type": "stream",
          "name": "stdout",
          "text": [
            "Sequential(\n",
            "  (0): Linear(in_features=1, out_features=941, bias=True)\n",
            "  (1): Tanh()\n",
            "  (2): Linear(in_features=941, out_features=941, bias=True)\n",
            "  (3): LeakyReLU(negative_slope=0.01)\n",
            "  (4): Linear(in_features=941, out_features=941, bias=True)\n",
            "  (5): Sigmoid()\n",
            "  (6): Linear(in_features=941, out_features=1, bias=True)\n",
            "  (7): Sigmoid()\n",
            ")\n"
          ]
        },
        {
          "output_type": "stream",
          "name": "stderr",
          "text": [
            "\u001b[32m[I 2022-02-27 12:33:36,186]\u001b[0m Trial 248 finished with value: 649937.570995844 and parameters: {'n_layers': 4, 'n_width': 941, 'activation_l0': 'Tanh', 'activation_l1': 'LeakyReLU', 'activation_l2': 'Sigmoid', 'last_layer': 'Sigmoid', 'lr': 0.019025120531984914, 'beta': 1.2116467191383258, 'batch_size': 2}. Best is trial 233 with value: 254748.3564301329.\u001b[0m\n"
          ]
        },
        {
          "output_type": "stream",
          "name": "stdout",
          "text": [
            "Sequential(\n",
            "  (0): Linear(in_features=1, out_features=1005, bias=True)\n",
            "  (1): Tanh()\n",
            "  (2): Linear(in_features=1005, out_features=1005, bias=True)\n",
            "  (3): LeakyReLU(negative_slope=0.01)\n",
            "  (4): Linear(in_features=1005, out_features=1005, bias=True)\n",
            "  (5): Sigmoid()\n",
            "  (6): Linear(in_features=1005, out_features=1, bias=True)\n",
            "  (7): Softplus(beta=1, threshold=20)\n",
            ")\n"
          ]
        },
        {
          "output_type": "stream",
          "name": "stderr",
          "text": [
            "\u001b[32m[I 2022-02-27 12:33:51,549]\u001b[0m Trial 249 finished with value: 692904.2559345291 and parameters: {'n_layers': 4, 'n_width': 1005, 'activation_l0': 'Tanh', 'activation_l1': 'LeakyReLU', 'activation_l2': 'Sigmoid', 'last_layer': 'Softplus', 'lr': 0.034125856231352836, 'beta': 2.6233024114302688, 'batch_size': 2}. Best is trial 233 with value: 254748.3564301329.\u001b[0m\n"
          ]
        },
        {
          "output_type": "stream",
          "name": "stdout",
          "text": [
            "Sequential(\n",
            "  (0): Linear(in_features=1, out_features=964, bias=True)\n",
            "  (1): Tanh()\n",
            "  (2): Linear(in_features=964, out_features=964, bias=True)\n",
            "  (3): LeakyReLU(negative_slope=0.01)\n",
            "  (4): Linear(in_features=964, out_features=964, bias=True)\n",
            "  (5): Sigmoid()\n",
            "  (6): Linear(in_features=964, out_features=1, bias=True)\n",
            "  (7): Sigmoid()\n",
            ")\n"
          ]
        },
        {
          "output_type": "stream",
          "name": "stderr",
          "text": [
            "\u001b[32m[I 2022-02-27 12:34:06,371]\u001b[0m Trial 250 finished with value: 446964.26394990477 and parameters: {'n_layers': 4, 'n_width': 964, 'activation_l0': 'Tanh', 'activation_l1': 'LeakyReLU', 'activation_l2': 'Sigmoid', 'last_layer': 'Sigmoid', 'lr': 0.09985927904149154, 'beta': 1.6554529940775424, 'batch_size': 2}. Best is trial 233 with value: 254748.3564301329.\u001b[0m\n"
          ]
        },
        {
          "output_type": "stream",
          "name": "stdout",
          "text": [
            "Sequential(\n",
            "  (0): Linear(in_features=1, out_features=1023, bias=True)\n",
            "  (1): Tanh()\n",
            "  (2): Linear(in_features=1023, out_features=1023, bias=True)\n",
            "  (3): LeakyReLU(negative_slope=0.01)\n",
            "  (4): Linear(in_features=1023, out_features=1023, bias=True)\n",
            "  (5): Sigmoid()\n",
            "  (6): Linear(in_features=1023, out_features=1, bias=True)\n",
            "  (7): Sigmoid()\n",
            ")\n"
          ]
        },
        {
          "output_type": "stream",
          "name": "stderr",
          "text": [
            "\u001b[32m[I 2022-02-27 12:34:21,803]\u001b[0m Trial 251 finished with value: 935005.8330179432 and parameters: {'n_layers': 4, 'n_width': 1023, 'activation_l0': 'Tanh', 'activation_l1': 'LeakyReLU', 'activation_l2': 'Sigmoid', 'last_layer': 'Sigmoid', 'lr': 0.08090660972652769, 'beta': 1.5242431471892937, 'batch_size': 2}. Best is trial 233 with value: 254748.3564301329.\u001b[0m\n"
          ]
        },
        {
          "output_type": "stream",
          "name": "stdout",
          "text": [
            "Sequential(\n",
            "  (0): Linear(in_features=1, out_features=966, bias=True)\n",
            "  (1): Tanh()\n",
            "  (2): Linear(in_features=966, out_features=966, bias=True)\n",
            "  (3): LeakyReLU(negative_slope=0.01)\n",
            "  (4): Linear(in_features=966, out_features=966, bias=True)\n",
            "  (5): Sigmoid()\n",
            "  (6): Linear(in_features=966, out_features=1, bias=True)\n",
            "  (7): Sigmoid()\n",
            ")\n"
          ]
        },
        {
          "output_type": "stream",
          "name": "stderr",
          "text": [
            "\u001b[32m[I 2022-02-27 12:34:36,706]\u001b[0m Trial 252 finished with value: 893006.2201797174 and parameters: {'n_layers': 4, 'n_width': 966, 'activation_l0': 'Tanh', 'activation_l1': 'LeakyReLU', 'activation_l2': 'Sigmoid', 'last_layer': 'Sigmoid', 'lr': 0.08857626810098937, 'beta': 1.6959457467131354, 'batch_size': 2}. Best is trial 233 with value: 254748.3564301329.\u001b[0m\n"
          ]
        },
        {
          "output_type": "stream",
          "name": "stdout",
          "text": [
            "Sequential(\n",
            "  (0): Linear(in_features=1, out_features=988, bias=True)\n",
            "  (1): Tanh()\n",
            "  (2): Linear(in_features=988, out_features=988, bias=True)\n",
            "  (3): LeakyReLU(negative_slope=0.01)\n",
            "  (4): Linear(in_features=988, out_features=1, bias=True)\n",
            "  (5): Sigmoid()\n",
            ")\n"
          ]
        },
        {
          "output_type": "stream",
          "name": "stderr",
          "text": [
            "\u001b[32m[I 2022-02-27 12:34:44,812]\u001b[0m Trial 253 finished with value: 1147981.536208071 and parameters: {'n_layers': 3, 'n_width': 988, 'activation_l0': 'Tanh', 'activation_l1': 'LeakyReLU', 'last_layer': 'Sigmoid', 'lr': 0.04501120030413046, 'beta': 1.221320209977703, 'batch_size': 2}. Best is trial 233 with value: 254748.3564301329.\u001b[0m\n"
          ]
        },
        {
          "output_type": "stream",
          "name": "stdout",
          "text": [
            "Sequential(\n",
            "  (0): Linear(in_features=1, out_features=956, bias=True)\n",
            "  (1): Tanh()\n",
            "  (2): Linear(in_features=956, out_features=956, bias=True)\n",
            "  (3): Sigmoid()\n",
            "  (4): Linear(in_features=956, out_features=956, bias=True)\n",
            "  (5): Tanh()\n",
            "  (6): Linear(in_features=956, out_features=1, bias=True)\n",
            "  (7): Sigmoid()\n",
            ")\n"
          ]
        },
        {
          "output_type": "stream",
          "name": "stderr",
          "text": [
            "\u001b[32m[I 2022-02-27 12:34:58,780]\u001b[0m Trial 254 finished with value: 456086500.5291207 and parameters: {'n_layers': 4, 'n_width': 956, 'activation_l0': 'Tanh', 'activation_l1': 'Sigmoid', 'activation_l2': 'Tanh', 'last_layer': 'Sigmoid', 'lr': 0.09828664119960794, 'beta': 68.10446708594358, 'batch_size': 2}. Best is trial 233 with value: 254748.3564301329.\u001b[0m\n"
          ]
        },
        {
          "output_type": "stream",
          "name": "stdout",
          "text": [
            "Sequential(\n",
            "  (0): Linear(in_features=1, out_features=992, bias=True)\n",
            "  (1): Sigmoid()\n",
            "  (2): Linear(in_features=992, out_features=992, bias=True)\n",
            "  (3): LeakyReLU(negative_slope=0.01)\n",
            "  (4): Linear(in_features=992, out_features=992, bias=True)\n",
            "  (5): Sigmoid()\n",
            "  (6): Linear(in_features=992, out_features=1, bias=True)\n",
            "  (7): Sigmoid()\n",
            ")\n"
          ]
        },
        {
          "output_type": "stream",
          "name": "stderr",
          "text": [
            "\u001b[32m[I 2022-02-27 12:35:13,728]\u001b[0m Trial 255 finished with value: 1134437.3724273264 and parameters: {'n_layers': 4, 'n_width': 992, 'activation_l0': 'Sigmoid', 'activation_l1': 'LeakyReLU', 'activation_l2': 'Sigmoid', 'last_layer': 'Sigmoid', 'lr': 0.02618047627337549, 'beta': 0.9341727201093779, 'batch_size': 2}. Best is trial 233 with value: 254748.3564301329.\u001b[0m\n"
          ]
        },
        {
          "output_type": "stream",
          "name": "stdout",
          "text": [
            "Sequential(\n",
            "  (0): Linear(in_features=1, out_features=975, bias=True)\n",
            "  (1): Tanh()\n",
            "  (2): Linear(in_features=975, out_features=975, bias=True)\n",
            "  (3): LeakyReLU(negative_slope=0.01)\n",
            "  (4): Linear(in_features=975, out_features=975, bias=True)\n",
            "  (5): Sigmoid()\n",
            "  (6): Linear(in_features=975, out_features=1, bias=True)\n",
            "  (7): Sigmoid()\n",
            ")\n"
          ]
        },
        {
          "output_type": "stream",
          "name": "stderr",
          "text": [
            "\u001b[32m[I 2022-02-27 12:35:28,821]\u001b[0m Trial 256 finished with value: 793296.1789082745 and parameters: {'n_layers': 4, 'n_width': 975, 'activation_l0': 'Tanh', 'activation_l1': 'LeakyReLU', 'activation_l2': 'Sigmoid', 'last_layer': 'Sigmoid', 'lr': 0.06887632607158978, 'beta': 1.4773624631438302, 'batch_size': 2}. Best is trial 233 with value: 254748.3564301329.\u001b[0m\n"
          ]
        },
        {
          "output_type": "stream",
          "name": "stdout",
          "text": [
            "Sequential(\n",
            "  (0): Linear(in_features=1, out_features=1005, bias=True)\n",
            "  (1): Tanh()\n",
            "  (2): Linear(in_features=1005, out_features=1, bias=True)\n",
            "  (3): Sigmoid()\n",
            ")\n"
          ]
        },
        {
          "output_type": "stream",
          "name": "stderr",
          "text": [
            "\u001b[32m[I 2022-02-27 12:35:29,391]\u001b[0m Trial 257 finished with value: 1152249.8589656234 and parameters: {'n_layers': 2, 'n_width': 1005, 'activation_l0': 'Tanh', 'last_layer': 'Sigmoid', 'lr': 0.03851773127392534, 'beta': 1.7339354297751983, 'batch_size': 8}. Best is trial 233 with value: 254748.3564301329.\u001b[0m\n"
          ]
        },
        {
          "output_type": "stream",
          "name": "stdout",
          "text": [
            "Sequential(\n",
            "  (0): Linear(in_features=1, out_features=926, bias=True)\n",
            "  (1): Tanh()\n",
            "  (2): Linear(in_features=926, out_features=926, bias=True)\n",
            "  (3): LeakyReLU(negative_slope=0.01)\n",
            "  (4): Linear(in_features=926, out_features=926, bias=True)\n",
            "  (5): Sigmoid()\n",
            "  (6): Linear(in_features=926, out_features=1, bias=True)\n",
            "  (7): Sigmoid()\n",
            ")\n"
          ]
        },
        {
          "output_type": "stream",
          "name": "stderr",
          "text": [
            "\u001b[32m[I 2022-02-27 12:35:43,222]\u001b[0m Trial 258 finished with value: 1282971.6469985947 and parameters: {'n_layers': 4, 'n_width': 926, 'activation_l0': 'Tanh', 'activation_l1': 'LeakyReLU', 'activation_l2': 'Sigmoid', 'last_layer': 'Sigmoid', 'lr': 0.055139283121097706, 'beta': 2.0177048321598154, 'batch_size': 2}. Best is trial 233 with value: 254748.3564301329.\u001b[0m\n"
          ]
        },
        {
          "output_type": "stream",
          "name": "stdout",
          "text": [
            "Sequential(\n",
            "  (0): Linear(in_features=1, out_features=955, bias=True)\n",
            "  (1): Tanh()\n",
            "  (2): Linear(in_features=955, out_features=955, bias=True)\n",
            "  (3): LeakyReLU(negative_slope=0.01)\n",
            "  (4): Linear(in_features=955, out_features=955, bias=True)\n",
            "  (5): Sigmoid()\n",
            "  (6): Linear(in_features=955, out_features=1, bias=True)\n",
            "  (7): Sigmoid()\n",
            ")\n"
          ]
        },
        {
          "output_type": "stream",
          "name": "stderr",
          "text": [
            "\u001b[32m[I 2022-02-27 12:35:57,479]\u001b[0m Trial 259 finished with value: 1668751.9523097884 and parameters: {'n_layers': 4, 'n_width': 955, 'activation_l0': 'Tanh', 'activation_l1': 'LeakyReLU', 'activation_l2': 'Sigmoid', 'last_layer': 'Sigmoid', 'lr': 0.07249839863126566, 'beta': 1.3256104695285473, 'batch_size': 2}. Best is trial 233 with value: 254748.3564301329.\u001b[0m\n"
          ]
        },
        {
          "output_type": "stream",
          "name": "stdout",
          "text": [
            "Sequential(\n",
            "  (0): Linear(in_features=1, out_features=972, bias=True)\n",
            "  (1): Tanh()\n",
            "  (2): Linear(in_features=972, out_features=972, bias=True)\n",
            "  (3): LeakyReLU(negative_slope=0.01)\n",
            "  (4): Linear(in_features=972, out_features=972, bias=True)\n",
            "  (5): Sigmoid()\n",
            "  (6): Linear(in_features=972, out_features=1, bias=True)\n",
            "  (7): Sigmoid()\n",
            ")\n"
          ]
        },
        {
          "output_type": "stream",
          "name": "stderr",
          "text": [
            "\u001b[32m[I 2022-02-27 12:36:12,353]\u001b[0m Trial 260 finished with value: 1197356.1096055163 and parameters: {'n_layers': 4, 'n_width': 972, 'activation_l0': 'Tanh', 'activation_l1': 'LeakyReLU', 'activation_l2': 'Sigmoid', 'last_layer': 'Sigmoid', 'lr': 0.09912389444505758, 'beta': 1.1288958975992363, 'batch_size': 2}. Best is trial 233 with value: 254748.3564301329.\u001b[0m\n"
          ]
        },
        {
          "output_type": "stream",
          "name": "stdout",
          "text": [
            "Sequential(\n",
            "  (0): Linear(in_features=1, out_features=951, bias=True)\n",
            "  (1): Tanh()\n",
            "  (2): Linear(in_features=951, out_features=951, bias=True)\n",
            "  (3): LeakyReLU(negative_slope=0.01)\n",
            "  (4): Linear(in_features=951, out_features=951, bias=True)\n",
            "  (5): Sigmoid()\n",
            "  (6): Linear(in_features=951, out_features=1, bias=True)\n",
            "  (7): Sigmoid()\n",
            ")\n"
          ]
        },
        {
          "output_type": "stream",
          "name": "stderr",
          "text": [
            "\u001b[32m[I 2022-02-27 12:36:27,404]\u001b[0m Trial 261 finished with value: 851113.8490935968 and parameters: {'n_layers': 4, 'n_width': 951, 'activation_l0': 'Tanh', 'activation_l1': 'LeakyReLU', 'activation_l2': 'Sigmoid', 'last_layer': 'Sigmoid', 'lr': 0.02071594412718815, 'beta': 2.4225452284836146, 'batch_size': 2}. Best is trial 233 with value: 254748.3564301329.\u001b[0m\n"
          ]
        },
        {
          "output_type": "stream",
          "name": "stdout",
          "text": [
            "Sequential(\n",
            "  (0): Linear(in_features=1, out_features=908, bias=True)\n",
            "  (1): Tanh()\n",
            "  (2): Linear(in_features=908, out_features=908, bias=True)\n",
            "  (3): LeakyReLU(negative_slope=0.01)\n",
            "  (4): Linear(in_features=908, out_features=908, bias=True)\n",
            "  (5): Sigmoid()\n",
            "  (6): Linear(in_features=908, out_features=1, bias=True)\n",
            "  (7): Sigmoid()\n",
            ")\n"
          ]
        },
        {
          "output_type": "stream",
          "name": "stderr",
          "text": [
            "\u001b[32m[I 2022-02-27 12:36:41,042]\u001b[0m Trial 262 finished with value: 908614.8245178657 and parameters: {'n_layers': 4, 'n_width': 908, 'activation_l0': 'Tanh', 'activation_l1': 'LeakyReLU', 'activation_l2': 'Sigmoid', 'last_layer': 'Sigmoid', 'lr': 0.050165261711977924, 'beta': 0.8438397613594134, 'batch_size': 2}. Best is trial 233 with value: 254748.3564301329.\u001b[0m\n"
          ]
        },
        {
          "output_type": "stream",
          "name": "stdout",
          "text": [
            "Sequential(\n",
            "  (0): Linear(in_features=1, out_features=1022, bias=True)\n",
            "  (1): Tanh()\n",
            "  (2): Linear(in_features=1022, out_features=1022, bias=True)\n",
            "  (3): LeakyReLU(negative_slope=0.01)\n",
            "  (4): Linear(in_features=1022, out_features=1022, bias=True)\n",
            "  (5): Sigmoid()\n",
            "  (6): Linear(in_features=1022, out_features=1, bias=True)\n",
            "  (7): Sigmoid()\n",
            ")\n"
          ]
        },
        {
          "output_type": "stream",
          "name": "stderr",
          "text": [
            "\u001b[32m[I 2022-02-27 12:36:57,980]\u001b[0m Trial 263 finished with value: 94364556.04187898 and parameters: {'n_layers': 4, 'n_width': 1022, 'activation_l0': 'Tanh', 'activation_l1': 'LeakyReLU', 'activation_l2': 'Sigmoid', 'last_layer': 'Sigmoid', 'lr': 7.688356539734925e-07, 'beta': 1.60416292765481, 'batch_size': 2}. Best is trial 233 with value: 254748.3564301329.\u001b[0m\n"
          ]
        },
        {
          "output_type": "stream",
          "name": "stdout",
          "text": [
            "Sequential(\n",
            "  (0): Linear(in_features=1, out_features=989, bias=True)\n",
            "  (1): LeakyReLU(negative_slope=0.01)\n",
            "  (2): Linear(in_features=989, out_features=989, bias=True)\n",
            "  (3): LeakyReLU(negative_slope=0.01)\n",
            "  (4): Linear(in_features=989, out_features=989, bias=True)\n",
            "  (5): Sigmoid()\n",
            "  (6): Linear(in_features=989, out_features=1, bias=True)\n",
            "  (7): Sigmoid()\n",
            ")\n"
          ]
        },
        {
          "output_type": "stream",
          "name": "stderr",
          "text": [
            "\u001b[32m[I 2022-02-27 12:37:13,698]\u001b[0m Trial 264 finished with value: 11077449.111295726 and parameters: {'n_layers': 4, 'n_width': 989, 'activation_l0': 'LeakyReLU', 'activation_l1': 'LeakyReLU', 'activation_l2': 'Sigmoid', 'last_layer': 'Sigmoid', 'lr': 0.01693113999458428, 'beta': 0.582714195437118, 'batch_size': 2}. Best is trial 233 with value: 254748.3564301329.\u001b[0m\n"
          ]
        },
        {
          "output_type": "stream",
          "name": "stdout",
          "text": [
            "Sequential(\n",
            "  (0): Linear(in_features=1, out_features=537, bias=True)\n",
            "  (1): Tanh()\n",
            "  (2): Linear(in_features=537, out_features=537, bias=True)\n",
            "  (3): LeakyReLU(negative_slope=0.01)\n",
            "  (4): Linear(in_features=537, out_features=537, bias=True)\n",
            "  (5): Sigmoid()\n",
            "  (6): Linear(in_features=537, out_features=1, bias=True)\n",
            "  (7): Sigmoid()\n",
            ")\n"
          ]
        },
        {
          "output_type": "stream",
          "name": "stderr",
          "text": [
            "\u001b[32m[I 2022-02-27 12:37:19,587]\u001b[0m Trial 265 finished with value: 493457.5090301953 and parameters: {'n_layers': 4, 'n_width': 537, 'activation_l0': 'Tanh', 'activation_l1': 'LeakyReLU', 'activation_l2': 'Sigmoid', 'last_layer': 'Sigmoid', 'lr': 0.03225740724390765, 'beta': 2.216964973651109, 'batch_size': 2}. Best is trial 233 with value: 254748.3564301329.\u001b[0m\n"
          ]
        },
        {
          "output_type": "stream",
          "name": "stdout",
          "text": [
            "Sequential(\n",
            "  (0): Linear(in_features=1, out_features=451, bias=True)\n",
            "  (1): Tanh()\n",
            "  (2): Linear(in_features=451, out_features=451, bias=True)\n",
            "  (3): LeakyReLU(negative_slope=0.01)\n",
            "  (4): Linear(in_features=451, out_features=451, bias=True)\n",
            "  (5): Sigmoid()\n",
            "  (6): Linear(in_features=451, out_features=1, bias=True)\n",
            "  (7): Sigmoid()\n",
            ")\n"
          ]
        },
        {
          "output_type": "stream",
          "name": "stderr",
          "text": [
            "\u001b[32m[I 2022-02-27 12:37:24,626]\u001b[0m Trial 266 finished with value: 711044.9220246513 and parameters: {'n_layers': 4, 'n_width': 451, 'activation_l0': 'Tanh', 'activation_l1': 'LeakyReLU', 'activation_l2': 'Sigmoid', 'last_layer': 'Sigmoid', 'lr': 0.03327359645252089, 'beta': 2.170055874231871, 'batch_size': 2}. Best is trial 233 with value: 254748.3564301329.\u001b[0m\n"
          ]
        },
        {
          "output_type": "stream",
          "name": "stdout",
          "text": [
            "Sequential(\n",
            "  (0): Linear(in_features=1, out_features=998, bias=True)\n",
            "  (1): Tanh()\n",
            "  (2): Linear(in_features=998, out_features=998, bias=True)\n",
            "  (3): LeakyReLU(negative_slope=0.01)\n",
            "  (4): Linear(in_features=998, out_features=998, bias=True)\n",
            "  (5): Sigmoid()\n",
            "  (6): Linear(in_features=998, out_features=1, bias=True)\n",
            "  (7): Sigmoid()\n",
            ")\n"
          ]
        },
        {
          "output_type": "stream",
          "name": "stderr",
          "text": [
            "\u001b[32m[I 2022-02-27 12:37:39,764]\u001b[0m Trial 267 finished with value: 1352029.0546290914 and parameters: {'n_layers': 4, 'n_width': 998, 'activation_l0': 'Tanh', 'activation_l1': 'LeakyReLU', 'activation_l2': 'Sigmoid', 'last_layer': 'Sigmoid', 'lr': 0.044073767690457, 'beta': 2.917189109940348, 'batch_size': 2}. Best is trial 233 with value: 254748.3564301329.\u001b[0m\n"
          ]
        },
        {
          "output_type": "stream",
          "name": "stdout",
          "text": [
            "Sequential(\n",
            "  (0): Linear(in_features=1, out_features=66, bias=True)\n",
            "  (1): Tanh()\n",
            "  (2): Linear(in_features=66, out_features=66, bias=True)\n",
            "  (3): LeakyReLU(negative_slope=0.01)\n",
            "  (4): Linear(in_features=66, out_features=66, bias=True)\n",
            "  (5): Sigmoid()\n",
            "  (6): Linear(in_features=66, out_features=1, bias=True)\n",
            "  (7): Softplus(beta=1, threshold=20)\n",
            ")\n"
          ]
        },
        {
          "output_type": "stream",
          "name": "stderr",
          "text": [
            "\u001b[32m[I 2022-02-27 12:37:40,663]\u001b[0m Trial 268 finished with value: 3269138.829731266 and parameters: {'n_layers': 4, 'n_width': 66, 'activation_l0': 'Tanh', 'activation_l1': 'LeakyReLU', 'activation_l2': 'Sigmoid', 'last_layer': 'Softplus', 'lr': 0.0582830633455573, 'beta': 2.5094765543061053, 'batch_size': 2}. Best is trial 233 with value: 254748.3564301329.\u001b[0m\n"
          ]
        },
        {
          "output_type": "stream",
          "name": "stdout",
          "text": [
            "Sequential(\n",
            "  (0): Linear(in_features=1, out_features=272, bias=True)\n",
            "  (1): Tanh()\n",
            "  (2): Linear(in_features=272, out_features=272, bias=True)\n",
            "  (3): LeakyReLU(negative_slope=0.01)\n",
            "  (4): Linear(in_features=272, out_features=272, bias=True)\n",
            "  (5): Sigmoid()\n",
            "  (6): Linear(in_features=272, out_features=1, bias=True)\n",
            "  (7): Sigmoid()\n",
            ")\n"
          ]
        },
        {
          "output_type": "stream",
          "name": "stderr",
          "text": [
            "\u001b[32m[I 2022-02-27 12:37:43,118]\u001b[0m Trial 269 finished with value: 382585.9188731895 and parameters: {'n_layers': 4, 'n_width': 272, 'activation_l0': 'Tanh', 'activation_l1': 'LeakyReLU', 'activation_l2': 'Sigmoid', 'last_layer': 'Sigmoid', 'lr': 0.032133687125935756, 'beta': 1.9747996807279382, 'batch_size': 2}. Best is trial 233 with value: 254748.3564301329.\u001b[0m\n"
          ]
        },
        {
          "output_type": "stream",
          "name": "stdout",
          "text": [
            "Sequential(\n",
            "  (0): Linear(in_features=1, out_features=671, bias=True)\n",
            "  (1): Tanh()\n",
            "  (2): Linear(in_features=671, out_features=671, bias=True)\n",
            "  (3): LeakyReLU(negative_slope=0.01)\n",
            "  (4): Linear(in_features=671, out_features=671, bias=True)\n",
            "  (5): Sigmoid()\n",
            "  (6): Linear(in_features=671, out_features=1, bias=True)\n",
            "  (7): Sigmoid()\n",
            ")\n"
          ]
        },
        {
          "output_type": "stream",
          "name": "stderr",
          "text": [
            "\u001b[32m[I 2022-02-27 12:37:51,264]\u001b[0m Trial 270 finished with value: 819189.8527583444 and parameters: {'n_layers': 4, 'n_width': 671, 'activation_l0': 'Tanh', 'activation_l1': 'LeakyReLU', 'activation_l2': 'Sigmoid', 'last_layer': 'Sigmoid', 'lr': 0.029742822412512724, 'beta': 2.1774156430007, 'batch_size': 2}. Best is trial 233 with value: 254748.3564301329.\u001b[0m\n"
          ]
        },
        {
          "output_type": "stream",
          "name": "stdout",
          "text": [
            "Sequential(\n",
            "  (0): Linear(in_features=1, out_features=527, bias=True)\n",
            "  (1): Tanh()\n",
            "  (2): Linear(in_features=527, out_features=527, bias=True)\n",
            "  (3): LeakyReLU(negative_slope=0.01)\n",
            "  (4): Linear(in_features=527, out_features=527, bias=True)\n",
            "  (5): Sigmoid()\n",
            "  (6): Linear(in_features=527, out_features=1, bias=True)\n",
            "  (7): Sigmoid()\n",
            ")\n"
          ]
        },
        {
          "output_type": "stream",
          "name": "stderr",
          "text": [
            "\u001b[32m[I 2022-02-27 12:37:57,267]\u001b[0m Trial 271 finished with value: 1077648.1777741595 and parameters: {'n_layers': 4, 'n_width': 527, 'activation_l0': 'Tanh', 'activation_l1': 'LeakyReLU', 'activation_l2': 'Sigmoid', 'last_layer': 'Sigmoid', 'lr': 0.03591015709658848, 'beta': 1.9474417306860676, 'batch_size': 2}. Best is trial 233 with value: 254748.3564301329.\u001b[0m\n"
          ]
        },
        {
          "output_type": "stream",
          "name": "stdout",
          "text": [
            "Sequential(\n",
            "  (0): Linear(in_features=1, out_features=168, bias=True)\n",
            "  (1): Tanh()\n",
            "  (2): Linear(in_features=168, out_features=168, bias=True)\n",
            "  (3): LeakyReLU(negative_slope=0.01)\n",
            "  (4): Linear(in_features=168, out_features=168, bias=True)\n",
            "  (5): Sigmoid()\n",
            "  (6): Linear(in_features=168, out_features=1, bias=True)\n",
            "  (7): Sigmoid()\n",
            ")\n"
          ]
        },
        {
          "output_type": "stream",
          "name": "stderr",
          "text": [
            "\u001b[32m[I 2022-02-27 12:37:58,837]\u001b[0m Trial 272 finished with value: 1043341.1074091737 and parameters: {'n_layers': 4, 'n_width': 168, 'activation_l0': 'Tanh', 'activation_l1': 'LeakyReLU', 'activation_l2': 'Sigmoid', 'last_layer': 'Sigmoid', 'lr': 0.02663943543855556, 'beta': 2.5028417035103017, 'batch_size': 2}. Best is trial 233 with value: 254748.3564301329.\u001b[0m\n"
          ]
        },
        {
          "output_type": "stream",
          "name": "stdout",
          "text": [
            "Sequential(\n",
            "  (0): Linear(in_features=1, out_features=308, bias=True)\n",
            "  (1): Tanh()\n",
            "  (2): Linear(in_features=308, out_features=308, bias=True)\n",
            "  (3): LeakyReLU(negative_slope=0.01)\n",
            "  (4): Linear(in_features=308, out_features=308, bias=True)\n",
            "  (5): Sigmoid()\n",
            "  (6): Linear(in_features=308, out_features=1, bias=True)\n",
            "  (7): Sigmoid()\n",
            ")\n"
          ]
        },
        {
          "output_type": "stream",
          "name": "stderr",
          "text": [
            "\u001b[32m[I 2022-02-27 12:38:01,608]\u001b[0m Trial 273 finished with value: 9556178.01702695 and parameters: {'n_layers': 4, 'n_width': 308, 'activation_l0': 'Tanh', 'activation_l1': 'LeakyReLU', 'activation_l2': 'Sigmoid', 'last_layer': 'Sigmoid', 'lr': 7.78768815841507e-05, 'beta': 1.6882709580458664, 'batch_size': 2}. Best is trial 233 with value: 254748.3564301329.\u001b[0m\n"
          ]
        },
        {
          "output_type": "stream",
          "name": "stdout",
          "text": [
            "Sequential(\n",
            "  (0): Linear(in_features=1, out_features=128, bias=True)\n",
            "  (1): Tanh()\n",
            "  (2): Linear(in_features=128, out_features=128, bias=True)\n",
            "  (3): LeakyReLU(negative_slope=0.01)\n",
            "  (4): Linear(in_features=128, out_features=128, bias=True)\n",
            "  (5): Sigmoid()\n",
            "  (6): Linear(in_features=128, out_features=1, bias=True)\n",
            "  (7): Sigmoid()\n",
            ")\n"
          ]
        },
        {
          "output_type": "stream",
          "name": "stderr",
          "text": [
            "\u001b[32m[I 2022-02-27 12:38:02,056]\u001b[0m Trial 274 finished with value: 1836048.2305854175 and parameters: {'n_layers': 4, 'n_width': 128, 'activation_l0': 'Tanh', 'activation_l1': 'LeakyReLU', 'activation_l2': 'Sigmoid', 'last_layer': 'Sigmoid', 'lr': 0.07393204215178836, 'beta': 2.0863133474677578, 'batch_size': 7}. Best is trial 233 with value: 254748.3564301329.\u001b[0m\n"
          ]
        },
        {
          "output_type": "stream",
          "name": "stdout",
          "text": [
            "Sequential(\n",
            "  (0): Linear(in_features=1, out_features=358, bias=True)\n",
            "  (1): Tanh()\n",
            "  (2): Linear(in_features=358, out_features=358, bias=True)\n",
            "  (3): LeakyReLU(negative_slope=0.01)\n",
            "  (4): Linear(in_features=358, out_features=358, bias=True)\n",
            "  (5): Tanh()\n",
            "  (6): Linear(in_features=358, out_features=1, bias=True)\n",
            "  (7): Sigmoid()\n",
            ")\n"
          ]
        },
        {
          "output_type": "stream",
          "name": "stderr",
          "text": [
            "\u001b[32m[I 2022-02-27 12:38:05,375]\u001b[0m Trial 275 finished with value: 10002334.319849528 and parameters: {'n_layers': 4, 'n_width': 358, 'activation_l0': 'Tanh', 'activation_l1': 'LeakyReLU', 'activation_l2': 'Tanh', 'last_layer': 'Sigmoid', 'lr': 0.041948389904015206, 'beta': 3.116321414175354, 'batch_size': 2}. Best is trial 233 with value: 254748.3564301329.\u001b[0m\n"
          ]
        },
        {
          "output_type": "stream",
          "name": "stdout",
          "text": [
            "Sequential(\n",
            "  (0): Linear(in_features=1, out_features=251, bias=True)\n",
            "  (1): Tanh()\n",
            "  (2): Linear(in_features=251, out_features=251, bias=True)\n",
            "  (3): LeakyReLU(negative_slope=0.01)\n",
            "  (4): Linear(in_features=251, out_features=251, bias=True)\n",
            "  (5): Sigmoid()\n",
            "  (6): Linear(in_features=251, out_features=1, bias=True)\n",
            "  (7): Sigmoid()\n",
            ")\n"
          ]
        },
        {
          "output_type": "stream",
          "name": "stderr",
          "text": [
            "\u001b[32m[I 2022-02-27 12:38:06,902]\u001b[0m Trial 276 finished with value: 1436018.6388475595 and parameters: {'n_layers': 4, 'n_width': 251, 'activation_l0': 'Tanh', 'activation_l1': 'LeakyReLU', 'activation_l2': 'Sigmoid', 'last_layer': 'Sigmoid', 'lr': 0.032809962941783385, 'beta': 1.4324275605442531, 'batch_size': 3}. Best is trial 233 with value: 254748.3564301329.\u001b[0m\n"
          ]
        },
        {
          "output_type": "stream",
          "name": "stdout",
          "text": [
            "Sequential(\n",
            "  (0): Linear(in_features=1, out_features=1009, bias=True)\n",
            "  (1): Tanh()\n",
            "  (2): Linear(in_features=1009, out_features=1009, bias=True)\n",
            "  (3): Sigmoid()\n",
            "  (4): Linear(in_features=1009, out_features=1009, bias=True)\n",
            "  (5): Sigmoid()\n",
            "  (6): Linear(in_features=1009, out_features=1, bias=True)\n",
            "  (7): Sigmoid()\n",
            ")\n"
          ]
        },
        {
          "output_type": "stream",
          "name": "stderr",
          "text": [
            "\u001b[32m[I 2022-02-27 12:38:22,280]\u001b[0m Trial 277 finished with value: 1007235.9330680642 and parameters: {'n_layers': 4, 'n_width': 1009, 'activation_l0': 'Tanh', 'activation_l1': 'Sigmoid', 'activation_l2': 'Sigmoid', 'last_layer': 'Sigmoid', 'lr': 0.0736138310086361, 'beta': 49.07381819084007, 'batch_size': 2}. Best is trial 233 with value: 254748.3564301329.\u001b[0m\n"
          ]
        },
        {
          "output_type": "stream",
          "name": "stdout",
          "text": [
            "Sequential(\n",
            "  (0): Linear(in_features=1, out_features=975, bias=True)\n",
            "  (1): Sigmoid()\n",
            "  (2): Linear(in_features=975, out_features=975, bias=True)\n",
            "  (3): LeakyReLU(negative_slope=0.01)\n",
            "  (4): Linear(in_features=975, out_features=975, bias=True)\n",
            "  (5): Sigmoid()\n",
            "  (6): Linear(in_features=975, out_features=1, bias=True)\n",
            "  (7): Sigmoid()\n",
            ")\n"
          ]
        },
        {
          "output_type": "stream",
          "name": "stderr",
          "text": [
            "\u001b[32m[I 2022-02-27 12:38:37,328]\u001b[0m Trial 278 finished with value: 513258.0342614699 and parameters: {'n_layers': 4, 'n_width': 975, 'activation_l0': 'Sigmoid', 'activation_l1': 'LeakyReLU', 'activation_l2': 'Sigmoid', 'last_layer': 'Sigmoid', 'lr': 0.09841863907471249, 'beta': 0.35078154751960977, 'batch_size': 2}. Best is trial 233 with value: 254748.3564301329.\u001b[0m\n"
          ]
        },
        {
          "output_type": "stream",
          "name": "stdout",
          "text": [
            "Sequential(\n",
            "  (0): Linear(in_features=1, out_features=577, bias=True)\n",
            "  (1): Sigmoid()\n",
            "  (2): Linear(in_features=577, out_features=577, bias=True)\n",
            "  (3): LeakyReLU(negative_slope=0.01)\n",
            "  (4): Linear(in_features=577, out_features=577, bias=True)\n",
            "  (5): Sigmoid()\n",
            "  (6): Linear(in_features=577, out_features=1, bias=True)\n",
            "  (7): Sigmoid()\n",
            ")\n"
          ]
        },
        {
          "output_type": "stream",
          "name": "stderr",
          "text": [
            "\u001b[32m[I 2022-02-27 12:38:43,991]\u001b[0m Trial 279 finished with value: 685658.5957915251 and parameters: {'n_layers': 4, 'n_width': 577, 'activation_l0': 'Sigmoid', 'activation_l1': 'LeakyReLU', 'activation_l2': 'Sigmoid', 'last_layer': 'Sigmoid', 'lr': 0.09916123908029592, 'beta': 2.653254905295384, 'batch_size': 2}. Best is trial 233 with value: 254748.3564301329.\u001b[0m\n"
          ]
        },
        {
          "output_type": "stream",
          "name": "stdout",
          "text": [
            "Sequential(\n",
            "  (0): Linear(in_features=1, out_features=409, bias=True)\n",
            "  (1): Sigmoid()\n",
            "  (2): Linear(in_features=409, out_features=409, bias=True)\n",
            "  (3): LeakyReLU(negative_slope=0.01)\n",
            "  (4): Linear(in_features=409, out_features=409, bias=True)\n",
            "  (5): Sigmoid()\n",
            "  (6): Linear(in_features=409, out_features=1, bias=True)\n",
            "  (7): Sigmoid()\n",
            ")\n"
          ]
        },
        {
          "output_type": "stream",
          "name": "stderr",
          "text": [
            "\u001b[32m[I 2022-02-27 12:38:48,111]\u001b[0m Trial 280 finished with value: 589984.8969862049 and parameters: {'n_layers': 4, 'n_width': 409, 'activation_l0': 'Sigmoid', 'activation_l1': 'LeakyReLU', 'activation_l2': 'Sigmoid', 'last_layer': 'Sigmoid', 'lr': 0.0615402173417564, 'beta': 0.18384654255871039, 'batch_size': 2}. Best is trial 233 with value: 254748.3564301329.\u001b[0m\n"
          ]
        },
        {
          "output_type": "stream",
          "name": "stdout",
          "text": [
            "Sequential(\n",
            "  (0): Linear(in_features=1, out_features=986, bias=True)\n",
            "  (1): Sigmoid()\n",
            "  (2): Linear(in_features=986, out_features=986, bias=True)\n",
            "  (3): LeakyReLU(negative_slope=0.01)\n",
            "  (4): Linear(in_features=986, out_features=986, bias=True)\n",
            "  (5): Sigmoid()\n",
            "  (6): Linear(in_features=986, out_features=1, bias=True)\n",
            "  (7): Sigmoid()\n",
            ")\n"
          ]
        },
        {
          "output_type": "stream",
          "name": "stderr",
          "text": [
            "\u001b[32m[I 2022-02-27 12:39:03,187]\u001b[0m Trial 281 finished with value: 598917.2297691039 and parameters: {'n_layers': 4, 'n_width': 986, 'activation_l0': 'Sigmoid', 'activation_l1': 'LeakyReLU', 'activation_l2': 'Sigmoid', 'last_layer': 'Sigmoid', 'lr': 0.07342524138516301, 'beta': 1.2391793598436989, 'batch_size': 2}. Best is trial 233 with value: 254748.3564301329.\u001b[0m\n"
          ]
        },
        {
          "output_type": "stream",
          "name": "stdout",
          "text": [
            "Sequential(\n",
            "  (0): Linear(in_features=1, out_features=1024, bias=True)\n",
            "  (1): Sigmoid()\n",
            "  (2): Linear(in_features=1024, out_features=1024, bias=True)\n",
            "  (3): LeakyReLU(negative_slope=0.01)\n",
            "  (4): Linear(in_features=1024, out_features=1024, bias=True)\n",
            "  (5): Sigmoid()\n",
            "  (6): Linear(in_features=1024, out_features=1, bias=True)\n",
            "  (7): Sigmoid()\n",
            ")\n"
          ]
        },
        {
          "output_type": "stream",
          "name": "stderr",
          "text": [
            "\u001b[32m[I 2022-02-27 12:39:17,871]\u001b[0m Trial 282 finished with value: 845489.2686158185 and parameters: {'n_layers': 4, 'n_width': 1024, 'activation_l0': 'Sigmoid', 'activation_l1': 'LeakyReLU', 'activation_l2': 'Sigmoid', 'last_layer': 'Sigmoid', 'lr': 0.04755362980949295, 'beta': 2.2650403863170383, 'batch_size': 2}. Best is trial 233 with value: 254748.3564301329.\u001b[0m\n"
          ]
        },
        {
          "output_type": "stream",
          "name": "stdout",
          "text": [
            "Sequential(\n",
            "  (0): Linear(in_features=1, out_features=972, bias=True)\n",
            "  (1): Sigmoid()\n",
            "  (2): Linear(in_features=972, out_features=972, bias=True)\n",
            "  (3): LeakyReLU(negative_slope=0.01)\n",
            "  (4): Linear(in_features=972, out_features=972, bias=True)\n",
            "  (5): Sigmoid()\n",
            "  (6): Linear(in_features=972, out_features=1, bias=True)\n",
            "  (7): Sigmoid()\n",
            ")\n"
          ]
        },
        {
          "output_type": "stream",
          "name": "stderr",
          "text": [
            "\u001b[32m[I 2022-02-27 12:39:34,206]\u001b[0m Trial 283 finished with value: 62935276.857667595 and parameters: {'n_layers': 4, 'n_width': 972, 'activation_l0': 'Sigmoid', 'activation_l1': 'LeakyReLU', 'activation_l2': 'Sigmoid', 'last_layer': 'Sigmoid', 'lr': 3.7153066225639104e-06, 'beta': 0.37614792684514714, 'batch_size': 2}. Best is trial 233 with value: 254748.3564301329.\u001b[0m\n"
          ]
        },
        {
          "output_type": "stream",
          "name": "stdout",
          "text": [
            "Sequential(\n",
            "  (0): Linear(in_features=1, out_features=996, bias=True)\n",
            "  (1): Sigmoid()\n",
            "  (2): Linear(in_features=996, out_features=996, bias=True)\n",
            "  (3): LeakyReLU(negative_slope=0.01)\n",
            "  (4): Linear(in_features=996, out_features=996, bias=True)\n",
            "  (5): Sigmoid()\n",
            "  (6): Linear(in_features=996, out_features=1, bias=True)\n",
            "  (7): Sigmoid()\n",
            ")\n"
          ]
        },
        {
          "output_type": "stream",
          "name": "stderr",
          "text": [
            "\u001b[32m[I 2022-02-27 12:39:49,381]\u001b[0m Trial 284 finished with value: 588456.7044737029 and parameters: {'n_layers': 4, 'n_width': 996, 'activation_l0': 'Sigmoid', 'activation_l1': 'LeakyReLU', 'activation_l2': 'Sigmoid', 'last_layer': 'Sigmoid', 'lr': 0.07998533083620259, 'beta': 1.8656473176186534, 'batch_size': 2}. Best is trial 233 with value: 254748.3564301329.\u001b[0m\n"
          ]
        },
        {
          "output_type": "stream",
          "name": "stdout",
          "text": [
            "Sequential(\n",
            "  (0): Linear(in_features=1, out_features=973, bias=True)\n",
            "  (1): Tanh()\n",
            "  (2): Linear(in_features=973, out_features=973, bias=True)\n",
            "  (3): LeakyReLU(negative_slope=0.01)\n",
            "  (4): Linear(in_features=973, out_features=973, bias=True)\n",
            "  (5): Sigmoid()\n",
            "  (6): Linear(in_features=973, out_features=1, bias=True)\n",
            "  (7): Sigmoid()\n",
            ")\n"
          ]
        },
        {
          "output_type": "stream",
          "name": "stderr",
          "text": [
            "\u001b[32m[I 2022-02-27 12:40:04,401]\u001b[0m Trial 285 finished with value: 998550.5810461468 and parameters: {'n_layers': 4, 'n_width': 973, 'activation_l0': 'Tanh', 'activation_l1': 'LeakyReLU', 'activation_l2': 'Sigmoid', 'last_layer': 'Sigmoid', 'lr': 0.055406489066131846, 'beta': 0.3217738920244778, 'batch_size': 2}. Best is trial 233 with value: 254748.3564301329.\u001b[0m\n"
          ]
        },
        {
          "output_type": "stream",
          "name": "stdout",
          "text": [
            "Sequential(\n",
            "  (0): Linear(in_features=1, out_features=503, bias=True)\n",
            "  (1): LeakyReLU(negative_slope=0.01)\n",
            "  (2): Linear(in_features=503, out_features=503, bias=True)\n",
            "  (3): LeakyReLU(negative_slope=0.01)\n",
            "  (4): Linear(in_features=503, out_features=503, bias=True)\n",
            "  (5): Sigmoid()\n",
            "  (6): Linear(in_features=503, out_features=1, bias=True)\n",
            "  (7): Sigmoid()\n",
            ")\n"
          ]
        },
        {
          "output_type": "stream",
          "name": "stderr",
          "text": [
            "\u001b[32m[I 2022-02-27 12:40:10,068]\u001b[0m Trial 286 finished with value: 45027386.46072363 and parameters: {'n_layers': 4, 'n_width': 503, 'activation_l0': 'LeakyReLU', 'activation_l1': 'LeakyReLU', 'activation_l2': 'Sigmoid', 'last_layer': 'Sigmoid', 'lr': 2.1627476731048194e-05, 'beta': 0.22295378658583795, 'batch_size': 2}. Best is trial 233 with value: 254748.3564301329.\u001b[0m\n"
          ]
        },
        {
          "output_type": "stream",
          "name": "stdout",
          "text": [
            "Sequential(\n",
            "  (0): Linear(in_features=1, out_features=936, bias=True)\n",
            "  (1): Tanh()\n",
            "  (2): Linear(in_features=936, out_features=936, bias=True)\n",
            "  (3): LeakyReLU(negative_slope=0.01)\n",
            "  (4): Linear(in_features=936, out_features=936, bias=True)\n",
            "  (5): Sigmoid()\n",
            "  (6): Linear(in_features=936, out_features=1, bias=True)\n",
            "  (7): Sigmoid()\n",
            ")\n"
          ]
        },
        {
          "output_type": "stream",
          "name": "stderr",
          "text": [
            "\u001b[32m[I 2022-02-27 12:40:24,005]\u001b[0m Trial 287 finished with value: 979676.8378694468 and parameters: {'n_layers': 4, 'n_width': 936, 'activation_l0': 'Tanh', 'activation_l1': 'LeakyReLU', 'activation_l2': 'Sigmoid', 'last_layer': 'Sigmoid', 'lr': 0.03994337427683313, 'beta': 33.55221833893895, 'batch_size': 2}. Best is trial 233 with value: 254748.3564301329.\u001b[0m\n"
          ]
        },
        {
          "output_type": "stream",
          "name": "stdout",
          "text": [
            "Sequential(\n",
            "  (0): Linear(in_features=1, out_features=762, bias=True)\n",
            "  (1): Tanh()\n",
            "  (2): Linear(in_features=762, out_features=762, bias=True)\n",
            "  (3): LeakyReLU(negative_slope=0.01)\n",
            "  (4): Linear(in_features=762, out_features=1, bias=True)\n",
            "  (5): Softplus(beta=1, threshold=20)\n",
            ")\n"
          ]
        },
        {
          "output_type": "stream",
          "name": "stderr",
          "text": [
            "\u001b[32m[I 2022-02-27 12:40:29,206]\u001b[0m Trial 288 finished with value: 5117984491.824856 and parameters: {'n_layers': 3, 'n_width': 762, 'activation_l0': 'Tanh', 'activation_l1': 'LeakyReLU', 'last_layer': 'Softplus', 'lr': 0.08241817241997888, 'beta': 0.4634891122716745, 'batch_size': 2}. Best is trial 233 with value: 254748.3564301329.\u001b[0m\n"
          ]
        },
        {
          "output_type": "stream",
          "name": "stdout",
          "text": [
            "Sequential(\n",
            "  (0): Linear(in_features=1, out_features=242, bias=True)\n",
            "  (1): Tanh()\n",
            "  (2): Linear(in_features=242, out_features=242, bias=True)\n",
            "  (3): LeakyReLU(negative_slope=0.01)\n",
            "  (4): Linear(in_features=242, out_features=242, bias=True)\n",
            "  (5): Sigmoid()\n",
            "  (6): Linear(in_features=242, out_features=1, bias=True)\n",
            "  (7): Sigmoid()\n",
            ")\n"
          ]
        },
        {
          "output_type": "stream",
          "name": "stderr",
          "text": [
            "\u001b[32m[I 2022-02-27 12:40:30,705]\u001b[0m Trial 289 finished with value: 1207712.1444428675 and parameters: {'n_layers': 4, 'n_width': 242, 'activation_l0': 'Tanh', 'activation_l1': 'LeakyReLU', 'activation_l2': 'Sigmoid', 'last_layer': 'Sigmoid', 'lr': 0.052239101399665366, 'beta': 1.395267220747529, 'batch_size': 3}. Best is trial 233 with value: 254748.3564301329.\u001b[0m\n"
          ]
        },
        {
          "output_type": "stream",
          "name": "stdout",
          "text": [
            "Sequential(\n",
            "  (0): Linear(in_features=1, out_features=615, bias=True)\n",
            "  (1): Tanh()\n",
            "  (2): Linear(in_features=615, out_features=615, bias=True)\n",
            "  (3): LeakyReLU(negative_slope=0.01)\n",
            "  (4): Linear(in_features=615, out_features=615, bias=True)\n",
            "  (5): Sigmoid()\n",
            "  (6): Linear(in_features=615, out_features=1, bias=True)\n",
            "  (7): Sigmoid()\n",
            ")\n"
          ]
        },
        {
          "output_type": "stream",
          "name": "stderr",
          "text": [
            "\u001b[32m[I 2022-02-27 12:40:37,657]\u001b[0m Trial 290 finished with value: 840900.3092825513 and parameters: {'n_layers': 4, 'n_width': 615, 'activation_l0': 'Tanh', 'activation_l1': 'LeakyReLU', 'activation_l2': 'Sigmoid', 'last_layer': 'Sigmoid', 'lr': 0.0989202454224068, 'beta': 1.6032258929830387, 'batch_size': 2}. Best is trial 233 with value: 254748.3564301329.\u001b[0m\n"
          ]
        },
        {
          "output_type": "stream",
          "name": "stdout",
          "text": [
            "Sequential(\n",
            "  (0): Linear(in_features=1, out_features=1004, bias=True)\n",
            "  (1): Tanh()\n",
            "  (2): Linear(in_features=1004, out_features=1004, bias=True)\n",
            "  (3): LeakyReLU(negative_slope=0.01)\n",
            "  (4): Linear(in_features=1004, out_features=1004, bias=True)\n",
            "  (5): Sigmoid()\n",
            "  (6): Linear(in_features=1004, out_features=1, bias=True)\n",
            "  (7): Sigmoid()\n",
            ")\n"
          ]
        },
        {
          "output_type": "stream",
          "name": "stderr",
          "text": [
            "\u001b[32m[I 2022-02-27 12:40:52,827]\u001b[0m Trial 291 finished with value: 690210.9143139923 and parameters: {'n_layers': 4, 'n_width': 1004, 'activation_l0': 'Tanh', 'activation_l1': 'LeakyReLU', 'activation_l2': 'Sigmoid', 'last_layer': 'Sigmoid', 'lr': 0.06067458122349571, 'beta': 0.313935710273995, 'batch_size': 2}. Best is trial 233 with value: 254748.3564301329.\u001b[0m\n"
          ]
        },
        {
          "output_type": "stream",
          "name": "stdout",
          "text": [
            "Sequential(\n",
            "  (0): Linear(in_features=1, out_features=979, bias=True)\n",
            "  (1): Tanh()\n",
            "  (2): Linear(in_features=979, out_features=979, bias=True)\n",
            "  (3): LeakyReLU(negative_slope=0.01)\n",
            "  (4): Linear(in_features=979, out_features=979, bias=True)\n",
            "  (5): Sigmoid()\n",
            "  (6): Linear(in_features=979, out_features=1, bias=True)\n",
            "  (7): Sigmoid()\n",
            ")\n"
          ]
        },
        {
          "output_type": "stream",
          "name": "stderr",
          "text": [
            "\u001b[32m[I 2022-02-27 12:40:57,928]\u001b[0m Trial 292 finished with value: 2282576.9406624995 and parameters: {'n_layers': 4, 'n_width': 979, 'activation_l0': 'Tanh', 'activation_l1': 'LeakyReLU', 'activation_l2': 'Sigmoid', 'last_layer': 'Sigmoid', 'lr': 0.03644214956056492, 'beta': 1.97166774628818, 'batch_size': 6}. Best is trial 233 with value: 254748.3564301329.\u001b[0m\n"
          ]
        },
        {
          "output_type": "stream",
          "name": "stdout",
          "text": [
            "Sequential(\n",
            "  (0): Linear(in_features=1, out_features=322, bias=True)\n",
            "  (1): Tanh()\n",
            "  (2): Linear(in_features=322, out_features=322, bias=True)\n",
            "  (3): LeakyReLU(negative_slope=0.01)\n",
            "  (4): Linear(in_features=322, out_features=322, bias=True)\n",
            "  (5): Sigmoid()\n",
            "  (6): Linear(in_features=322, out_features=1, bias=True)\n",
            "  (7): Sigmoid()\n",
            ")\n"
          ]
        },
        {
          "output_type": "stream",
          "name": "stderr",
          "text": [
            "\u001b[32m[I 2022-02-27 12:41:01,057]\u001b[0m Trial 293 finished with value: 3194622.4610006134 and parameters: {'n_layers': 4, 'n_width': 322, 'activation_l0': 'Tanh', 'activation_l1': 'LeakyReLU', 'activation_l2': 'Sigmoid', 'last_layer': 'Sigmoid', 'lr': 0.04336276625289283, 'beta': 0.9542762074541483, 'batch_size': 2}. Best is trial 233 with value: 254748.3564301329.\u001b[0m\n"
          ]
        },
        {
          "output_type": "stream",
          "name": "stdout",
          "text": [
            "Sequential(\n",
            "  (0): Linear(in_features=1, out_features=718, bias=True)\n",
            "  (1): Tanh()\n",
            "  (2): Linear(in_features=718, out_features=718, bias=True)\n",
            "  (3): LeakyReLU(negative_slope=0.01)\n",
            "  (4): Linear(in_features=718, out_features=718, bias=True)\n",
            "  (5): Sigmoid()\n",
            "  (6): Linear(in_features=718, out_features=1, bias=True)\n",
            "  (7): Sigmoid()\n",
            ")\n"
          ]
        },
        {
          "output_type": "stream",
          "name": "stderr",
          "text": [
            "\u001b[32m[I 2022-02-27 12:41:10,075]\u001b[0m Trial 294 finished with value: 490451.8453089382 and parameters: {'n_layers': 4, 'n_width': 718, 'activation_l0': 'Tanh', 'activation_l1': 'LeakyReLU', 'activation_l2': 'Sigmoid', 'last_layer': 'Sigmoid', 'lr': 0.07285838592429954, 'beta': 2.330847700572998, 'batch_size': 2}. Best is trial 233 with value: 254748.3564301329.\u001b[0m\n"
          ]
        },
        {
          "output_type": "stream",
          "name": "stdout",
          "text": [
            "Sequential(\n",
            "  (0): Linear(in_features=1, out_features=656, bias=True)\n",
            "  (1): Tanh()\n",
            "  (2): Linear(in_features=656, out_features=656, bias=True)\n",
            "  (3): LeakyReLU(negative_slope=0.01)\n",
            "  (4): Linear(in_features=656, out_features=656, bias=True)\n",
            "  (5): Sigmoid()\n",
            "  (6): Linear(in_features=656, out_features=1, bias=True)\n",
            "  (7): Sigmoid()\n",
            ")\n"
          ]
        },
        {
          "output_type": "stream",
          "name": "stderr",
          "text": [
            "\u001b[32m[I 2022-02-27 12:41:17,766]\u001b[0m Trial 295 finished with value: 1030440.0176514131 and parameters: {'n_layers': 4, 'n_width': 656, 'activation_l0': 'Tanh', 'activation_l1': 'LeakyReLU', 'activation_l2': 'Sigmoid', 'last_layer': 'Sigmoid', 'lr': 0.07715262132756284, 'beta': 2.792564180142192, 'batch_size': 2}. Best is trial 233 with value: 254748.3564301329.\u001b[0m\n"
          ]
        },
        {
          "output_type": "stream",
          "name": "stdout",
          "text": [
            "Sequential(\n",
            "  (0): Linear(in_features=1, out_features=1006, bias=True)\n",
            "  (1): Sigmoid()\n",
            "  (2): Linear(in_features=1006, out_features=1006, bias=True)\n",
            "  (3): LeakyReLU(negative_slope=0.01)\n",
            "  (4): Linear(in_features=1006, out_features=1006, bias=True)\n",
            "  (5): Sigmoid()\n",
            "  (6): Linear(in_features=1006, out_features=1, bias=True)\n",
            "  (7): Sigmoid()\n",
            ")\n"
          ]
        },
        {
          "output_type": "stream",
          "name": "stderr",
          "text": [
            "\u001b[32m[I 2022-02-27 12:41:32,990]\u001b[0m Trial 296 finished with value: 725059.526668148 and parameters: {'n_layers': 4, 'n_width': 1006, 'activation_l0': 'Sigmoid', 'activation_l1': 'LeakyReLU', 'activation_l2': 'Sigmoid', 'last_layer': 'Sigmoid', 'lr': 0.0981643428940194, 'beta': 3.478391085805636, 'batch_size': 2}. Best is trial 233 with value: 254748.3564301329.\u001b[0m\n"
          ]
        },
        {
          "output_type": "stream",
          "name": "stdout",
          "text": [
            "Sequential(\n",
            "  (0): Linear(in_features=1, out_features=563, bias=True)\n",
            "  (1): Tanh()\n",
            "  (2): Linear(in_features=563, out_features=563, bias=True)\n",
            "  (3): LeakyReLU(negative_slope=0.01)\n",
            "  (4): Linear(in_features=563, out_features=563, bias=True)\n",
            "  (5): Sigmoid()\n",
            "  (6): Linear(in_features=563, out_features=1, bias=True)\n",
            "  (7): Sigmoid()\n",
            ")\n"
          ]
        },
        {
          "output_type": "stream",
          "name": "stderr",
          "text": [
            "\u001b[32m[I 2022-02-27 12:41:39,068]\u001b[0m Trial 297 finished with value: 684692.7587816602 and parameters: {'n_layers': 4, 'n_width': 563, 'activation_l0': 'Tanh', 'activation_l1': 'LeakyReLU', 'activation_l2': 'Sigmoid', 'last_layer': 'Sigmoid', 'lr': 0.06364658769307073, 'beta': 0.14023041652889318, 'batch_size': 2}. Best is trial 233 with value: 254748.3564301329.\u001b[0m\n"
          ]
        },
        {
          "output_type": "stream",
          "name": "stdout",
          "text": [
            "Sequential(\n",
            "  (0): Linear(in_features=1, out_features=970, bias=True)\n",
            "  (1): Tanh()\n",
            "  (2): Linear(in_features=970, out_features=970, bias=True)\n",
            "  (3): Sigmoid()\n",
            "  (4): Linear(in_features=970, out_features=970, bias=True)\n",
            "  (5): Sigmoid()\n",
            "  (6): Linear(in_features=970, out_features=1, bias=True)\n",
            "  (7): Sigmoid()\n",
            ")\n"
          ]
        },
        {
          "output_type": "stream",
          "name": "stderr",
          "text": [
            "\u001b[32m[I 2022-02-27 12:41:53,771]\u001b[0m Trial 298 finished with value: 598024.8175945111 and parameters: {'n_layers': 4, 'n_width': 970, 'activation_l0': 'Tanh', 'activation_l1': 'Sigmoid', 'activation_l2': 'Sigmoid', 'last_layer': 'Sigmoid', 'lr': 0.06714001982009003, 'beta': 0.2545372289620921, 'batch_size': 2}. Best is trial 233 with value: 254748.3564301329.\u001b[0m\n"
          ]
        },
        {
          "output_type": "stream",
          "name": "stdout",
          "text": [
            "Sequential(\n",
            "  (0): Linear(in_features=1, out_features=988, bias=True)\n",
            "  (1): Tanh()\n",
            "  (2): Linear(in_features=988, out_features=988, bias=True)\n",
            "  (3): LeakyReLU(negative_slope=0.01)\n",
            "  (4): Linear(in_features=988, out_features=988, bias=True)\n",
            "  (5): Sigmoid()\n",
            "  (6): Linear(in_features=988, out_features=1, bias=True)\n",
            "  (7): Sigmoid()\n",
            ")\n"
          ]
        },
        {
          "output_type": "stream",
          "name": "stderr",
          "text": [
            "\u001b[32m[I 2022-02-27 12:42:08,867]\u001b[0m Trial 299 finished with value: 618658.3077437994 and parameters: {'n_layers': 4, 'n_width': 988, 'activation_l0': 'Tanh', 'activation_l1': 'LeakyReLU', 'activation_l2': 'Sigmoid', 'last_layer': 'Sigmoid', 'lr': 0.05114115532821731, 'beta': 2.3336395550392286, 'batch_size': 2}. Best is trial 233 with value: 254748.3564301329.\u001b[0m\n"
          ]
        },
        {
          "output_type": "stream",
          "name": "stdout",
          "text": [
            "Sequential(\n",
            "  (0): Linear(in_features=1, out_features=392, bias=True)\n",
            "  (1): Tanh()\n",
            "  (2): Linear(in_features=392, out_features=392, bias=True)\n",
            "  (3): LeakyReLU(negative_slope=0.01)\n",
            "  (4): Linear(in_features=392, out_features=392, bias=True)\n",
            "  (5): Sigmoid()\n",
            "  (6): Linear(in_features=392, out_features=1, bias=True)\n",
            "  (7): Sigmoid()\n",
            ")\n"
          ]
        },
        {
          "output_type": "stream",
          "name": "stderr",
          "text": [
            "\u001b[32m[I 2022-02-27 12:42:11,572]\u001b[0m Trial 300 finished with value: 930011.2232226923 and parameters: {'n_layers': 4, 'n_width': 392, 'activation_l0': 'Tanh', 'activation_l1': 'LeakyReLU', 'activation_l2': 'Sigmoid', 'last_layer': 'Sigmoid', 'lr': 0.07280720311365801, 'beta': 1.1145176195944633, 'batch_size': 3}. Best is trial 233 with value: 254748.3564301329.\u001b[0m\n"
          ]
        },
        {
          "output_type": "stream",
          "name": "stdout",
          "text": [
            "Sequential(\n",
            "  (0): Linear(in_features=1, out_features=537, bias=True)\n",
            "  (1): Tanh()\n",
            "  (2): Linear(in_features=537, out_features=537, bias=True)\n",
            "  (3): LeakyReLU(negative_slope=0.01)\n",
            "  (4): Linear(in_features=537, out_features=537, bias=True)\n",
            "  (5): Tanh()\n",
            "  (6): Linear(in_features=537, out_features=1, bias=True)\n",
            "  (7): Sigmoid()\n",
            ")\n"
          ]
        },
        {
          "output_type": "stream",
          "name": "stderr",
          "text": [
            "\u001b[32m[I 2022-02-27 12:42:17,379]\u001b[0m Trial 301 finished with value: 5447446.394347591 and parameters: {'n_layers': 4, 'n_width': 537, 'activation_l0': 'Tanh', 'activation_l1': 'LeakyReLU', 'activation_l2': 'Tanh', 'last_layer': 'Sigmoid', 'lr': 0.09763803886334395, 'beta': 27.940422333893487, 'batch_size': 2}. Best is trial 233 with value: 254748.3564301329.\u001b[0m\n"
          ]
        },
        {
          "output_type": "stream",
          "name": "stdout",
          "text": [
            "Sequential(\n",
            "  (0): Linear(in_features=1, out_features=476, bias=True)\n",
            "  (1): Tanh()\n",
            "  (2): Linear(in_features=476, out_features=476, bias=True)\n",
            "  (3): LeakyReLU(negative_slope=0.01)\n",
            "  (4): Linear(in_features=476, out_features=476, bias=True)\n",
            "  (5): Sigmoid()\n",
            "  (6): Linear(in_features=476, out_features=1, bias=True)\n",
            "  (7): Sigmoid()\n",
            ")\n"
          ]
        },
        {
          "output_type": "stream",
          "name": "stderr",
          "text": [
            "\u001b[32m[I 2022-02-27 12:42:22,369]\u001b[0m Trial 302 finished with value: 1040670.8789250827 and parameters: {'n_layers': 4, 'n_width': 476, 'activation_l0': 'Tanh', 'activation_l1': 'LeakyReLU', 'activation_l2': 'Sigmoid', 'last_layer': 'Sigmoid', 'lr': 0.047176564612113225, 'beta': 1.538694545611758, 'batch_size': 2}. Best is trial 233 with value: 254748.3564301329.\u001b[0m\n"
          ]
        },
        {
          "output_type": "stream",
          "name": "stdout",
          "text": [
            "Sequential(\n",
            "  (0): Linear(in_features=1, out_features=746, bias=True)\n",
            "  (1): Tanh()\n",
            "  (2): Linear(in_features=746, out_features=746, bias=True)\n",
            "  (3): LeakyReLU(negative_slope=0.01)\n",
            "  (4): Linear(in_features=746, out_features=746, bias=True)\n",
            "  (5): Sigmoid()\n",
            "  (6): Linear(in_features=746, out_features=1, bias=True)\n",
            "  (7): Sigmoid()\n",
            ")\n"
          ]
        },
        {
          "output_type": "stream",
          "name": "stderr",
          "text": [
            "\u001b[32m[I 2022-02-27 12:42:31,658]\u001b[0m Trial 303 finished with value: 434514.9126561778 and parameters: {'n_layers': 4, 'n_width': 746, 'activation_l0': 'Tanh', 'activation_l1': 'LeakyReLU', 'activation_l2': 'Sigmoid', 'last_layer': 'Sigmoid', 'lr': 0.05381604115708152, 'beta': 1.2690037951556397, 'batch_size': 2}. Best is trial 233 with value: 254748.3564301329.\u001b[0m\n"
          ]
        },
        {
          "output_type": "stream",
          "name": "stdout",
          "text": [
            "Sequential(\n",
            "  (0): Linear(in_features=1, out_features=791, bias=True)\n",
            "  (1): Tanh()\n",
            "  (2): Linear(in_features=791, out_features=791, bias=True)\n",
            "  (3): LeakyReLU(negative_slope=0.01)\n",
            "  (4): Linear(in_features=791, out_features=791, bias=True)\n",
            "  (5): Sigmoid()\n",
            "  (6): Linear(in_features=791, out_features=1, bias=True)\n",
            "  (7): Sigmoid()\n",
            ")\n"
          ]
        },
        {
          "output_type": "stream",
          "name": "stderr",
          "text": [
            "\u001b[32m[I 2022-02-27 12:42:42,043]\u001b[0m Trial 304 finished with value: 411787.46354757017 and parameters: {'n_layers': 4, 'n_width': 791, 'activation_l0': 'Tanh', 'activation_l1': 'LeakyReLU', 'activation_l2': 'Sigmoid', 'last_layer': 'Sigmoid', 'lr': 0.05531342361930547, 'beta': 1.3361511007923927, 'batch_size': 2}. Best is trial 233 with value: 254748.3564301329.\u001b[0m\n"
          ]
        },
        {
          "output_type": "stream",
          "name": "stdout",
          "text": [
            "Sequential(\n",
            "  (0): Linear(in_features=1, out_features=704, bias=True)\n",
            "  (1): Tanh()\n",
            "  (2): Linear(in_features=704, out_features=704, bias=True)\n",
            "  (3): LeakyReLU(negative_slope=0.01)\n",
            "  (4): Linear(in_features=704, out_features=704, bias=True)\n",
            "  (5): Sigmoid()\n",
            "  (6): Linear(in_features=704, out_features=1, bias=True)\n",
            "  (7): Sigmoid()\n",
            ")\n"
          ]
        },
        {
          "output_type": "stream",
          "name": "stderr",
          "text": [
            "\u001b[32m[I 2022-02-27 12:42:50,154]\u001b[0m Trial 305 finished with value: 327156.4510838015 and parameters: {'n_layers': 4, 'n_width': 704, 'activation_l0': 'Tanh', 'activation_l1': 'LeakyReLU', 'activation_l2': 'Sigmoid', 'last_layer': 'Sigmoid', 'lr': 0.06533724245770595, 'beta': 1.3022313280205984, 'batch_size': 2}. Best is trial 233 with value: 254748.3564301329.\u001b[0m\n"
          ]
        },
        {
          "output_type": "stream",
          "name": "stdout",
          "text": [
            "Sequential(\n",
            "  (0): Linear(in_features=1, out_features=740, bias=True)\n",
            "  (1): Tanh()\n",
            "  (2): Linear(in_features=740, out_features=740, bias=True)\n",
            "  (3): LeakyReLU(negative_slope=0.01)\n",
            "  (4): Linear(in_features=740, out_features=740, bias=True)\n",
            "  (5): Sigmoid()\n",
            "  (6): Linear(in_features=740, out_features=1, bias=True)\n",
            "  (7): Sigmoid()\n",
            ")\n"
          ]
        },
        {
          "output_type": "stream",
          "name": "stderr",
          "text": [
            "\u001b[32m[I 2022-02-27 12:42:59,358]\u001b[0m Trial 306 finished with value: 882692.3744288061 and parameters: {'n_layers': 4, 'n_width': 740, 'activation_l0': 'Tanh', 'activation_l1': 'LeakyReLU', 'activation_l2': 'Sigmoid', 'last_layer': 'Sigmoid', 'lr': 0.0746288292804301, 'beta': 1.2583773955204511, 'batch_size': 2}. Best is trial 233 with value: 254748.3564301329.\u001b[0m\n"
          ]
        },
        {
          "output_type": "stream",
          "name": "stdout",
          "text": [
            "Sequential(\n",
            "  (0): Linear(in_features=1, out_features=734, bias=True)\n",
            "  (1): Tanh()\n",
            "  (2): Linear(in_features=734, out_features=734, bias=True)\n",
            "  (3): LeakyReLU(negative_slope=0.01)\n",
            "  (4): Linear(in_features=734, out_features=734, bias=True)\n",
            "  (5): Sigmoid()\n",
            "  (6): Linear(in_features=734, out_features=1, bias=True)\n",
            "  (7): Sigmoid()\n",
            ")\n"
          ]
        },
        {
          "output_type": "stream",
          "name": "stderr",
          "text": [
            "\u001b[32m[I 2022-02-27 12:43:08,751]\u001b[0m Trial 307 finished with value: 1103081.0640195499 and parameters: {'n_layers': 4, 'n_width': 734, 'activation_l0': 'Tanh', 'activation_l1': 'LeakyReLU', 'activation_l2': 'Sigmoid', 'last_layer': 'Sigmoid', 'lr': 0.05731232643049965, 'beta': 1.339264642433437, 'batch_size': 2}. Best is trial 233 with value: 254748.3564301329.\u001b[0m\n"
          ]
        },
        {
          "output_type": "stream",
          "name": "stdout",
          "text": [
            "Sequential(\n",
            "  (0): Linear(in_features=1, out_features=690, bias=True)\n",
            "  (1): Tanh()\n",
            "  (2): Linear(in_features=690, out_features=690, bias=True)\n",
            "  (3): LeakyReLU(negative_slope=0.01)\n",
            "  (4): Linear(in_features=690, out_features=690, bias=True)\n",
            "  (5): Sigmoid()\n",
            "  (6): Linear(in_features=690, out_features=1, bias=True)\n",
            "  (7): Softplus(beta=1, threshold=20)\n",
            ")\n"
          ]
        },
        {
          "output_type": "stream",
          "name": "stderr",
          "text": [
            "\u001b[32m[I 2022-02-27 12:43:16,962]\u001b[0m Trial 308 finished with value: 1478247.426575812 and parameters: {'n_layers': 4, 'n_width': 690, 'activation_l0': 'Tanh', 'activation_l1': 'LeakyReLU', 'activation_l2': 'Sigmoid', 'last_layer': 'Softplus', 'lr': 0.08094516093690549, 'beta': 1.5767331981850048, 'batch_size': 2}. Best is trial 233 with value: 254748.3564301329.\u001b[0m\n"
          ]
        },
        {
          "output_type": "stream",
          "name": "stdout",
          "text": [
            "Sequential(\n",
            "  (0): Linear(in_features=1, out_features=704, bias=True)\n",
            "  (1): Tanh()\n",
            "  (2): Linear(in_features=704, out_features=704, bias=True)\n",
            "  (3): LeakyReLU(negative_slope=0.01)\n",
            "  (4): Linear(in_features=704, out_features=704, bias=True)\n",
            "  (5): Sigmoid()\n",
            "  (6): Linear(in_features=704, out_features=1, bias=True)\n",
            "  (7): Sigmoid()\n",
            ")\n"
          ]
        },
        {
          "output_type": "stream",
          "name": "stderr",
          "text": [
            "\u001b[32m[I 2022-02-27 12:43:25,051]\u001b[0m Trial 309 finished with value: 767847.6006884512 and parameters: {'n_layers': 4, 'n_width': 704, 'activation_l0': 'Tanh', 'activation_l1': 'LeakyReLU', 'activation_l2': 'Sigmoid', 'last_layer': 'Sigmoid', 'lr': 0.09836107805177828, 'beta': 1.3452271556077837, 'batch_size': 2}. Best is trial 233 with value: 254748.3564301329.\u001b[0m\n"
          ]
        },
        {
          "output_type": "stream",
          "name": "stdout",
          "text": [
            "Sequential(\n",
            "  (0): Linear(in_features=1, out_features=787, bias=True)\n",
            "  (1): LeakyReLU(negative_slope=0.01)\n",
            "  (2): Linear(in_features=787, out_features=787, bias=True)\n",
            "  (3): LeakyReLU(negative_slope=0.01)\n",
            "  (4): Linear(in_features=787, out_features=787, bias=True)\n",
            "  (5): Sigmoid()\n",
            "  (6): Linear(in_features=787, out_features=1, bias=True)\n",
            "  (7): Sigmoid()\n",
            ")\n"
          ]
        },
        {
          "output_type": "stream",
          "name": "stderr",
          "text": [
            "\u001b[32m[I 2022-02-27 12:43:35,705]\u001b[0m Trial 310 finished with value: 884336.012828349 and parameters: {'n_layers': 4, 'n_width': 787, 'activation_l0': 'LeakyReLU', 'activation_l1': 'LeakyReLU', 'activation_l2': 'Sigmoid', 'last_layer': 'Sigmoid', 'lr': 0.03825280218093155, 'beta': 0.11578721969409271, 'batch_size': 2}. Best is trial 233 with value: 254748.3564301329.\u001b[0m\n"
          ]
        },
        {
          "output_type": "stream",
          "name": "stdout",
          "text": [
            "Sequential(\n",
            "  (0): Linear(in_features=1, out_features=738, bias=True)\n",
            "  (1): Tanh()\n",
            "  (2): Linear(in_features=738, out_features=738, bias=True)\n",
            "  (3): LeakyReLU(negative_slope=0.01)\n",
            "  (4): Linear(in_features=738, out_features=738, bias=True)\n",
            "  (5): Sigmoid()\n",
            "  (6): Linear(in_features=738, out_features=1, bias=True)\n",
            "  (7): Sigmoid()\n",
            ")\n"
          ]
        },
        {
          "output_type": "stream",
          "name": "stderr",
          "text": [
            "\u001b[32m[I 2022-02-27 12:43:44,994]\u001b[0m Trial 311 finished with value: 798569.5921496932 and parameters: {'n_layers': 4, 'n_width': 738, 'activation_l0': 'Tanh', 'activation_l1': 'LeakyReLU', 'activation_l2': 'Sigmoid', 'last_layer': 'Sigmoid', 'lr': 0.05755853189679986, 'beta': 1.7537096866631734, 'batch_size': 2}. Best is trial 233 with value: 254748.3564301329.\u001b[0m\n"
          ]
        },
        {
          "output_type": "stream",
          "name": "stdout",
          "text": [
            "Sequential(\n",
            "  (0): Linear(in_features=1, out_features=764, bias=True)\n",
            "  (1): Tanh()\n",
            "  (2): Linear(in_features=764, out_features=764, bias=True)\n",
            "  (3): LeakyReLU(negative_slope=0.01)\n",
            "  (4): Linear(in_features=764, out_features=764, bias=True)\n",
            "  (5): Sigmoid()\n",
            "  (6): Linear(in_features=764, out_features=1, bias=True)\n",
            "  (7): Sigmoid()\n",
            ")\n"
          ]
        },
        {
          "output_type": "stream",
          "name": "stderr",
          "text": [
            "\u001b[32m[I 2022-02-27 12:43:54,479]\u001b[0m Trial 312 finished with value: 1260431587.185389 and parameters: {'n_layers': 4, 'n_width': 764, 'activation_l0': 'Tanh', 'activation_l1': 'LeakyReLU', 'activation_l2': 'Sigmoid', 'last_layer': 'Sigmoid', 'lr': 0.07639274423671813, 'beta': 40.29225232363942, 'batch_size': 2}. Best is trial 233 with value: 254748.3564301329.\u001b[0m\n"
          ]
        },
        {
          "output_type": "stream",
          "name": "stdout",
          "text": [
            "Sequential(\n",
            "  (0): Linear(in_features=1, out_features=714, bias=True)\n",
            "  (1): Sigmoid()\n",
            "  (2): Linear(in_features=714, out_features=714, bias=True)\n",
            "  (3): LeakyReLU(negative_slope=0.01)\n",
            "  (4): Linear(in_features=714, out_features=714, bias=True)\n",
            "  (5): Sigmoid()\n",
            "  (6): Linear(in_features=714, out_features=1, bias=True)\n",
            "  (7): Sigmoid()\n",
            ")\n"
          ]
        },
        {
          "output_type": "stream",
          "name": "stderr",
          "text": [
            "\u001b[32m[I 2022-02-27 12:44:00,551]\u001b[0m Trial 313 finished with value: 1610281.4775018652 and parameters: {'n_layers': 4, 'n_width': 714, 'activation_l0': 'Sigmoid', 'activation_l1': 'LeakyReLU', 'activation_l2': 'Sigmoid', 'last_layer': 'Sigmoid', 'lr': 0.04656998310427474, 'beta': 1.3743801292989952, 'batch_size': 3}. Best is trial 233 with value: 254748.3564301329.\u001b[0m\n"
          ]
        },
        {
          "output_type": "stream",
          "name": "stdout",
          "text": [
            "Sequential(\n",
            "  (0): Linear(in_features=1, out_features=725, bias=True)\n",
            "  (1): Tanh()\n",
            "  (2): Linear(in_features=725, out_features=725, bias=True)\n",
            "  (3): LeakyReLU(negative_slope=0.01)\n",
            "  (4): Linear(in_features=725, out_features=725, bias=True)\n",
            "  (5): Sigmoid()\n",
            "  (6): Linear(in_features=725, out_features=1, bias=True)\n",
            "  (7): Sigmoid()\n",
            ")\n"
          ]
        },
        {
          "output_type": "stream",
          "name": "stderr",
          "text": [
            "\u001b[32m[I 2022-02-27 12:44:09,839]\u001b[0m Trial 314 finished with value: 793413.9265373409 and parameters: {'n_layers': 4, 'n_width': 725, 'activation_l0': 'Tanh', 'activation_l1': 'LeakyReLU', 'activation_l2': 'Sigmoid', 'last_layer': 'Sigmoid', 'lr': 0.03273343714619579, 'beta': 1.154282997708838, 'batch_size': 2}. Best is trial 233 with value: 254748.3564301329.\u001b[0m\n"
          ]
        },
        {
          "output_type": "stream",
          "name": "stdout",
          "text": [
            "Sequential(\n",
            "  (0): Linear(in_features=1, out_features=776, bias=True)\n",
            "  (1): Tanh()\n",
            "  (2): Linear(in_features=776, out_features=776, bias=True)\n",
            "  (3): LeakyReLU(negative_slope=0.01)\n",
            "  (4): Linear(in_features=776, out_features=776, bias=True)\n",
            "  (5): Sigmoid()\n",
            "  (6): Linear(in_features=776, out_features=1, bias=True)\n",
            "  (7): Sigmoid()\n",
            ")\n"
          ]
        },
        {
          "output_type": "stream",
          "name": "stderr",
          "text": [
            "\u001b[32m[I 2022-02-27 12:44:19,892]\u001b[0m Trial 315 finished with value: 681767.2381331514 and parameters: {'n_layers': 4, 'n_width': 776, 'activation_l0': 'Tanh', 'activation_l1': 'LeakyReLU', 'activation_l2': 'Sigmoid', 'last_layer': 'Sigmoid', 'lr': 0.056402322641511765, 'beta': 1.5034402947654477, 'batch_size': 2}. Best is trial 233 with value: 254748.3564301329.\u001b[0m\n"
          ]
        },
        {
          "output_type": "stream",
          "name": "stdout",
          "text": [
            "Sequential(\n",
            "  (0): Linear(in_features=1, out_features=805, bias=True)\n",
            "  (1): Tanh()\n",
            "  (2): Linear(in_features=805, out_features=805, bias=True)\n",
            "  (3): LeakyReLU(negative_slope=0.01)\n",
            "  (4): Linear(in_features=805, out_features=805, bias=True)\n",
            "  (5): Sigmoid()\n",
            "  (6): Linear(in_features=805, out_features=1, bias=True)\n",
            "  (7): Sigmoid()\n",
            ")\n"
          ]
        },
        {
          "output_type": "stream",
          "name": "stderr",
          "text": [
            "\u001b[32m[I 2022-02-27 12:44:30,502]\u001b[0m Trial 316 finished with value: 593837.7052200682 and parameters: {'n_layers': 4, 'n_width': 805, 'activation_l0': 'Tanh', 'activation_l1': 'LeakyReLU', 'activation_l2': 'Sigmoid', 'last_layer': 'Sigmoid', 'lr': 0.06844757803272676, 'beta': 1.8054784190040072, 'batch_size': 2}. Best is trial 233 with value: 254748.3564301329.\u001b[0m\n"
          ]
        },
        {
          "output_type": "stream",
          "name": "stdout",
          "text": [
            "Sequential(\n",
            "  (0): Linear(in_features=1, out_features=643, bias=True)\n",
            "  (1): Tanh()\n",
            "  (2): Linear(in_features=643, out_features=643, bias=True)\n",
            "  (3): LeakyReLU(negative_slope=0.01)\n",
            "  (4): Linear(in_features=643, out_features=643, bias=True)\n",
            "  (5): Sigmoid()\n",
            "  (6): Linear(in_features=643, out_features=1, bias=True)\n",
            "  (7): Sigmoid()\n",
            ")\n"
          ]
        },
        {
          "output_type": "stream",
          "name": "stderr",
          "text": [
            "\u001b[32m[I 2022-02-27 12:44:38,902]\u001b[0m Trial 317 finished with value: 2125169.7275778344 and parameters: {'n_layers': 4, 'n_width': 643, 'activation_l0': 'Tanh', 'activation_l1': 'LeakyReLU', 'activation_l2': 'Sigmoid', 'last_layer': 'Sigmoid', 'lr': 0.00038948601972683695, 'beta': 1.2461069531236075, 'batch_size': 2}. Best is trial 233 with value: 254748.3564301329.\u001b[0m\n"
          ]
        },
        {
          "output_type": "stream",
          "name": "stdout",
          "text": [
            "Sequential(\n",
            "  (0): Linear(in_features=1, out_features=710, bias=True)\n",
            "  (1): Tanh()\n",
            "  (2): Linear(in_features=710, out_features=710, bias=True)\n",
            "  (3): LeakyReLU(negative_slope=0.01)\n",
            "  (4): Linear(in_features=710, out_features=1, bias=True)\n",
            "  (5): Sigmoid()\n",
            ")\n"
          ]
        },
        {
          "output_type": "stream",
          "name": "stderr",
          "text": [
            "\u001b[32m[I 2022-02-27 12:44:43,848]\u001b[0m Trial 318 finished with value: 8378487.733935454 and parameters: {'n_layers': 3, 'n_width': 710, 'activation_l0': 'Tanh', 'activation_l1': 'LeakyReLU', 'last_layer': 'Sigmoid', 'lr': 0.04017103427130347, 'beta': 1.5828283206320286, 'batch_size': 2}. Best is trial 233 with value: 254748.3564301329.\u001b[0m\n"
          ]
        },
        {
          "output_type": "stream",
          "name": "stdout",
          "text": [
            "Sequential(\n",
            "  (0): Linear(in_features=1, out_features=819, bias=True)\n",
            "  (1): Tanh()\n",
            "  (2): Linear(in_features=819, out_features=1, bias=True)\n",
            "  (3): Sigmoid()\n",
            ")\n"
          ]
        },
        {
          "output_type": "stream",
          "name": "stderr",
          "text": [
            "\u001b[32m[I 2022-02-27 12:44:45,035]\u001b[0m Trial 319 finished with value: 613451206.0967113 and parameters: {'n_layers': 2, 'n_width': 819, 'activation_l0': 'Tanh', 'last_layer': 'Sigmoid', 'lr': 0.09833067880029038, 'beta': 82.11843815220239, 'batch_size': 2}. Best is trial 233 with value: 254748.3564301329.\u001b[0m\n"
          ]
        },
        {
          "output_type": "stream",
          "name": "stdout",
          "text": [
            "Sequential(\n",
            "  (0): Linear(in_features=1, out_features=739, bias=True)\n",
            "  (1): Tanh()\n",
            "  (2): Linear(in_features=739, out_features=739, bias=True)\n",
            "  (3): LeakyReLU(negative_slope=0.01)\n",
            "  (4): Linear(in_features=739, out_features=739, bias=True)\n",
            "  (5): LeakyReLU(negative_slope=0.01)\n",
            "  (6): Linear(in_features=739, out_features=1, bias=True)\n",
            "  (7): Sigmoid()\n",
            ")\n"
          ]
        },
        {
          "output_type": "stream",
          "name": "stderr",
          "text": [
            "\u001b[32m[I 2022-02-27 12:44:54,314]\u001b[0m Trial 320 finished with value: 1505981.372806321 and parameters: {'n_layers': 4, 'n_width': 739, 'activation_l0': 'Tanh', 'activation_l1': 'LeakyReLU', 'activation_l2': 'LeakyReLU', 'last_layer': 'Sigmoid', 'lr': 0.026474988506982475, 'beta': 1.9811310892561578, 'batch_size': 2}. Best is trial 233 with value: 254748.3564301329.\u001b[0m\n"
          ]
        },
        {
          "output_type": "stream",
          "name": "stdout",
          "text": [
            "Sequential(\n",
            "  (0): Linear(in_features=1, out_features=706, bias=True)\n",
            "  (1): Tanh()\n",
            "  (2): Linear(in_features=706, out_features=706, bias=True)\n",
            "  (3): LeakyReLU(negative_slope=0.01)\n",
            "  (4): Linear(in_features=706, out_features=706, bias=True)\n",
            "  (5): Sigmoid()\n",
            "  (6): Linear(in_features=706, out_features=1, bias=True)\n",
            "  (7): Sigmoid()\n",
            ")\n"
          ]
        },
        {
          "output_type": "stream",
          "name": "stderr",
          "text": [
            "\u001b[32m[I 2022-02-27 12:45:03,226]\u001b[0m Trial 321 finished with value: 1010146.3904394145 and parameters: {'n_layers': 4, 'n_width': 706, 'activation_l0': 'Tanh', 'activation_l1': 'LeakyReLU', 'activation_l2': 'Sigmoid', 'last_layer': 'Sigmoid', 'lr': 0.057333676038032876, 'beta': 1.4718594893730428, 'batch_size': 2}. Best is trial 233 with value: 254748.3564301329.\u001b[0m\n"
          ]
        },
        {
          "output_type": "stream",
          "name": "stdout",
          "text": [
            "Sequential(\n",
            "  (0): Linear(in_features=1, out_features=680, bias=True)\n",
            "  (1): Tanh()\n",
            "  (2): Linear(in_features=680, out_features=680, bias=True)\n",
            "  (3): LeakyReLU(negative_slope=0.01)\n",
            "  (4): Linear(in_features=680, out_features=680, bias=True)\n",
            "  (5): Sigmoid()\n",
            "  (6): Linear(in_features=680, out_features=1, bias=True)\n",
            "  (7): Sigmoid()\n",
            ")\n"
          ]
        },
        {
          "output_type": "stream",
          "name": "stderr",
          "text": [
            "\u001b[32m[I 2022-02-27 12:45:11,462]\u001b[0m Trial 322 finished with value: 1842464.2452734038 and parameters: {'n_layers': 4, 'n_width': 680, 'activation_l0': 'Tanh', 'activation_l1': 'LeakyReLU', 'activation_l2': 'Sigmoid', 'last_layer': 'Sigmoid', 'lr': 0.03604327255398349, 'beta': 1.7451595875805563, 'batch_size': 2}. Best is trial 233 with value: 254748.3564301329.\u001b[0m\n"
          ]
        },
        {
          "output_type": "stream",
          "name": "stdout",
          "text": [
            "Sequential(\n",
            "  (0): Linear(in_features=1, out_features=749, bias=True)\n",
            "  (1): Tanh()\n",
            "  (2): Linear(in_features=749, out_features=749, bias=True)\n",
            "  (3): LeakyReLU(negative_slope=0.01)\n",
            "  (4): Linear(in_features=749, out_features=749, bias=True)\n",
            "  (5): Sigmoid()\n",
            "  (6): Linear(in_features=749, out_features=1, bias=True)\n",
            "  (7): Sigmoid()\n",
            ")\n"
          ]
        },
        {
          "output_type": "stream",
          "name": "stderr",
          "text": [
            "\u001b[32m[I 2022-02-27 12:45:20,888]\u001b[0m Trial 323 finished with value: 683866.9091779001 and parameters: {'n_layers': 4, 'n_width': 749, 'activation_l0': 'Tanh', 'activation_l1': 'LeakyReLU', 'activation_l2': 'Sigmoid', 'last_layer': 'Sigmoid', 'lr': 0.07286112263460653, 'beta': 2.919420233871581, 'batch_size': 2}. Best is trial 233 with value: 254748.3564301329.\u001b[0m\n"
          ]
        },
        {
          "output_type": "stream",
          "name": "stdout",
          "text": [
            "Sequential(\n",
            "  (0): Linear(in_features=1, out_features=670, bias=True)\n",
            "  (1): Tanh()\n",
            "  (2): Linear(in_features=670, out_features=670, bias=True)\n",
            "  (3): Sigmoid()\n",
            "  (4): Linear(in_features=670, out_features=670, bias=True)\n",
            "  (5): Sigmoid()\n",
            "  (6): Linear(in_features=670, out_features=1, bias=True)\n",
            "  (7): Sigmoid()\n",
            ")\n"
          ]
        },
        {
          "output_type": "stream",
          "name": "stderr",
          "text": [
            "\u001b[32m[I 2022-02-27 12:45:26,175]\u001b[0m Trial 324 finished with value: 1264401.7472997908 and parameters: {'n_layers': 4, 'n_width': 670, 'activation_l0': 'Tanh', 'activation_l1': 'Sigmoid', 'activation_l2': 'Sigmoid', 'last_layer': 'Sigmoid', 'lr': 0.04692353380545941, 'beta': 1.2492299668139963, 'batch_size': 3}. Best is trial 233 with value: 254748.3564301329.\u001b[0m\n"
          ]
        },
        {
          "output_type": "stream",
          "name": "stdout",
          "text": [
            "Sequential(\n",
            "  (0): Linear(in_features=1, out_features=963, bias=True)\n",
            "  (1): Sigmoid()\n",
            "  (2): Linear(in_features=963, out_features=963, bias=True)\n",
            "  (3): LeakyReLU(negative_slope=0.01)\n",
            "  (4): Linear(in_features=963, out_features=963, bias=True)\n",
            "  (5): Tanh()\n",
            "  (6): Linear(in_features=963, out_features=1, bias=True)\n",
            "  (7): Sigmoid()\n",
            ")\n"
          ]
        },
        {
          "output_type": "stream",
          "name": "stderr",
          "text": [
            "\u001b[32m[I 2022-02-27 12:45:31,211]\u001b[0m Trial 325 finished with value: 11741576.419734102 and parameters: {'n_layers': 4, 'n_width': 963, 'activation_l0': 'Sigmoid', 'activation_l1': 'LeakyReLU', 'activation_l2': 'Tanh', 'last_layer': 'Sigmoid', 'lr': 0.07767629025551225, 'beta': 2.3626594244850225, 'batch_size': 10}. Best is trial 233 with value: 254748.3564301329.\u001b[0m\n"
          ]
        },
        {
          "output_type": "stream",
          "name": "stdout",
          "text": [
            "Sequential(\n",
            "  (0): Linear(in_features=1, out_features=785, bias=True)\n",
            "  (1): Tanh()\n",
            "  (2): Linear(in_features=785, out_features=785, bias=True)\n",
            "  (3): LeakyReLU(negative_slope=0.01)\n",
            "  (4): Linear(in_features=785, out_features=785, bias=True)\n",
            "  (5): Sigmoid()\n",
            "  (6): Linear(in_features=785, out_features=1, bias=True)\n",
            "  (7): Sigmoid()\n",
            ")\n"
          ]
        },
        {
          "output_type": "stream",
          "name": "stderr",
          "text": [
            "\u001b[32m[I 2022-02-27 12:45:41,668]\u001b[0m Trial 326 finished with value: 480022.0184350892 and parameters: {'n_layers': 4, 'n_width': 785, 'activation_l0': 'Tanh', 'activation_l1': 'LeakyReLU', 'activation_l2': 'Sigmoid', 'last_layer': 'Sigmoid', 'lr': 0.03191682693725281, 'beta': 2.0368056699231945, 'batch_size': 2}. Best is trial 233 with value: 254748.3564301329.\u001b[0m\n"
          ]
        },
        {
          "output_type": "stream",
          "name": "stdout",
          "text": [
            "Sequential(\n",
            "  (0): Linear(in_features=1, out_features=799, bias=True)\n",
            "  (1): Tanh()\n",
            "  (2): Linear(in_features=799, out_features=799, bias=True)\n",
            "  (3): LeakyReLU(negative_slope=0.01)\n",
            "  (4): Linear(in_features=799, out_features=799, bias=True)\n",
            "  (5): Sigmoid()\n",
            "  (6): Linear(in_features=799, out_features=1, bias=True)\n",
            "  (7): Sigmoid()\n",
            ")\n"
          ]
        },
        {
          "output_type": "stream",
          "name": "stderr",
          "text": [
            "\u001b[32m[I 2022-02-27 12:45:52,136]\u001b[0m Trial 327 finished with value: 1063256.7262180243 and parameters: {'n_layers': 4, 'n_width': 799, 'activation_l0': 'Tanh', 'activation_l1': 'LeakyReLU', 'activation_l2': 'Sigmoid', 'last_layer': 'Sigmoid', 'lr': 0.0998099568913461, 'beta': 2.0076070892087574, 'batch_size': 2}. Best is trial 233 with value: 254748.3564301329.\u001b[0m\n"
          ]
        },
        {
          "output_type": "stream",
          "name": "stdout",
          "text": [
            "Sequential(\n",
            "  (0): Linear(in_features=1, out_features=776, bias=True)\n",
            "  (1): Tanh()\n",
            "  (2): Linear(in_features=776, out_features=776, bias=True)\n",
            "  (3): LeakyReLU(negative_slope=0.01)\n",
            "  (4): Linear(in_features=776, out_features=776, bias=True)\n",
            "  (5): Sigmoid()\n",
            "  (6): Linear(in_features=776, out_features=1, bias=True)\n",
            "  (7): Softplus(beta=1, threshold=20)\n",
            ")\n"
          ]
        },
        {
          "output_type": "stream",
          "name": "stderr",
          "text": [
            "\u001b[32m[I 2022-02-27 12:46:02,216]\u001b[0m Trial 328 finished with value: 812375.2254087533 and parameters: {'n_layers': 4, 'n_width': 776, 'activation_l0': 'Tanh', 'activation_l1': 'LeakyReLU', 'activation_l2': 'Sigmoid', 'last_layer': 'Softplus', 'lr': 0.05412402519135091, 'beta': 1.7278384731279166, 'batch_size': 2}. Best is trial 233 with value: 254748.3564301329.\u001b[0m\n"
          ]
        },
        {
          "output_type": "stream",
          "name": "stdout",
          "text": [
            "Sequential(\n",
            "  (0): Linear(in_features=1, out_features=831, bias=True)\n",
            "  (1): Tanh()\n",
            "  (2): Linear(in_features=831, out_features=831, bias=True)\n",
            "  (3): LeakyReLU(negative_slope=0.01)\n",
            "  (4): Linear(in_features=831, out_features=831, bias=True)\n",
            "  (5): Sigmoid()\n",
            "  (6): Linear(in_features=831, out_features=1, bias=True)\n",
            "  (7): Sigmoid()\n",
            ")\n"
          ]
        },
        {
          "output_type": "stream",
          "name": "stderr",
          "text": [
            "\u001b[32m[I 2022-02-27 12:46:13,066]\u001b[0m Trial 329 finished with value: 945019.6424577293 and parameters: {'n_layers': 4, 'n_width': 831, 'activation_l0': 'Tanh', 'activation_l1': 'LeakyReLU', 'activation_l2': 'Sigmoid', 'last_layer': 'Sigmoid', 'lr': 0.0359449367935448, 'beta': 2.556904989203261, 'batch_size': 2}. Best is trial 233 with value: 254748.3564301329.\u001b[0m\n"
          ]
        },
        {
          "output_type": "stream",
          "name": "stdout",
          "text": [
            "Sequential(\n",
            "  (0): Linear(in_features=1, out_features=1002, bias=True)\n",
            "  (1): Tanh()\n",
            "  (2): Linear(in_features=1002, out_features=1002, bias=True)\n",
            "  (3): LeakyReLU(negative_slope=0.01)\n",
            "  (4): Linear(in_features=1002, out_features=1002, bias=True)\n",
            "  (5): Sigmoid()\n",
            "  (6): Linear(in_features=1002, out_features=1, bias=True)\n",
            "  (7): Sigmoid()\n",
            ")\n"
          ]
        },
        {
          "output_type": "stream",
          "name": "stderr",
          "text": [
            "\u001b[32m[I 2022-02-27 12:46:28,260]\u001b[0m Trial 330 finished with value: 586750.1882591776 and parameters: {'n_layers': 4, 'n_width': 1002, 'activation_l0': 'Tanh', 'activation_l1': 'LeakyReLU', 'activation_l2': 'Sigmoid', 'last_layer': 'Sigmoid', 'lr': 0.044924997346226826, 'beta': 2.118683363354371, 'batch_size': 2}. Best is trial 233 with value: 254748.3564301329.\u001b[0m\n"
          ]
        },
        {
          "output_type": "stream",
          "name": "stdout",
          "text": [
            "Sequential(\n",
            "  (0): Linear(in_features=1, out_features=837, bias=True)\n",
            "  (1): Tanh()\n",
            "  (2): Linear(in_features=837, out_features=837, bias=True)\n",
            "  (3): LeakyReLU(negative_slope=0.01)\n",
            "  (4): Linear(in_features=837, out_features=837, bias=True)\n",
            "  (5): Sigmoid()\n",
            "  (6): Linear(in_features=837, out_features=1, bias=True)\n",
            "  (7): Sigmoid()\n",
            ")\n"
          ]
        },
        {
          "output_type": "stream",
          "name": "stderr",
          "text": [
            "\u001b[32m[I 2022-02-27 12:46:39,942]\u001b[0m Trial 331 finished with value: 1014780.997811831 and parameters: {'n_layers': 4, 'n_width': 837, 'activation_l0': 'Tanh', 'activation_l1': 'LeakyReLU', 'activation_l2': 'Sigmoid', 'last_layer': 'Sigmoid', 'lr': 0.06924241183944035, 'beta': 1.5065474565143449, 'batch_size': 2}. Best is trial 233 with value: 254748.3564301329.\u001b[0m\n"
          ]
        }
      ]
    },
    {
      "cell_type": "code",
      "source": [
        "complete_trials = study.get_trials(deepcopy=False, states=[TrialState.COMPLETE])"
      ],
      "metadata": {
        "id": "oZ8lVB-Vniiq"
      },
      "execution_count": 25,
      "outputs": []
    },
    {
      "cell_type": "code",
      "source": [
        "trial = study.best_trial"
      ],
      "metadata": {
        "id": "d8rF1V10GoxO"
      },
      "execution_count": 26,
      "outputs": []
    },
    {
      "cell_type": "code",
      "source": [
        "print(\"  Value: \", trial.value)"
      ],
      "metadata": {
        "colab": {
          "base_uri": "https://localhost:8080/"
        },
        "id": "3FSwruoh2R0W",
        "outputId": "885bb227-47b4-424f-b2a3-150f89a18b5a"
      },
      "execution_count": 27,
      "outputs": [
        {
          "output_type": "stream",
          "name": "stdout",
          "text": [
            "  Value:  254748.3564301329\n"
          ]
        }
      ]
    },
    {
      "cell_type": "code",
      "source": [
        "print(\"  Params: \")\n",
        "for key, value in trial.params.items():\n",
        "        print(\"    {}: {}\".format(key, value))"
      ],
      "metadata": {
        "colab": {
          "base_uri": "https://localhost:8080/"
        },
        "id": "MNw8ArgI2Lvh",
        "outputId": "58e7b2db-972e-41b6-dc9b-8cb69037eac7"
      },
      "execution_count": 28,
      "outputs": [
        {
          "output_type": "stream",
          "name": "stdout",
          "text": [
            "  Params: \n",
            "    n_layers: 4\n",
            "    n_width: 957\n",
            "    activation_l0: Tanh\n",
            "    activation_l1: LeakyReLU\n",
            "    activation_l2: Sigmoid\n",
            "    last_layer: Sigmoid\n",
            "    lr: 0.096690655799314\n",
            "    beta: 1.2028822938024264\n",
            "    batch_size: 2\n"
          ]
        }
      ]
    },
    {
      "cell_type": "code",
      "source": [
        "layers = []\n",
        "\n",
        "in_features = 1\n",
        "out_features = trial.params[\"n_width\"]\n",
        "n_layers = trial.params[\"n_layers\"]\n",
        "for i in range(n_layers - 1):\n",
        "    \n",
        "    layers.append(nn.Linear(in_features, out_features))\n",
        "    activation_name = trial.params[\"activation_l{}\".format(i)] \n",
        "    activation = getattr(nn, activation_name)()\n",
        "    layers.append(activation)\n",
        "\n",
        "    in_features = out_features\n",
        "\n",
        "layers.append(nn.Linear(out_features, 1))\n",
        "last_layer_name = trial.params[\"last_layer\"] \n",
        "last_layer = getattr(nn, last_layer_name)()\n",
        "# vedi se inizializzare bias dell'ultimo layer\n",
        "layers.append(last_layer)\n",
        "\n",
        "model = nn.Sequential(*layers).to(device)\n",
        "optimizer = torch.optim.Adam(model.parameters(), lr = trial.params[\"lr\"] )\n",
        "loss_fn = OptionLoss(trial.params[\"beta\"])\n",
        "target_dataloader = DataLoader(prices_and_strikes , batch_size=trial.params[\"batch_size\"], shuffle = True)"
      ],
      "metadata": {
        "id": "tP6o31pa2ajr"
      },
      "execution_count": 29,
      "outputs": []
    },
    {
      "cell_type": "code",
      "source": [
        "model"
      ],
      "metadata": {
        "colab": {
          "base_uri": "https://localhost:8080/"
        },
        "id": "ol9NtJp2RfkD",
        "outputId": "cc4a9d82-9af3-4f47-a073-9d5667a6527a"
      },
      "execution_count": 35,
      "outputs": [
        {
          "output_type": "execute_result",
          "data": {
            "text/plain": [
              "Sequential(\n",
              "  (0): Linear(in_features=1, out_features=957, bias=True)\n",
              "  (1): Tanh()\n",
              "  (2): Linear(in_features=957, out_features=957, bias=True)\n",
              "  (3): LeakyReLU(negative_slope=0.01)\n",
              "  (4): Linear(in_features=957, out_features=957, bias=True)\n",
              "  (5): Sigmoid()\n",
              "  (6): Linear(in_features=957, out_features=1, bias=True)\n",
              "  (7): Sigmoid()\n",
              ")"
            ]
          },
          "metadata": {},
          "execution_count": 35
        }
      ]
    },
    {
      "cell_type": "code",
      "execution_count": 30,
      "metadata": {
        "id": "ozUdEKz5D1s3"
      },
      "outputs": [],
      "source": [
        "loss_history = []\n",
        "for _ in range(500):\n",
        "    for batch, (target_prices, strike_prices, is_call) in enumerate(target_dataloader):\n",
        "        X = torch.zeros(MC_STEPS, 1).to(device)\n",
        "        X.uniform_(0, INTERVAL_LENGTH)\n",
        "        X, _ = torch.sort(X)\n",
        "        pred = model(X)\n",
        "        loss = loss_fn(pred.cpu().squeeze(), target_prices, strike_prices, is_call, X.cpu().squeeze())\n",
        "        \n",
        "        # Backpropagation\n",
        "        optimizer.zero_grad()\n",
        "        loss.backward()\n",
        "        torch.nn.utils.clip_grad_norm_(model.parameters(), 1e1)\n",
        "        optimizer.step()\n",
        "    loss_history.append(float(loss))\n"
      ]
    },
    {
      "cell_type": "code",
      "execution_count": 31,
      "metadata": {
        "id": "tJWYi6YJIEFu",
        "colab": {
          "base_uri": "https://localhost:8080/",
          "height": 282
        },
        "outputId": "c3e74913-b57a-4276-8773-ccb33d5061c1"
      },
      "outputs": [
        {
          "output_type": "execute_result",
          "data": {
            "text/plain": [
              "[<matplotlib.lines.Line2D at 0x7fb6a6432c90>]"
            ]
          },
          "metadata": {},
          "execution_count": 31
        },
        {
          "output_type": "display_data",
          "data": {
            "image/png": "[encoded data removed]",
            "text/plain": [
              "<Figure size 432x288 with 1 Axes>"
            ]
          },
          "metadata": {
            "needs_background": "light"
          }
        }
      ],
      "source": [
        "running_loss_average = uniform_filter1d(loss_history, size=50)\n",
        "plt.plot(range(len(running_loss_average)), running_loss_average)"
      ]
    },
    {
      "cell_type": "code",
      "execution_count": 50,
      "metadata": {
        "id": "B_-GpMdAD1s3",
        "colab": {
          "base_uri": "https://localhost:8080/",
          "height": 282
        },
        "outputId": "8d98b349-e092-474a-83fa-a263885d1365"
      },
      "outputs": [
        {
          "output_type": "execute_result",
          "data": {
            "text/plain": [
              "[<matplotlib.lines.Line2D at 0x7fb6a40270d0>]"
            ]
          },
          "metadata": {},
          "execution_count": 50
        },
        {
          "output_type": "display_data",
          "data": {
            "image/png": "[encoded data removed]",
            "text/plain": [
              "<Figure size 432x288 with 1 Axes>"
            ]
          },
          "metadata": {
            "needs_background": "light"
          }
        }
      ],
      "source": [
        "x = torch.Tensor(np.arange(1, 200)).to(device).unsqueeze(-1)\n",
        "p = model(x)\n",
        "plt.plot(x.cpu().detach().numpy(), p.cpu().detach().numpy())"
      ]
    },
    {
      "cell_type": "code",
      "source": [
        "for para in model.parameters():\n",
        "    print(para)"
      ],
      "metadata": {
        "colab": {
          "base_uri": "https://localhost:8080/"
        },
        "id": "pVL99dNVj2Wa",
        "outputId": "f8bf0d30-e992-4e96-9622-dc726fa237cd"
      },
      "execution_count": 49,
      "outputs": [
        {
          "output_type": "stream",
          "name": "stdout",
          "text": [
            "Parameter containing:\n",
            "tensor([[-9.7780e-01],\n",
            "        [ 4.4154e-01],\n",
            "        [-1.1949e+00],\n",
            "        [-8.9351e-01],\n",
            "        [ 1.0526e-01],\n",
            "        [ 4.0943e-01],\n",
            "        [-6.4137e-01],\n",
            "        [ 4.1573e-01],\n",
            "        [-3.0757e-01],\n",
            "        [ 2.2205e-01],\n",
            "        [-8.3586e-01],\n",
            "        [-5.9866e-01],\n",
            "        [ 5.7032e-01],\n",
            "        [ 6.8738e-01],\n",
            "        [ 1.5736e-01],\n",
            "        [-4.8791e-01],\n",
            "        [ 3.1047e-01],\n",
            "        [-1.5413e-02],\n",
            "        [-5.3227e-01],\n",
            "        [ 1.3350e+00],\n",
            "        [-2.9663e-01],\n",
            "        [ 7.4631e-01],\n",
            "        [-9.9015e-02],\n",
            "        [ 5.2839e-01],\n",
            "        [-1.3755e+00],\n",
            "        [ 5.2647e-01],\n",
            "        [-8.0496e-01],\n",
            "        [ 7.3475e-01],\n",
            "        [ 1.4894e+00],\n",
            "        [ 2.5023e-02],\n",
            "        [-9.0184e-02],\n",
            "        [-3.4828e-02],\n",
            "        [ 5.7823e-01],\n",
            "        [-1.8959e-01],\n",
            "        [-4.6199e-01],\n",
            "        [-3.9487e-01],\n",
            "        [-6.5468e-02],\n",
            "        [-9.6210e-01],\n",
            "        [-8.6880e-01],\n",
            "        [-1.1432e+00],\n",
            "        [ 2.3724e-01],\n",
            "        [ 3.7566e-01],\n",
            "        [-2.6663e-01],\n",
            "        [ 1.4751e+00],\n",
            "        [ 3.7713e-01],\n",
            "        [-3.5652e-01],\n",
            "        [ 1.7380e-01],\n",
            "        [ 1.0080e-01],\n",
            "        [-1.7020e-01],\n",
            "        [-2.9129e-01],\n",
            "        [-1.4102e+00],\n",
            "        [-5.9043e-01],\n",
            "        [-1.0076e-01],\n",
            "        [ 1.2510e-01],\n",
            "        [-8.8166e-02],\n",
            "        [-2.6312e-01],\n",
            "        [-7.8852e-01],\n",
            "        [-5.1359e-02],\n",
            "        [-3.9569e-01],\n",
            "        [ 3.8680e-01],\n",
            "        [ 8.4384e-02],\n",
            "        [-1.2664e+00],\n",
            "        [ 1.2839e+00],\n",
            "        [ 3.1874e-01],\n",
            "        [ 1.0114e+00],\n",
            "        [-1.2706e-01],\n",
            "        [-4.8682e-01],\n",
            "        [-1.5709e-01],\n",
            "        [ 2.1550e-01],\n",
            "        [-6.3769e-01],\n",
            "        [-1.3870e+00],\n",
            "        [-1.5602e+00],\n",
            "        [-1.4567e+00],\n",
            "        [-4.0411e-01],\n",
            "        [ 1.9583e-01],\n",
            "        [ 1.0557e+00],\n",
            "        [ 1.0707e+00],\n",
            "        [ 2.8189e-01],\n",
            "        [ 6.5535e-01],\n",
            "        [ 1.4091e+00],\n",
            "        [-2.9994e-02],\n",
            "        [ 5.1474e-01],\n",
            "        [-1.2899e+00],\n",
            "        [ 8.6688e-02],\n",
            "        [ 9.1619e-01],\n",
            "        [ 5.7888e-01],\n",
            "        [-3.8768e-01],\n",
            "        [-1.0538e+00],\n",
            "        [-9.7069e-02],\n",
            "        [-2.8856e-01],\n",
            "        [-1.5126e+00],\n",
            "        [ 1.1526e+00],\n",
            "        [-9.4436e-01],\n",
            "        [ 7.4328e-02],\n",
            "        [ 1.0677e+00],\n",
            "        [ 8.1668e-01],\n",
            "        [ 1.5623e+00],\n",
            "        [-9.7877e-01],\n",
            "        [ 2.5333e-01],\n",
            "        [-1.1137e+00],\n",
            "        [-4.6197e-02],\n",
            "        [ 3.9669e-01],\n",
            "        [ 1.0411e+00],\n",
            "        [ 3.8589e-01],\n",
            "        [-1.3708e+00],\n",
            "        [-1.1326e+00],\n",
            "        [-6.0618e-01],\n",
            "        [-7.0701e-01],\n",
            "        [ 6.6474e-01],\n",
            "        [ 1.4633e+00],\n",
            "        [-1.2843e+00],\n",
            "        [-1.3190e+00],\n",
            "        [ 9.1563e-01],\n",
            "        [ 4.4368e-01],\n",
            "        [ 5.3406e-01],\n",
            "        [ 3.5768e-01],\n",
            "        [ 1.2226e+00],\n",
            "        [ 1.2363e+00],\n",
            "        [-3.6764e-01],\n",
            "        [ 5.5945e-01],\n",
            "        [ 7.2167e-01],\n",
            "        [ 1.4633e+00],\n",
            "        [-6.4223e-01],\n",
            "        [-8.4466e-01],\n",
            "        [-6.8666e-02],\n",
            "        [ 2.6419e-01],\n",
            "        [ 7.6196e-01],\n",
            "        [-1.2456e+00],\n",
            "        [ 6.6279e-01],\n",
            "        [ 2.2848e-01],\n",
            "        [ 3.4245e-02],\n",
            "        [-9.5185e-01],\n",
            "        [ 1.0149e+00],\n",
            "        [-3.9038e-01],\n",
            "        [ 1.2512e+00],\n",
            "        [ 5.0459e-01],\n",
            "        [-4.8694e-01],\n",
            "        [ 7.2646e-01],\n",
            "        [-5.6714e-01],\n",
            "        [ 8.0614e-01],\n",
            "        [ 1.2507e+00],\n",
            "        [-1.2022e+00],\n",
            "        [ 9.5585e-01],\n",
            "        [ 1.3281e+00],\n",
            "        [-1.2735e+00],\n",
            "        [ 2.4592e-01],\n",
            "        [ 5.2487e-02],\n",
            "        [-8.8047e-01],\n",
            "        [ 3.5628e-01],\n",
            "        [-2.5637e-01],\n",
            "        [-6.4036e-01],\n",
            "        [-4.5828e-02],\n",
            "        [ 2.4157e-01],\n",
            "        [ 3.2186e-01],\n",
            "        [-8.3810e-01],\n",
            "        [-8.4325e-02],\n",
            "        [ 6.4056e-01],\n",
            "        [ 1.0314e+00],\n",
            "        [ 9.9138e-01],\n",
            "        [ 5.8917e-01],\n",
            "        [ 1.0498e-02],\n",
            "        [ 1.2000e-01],\n",
            "        [ 1.5626e+00],\n",
            "        [-5.3224e-01],\n",
            "        [-1.1952e+00],\n",
            "        [ 1.2555e+00],\n",
            "        [ 1.2420e+00],\n",
            "        [ 1.5660e+00],\n",
            "        [-2.9729e-01],\n",
            "        [ 4.1034e-01],\n",
            "        [ 4.6227e-01],\n",
            "        [-6.1460e-01],\n",
            "        [-5.5295e-01],\n",
            "        [ 2.7871e-01],\n",
            "        [-9.5822e-01],\n",
            "        [ 1.5485e+00],\n",
            "        [-3.7569e-01],\n",
            "        [-4.1969e-01],\n",
            "        [-8.4288e-01],\n",
            "        [ 1.3600e+00],\n",
            "        [-2.4539e-01],\n",
            "        [ 1.3327e+00],\n",
            "        [ 8.3477e-01],\n",
            "        [ 1.2433e+00],\n",
            "        [-1.1565e+00],\n",
            "        [ 9.2953e-01],\n",
            "        [-2.7465e-01],\n",
            "        [-1.0983e+00],\n",
            "        [-1.1180e+00],\n",
            "        [-4.9305e-01],\n",
            "        [ 1.7625e-02],\n",
            "        [-9.4741e-01],\n",
            "        [-1.7901e-01],\n",
            "        [-4.3074e-01],\n",
            "        [-2.0398e-01],\n",
            "        [ 4.5237e-01],\n",
            "        [-2.0858e-01],\n",
            "        [ 2.1947e-01],\n",
            "        [-1.0854e+00],\n",
            "        [-1.3867e+00],\n",
            "        [-2.3411e-01],\n",
            "        [-1.3725e+00],\n",
            "        [ 9.2227e-02],\n",
            "        [-8.5890e-01],\n",
            "        [ 9.9145e-02],\n",
            "        [ 1.0741e+00],\n",
            "        [ 5.2605e-01],\n",
            "        [ 5.1049e-01],\n",
            "        [-2.7143e-01],\n",
            "        [-2.6390e-01],\n",
            "        [ 1.1009e+00],\n",
            "        [-1.2129e+00],\n",
            "        [-3.9718e-01],\n",
            "        [-1.7126e-01],\n",
            "        [-4.1330e-01],\n",
            "        [ 1.6048e-01],\n",
            "        [-1.1606e+00],\n",
            "        [-8.2761e-01],\n",
            "        [ 1.4711e+00],\n",
            "        [ 1.2357e+00],\n",
            "        [ 1.5557e-01],\n",
            "        [-1.1547e+00],\n",
            "        [ 1.3625e-01],\n",
            "        [-1.3557e+00],\n",
            "        [-7.3850e-01],\n",
            "        [-2.5935e-02],\n",
            "        [ 1.4456e+00],\n",
            "        [ 3.8834e-01],\n",
            "        [ 2.5862e-01],\n",
            "        [ 2.3029e-01],\n",
            "        [ 1.7597e-01],\n",
            "        [-2.3218e-01],\n",
            "        [-1.0469e+00],\n",
            "        [-1.2068e-01],\n",
            "        [ 4.6351e-01],\n",
            "        [ 2.6585e-01],\n",
            "        [ 4.4171e-01],\n",
            "        [ 1.0946e+00],\n",
            "        [ 1.0085e+00],\n",
            "        [ 2.9227e-01],\n",
            "        [-8.0842e-01],\n",
            "        [-5.4125e-01],\n",
            "        [-1.4727e+00],\n",
            "        [-6.0874e-02],\n",
            "        [-7.4404e-02],\n",
            "        [ 1.3731e-01],\n",
            "        [-1.8541e-01],\n",
            "        [ 7.2646e-01],\n",
            "        [-1.1971e+00],\n",
            "        [ 1.5590e+00],\n",
            "        [-5.0915e-01],\n",
            "        [-1.5664e+00],\n",
            "        [ 7.5602e-01],\n",
            "        [-1.0204e+00],\n",
            "        [ 1.3315e+00],\n",
            "        [ 6.4352e-01],\n",
            "        [ 1.0612e+00],\n",
            "        [-1.1956e+00],\n",
            "        [-1.1139e-01],\n",
            "        [-4.2378e-01],\n",
            "        [ 1.4594e+00],\n",
            "        [-3.0952e-01],\n",
            "        [-9.3962e-01],\n",
            "        [-4.2405e-03],\n",
            "        [ 1.2970e+00],\n",
            "        [ 7.9170e-02],\n",
            "        [ 6.4406e-01],\n",
            "        [-2.0612e-01],\n",
            "        [ 8.8002e-01],\n",
            "        [ 1.5013e+00],\n",
            "        [ 1.2553e+00],\n",
            "        [ 1.1425e+00],\n",
            "        [-4.8678e-01],\n",
            "        [-5.8462e-01],\n",
            "        [-1.4444e+00],\n",
            "        [ 4.6358e-01],\n",
            "        [ 1.4569e+00],\n",
            "        [-8.4511e-01],\n",
            "        [ 2.5341e-01],\n",
            "        [ 1.3231e+00],\n",
            "        [-1.5156e+00],\n",
            "        [ 1.3438e+00],\n",
            "        [ 3.7021e-01],\n",
            "        [ 3.5413e-01],\n",
            "        [ 1.0274e+00],\n",
            "        [-8.6431e-02],\n",
            "        [-5.4900e-01],\n",
            "        [ 3.7089e-01],\n",
            "        [ 2.5977e-01],\n",
            "        [ 9.5030e-01],\n",
            "        [-6.1623e-01],\n",
            "        [-1.2206e+00],\n",
            "        [ 1.5280e+00],\n",
            "        [-9.5748e-01],\n",
            "        [ 8.1352e-01],\n",
            "        [-1.2137e+00],\n",
            "        [-1.0846e+00],\n",
            "        [ 3.8079e-02],\n",
            "        [ 6.2632e-01],\n",
            "        [ 1.6794e-01],\n",
            "        [-5.7101e-01],\n",
            "        [ 2.4103e-01],\n",
            "        [-4.9658e-02],\n",
            "        [ 1.4112e+00],\n",
            "        [ 5.4279e-01],\n",
            "        [-1.4086e+00],\n",
            "        [ 1.3008e-01],\n",
            "        [ 1.3173e+00],\n",
            "        [-1.2652e+00],\n",
            "        [-7.3946e-01],\n",
            "        [-1.3463e-01],\n",
            "        [ 6.1211e-01],\n",
            "        [-1.3177e+00],\n",
            "        [-1.0782e+00],\n",
            "        [-4.5174e-02],\n",
            "        [-9.0301e-01],\n",
            "        [ 9.5346e-01],\n",
            "        [ 8.3838e-01],\n",
            "        [-1.4110e+00],\n",
            "        [ 1.5084e+00],\n",
            "        [-2.9017e-01],\n",
            "        [-1.1830e+00],\n",
            "        [ 1.3509e+00],\n",
            "        [ 2.0730e-01],\n",
            "        [ 5.3252e-01],\n",
            "        [ 3.6030e-01],\n",
            "        [-2.5114e-02],\n",
            "        [ 6.1980e-02],\n",
            "        [ 1.1410e+00],\n",
            "        [-9.1747e-01],\n",
            "        [ 2.3039e-01],\n",
            "        [-1.1637e+00],\n",
            "        [ 3.2047e-01],\n",
            "        [-1.3754e+00],\n",
            "        [ 1.1265e-01],\n",
            "        [ 8.0291e-01],\n",
            "        [ 1.4721e+00],\n",
            "        [ 7.5345e-01],\n",
            "        [ 9.2188e-01],\n",
            "        [ 1.0236e+00],\n",
            "        [ 3.6792e-01],\n",
            "        [ 1.2753e+00],\n",
            "        [ 5.4663e-01],\n",
            "        [-1.4046e+00],\n",
            "        [ 1.6696e-01],\n",
            "        [ 5.7627e-01],\n",
            "        [-1.6656e-01],\n",
            "        [-3.4402e-01],\n",
            "        [-3.7169e-01],\n",
            "        [-2.0242e-01],\n",
            "        [ 1.1679e+00],\n",
            "        [-6.0684e-01],\n",
            "        [ 2.5326e-01],\n",
            "        [ 1.5465e+00],\n",
            "        [ 2.4603e-01],\n",
            "        [ 4.9039e-01],\n",
            "        [ 1.6515e-01],\n",
            "        [ 5.0676e-01],\n",
            "        [-1.2125e+00],\n",
            "        [-3.0930e-01],\n",
            "        [-2.7614e-01],\n",
            "        [-4.7607e-01],\n",
            "        [-6.0720e-01],\n",
            "        [-6.2342e-01],\n",
            "        [-1.6815e-01],\n",
            "        [-7.6688e-01],\n",
            "        [-1.5509e+00],\n",
            "        [ 9.7551e-01],\n",
            "        [ 3.3952e-01],\n",
            "        [-1.2401e+00],\n",
            "        [-1.3763e+00],\n",
            "        [-1.5350e+00],\n",
            "        [-3.0071e-01],\n",
            "        [ 2.4095e-01],\n",
            "        [-1.3750e+00],\n",
            "        [-4.6081e-01],\n",
            "        [-1.7514e-01],\n",
            "        [-4.0158e-01],\n",
            "        [ 5.8654e-01],\n",
            "        [-3.2808e-01],\n",
            "        [ 1.0354e+00],\n",
            "        [-7.0844e-01],\n",
            "        [ 7.2483e-01],\n",
            "        [-8.7619e-01],\n",
            "        [-1.7139e-01],\n",
            "        [-1.4561e+00],\n",
            "        [-1.1057e-01],\n",
            "        [ 9.2831e-01],\n",
            "        [ 7.1301e-01],\n",
            "        [ 5.6726e-01],\n",
            "        [-7.0362e-01],\n",
            "        [-2.8897e-02],\n",
            "        [ 1.0948e+00],\n",
            "        [ 7.9886e-01],\n",
            "        [ 8.0824e-01],\n",
            "        [-9.3232e-02],\n",
            "        [-1.5727e-01],\n",
            "        [ 9.4436e-01],\n",
            "        [-9.6716e-01],\n",
            "        [ 1.0460e+00],\n",
            "        [ 9.3880e-01],\n",
            "        [ 1.2497e+00],\n",
            "        [ 5.5435e-01],\n",
            "        [ 6.4663e-01],\n",
            "        [ 1.7357e-01],\n",
            "        [ 1.4600e+00],\n",
            "        [-2.6783e-01],\n",
            "        [-1.2075e+00],\n",
            "        [-3.4868e-01],\n",
            "        [ 1.5119e+00],\n",
            "        [-2.2999e-01],\n",
            "        [ 1.3484e+00],\n",
            "        [ 1.2575e+00],\n",
            "        [ 3.3859e-01],\n",
            "        [ 3.0276e-01],\n",
            "        [ 9.1133e-01],\n",
            "        [ 2.4450e-01],\n",
            "        [ 3.2167e-01],\n",
            "        [-8.6880e-01],\n",
            "        [ 1.2918e+00],\n",
            "        [ 6.9800e-01],\n",
            "        [-1.2229e+00],\n",
            "        [ 9.3104e-03],\n",
            "        [-9.4351e-02],\n",
            "        [ 3.0814e-01],\n",
            "        [ 1.6522e-01],\n",
            "        [ 8.2322e-01],\n",
            "        [ 1.3001e-01],\n",
            "        [-6.0883e-01],\n",
            "        [-3.0495e-01],\n",
            "        [-8.6118e-02],\n",
            "        [ 5.1480e-01],\n",
            "        [ 5.4690e-01],\n",
            "        [ 5.1692e-01],\n",
            "        [ 6.4398e-01],\n",
            "        [-4.9407e-01],\n",
            "        [-3.6171e-01],\n",
            "        [ 1.0458e+00],\n",
            "        [ 1.2211e-01],\n",
            "        [ 1.7617e-01],\n",
            "        [ 4.9007e-01],\n",
            "        [ 4.5382e-01],\n",
            "        [ 1.1063e+00],\n",
            "        [-3.9973e-04],\n",
            "        [ 3.5515e-02],\n",
            "        [-3.7026e-01],\n",
            "        [ 7.1268e-01],\n",
            "        [ 1.5446e+00],\n",
            "        [ 6.9624e-01],\n",
            "        [ 3.7463e-01],\n",
            "        [-3.9039e-01],\n",
            "        [-2.3569e-01],\n",
            "        [-2.2152e-01],\n",
            "        [ 4.1242e-01],\n",
            "        [-1.1345e-01],\n",
            "        [-1.3979e-02],\n",
            "        [-1.2626e-01],\n",
            "        [-3.7067e-01],\n",
            "        [-3.7632e-01],\n",
            "        [-1.4911e+00],\n",
            "        [ 3.8922e-02],\n",
            "        [ 5.7105e-01],\n",
            "        [ 2.3763e-01],\n",
            "        [-2.7811e-01],\n",
            "        [-1.5172e+00],\n",
            "        [ 6.6873e-01],\n",
            "        [ 1.3072e-01],\n",
            "        [-1.2370e-01],\n",
            "        [ 1.5543e+00],\n",
            "        [ 9.1134e-01],\n",
            "        [ 6.4382e-01],\n",
            "        [ 4.9539e-01],\n",
            "        [ 6.7151e-01],\n",
            "        [ 1.7641e-01],\n",
            "        [ 1.2948e+00],\n",
            "        [-2.6062e-01],\n",
            "        [ 1.5004e+00],\n",
            "        [-1.4701e+00],\n",
            "        [ 1.2653e+00],\n",
            "        [ 1.3203e+00],\n",
            "        [ 7.6271e-01],\n",
            "        [-1.5869e-01],\n",
            "        [-1.4104e+00],\n",
            "        [ 7.9823e-01],\n",
            "        [-8.3649e-01],\n",
            "        [-1.0175e+00],\n",
            "        [ 3.9064e-01],\n",
            "        [-4.2844e-01],\n",
            "        [ 1.4606e+00],\n",
            "        [ 1.5140e+00],\n",
            "        [ 7.3640e-01],\n",
            "        [ 1.1833e+00],\n",
            "        [-7.7247e-01],\n",
            "        [ 4.1227e-01],\n",
            "        [-1.3160e+00],\n",
            "        [-3.3334e-01],\n",
            "        [-1.7733e-02],\n",
            "        [-1.2291e+00],\n",
            "        [-2.9764e-01],\n",
            "        [ 4.0789e-01],\n",
            "        [-1.0187e-01],\n",
            "        [ 2.3613e-01],\n",
            "        [-4.8471e-01],\n",
            "        [-1.3686e+00],\n",
            "        [ 8.6028e-01],\n",
            "        [-6.2119e-01],\n",
            "        [ 1.1458e-01],\n",
            "        [-1.2092e-02],\n",
            "        [-1.5417e+00],\n",
            "        [-3.3275e-01],\n",
            "        [ 1.1280e+00],\n",
            "        [ 1.5623e+00],\n",
            "        [-1.3419e+00],\n",
            "        [-6.8067e-02],\n",
            "        [-2.8117e-01],\n",
            "        [-1.1141e+00],\n",
            "        [ 1.4718e+00],\n",
            "        [-1.4757e+00],\n",
            "        [ 4.0703e-01],\n",
            "        [-5.4310e-01],\n",
            "        [ 1.0632e+00],\n",
            "        [-1.3971e+00],\n",
            "        [-4.0174e-01],\n",
            "        [ 4.4863e-01],\n",
            "        [-1.3304e+00],\n",
            "        [-3.0718e-01],\n",
            "        [-2.5844e-01],\n",
            "        [ 1.0415e-01],\n",
            "        [ 1.8868e-02],\n",
            "        [-7.2634e-02],\n",
            "        [-1.2715e+00],\n",
            "        [-1.5132e-01],\n",
            "        [-4.3212e-01],\n",
            "        [ 1.5845e-01],\n",
            "        [-1.3476e-01],\n",
            "        [ 5.8134e-01],\n",
            "        [-1.0467e+00],\n",
            "        [ 3.0470e-01],\n",
            "        [-7.3848e-01],\n",
            "        [-6.9746e-01],\n",
            "        [ 9.7754e-01],\n",
            "        [ 2.7652e-01],\n",
            "        [ 1.4627e+00],\n",
            "        [-9.6470e-01],\n",
            "        [ 1.1559e+00],\n",
            "        [-7.0946e-02],\n",
            "        [ 1.2568e-01],\n",
            "        [-2.9521e-02],\n",
            "        [-2.9736e-01],\n",
            "        [ 6.0998e-01],\n",
            "        [ 2.7105e-02],\n",
            "        [-1.4752e+00],\n",
            "        [-1.0116e-02],\n",
            "        [-1.9346e-01],\n",
            "        [ 6.7639e-01],\n",
            "        [ 1.4740e+00],\n",
            "        [-1.1781e+00],\n",
            "        [-2.3467e-01],\n",
            "        [ 1.8492e-01],\n",
            "        [-7.1913e-02],\n",
            "        [-1.3235e+00],\n",
            "        [ 1.8642e-01],\n",
            "        [ 2.3360e-01],\n",
            "        [ 1.1305e+00],\n",
            "        [ 5.7971e-01],\n",
            "        [-1.2191e+00],\n",
            "        [-6.9876e-01],\n",
            "        [-4.4302e-01],\n",
            "        [ 1.2777e+00],\n",
            "        [-1.3081e+00],\n",
            "        [ 1.0132e+00],\n",
            "        [-1.8773e-02],\n",
            "        [ 4.9130e-01],\n",
            "        [-1.2567e-01],\n",
            "        [ 7.2306e-01],\n",
            "        [ 1.4446e+00],\n",
            "        [ 1.9381e-01],\n",
            "        [ 4.6096e-01],\n",
            "        [-3.7393e-01],\n",
            "        [-2.0211e-01],\n",
            "        [-8.6882e-01],\n",
            "        [-8.8819e-01],\n",
            "        [ 1.4957e+00],\n",
            "        [-3.8705e-01],\n",
            "        [-6.4176e-01],\n",
            "        [-8.4895e-01],\n",
            "        [-1.0242e-01],\n",
            "        [ 1.5294e-01],\n",
            "        [ 1.1777e+00],\n",
            "        [-3.5529e-01],\n",
            "        [ 9.8224e-01],\n",
            "        [ 3.4699e-01],\n",
            "        [ 3.6063e-02],\n",
            "        [ 5.5173e-01],\n",
            "        [-6.4205e-01],\n",
            "        [-1.0761e+00],\n",
            "        [ 1.1647e+00],\n",
            "        [ 1.2152e+00],\n",
            "        [ 1.4481e-01],\n",
            "        [ 1.7470e-01],\n",
            "        [ 3.4143e-01],\n",
            "        [-1.4121e+00],\n",
            "        [ 1.1407e-01],\n",
            "        [-9.8765e-01],\n",
            "        [-8.5676e-01],\n",
            "        [ 1.2018e-01],\n",
            "        [ 1.5063e+00],\n",
            "        [ 7.5913e-02],\n",
            "        [ 1.2402e+00],\n",
            "        [ 2.7236e-01],\n",
            "        [-5.9899e-01],\n",
            "        [-5.4124e-03],\n",
            "        [ 2.6976e-01],\n",
            "        [-1.2229e-01],\n",
            "        [ 1.7211e-01],\n",
            "        [ 4.2628e-01],\n",
            "        [-4.0958e-01],\n",
            "        [ 5.5326e-03],\n",
            "        [ 1.2020e+00],\n",
            "        [ 1.1846e+00],\n",
            "        [ 2.6365e-01],\n",
            "        [ 7.7432e-01],\n",
            "        [ 3.6521e-01],\n",
            "        [-1.1989e+00],\n",
            "        [ 4.1758e-01],\n",
            "        [-4.6698e-01],\n",
            "        [ 8.0736e-01],\n",
            "        [-7.5783e-01],\n",
            "        [-3.5761e-01],\n",
            "        [-6.9062e-01],\n",
            "        [ 8.5758e-01],\n",
            "        [ 1.7488e-01],\n",
            "        [-9.1130e-02],\n",
            "        [ 9.2630e-01],\n",
            "        [-9.6119e-01],\n",
            "        [ 5.9748e-01],\n",
            "        [ 1.1046e+00],\n",
            "        [ 1.0798e+00],\n",
            "        [-9.1637e-01],\n",
            "        [ 6.4819e-01],\n",
            "        [-1.4715e+00],\n",
            "        [ 6.7144e-01],\n",
            "        [-3.6882e-01],\n",
            "        [-1.5786e-01],\n",
            "        [ 8.1773e-01],\n",
            "        [ 5.0846e-01],\n",
            "        [ 1.5606e+00],\n",
            "        [-1.2059e-01],\n",
            "        [ 3.1377e-01],\n",
            "        [-1.5733e+00],\n",
            "        [-6.3606e-01],\n",
            "        [ 8.5690e-01],\n",
            "        [ 8.7923e-01],\n",
            "        [ 6.9933e-01],\n",
            "        [ 4.1099e-01],\n",
            "        [-1.9765e-01],\n",
            "        [-1.1866e+00],\n",
            "        [-3.2027e-01],\n",
            "        [-1.0224e+00],\n",
            "        [ 5.5370e-01],\n",
            "        [ 1.3011e+00],\n",
            "        [-3.3915e-01],\n",
            "        [-9.5826e-02],\n",
            "        [-1.5574e-01],\n",
            "        [-1.4689e+00],\n",
            "        [ 3.1561e-01],\n",
            "        [ 4.4081e-01],\n",
            "        [ 9.2713e-01],\n",
            "        [ 6.6733e-01],\n",
            "        [ 2.5026e-01],\n",
            "        [-1.3620e+00],\n",
            "        [-1.1064e+00],\n",
            "        [-2.0471e-01],\n",
            "        [-1.9981e-02],\n",
            "        [ 1.5502e+00],\n",
            "        [-9.8466e-03],\n",
            "        [ 2.1040e-01],\n",
            "        [ 1.7541e-01],\n",
            "        [-6.8232e-02],\n",
            "        [ 9.0880e-01],\n",
            "        [ 3.3927e-01],\n",
            "        [ 1.2829e+00],\n",
            "        [-1.3218e-01],\n",
            "        [-7.1552e-01],\n",
            "        [-1.4065e-01],\n",
            "        [-2.9630e-02],\n",
            "        [-3.8663e-01],\n",
            "        [-1.8781e-01],\n",
            "        [-1.3014e+00],\n",
            "        [ 7.0219e-01],\n",
            "        [ 8.0494e-01],\n",
            "        [-4.1725e-01],\n",
            "        [-6.1000e-02],\n",
            "        [ 1.2589e+00],\n",
            "        [ 1.6400e-02],\n",
            "        [ 7.7746e-01],\n",
            "        [-1.2524e-01],\n",
            "        [ 7.2048e-02],\n",
            "        [ 5.0509e-01],\n",
            "        [ 4.1261e-01],\n",
            "        [ 1.3951e+00],\n",
            "        [ 5.9196e-01],\n",
            "        [-4.1160e-01],\n",
            "        [-6.5499e-01],\n",
            "        [-4.2572e-01],\n",
            "        [-1.3507e+00],\n",
            "        [-7.5406e-01],\n",
            "        [-7.6488e-02],\n",
            "        [ 9.3052e-01],\n",
            "        [ 7.4967e-01],\n",
            "        [-9.3526e-01],\n",
            "        [ 1.3892e+00],\n",
            "        [ 8.2029e-01],\n",
            "        [ 1.8376e-01],\n",
            "        [-1.5421e+00],\n",
            "        [ 1.4590e+00],\n",
            "        [ 8.6415e-01],\n",
            "        [-6.6191e-01],\n",
            "        [ 7.6273e-01],\n",
            "        [ 2.2774e-01],\n",
            "        [-7.0042e-01],\n",
            "        [-3.5907e-01],\n",
            "        [ 1.1219e+00],\n",
            "        [ 2.1093e-01],\n",
            "        [ 7.9151e-01],\n",
            "        [ 4.2490e-01],\n",
            "        [-4.9489e-01],\n",
            "        [ 3.3173e-01],\n",
            "        [ 4.6579e-01],\n",
            "        [ 1.2069e+00],\n",
            "        [ 7.3604e-01],\n",
            "        [-7.4279e-01],\n",
            "        [-9.0756e-01],\n",
            "        [-1.4134e+00],\n",
            "        [-7.8669e-01],\n",
            "        [-1.8248e-01],\n",
            "        [-6.4455e-01],\n",
            "        [-3.5526e-01],\n",
            "        [ 2.0094e-01],\n",
            "        [-1.3701e+00],\n",
            "        [-5.1473e-02],\n",
            "        [ 3.9624e-01],\n",
            "        [-6.8468e-01],\n",
            "        [ 4.0669e-01],\n",
            "        [-1.7618e-01],\n",
            "        [-4.0424e-01],\n",
            "        [-5.6794e-02],\n",
            "        [ 1.3989e+00],\n",
            "        [-8.2807e-01],\n",
            "        [-3.1706e-01],\n",
            "        [-4.1028e-01],\n",
            "        [-3.0941e-01],\n",
            "        [ 3.6568e-01],\n",
            "        [-1.1557e+00],\n",
            "        [ 7.0211e-01],\n",
            "        [ 2.7777e-01],\n",
            "        [-1.0632e+00],\n",
            "        [-6.0731e-01],\n",
            "        [-1.1898e-01],\n",
            "        [-3.4332e-01],\n",
            "        [-6.0967e-01],\n",
            "        [-9.7986e-01],\n",
            "        [ 2.0377e-01],\n",
            "        [ 6.7368e-02],\n",
            "        [ 3.7171e-01],\n",
            "        [ 2.4539e-01],\n",
            "        [ 2.0181e-01],\n",
            "        [ 2.4239e-01],\n",
            "        [ 1.1604e+00],\n",
            "        [-2.1465e-01],\n",
            "        [-6.5817e-01],\n",
            "        [-1.0901e+00],\n",
            "        [-3.2387e-01],\n",
            "        [ 2.8680e-01],\n",
            "        [-3.2061e-01],\n",
            "        [-1.1965e+00],\n",
            "        [ 1.2134e+00],\n",
            "        [ 1.0567e-01],\n",
            "        [ 5.7855e-01],\n",
            "        [-5.2610e-01],\n",
            "        [ 1.3998e+00],\n",
            "        [-1.4593e+00],\n",
            "        [-6.4026e-01],\n",
            "        [ 9.4593e-01],\n",
            "        [-4.1444e-01],\n",
            "        [-3.3506e-01],\n",
            "        [-1.3404e+00],\n",
            "        [-3.0121e-01],\n",
            "        [ 7.1429e-01],\n",
            "        [-1.1769e-01],\n",
            "        [-3.9578e-01],\n",
            "        [-2.6636e-01],\n",
            "        [ 3.3415e-01],\n",
            "        [ 3.4749e-01],\n",
            "        [-1.5411e-01],\n",
            "        [-5.9094e-01],\n",
            "        [-9.8947e-01],\n",
            "        [-4.0411e-01],\n",
            "        [-6.0511e-02],\n",
            "        [ 1.0213e+00],\n",
            "        [ 6.2126e-01],\n",
            "        [-1.8235e-01],\n",
            "        [ 7.1622e-01],\n",
            "        [ 9.0945e-01],\n",
            "        [-7.9291e-01],\n",
            "        [ 4.0659e-01],\n",
            "        [-1.9055e-01],\n",
            "        [ 2.6170e-01],\n",
            "        [-1.0110e+00],\n",
            "        [ 5.5518e-01],\n",
            "        [ 2.0437e-01],\n",
            "        [-2.4917e-01],\n",
            "        [ 8.1919e-01],\n",
            "        [-5.1940e-01],\n",
            "        [-1.1887e+00],\n",
            "        [-8.9118e-01],\n",
            "        [-1.5650e-01],\n",
            "        [ 1.0058e+00],\n",
            "        [ 7.9567e-01],\n",
            "        [ 3.4228e-01],\n",
            "        [-1.2058e+00],\n",
            "        [ 1.4234e+00],\n",
            "        [-1.6360e-01],\n",
            "        [ 2.0557e-01],\n",
            "        [ 1.8809e-01],\n",
            "        [-1.1264e+00],\n",
            "        [-4.7240e-01],\n",
            "        [ 3.9948e-01],\n",
            "        [ 6.2323e-02],\n",
            "        [ 1.4421e+00],\n",
            "        [-1.5106e+00],\n",
            "        [-3.8336e-01],\n",
            "        [-6.5937e-01],\n",
            "        [ 4.6537e-02],\n",
            "        [ 1.3117e+00],\n",
            "        [-1.0248e+00],\n",
            "        [-7.9126e-01],\n",
            "        [ 3.9203e-02],\n",
            "        [-1.0479e+00],\n",
            "        [ 5.0299e-01],\n",
            "        [-9.4208e-01],\n",
            "        [ 7.9037e-02],\n",
            "        [ 1.3930e+00],\n",
            "        [ 7.6919e-01],\n",
            "        [ 1.4399e+00],\n",
            "        [ 1.2880e+00],\n",
            "        [ 1.4421e-01],\n",
            "        [ 2.2079e-02],\n",
            "        [ 1.5311e+00],\n",
            "        [ 1.3816e+00],\n",
            "        [-1.1299e-02],\n",
            "        [-1.4747e+00],\n",
            "        [ 1.2055e+00],\n",
            "        [ 3.9072e-01],\n",
            "        [-5.9285e-01],\n",
            "        [ 6.2265e-01],\n",
            "        [-1.8823e-01],\n",
            "        [-4.9260e-02],\n",
            "        [ 1.1886e+00],\n",
            "        [ 8.6451e-01],\n",
            "        [-6.7800e-01],\n",
            "        [-1.1640e+00],\n",
            "        [-1.4025e-01],\n",
            "        [-8.2667e-01],\n",
            "        [-6.2503e-02],\n",
            "        [ 9.0008e-01],\n",
            "        [ 6.1722e-01],\n",
            "        [-1.0685e+00],\n",
            "        [ 3.1075e-01],\n",
            "        [-1.2985e+00],\n",
            "        [ 3.0459e-01],\n",
            "        [ 1.0444e+00],\n",
            "        [-1.8333e-03],\n",
            "        [ 1.5555e+00],\n",
            "        [ 1.1466e+00],\n",
            "        [ 6.9393e-01],\n",
            "        [ 4.6255e-01],\n",
            "        [ 9.6008e-01],\n",
            "        [-2.2145e-03],\n",
            "        [-1.0160e+00],\n",
            "        [ 2.5445e-01],\n",
            "        [ 7.8945e-01],\n",
            "        [ 4.1846e-01],\n",
            "        [ 4.0020e-01],\n",
            "        [ 8.8189e-02],\n",
            "        [ 3.6614e-01],\n",
            "        [-2.0573e-01],\n",
            "        [-3.5740e-01],\n",
            "        [ 1.9711e-01],\n",
            "        [ 3.8341e-01],\n",
            "        [ 8.0464e-01],\n",
            "        [ 9.5364e-02],\n",
            "        [-2.9108e-01],\n",
            "        [-1.0039e+00],\n",
            "        [ 1.3092e+00],\n",
            "        [ 2.0588e-01],\n",
            "        [-8.4795e-01],\n",
            "        [-1.4551e+00],\n",
            "        [-9.9742e-02],\n",
            "        [ 4.1476e-01],\n",
            "        [ 1.2447e-01],\n",
            "        [-8.5792e-01],\n",
            "        [ 1.4649e+00],\n",
            "        [-2.1084e-01],\n",
            "        [-7.6599e-01],\n",
            "        [ 8.7165e-01],\n",
            "        [-1.0685e+00],\n",
            "        [-5.3967e-01],\n",
            "        [ 1.4346e+00],\n",
            "        [ 9.4959e-01],\n",
            "        [-6.9488e-02],\n",
            "        [-6.9262e-02],\n",
            "        [ 8.3160e-01],\n",
            "        [ 8.6171e-01],\n",
            "        [-1.0749e+00],\n",
            "        [-1.4898e-01],\n",
            "        [ 3.5330e-01],\n",
            "        [ 1.4648e+00],\n",
            "        [ 1.1180e+00],\n",
            "        [ 7.9420e-02],\n",
            "        [ 1.1930e+00],\n",
            "        [-7.9242e-01],\n",
            "        [ 6.1159e-01],\n",
            "        [ 7.1080e-02],\n",
            "        [-5.6088e-01],\n",
            "        [ 3.1567e-01],\n",
            "        [ 3.6486e-02],\n",
            "        [-1.3651e-01],\n",
            "        [ 3.3585e-01],\n",
            "        [-1.0645e+00],\n",
            "        [-4.6147e-01],\n",
            "        [-2.5309e-01],\n",
            "        [ 4.2304e-01],\n",
            "        [ 9.6639e-01],\n",
            "        [ 2.4050e-01],\n",
            "        [-4.4732e-01],\n",
            "        [ 4.2702e-02],\n",
            "        [ 1.4101e+00],\n",
            "        [ 2.4559e-02],\n",
            "        [-3.7926e-01],\n",
            "        [-7.3408e-01],\n",
            "        [ 4.8319e-01],\n",
            "        [-7.0354e-02],\n",
            "        [ 5.6817e-01],\n",
            "        [-2.3909e-01],\n",
            "        [ 3.7506e-01],\n",
            "        [-6.6611e-01],\n",
            "        [ 3.4051e-03],\n",
            "        [-8.5822e-02],\n",
            "        [-1.4438e+00],\n",
            "        [-6.1071e-02],\n",
            "        [ 1.4791e+00],\n",
            "        [ 1.4065e+00],\n",
            "        [-5.4067e-01],\n",
            "        [ 9.6311e-02],\n",
            "        [-1.3464e+00],\n",
            "        [ 8.0207e-01]], device='cuda:0', requires_grad=True)\n",
            "Parameter containing:\n",
            "tensor([-7.3728e-01,  1.8131e-01, -2.2682e-01, -7.1965e-01, -9.3495e-02,\n",
            "         1.4844e+00, -4.7403e-01,  9.5357e-01, -1.8989e-01,  6.5007e-01,\n",
            "        -9.4127e-01,  2.9485e-01, -7.7243e-01, -2.0061e-01, -1.5416e+00,\n",
            "        -1.4478e+00,  1.9987e-01, -6.0025e-01,  4.4713e-01,  1.0052e+00,\n",
            "         1.5787e+00, -1.4327e-01,  1.4411e+00, -1.1716e+00, -1.3527e-02,\n",
            "         1.0927e+00, -4.5807e-01,  4.7536e-01,  5.8454e-01, -2.8432e-01,\n",
            "        -8.4405e-01,  6.0212e-02,  1.3247e+00,  1.3159e+00, -1.4118e+00,\n",
            "        -3.5012e-01, -1.0422e+00, -1.4335e+00, -7.0143e-01, -2.6903e-01,\n",
            "         1.6545e-01, -6.6030e-01,  2.7628e-01, -3.4831e-01,  9.3172e-01,\n",
            "        -1.0096e+00,  1.8559e-01, -3.6846e-01, -6.5458e-01,  1.1883e+00,\n",
            "        -1.7298e-01,  6.1761e-01, -3.7795e-01,  5.5677e-01, -7.4290e-01,\n",
            "        -2.0039e-01, -1.1500e+00, -1.3068e+00, -1.2480e+00, -8.9824e-01,\n",
            "         2.3834e-01, -4.7930e-01, -4.0103e-01,  1.9713e-02,  7.0970e-01,\n",
            "         4.9456e-01, -1.3925e+00,  1.4262e+00, -1.3807e+00, -1.5325e+00,\n",
            "        -1.4881e+00, -1.9597e-01, -1.4108e+00, -7.9036e-01,  3.5862e-01,\n",
            "         9.8268e-01, -1.6608e-01, -1.2174e-01,  1.5077e+00,  5.8959e-01,\n",
            "         5.5757e-01, -4.0026e-01, -7.6586e-01, -1.5168e+00,  6.7752e-02,\n",
            "         1.6158e-01,  6.7656e-01, -6.1111e-01, -1.2021e+00,  5.9017e-01,\n",
            "        -9.6717e-01,  1.0485e+00, -1.0361e+00,  8.8025e-03,  4.5744e-02,\n",
            "         5.9008e-01,  1.3815e+00,  2.6818e-01,  2.6747e-01, -1.3694e+00,\n",
            "         7.2628e-02, -1.0115e+00,  1.3308e+00, -1.7802e-01, -1.5301e+00,\n",
            "        -5.5964e-01, -1.8921e-01, -4.8608e-02,  1.5256e+00,  5.1232e-01,\n",
            "         3.3262e-01, -9.6959e-01, -2.8230e-01,  4.1578e-02,  5.7167e-01,\n",
            "        -1.8291e-01,  2.6595e-01,  3.4496e-01, -1.0229e+00,  1.1958e+00,\n",
            "         1.3607e+00, -1.0684e+00,  1.9116e-01, -5.0796e-01,  6.9052e-02,\n",
            "        -3.3296e-01,  8.6429e-01, -1.2265e+00,  9.9050e-01, -7.2851e-01,\n",
            "        -2.7153e-01,  2.0410e-01,  1.3513e+00, -1.7379e-01,  1.1514e+00,\n",
            "         9.6165e-01, -1.2428e+00,  3.0448e-01, -5.5452e-01,  4.3908e-01,\n",
            "         7.7198e-01, -6.5552e-01,  6.5941e-01,  5.5214e-01,  3.4613e-01,\n",
            "         5.8461e-02,  1.3265e+00, -1.2952e+00, -7.9479e-01,  9.3111e-01,\n",
            "        -4.9394e-01,  1.9492e-01,  2.7999e-01, -1.0217e+00, -5.0613e-01,\n",
            "         3.1401e-01,  1.4734e+00,  1.4205e+00,  1.2618e+00, -5.0312e-02,\n",
            "         3.8317e-01,  4.3400e-01,  8.8311e-01, -2.5093e-01, -3.6488e-01,\n",
            "         1.3381e+00, -3.7631e-01,  1.0544e-01, -8.2469e-01,  1.3763e-01,\n",
            "        -3.2212e-01,  1.9076e-01, -1.2801e+00,  1.1039e+00, -5.3505e-01,\n",
            "         4.6376e-01,  1.8826e-01, -8.8571e-02, -1.4645e+00,  4.8404e-01,\n",
            "        -1.4966e+00,  6.0938e-01, -2.5425e-01,  5.6251e-01,  3.9661e-01,\n",
            "         1.3270e+00,  2.2294e-01, -8.0565e-01, -1.8966e-01, -2.0391e-01,\n",
            "         1.3212e+00, -2.8538e-01, -1.0877e+00, -5.3254e-01, -5.8227e-01,\n",
            "        -3.5972e-01,  6.4693e-01, -1.7497e-01, -3.7316e-01, -6.9197e-02,\n",
            "         8.4535e-02, -5.4321e-01, -1.4579e-01, -1.3627e-01, -6.6293e-02,\n",
            "        -1.0314e+00, -3.5547e-02,  5.2682e-01,  1.0481e+00, -3.8832e-01,\n",
            "        -1.1461e+00, -1.5792e-01,  3.5854e-01, -1.2352e+00,  3.4276e-01,\n",
            "         1.5626e+00, -3.5483e-01, -2.7830e-01,  8.6054e-02, -8.0906e-02,\n",
            "        -1.1932e+00, -1.0239e-01, -4.8337e-01, -1.2331e+00, -1.4469e+00,\n",
            "        -8.2581e-01,  2.3909e-01,  7.9614e-01, -2.2140e-01,  3.1999e-01,\n",
            "        -1.1488e+00, -1.4398e-01, -6.3625e-01, -6.9068e-02,  8.3105e-01,\n",
            "        -1.4458e-01,  1.0082e+00,  6.8026e-02,  2.6292e-01, -3.7832e-01,\n",
            "        -6.4123e-01,  2.3877e-01, -1.0574e+00,  1.2602e+00, -2.8202e-01,\n",
            "         1.5301e+00, -2.9104e-01,  1.1431e+00, -4.9626e-01, -6.1914e-01,\n",
            "         3.2617e-01, -2.3656e-01,  1.1434e+00, -1.3671e+00,  1.9698e-01,\n",
            "         1.5715e-01,  1.3846e+00, -1.1691e+00,  3.2286e-01,  5.6918e-01,\n",
            "         1.5152e+00, -4.6635e-02, -8.1854e-02, -2.6226e-01,  9.3907e-01,\n",
            "        -6.5610e-01,  2.2403e-01,  7.8440e-01,  6.7629e-01,  7.3962e-01,\n",
            "         7.7758e-01,  9.4200e-01,  2.6765e-01,  2.0606e-01, -3.3187e-01,\n",
            "        -4.1916e-01,  2.3815e-01, -4.9801e-02, -6.9831e-01,  9.2535e-01,\n",
            "         1.3202e-01,  7.0014e-01, -9.4526e-01, -1.0306e+00,  1.8814e-01,\n",
            "         9.4821e-01, -4.5321e-02, -1.3792e-01,  1.1451e-01,  5.5038e-01,\n",
            "         3.4496e-01, -6.4489e-01, -5.1391e-02, -1.1399e+00, -3.2599e-01,\n",
            "        -2.4825e-01,  6.3979e-01, -3.2317e-01, -2.1091e-01, -5.7256e-01,\n",
            "        -1.5040e+00, -1.6345e-01,  1.4455e+00,  5.0001e-01, -3.4844e-01,\n",
            "        -1.2729e+00, -1.0497e+00,  1.1213e+00, -9.6293e-01,  7.9236e-01,\n",
            "         6.9155e-01,  1.3969e-01,  4.1428e-01, -1.3718e+00, -1.4719e+00,\n",
            "         3.9950e-01, -2.9365e-01,  1.3236e+00, -9.7629e-01,  3.8635e-01,\n",
            "         8.8831e-01,  1.3955e-03,  1.0590e+00, -6.3398e-02,  1.3725e+00,\n",
            "        -3.4895e-01, -1.0493e+00, -1.5230e+00, -2.7537e-01, -1.2119e+00,\n",
            "        -8.0736e-01,  2.5396e-02,  6.8963e-01, -7.8130e-01,  5.6800e-01,\n",
            "         7.7728e-01,  1.2937e+00, -3.5475e-01, -4.1060e-01,  1.0869e+00,\n",
            "        -1.5674e+00, -1.2224e-01, -2.2864e-01, -8.2084e-01, -6.2796e-02,\n",
            "         1.1564e+00,  3.7891e-01,  5.8624e-01, -1.1172e+00, -1.2045e+00,\n",
            "         1.2555e+00, -1.4166e+00, -5.1786e-01, -1.5045e+00,  3.5038e-01,\n",
            "        -1.1606e-01, -7.7024e-01,  8.6966e-01, -1.4803e+00,  3.9856e-01,\n",
            "         7.0524e-02, -2.5380e-01, -1.0353e+00, -8.4663e-01, -7.7011e-02,\n",
            "        -9.2895e-01, -1.4278e+00,  1.4511e+00, -2.7511e-01, -1.5632e-01,\n",
            "        -1.3441e+00, -1.4152e+00, -2.9664e-02,  3.8142e-01,  3.8871e-01,\n",
            "         3.6302e-02, -1.2442e+00,  4.4189e-02,  7.0619e-01, -2.1390e-01,\n",
            "         5.0789e-01, -1.6939e-01,  1.1903e+00, -5.1746e-01,  1.0597e+00,\n",
            "        -8.1530e-01,  1.0660e+00,  6.8869e-01,  4.5295e-01, -3.0618e-01,\n",
            "        -1.2365e+00,  2.6513e-02, -1.4519e+00, -1.9925e-01, -4.0230e-01,\n",
            "         6.9884e-01,  1.2270e+00,  1.0309e+00, -5.9839e-01,  1.1638e+00,\n",
            "        -3.4573e-01, -6.9986e-01,  2.4220e-01,  1.3468e+00,  1.2645e+00,\n",
            "        -5.6616e-02, -1.0527e+00, -4.7204e-01,  4.5865e-01,  3.5109e-01,\n",
            "         1.7472e-01,  3.4865e-01,  1.0868e+00, -2.3322e-02,  8.9713e-01,\n",
            "        -7.7501e-02,  1.2722e+00, -7.9523e-01,  7.5213e-02,  6.1779e-01,\n",
            "         2.5713e-01, -1.4272e+00,  3.3229e-01,  7.1614e-01,  8.9426e-01,\n",
            "        -2.4792e-01,  4.3401e-01, -1.1473e+00,  1.0885e-01,  1.0141e+00,\n",
            "        -9.3216e-02,  6.8965e-02,  2.3994e-01,  8.2979e-01,  1.2503e-01,\n",
            "        -1.4786e+00,  1.0523e+00,  1.3671e+00, -1.0415e+00, -1.3901e+00,\n",
            "         1.5045e+00,  8.6806e-01,  5.1797e-01, -9.0269e-02, -1.2159e+00,\n",
            "         2.8969e-01,  8.0556e-01,  7.3592e-01,  3.9135e-01, -4.3390e-02,\n",
            "        -1.5234e+00, -9.5025e-01,  8.6578e-01,  1.6316e-01,  3.5809e-01,\n",
            "        -1.2731e+00,  1.4739e+00,  3.3874e-01,  3.6549e-03, -1.4891e-01,\n",
            "        -6.0732e-01, -4.6130e-01,  1.0882e+00, -1.1234e+00, -4.1584e-01,\n",
            "         1.3906e+00,  3.3358e-01, -6.5805e-02,  2.3602e-01, -4.0508e-01,\n",
            "         1.5362e+00,  6.0570e-01,  1.2555e+00, -6.6870e-01,  1.1300e+00,\n",
            "         1.3423e+00,  4.2754e-01,  2.3931e-01,  1.3263e-01,  1.1005e-02,\n",
            "        -1.5226e+00, -1.5232e+00, -3.6376e-01,  9.7053e-01, -3.8019e-01,\n",
            "        -9.7665e-01,  2.9258e-02, -1.5202e+00,  1.0820e-01,  8.6257e-01,\n",
            "        -2.7036e-01,  1.1271e+00, -1.3820e+00,  5.3864e-01, -5.6526e-02,\n",
            "         3.0023e-01, -7.5239e-01, -6.2839e-01, -1.0925e+00, -9.7356e-01,\n",
            "        -5.1874e-01,  5.2626e-01, -2.9087e-01, -1.7561e-01,  9.2635e-03,\n",
            "        -1.2049e-02, -3.7919e-01, -1.5486e+00,  1.0835e-01,  9.3315e-02,\n",
            "         6.0179e-01,  7.5012e-02, -1.0410e+00,  2.9914e-01,  1.3551e+00,\n",
            "        -4.3458e-02,  1.1974e+00,  3.3138e-01, -3.6756e-01, -2.6620e-01,\n",
            "         1.1126e+00, -1.0711e-02, -1.5204e+00,  9.9805e-01,  1.1957e-01,\n",
            "         6.5442e-01,  7.4173e-01, -2.2050e-01, -1.6357e-01, -9.2161e-01,\n",
            "         3.3185e-01,  1.2991e+00, -1.0845e+00,  7.9684e-01,  7.3225e-01,\n",
            "         1.4717e+00,  8.3147e-01,  1.4889e+00,  3.4905e-01,  1.2688e+00,\n",
            "         1.0952e+00, -1.5885e-01,  1.1399e+00, -1.0480e+00,  1.3131e+00,\n",
            "        -3.0109e-01,  9.9712e-01,  2.6990e-01,  1.5224e+00,  9.9506e-01,\n",
            "         3.8333e-01, -2.3980e-01, -2.5046e-01, -1.4679e+00,  9.6564e-01,\n",
            "         4.2613e-01, -1.4289e+00, -4.5777e-01, -1.2832e+00, -4.0960e-01,\n",
            "        -1.0337e+00, -1.5560e-01,  7.5985e-01,  1.2754e+00,  1.5767e+00,\n",
            "        -9.2262e-01,  6.3466e-03, -4.3114e-01,  1.1075e+00,  2.8186e-01,\n",
            "         6.1976e-01, -6.6457e-01,  4.4964e-02, -1.0225e+00, -3.2069e-02,\n",
            "         1.2459e+00, -8.5206e-01,  1.1319e+00, -1.7607e-01,  2.0021e-01,\n",
            "        -1.0532e+00,  9.2714e-01,  1.6018e-01, -1.2667e+00,  9.8041e-01,\n",
            "        -3.5075e-02, -4.4624e-01,  3.6159e-01,  7.7577e-01, -7.0428e-02,\n",
            "         1.3145e+00, -8.6560e-01,  1.3486e+00, -2.5596e-01, -8.7366e-01,\n",
            "        -1.2091e+00,  1.3344e-01,  3.4819e-01, -1.7190e-01,  4.3972e-01,\n",
            "        -9.7233e-02, -9.6511e-01, -2.5151e-01, -1.5389e-01,  5.1126e-01,\n",
            "        -1.5575e-01, -9.2340e-01,  3.0399e-01,  1.5579e-01, -4.1254e-01,\n",
            "        -8.6863e-01,  1.4312e+00,  1.4733e+00, -1.0674e+00,  1.5342e-01,\n",
            "         1.3536e+00, -1.2410e+00,  2.5746e-01,  8.9671e-02,  1.5354e+00,\n",
            "        -5.1549e-01,  6.0165e-01, -2.0108e-01, -1.5112e+00,  6.5046e-01,\n",
            "        -8.2659e-02,  3.4303e-01,  2.6372e-01,  9.0171e-01,  1.2099e-01,\n",
            "         5.3759e-01, -7.0721e-01,  3.2058e-01,  1.2144e+00, -9.5812e-01,\n",
            "        -1.5743e+00,  1.3261e+00,  5.4531e-01,  1.1637e+00,  4.2500e-01,\n",
            "        -3.4948e-01,  1.4492e+00,  9.4163e-02,  1.2056e+00, -2.9856e-01,\n",
            "        -1.0603e+00,  1.4525e-01, -8.0524e-02,  2.8689e-01,  3.5115e-01,\n",
            "        -9.6556e-01,  8.9418e-01,  7.0155e-01,  3.1117e-01, -8.6611e-01,\n",
            "         1.2439e+00, -5.4812e-02, -3.3223e-01, -1.3068e+00,  1.3182e+00,\n",
            "         5.4312e-01,  1.3251e+00,  3.4128e-01, -6.2386e-03, -9.5513e-01,\n",
            "         2.0989e-01,  1.4319e-01,  1.5580e-01,  1.1237e+00, -9.8729e-01,\n",
            "        -9.1304e-01, -8.2289e-01, -8.3193e-01,  1.3509e+00,  6.1358e-01,\n",
            "        -9.4565e-01, -1.1941e+00,  5.7219e-01, -8.1932e-01,  4.2649e-01,\n",
            "         7.2468e-01, -2.5331e-02, -3.9527e-01, -7.2414e-01,  6.2587e-01,\n",
            "         1.5477e+00,  8.9998e-01,  2.8092e-01, -1.3947e+00,  6.1919e-02,\n",
            "         6.6290e-01, -3.7334e-01,  1.1910e+00,  1.4636e+00, -1.4807e+00,\n",
            "        -8.4378e-03, -1.0664e+00, -1.9948e-01,  5.1729e-01, -1.3212e+00,\n",
            "         6.0527e-01,  1.5719e+00, -1.2717e+00, -1.3660e+00, -9.1007e-01,\n",
            "        -1.1971e+00, -1.1020e+00, -1.4230e+00,  4.6519e-01,  4.9651e-01,\n",
            "        -1.5777e+00,  1.2791e+00,  8.7643e-01,  6.7919e-01,  1.7523e-02,\n",
            "        -1.2334e-01,  3.8347e-01, -2.6909e-01,  1.3909e+00,  5.3613e-01,\n",
            "        -6.1596e-01, -2.7677e-01,  4.6769e-01, -1.2074e+00, -1.3005e-01,\n",
            "         4.1143e-01, -7.0326e-01,  4.5813e-01,  7.1318e-01,  7.4502e-01,\n",
            "        -9.2697e-02,  1.1506e-01,  3.9448e-01,  1.3245e+00, -7.6618e-01,\n",
            "        -3.7140e-01, -1.2469e+00, -9.2843e-02,  1.0665e+00,  1.0553e+00,\n",
            "         2.9482e-01,  1.4398e+00, -7.4551e-01,  6.4390e-01,  3.1875e-01,\n",
            "        -1.1339e+00, -7.3210e-01,  5.1595e-01, -1.4188e+00, -4.3455e-01,\n",
            "        -9.0686e-01, -1.3413e+00,  1.1595e-01,  1.1309e-01,  1.1325e-01,\n",
            "         4.0491e-01, -1.4095e+00, -1.5698e+00, -8.2631e-01,  1.1696e+00,\n",
            "         1.7384e-01, -3.4116e-02,  1.3466e+00,  8.0082e-01, -5.2893e-01,\n",
            "         4.1877e-01,  3.8825e-01, -2.5433e-01,  6.3614e-01,  1.2050e+00,\n",
            "         3.0733e-01, -1.2406e+00,  1.8981e-01, -3.3262e-01, -2.9997e-02,\n",
            "        -1.0304e+00,  4.4546e-01,  5.2959e-01,  6.5025e-01, -1.1095e+00,\n",
            "         2.0042e-01, -1.1927e+00, -4.2369e-01,  2.6683e-01, -4.9336e-01,\n",
            "        -4.6343e-01, -6.0716e-01, -1.1698e+00,  1.2706e+00,  1.4892e+00,\n",
            "         1.4910e+00,  1.2917e+00, -2.4089e-01,  1.5348e+00,  2.8531e-01,\n",
            "        -2.0263e-01, -9.5053e-01,  2.8441e-01, -1.4925e+00,  1.4928e+00,\n",
            "         4.6012e-01, -9.9903e-01,  1.5495e+00,  1.0574e+00,  2.7600e-01,\n",
            "         1.0846e+00, -2.3105e-02, -7.7910e-01, -8.1281e-01,  9.9864e-01,\n",
            "         8.2925e-01, -4.5036e-01,  2.8051e-01, -6.1682e-01, -5.2043e-02,\n",
            "        -1.0905e+00,  4.4986e-01, -6.0245e-02,  9.9996e-01,  1.5080e+00,\n",
            "        -1.1308e+00,  1.2152e+00,  8.6913e-01, -1.0685e+00,  1.6610e-01,\n",
            "        -1.4491e-01, -1.3521e+00, -1.0055e+00,  1.3929e+00,  5.6687e-01,\n",
            "        -1.4836e+00,  2.2726e-01, -8.5926e-01,  7.2842e-02,  1.1081e+00,\n",
            "         3.6301e-01, -5.5567e-01, -1.4717e+00, -1.0575e+00,  4.3596e-01,\n",
            "        -2.5596e-01, -2.8873e-01,  1.1883e+00,  3.0875e-01,  2.6260e-01,\n",
            "        -4.1402e-01, -3.9926e-01, -6.4505e-01,  9.5618e-01,  1.0092e+00,\n",
            "        -9.4823e-01, -3.8218e-01,  1.4776e+00, -4.5562e-01, -1.1309e+00,\n",
            "         4.6728e-01, -1.3035e+00, -1.1315e-02,  5.7749e-01, -9.8212e-02,\n",
            "         2.8374e-01, -4.2542e-01, -5.4044e-02, -1.4665e+00, -1.3957e+00,\n",
            "         1.5309e+00,  9.3744e-01,  2.5095e-01, -2.8987e-01, -1.0809e+00,\n",
            "        -6.5088e-01,  2.5778e-01, -1.6076e-01,  1.5257e+00,  3.7309e-01,\n",
            "         1.2286e+00,  1.3503e+00,  6.8856e-01, -4.3650e-01, -1.3186e+00,\n",
            "        -1.1953e+00,  1.6760e-02, -1.4760e+00,  1.3185e+00,  2.1921e-01,\n",
            "        -1.9174e-01,  4.0304e-01, -5.3140e-01, -1.2197e+00, -2.5898e-01,\n",
            "         4.3298e-01, -1.1562e+00, -1.3794e+00, -4.8854e-01,  4.6787e-01,\n",
            "         3.3409e-01, -1.8658e-03, -5.1823e-01, -1.4007e+00,  1.3326e+00,\n",
            "        -1.0637e+00,  8.8270e-02, -5.8556e-01,  1.4900e+00, -1.0330e+00,\n",
            "         1.5547e+00, -2.8554e-01, -8.1376e-01,  1.1695e+00, -1.8260e-01,\n",
            "         4.9499e-02,  6.5220e-01, -2.8052e-01,  3.4604e-01, -1.1777e+00,\n",
            "         1.5471e+00, -4.0058e-01,  6.1045e-01, -2.4577e-01,  6.1468e-01,\n",
            "         1.0732e+00, -3.9232e-01, -1.7811e-01,  7.3956e-01, -1.2878e+00,\n",
            "         1.1340e+00,  1.3674e+00, -2.9079e-01, -3.9711e-01, -3.3417e-01,\n",
            "        -1.2842e-01, -1.3946e+00,  1.4310e+00,  1.1206e+00,  1.2518e+00,\n",
            "        -1.0536e+00,  2.1806e-01,  1.5752e+00, -2.5992e-02, -9.1375e-01,\n",
            "        -1.2957e+00,  2.3656e-01,  1.0438e+00,  1.1865e-01,  1.3506e+00,\n",
            "         2.3025e-02, -1.2707e+00, -1.3888e+00, -3.8951e-01, -1.4337e+00,\n",
            "        -7.6177e-01, -1.6078e-01, -5.8608e-01, -1.2272e+00,  9.9947e-02,\n",
            "        -3.2679e-01,  1.2197e+00], device='cuda:0', requires_grad=True)\n",
            "Parameter containing:\n",
            "tensor([[ 0.5622,  0.5786,  0.6104,  ..., -0.5783,  0.5655, -0.5700],\n",
            "        [ 0.5537,  0.6064,  0.5761,  ..., -0.5867,  0.5722, -0.6005],\n",
            "        [-0.5915, -0.5549, -0.6039,  ...,  0.6017, -0.5844,  0.5703],\n",
            "        ...,\n",
            "        [ 0.5553,  0.5524,  0.5587,  ..., -0.5650,  0.5989, -0.5544],\n",
            "        [ 0.5967,  0.6036,  0.5829,  ..., -0.6072,  0.5645, -0.5637],\n",
            "        [-0.5794, -0.5661, -0.5855,  ...,  0.5982, -0.5497,  0.5675]],\n",
            "       device='cuda:0', requires_grad=True)\n",
            "Parameter containing:\n",
            "tensor([-0.5590, -0.5651,  0.5505,  0.5722, -0.5887, -0.5584, -0.5569,  0.5893,\n",
            "        -0.5797, -0.5812, -0.5011,  0.6035, -0.5592, -0.5790,  0.5740,  0.5029,\n",
            "        -0.5684, -0.5648,  0.6108, -0.5681, -0.6072,  0.5892,  0.6064,  0.5628,\n",
            "        -0.5832,  0.5924,  0.5625,  0.6076,  0.5921,  0.6056, -0.5645, -0.5749,\n",
            "        -0.5663,  0.5844, -0.5709,  0.5827,  0.5638,  0.6043, -0.5687, -0.5979,\n",
            "         0.5574,  0.5651, -0.6063,  0.5630,  0.5626,  0.6046,  0.6073, -0.5803,\n",
            "        -0.5484, -0.5914,  0.5549,  0.6082,  0.5507,  0.5744, -0.5955,  0.6052,\n",
            "         0.5571,  0.5573,  0.5811, -0.6035,  0.5514, -0.5913, -0.5884,  0.5884,\n",
            "         0.5745,  0.5736,  0.5754,  0.5651,  0.5557, -0.5770,  0.6012, -0.5668,\n",
            "         0.5579, -0.5682, -0.5909,  0.6013, -0.6021,  0.6040,  0.5552,  0.5695,\n",
            "        -0.6103, -0.5723,  0.5679, -0.6087, -0.5764, -0.5628, -0.5942, -0.5544,\n",
            "        -0.5506,  0.5847, -0.5782,  0.5687,  0.5665, -0.5495,  0.5584, -0.5557,\n",
            "        -0.5515, -0.5841, -0.5701, -0.5922,  0.5988,  0.5828,  0.5757, -0.6019,\n",
            "         0.5794, -0.5665,  0.5658, -0.5748, -0.5708, -0.5759, -0.5648,  0.5778,\n",
            "         0.5550,  0.6129, -0.5887,  0.6112,  0.5964, -0.5499, -0.5617, -0.5704,\n",
            "         0.5953,  0.5190,  0.5814, -0.5781,  0.5501,  0.5937, -0.5663, -0.5731,\n",
            "         0.6019,  0.5683,  0.5966,  0.5794, -0.5883,  0.5956,  0.5528,  0.5964,\n",
            "         0.6020, -0.5633, -0.6012,  0.5887, -0.6112, -0.5741,  0.5873,  0.5696,\n",
            "         0.5692,  0.5934,  0.6014,  0.6099,  0.6002, -0.5869,  0.5693, -0.5940,\n",
            "         0.5803,  0.5674,  0.5918, -0.6007, -0.5665, -0.5742,  0.5931, -0.5825,\n",
            "        -0.5762, -0.6089, -0.6020,  0.5466, -0.6011, -0.5789, -0.5607,  0.5714,\n",
            "         0.5418, -0.5906,  0.5510,  0.5893, -0.5330,  0.5803, -0.5915,  0.5514,\n",
            "         0.5539,  0.5891,  0.6002,  0.5496,  0.5676,  0.6071, -0.5577,  0.5801,\n",
            "         0.5673, -0.6044,  0.5889, -0.5698,  0.6076,  0.5614, -0.5523,  0.6010,\n",
            "        -0.5569,  0.5946, -0.5581, -0.5968,  0.5530, -0.6107,  0.5603, -0.6032,\n",
            "        -0.5574, -0.6006,  0.5638,  0.5877,  0.6105,  0.5544, -0.6063, -0.6027,\n",
            "         0.5920, -0.5816, -0.5556,  0.5430,  0.6037,  0.5919,  0.5554,  0.6039,\n",
            "        -0.5767, -0.5539,  0.6129, -0.5837,  0.5695, -0.5988,  0.6063,  0.5591,\n",
            "        -0.5816,  0.5764, -0.5601, -0.5829, -0.5738, -0.5882,  0.5946,  0.6110,\n",
            "        -0.5720,  0.6062, -0.5541, -0.5651, -0.6063,  0.5544,  0.5724,  0.5650,\n",
            "         0.5637, -0.5530,  0.5576,  0.5819,  0.5839, -0.5542,  0.5531,  0.6034,\n",
            "        -0.6033, -0.5541,  0.5888, -0.5540,  0.5594,  0.5707,  0.5770, -0.5661,\n",
            "         0.5752, -0.5727, -0.5782, -0.5973, -0.6039,  0.5516, -0.5908, -0.5814,\n",
            "        -0.5633,  0.6059,  0.5970,  0.5874, -0.5712, -0.5726, -0.6100,  0.5559,\n",
            "         0.5941, -0.5631, -0.5771, -0.6115, -0.5829,  0.5760,  0.5690,  0.6094,\n",
            "        -0.5542, -0.5795, -0.5617,  0.5801, -0.5926, -0.5905, -0.5498,  0.5969,\n",
            "         0.5836,  0.6110,  0.5936,  0.6043,  0.6024, -0.5539,  0.5763, -0.5529,\n",
            "         0.5885, -0.5616, -0.6115, -0.6125, -0.5763,  0.5761,  0.5792, -0.5968,\n",
            "         0.5826,  0.5963, -0.5988, -0.5690,  0.5494, -0.6011,  0.5751, -0.6124,\n",
            "         0.6064,  0.6045, -0.5526,  0.5999,  0.6104, -0.5908, -0.5498,  0.5907,\n",
            "         0.6064, -0.5561, -0.5946, -0.5676, -0.5972,  0.6050, -0.6097, -0.5491,\n",
            "         0.5481,  0.5623,  0.5937, -0.5938,  0.6069, -0.5630, -0.5570,  0.6119,\n",
            "        -0.5599,  0.5995, -0.5725,  0.6056,  0.5842, -0.5593, -0.5500,  0.5922,\n",
            "         0.5857, -0.5699,  0.6039, -0.5858, -0.5875,  0.6093, -0.5893, -0.6033,\n",
            "        -0.5779,  0.6096,  0.5618,  0.5778,  0.5846, -0.5656,  0.5546, -0.5577,\n",
            "         0.5562,  0.5536,  0.5473, -0.5733,  0.5731,  0.6092,  0.5951,  0.5926,\n",
            "         0.6085, -0.5920, -0.6056,  0.5944, -0.5694, -0.5856, -0.5669, -0.6007,\n",
            "        -0.5874,  0.5494,  0.5555, -0.6115,  0.5679,  0.5769, -0.5942, -0.5809,\n",
            "         0.5111,  0.5936, -0.5077,  0.5877,  0.5778, -0.5817,  0.5879, -0.5791,\n",
            "         0.5853,  0.6023, -0.5496, -0.5482, -0.5802,  0.5718, -0.6057,  0.5807,\n",
            "        -0.6080, -0.5471,  0.5489,  0.5526, -0.6062, -0.5857, -0.5577, -0.5993,\n",
            "        -0.5502,  0.5820, -0.5740,  0.5924, -0.5690,  0.5761, -0.6073, -0.5720,\n",
            "         0.5735, -0.5684, -0.5491,  0.5797,  0.5807,  0.5865, -0.5755, -0.5618,\n",
            "        -0.5914,  0.5974,  0.5835,  0.5977, -0.5546, -0.6029, -0.6099,  0.5960,\n",
            "         0.5677, -0.5943,  0.5523,  0.6108,  0.5568, -0.5500, -0.5806,  0.5703,\n",
            "         0.6100,  0.5764, -0.5585, -0.6095,  0.5931, -0.5983,  0.5579, -0.5684,\n",
            "         0.5485, -0.6040, -0.5673,  0.6116, -0.6115, -0.5909, -0.6023, -0.5681,\n",
            "        -0.6047, -0.6046,  0.5965,  0.5633, -0.5803, -0.5921, -0.5967,  0.5803,\n",
            "        -0.6072,  0.5944, -0.5677,  0.5796,  0.5679, -0.5534, -0.5939,  0.5485,\n",
            "        -0.6062, -0.5926, -0.5514,  0.5795,  0.5718,  0.5741,  0.6076, -0.5735,\n",
            "        -0.5921,  0.5910,  0.5924, -0.5738,  0.5701, -0.5527, -0.5717,  0.5679,\n",
            "        -0.5864,  0.5772,  0.5871,  0.5500, -0.5975,  0.5642, -0.6079,  0.5871,\n",
            "         0.5603, -0.5712, -0.5495,  0.5680, -0.5708,  0.5790,  0.5573,  0.5835,\n",
            "        -0.5860, -0.6123,  0.5594,  0.6042, -0.6116,  0.5688,  0.6038,  0.5958,\n",
            "         0.6118,  0.5983, -0.5739,  0.5625,  0.5547, -0.5953, -0.6114,  0.5545,\n",
            "         0.5823,  0.6084,  0.5509, -0.5614, -0.5960, -0.5782,  0.5544, -0.5735,\n",
            "        -0.5726,  0.5686,  0.5740,  0.5555, -0.6085,  0.5654,  0.6115,  0.5856,\n",
            "         0.5597, -0.5687,  0.6024, -0.5598, -0.5818,  0.5513,  0.5669, -0.5971,\n",
            "        -0.5786,  0.5701,  0.5646, -0.5978,  0.5586,  0.6011,  0.6010, -0.5493,\n",
            "         0.5437,  0.6010,  0.5955, -0.5577,  0.5503, -0.5851,  0.5722,  0.5751,\n",
            "         0.5564,  0.5723, -0.5723, -0.6022, -0.6093, -0.5569, -0.5859,  0.5711,\n",
            "         0.6085,  0.5755,  0.6070,  0.6041, -0.5560,  0.6023,  0.5681, -0.5728,\n",
            "         0.5751, -0.5892, -0.5591,  0.5571,  0.5991,  0.5789, -0.5980, -0.5947,\n",
            "         0.5608,  0.6117, -0.5528, -0.5645,  0.5850,  0.5719, -0.6118,  0.5810,\n",
            "         0.5513, -0.5589, -0.5621,  0.6062,  0.5935,  0.5489,  0.5501,  0.5800,\n",
            "        -0.6052,  0.5497,  0.5778,  0.5513,  0.5620,  0.5833, -0.5673, -0.6105,\n",
            "        -0.5904, -0.6012,  0.5512, -0.5882, -0.5689, -0.5567,  0.6076,  0.5658,\n",
            "         0.6057, -0.5810,  0.5944, -0.5835, -0.6076, -0.5459, -0.6103,  0.5851,\n",
            "         0.6028, -0.5871,  0.5582, -0.5607,  0.5549, -0.5736,  0.5004, -0.5993,\n",
            "        -0.6096, -0.5331,  0.5778, -0.5908, -0.5515, -0.5758,  0.5745, -0.5637,\n",
            "         0.5517,  0.5745,  0.5727,  0.5709, -0.5938,  0.5628,  0.5944,  0.5983,\n",
            "        -0.5675, -0.5907,  0.5943, -0.6101, -0.5526, -0.5461,  0.5494, -0.5995,\n",
            "         0.5640, -0.6011,  0.5590,  0.4428,  0.5540,  0.5888, -0.5540,  0.4370,\n",
            "         0.5548, -0.5810,  0.5618, -0.5562,  0.5842, -0.5941,  0.5805, -0.5872,\n",
            "         0.6097, -0.5964, -0.6007, -0.5534, -0.5989, -0.5720,  0.5771, -0.6024,\n",
            "        -0.5876,  0.5704,  0.6107, -0.5519,  0.5873, -0.6046, -0.6058,  0.5690,\n",
            "        -0.5994, -0.5493, -0.5642, -0.5978, -0.5937,  0.5937, -0.5581,  0.6023,\n",
            "         0.5678, -0.5850, -0.6111, -0.5983, -0.5531, -0.5645,  0.5961,  0.6079,\n",
            "         0.5492, -0.5766, -0.5458,  0.5762,  0.6106, -0.5804,  0.6006, -0.5504,\n",
            "         0.5473, -0.5571, -0.5983,  0.5729,  0.5376, -0.5735,  0.5817, -0.5536,\n",
            "         0.6110,  0.5653, -0.5895, -0.5628,  0.6113,  0.5513, -0.6061, -0.5757,\n",
            "        -0.5762, -0.6005,  0.5949,  0.6027,  0.5971,  0.5917,  0.5502, -0.5568,\n",
            "        -0.5881,  0.6066, -0.5843, -0.5521,  0.6071,  0.5923, -0.5925, -0.6124,\n",
            "        -0.6073,  0.5582, -0.6106, -0.6028, -0.6031,  0.5632, -0.5684, -0.5784,\n",
            "         0.5559, -0.5663,  0.5581,  0.5970,  0.5822,  0.5463, -0.5952, -0.5974,\n",
            "        -0.5594, -0.5910, -0.4930,  0.5817, -0.5885, -0.5486,  0.6130, -0.5984,\n",
            "         0.6115,  0.5510, -0.5508, -0.5495,  0.6123, -0.5482, -0.5728,  0.5852,\n",
            "        -0.5662, -0.6095, -0.5760,  0.5491,  0.5948, -0.5910, -0.5904, -0.5671,\n",
            "        -0.5976,  0.6083,  0.5801, -0.5867,  0.5494,  0.4796, -0.5706,  0.5991,\n",
            "         0.5984, -0.5580,  0.5987,  0.5869,  0.6024, -0.5887,  0.6059,  0.6071,\n",
            "        -0.6066,  0.5563, -0.5807, -0.5825,  0.5972,  0.6087, -0.5693, -0.5861,\n",
            "        -0.5953,  0.5851, -0.6083,  0.5949,  0.5833,  0.5740,  0.5868,  0.5917,\n",
            "         0.5740, -0.5700, -0.5521, -0.5909, -0.5867, -0.5491, -0.5483,  0.5743,\n",
            "         0.5806,  0.6032,  0.5674, -0.6031,  0.5553,  0.5866,  0.5996,  0.5659,\n",
            "        -0.5965,  0.5920,  0.6007, -0.5725, -0.5838, -0.5688,  0.6015, -0.6094,\n",
            "         0.5860, -0.5962,  0.5666, -0.5359, -0.5942,  0.6001, -0.5780, -0.5982,\n",
            "         0.5406, -0.5678,  0.5730,  0.5590,  0.5700,  0.5735,  0.5520, -0.5722,\n",
            "         0.5664, -0.6028, -0.5576,  0.5646,  0.5532,  0.5931,  0.5587,  0.5584,\n",
            "         0.5608, -0.5498, -0.5817, -0.5964, -0.5626, -0.6050, -0.5950,  0.6074,\n",
            "         0.6012,  0.6124,  0.6095, -0.5496, -0.5639,  0.5919,  0.5575, -0.5795,\n",
            "        -0.5986,  0.5948, -0.5614, -0.5971,  0.6010, -0.5689, -0.5992,  0.5528,\n",
            "         0.5487,  0.6024,  0.5901, -0.5898, -0.5723, -0.5538,  0.5849, -0.5628,\n",
            "        -0.4483,  0.5930, -0.5965, -0.5925,  0.5894, -0.5939,  0.5858, -0.5631,\n",
            "         0.5951, -0.4108,  0.5706, -0.5521,  0.5496, -0.6040, -0.6034,  0.5617,\n",
            "         0.5999,  0.5897, -0.5612,  0.6055, -0.5789,  0.5864,  0.5809,  0.6101,\n",
            "         0.5691, -0.5896, -0.6086, -0.5850,  0.5907, -0.6033,  0.5816, -0.5822,\n",
            "        -0.5039, -0.5806,  0.6084, -0.5837,  0.5912,  0.5997, -0.5857, -0.5615,\n",
            "        -0.6119, -0.6022, -0.5639,  0.5871, -0.6119,  0.6015,  0.5643,  0.5825,\n",
            "        -0.5534, -0.5801, -0.5824,  0.5508,  0.5771,  0.5661,  0.6099,  0.5733,\n",
            "         0.5913, -0.6100, -0.5608, -0.5598,  0.5974], device='cuda:0',\n",
            "       requires_grad=True)\n",
            "Parameter containing:\n",
            "tensor([[ 0.5579, -0.5637,  0.5967,  ...,  0.5964,  0.5722, -0.5856],\n",
            "        [-0.5882,  0.5855, -0.5610,  ..., -0.6043, -0.5717,  0.5856],\n",
            "        [ 0.5649, -0.5755,  0.5902,  ...,  0.6058,  0.5870, -0.5964],\n",
            "        ...,\n",
            "        [-0.5927,  0.5585, -0.5737,  ..., -0.5737, -0.6014,  0.5572],\n",
            "        [-0.6063,  0.5564, -0.5567,  ..., -0.5888, -0.5803,  0.5566],\n",
            "        [-0.5821,  0.5843, -0.6025,  ..., -0.6026, -0.5611,  0.5963]],\n",
            "       device='cuda:0', requires_grad=True)\n",
            "Parameter containing:\n",
            "tensor([-0.5510,  0.5526, -0.5794, -0.5774, -0.5515,  0.5594,  0.5984, -0.6071,\n",
            "        -0.5622, -0.5710, -0.5940, -0.5788, -0.5780,  0.5516, -0.6009, -0.5659,\n",
            "        -0.5638, -0.5676,  0.5512,  0.5545, -0.5533, -0.5560,  0.5502, -0.5656,\n",
            "        -0.5571,  0.5605,  0.6005,  0.5836,  0.5911,  0.5826, -0.5777,  0.5840,\n",
            "         0.5511, -0.5618,  0.6118,  0.5693, -0.6071,  0.5767,  0.6020, -0.5753,\n",
            "         0.5891,  0.5966,  0.5821, -0.5833,  0.6096, -0.5952,  0.5607,  0.5908,\n",
            "        -0.5494,  0.5864, -0.6090,  0.5843,  0.5622, -0.6028,  0.5504,  0.5761,\n",
            "        -0.5634,  0.5752,  0.5514,  0.5606, -0.6057, -0.6008,  0.5651,  0.5965,\n",
            "         0.5485, -0.5993, -0.5917,  0.6057,  0.5557,  0.5986, -0.5628, -0.5531,\n",
            "        -0.5787, -0.5844,  0.5584,  0.5590, -0.6120, -0.6071,  0.6031,  0.5925,\n",
            "         0.6066, -0.6121, -0.5788, -0.5642,  0.5684,  0.5577,  0.5789,  0.5978,\n",
            "         0.5986,  0.5606, -0.5529,  0.6063, -0.5552,  0.5960, -0.5723,  0.5641,\n",
            "        -0.5495,  0.5510, -0.6050, -0.5908,  0.5819, -0.5546, -0.5520,  0.5713,\n",
            "         0.5847, -0.5600,  0.5512,  0.5878, -0.5509,  0.6018,  0.5828,  0.5511,\n",
            "         0.5515, -0.6074,  0.5746, -0.5555,  0.6116, -0.5615,  0.5624,  0.5520,\n",
            "        -0.5642,  0.6077,  0.5757, -0.6067, -0.5512, -0.5537, -0.6079, -0.5896,\n",
            "         0.6005, -0.5603, -0.5775, -0.5753, -0.5883, -0.5976,  0.6051,  0.6025,\n",
            "         0.5653,  0.6022, -0.5857,  0.5521,  0.5852, -0.5754, -0.5646,  0.6074,\n",
            "         0.5997, -0.6059,  0.5658, -0.5825, -0.5539,  0.5648, -0.5914, -0.5521,\n",
            "        -0.5863,  0.5602,  0.5876, -0.5679,  0.6046, -0.5585, -0.5579, -0.5610,\n",
            "         0.5871,  0.5596, -0.5625,  0.5642,  0.6088,  0.5766,  0.6110,  0.5915,\n",
            "        -0.5695, -0.5573, -0.5708, -0.6056,  0.6065,  0.5645, -0.5570, -0.5850,\n",
            "        -0.5796,  0.5498,  0.5536, -0.5684, -0.6093,  0.6061, -0.5580, -0.5733,\n",
            "         0.6082, -0.6074,  0.5784,  0.6096, -0.6016,  0.5922,  0.5982,  0.5574,\n",
            "         0.5828,  0.5515,  0.5599, -0.5867,  0.5662,  0.6107, -0.5657, -0.6007,\n",
            "        -0.5697, -0.5717,  0.6124,  0.5737,  0.5758, -0.5808, -0.6049,  0.5612,\n",
            "        -0.5787, -0.5572,  0.5611,  0.5893, -0.5880,  0.5588, -0.5569,  0.6089,\n",
            "         0.6047, -0.5502, -0.5608,  0.5635,  0.6005,  0.5697,  0.6110, -0.5948,\n",
            "        -0.5519, -0.5690,  0.5593,  0.5805, -0.6036,  0.6053,  0.5634,  0.5691,\n",
            "         0.5522, -0.5729,  0.5619, -0.5590, -0.5856,  0.5496, -0.5993,  0.5650,\n",
            "        -0.5823, -0.5945,  0.5829, -0.5542, -0.5940, -0.5949, -0.6064,  0.5677,\n",
            "        -0.6097, -0.5582, -0.5832, -0.5850, -0.6022,  0.5752, -0.5845,  0.5856,\n",
            "         0.5671, -0.5793,  0.6090,  0.6068, -0.5531, -0.5861, -0.5964,  0.5860,\n",
            "        -0.5525, -0.5551,  0.5892, -0.5486,  0.5961,  0.6091,  0.5673, -0.5869,\n",
            "         0.5680,  0.5847,  0.6129,  0.5884, -0.5543,  0.5499,  0.5760, -0.6068,\n",
            "         0.5495, -0.5911,  0.5651,  0.5525, -0.5905,  0.5883, -0.5644, -0.5891,\n",
            "         0.5608, -0.5756, -0.6117, -0.5899,  0.5772, -0.5752,  0.6041,  0.5704,\n",
            "        -0.6029, -0.5740,  0.5696, -0.5697,  0.6051,  0.5850, -0.5784,  0.5540,\n",
            "         0.5959,  0.5684,  0.5993,  0.5874, -0.6057, -0.5738, -0.6000,  0.6112,\n",
            "         0.6097, -0.6065,  0.6051, -0.5488, -0.5530,  0.5892, -0.5823,  0.5830,\n",
            "         0.5582,  0.5911, -0.5923,  0.5633,  0.6086, -0.5536,  0.5636,  0.5577,\n",
            "        -0.5665,  0.5963, -0.5994,  0.5806, -0.5658, -0.5982,  0.5657,  0.5804,\n",
            "        -0.5730, -0.5900, -0.5624, -0.5546,  0.5773,  0.5739, -0.5740,  0.5657,\n",
            "         0.5712, -0.5503,  0.5947,  0.5770, -0.5662,  0.5764, -0.5810,  0.5911,\n",
            "         0.5538, -0.6091, -0.5913, -0.5741, -0.5689,  0.6093, -0.6090, -0.5980,\n",
            "        -0.6040,  0.5685, -0.5516,  0.5682,  0.6043, -0.5991, -0.5902, -0.6064,\n",
            "         0.5846,  0.5823, -0.5729,  0.5886,  0.5896, -0.5579,  0.6107, -0.5932,\n",
            "         0.6066, -0.5619,  0.5960,  0.5535,  0.5767, -0.5856,  0.5998, -0.5607,\n",
            "        -0.6093,  0.5886, -0.5500, -0.5991,  0.5797, -0.6079,  0.5579,  0.6027,\n",
            "         0.5945, -0.5663, -0.5979, -0.5598, -0.5529,  0.5557,  0.6056,  0.5572,\n",
            "         0.5520, -0.5564,  0.5776,  0.6105,  0.5730, -0.5502,  0.5693, -0.6109,\n",
            "         0.5667, -0.5658, -0.5501,  0.5643,  0.6028,  0.5661,  0.5754, -0.6104,\n",
            "        -0.6034,  0.5906,  0.5700,  0.5685,  0.5863, -0.5922, -0.5791, -0.6000,\n",
            "         0.6051, -0.5664,  0.5760, -0.5620, -0.5628, -0.5611, -0.6054,  0.5505,\n",
            "         0.5620, -0.5588,  0.5738, -0.6031, -0.5550, -0.6106, -0.5859,  0.6068,\n",
            "         0.6044, -0.5557,  0.5507, -0.5854, -0.5490,  0.5722,  0.5866,  0.5653,\n",
            "        -0.5568,  0.5945,  0.5946,  0.6124, -0.5958,  0.6028, -0.5835,  0.5934,\n",
            "         0.5503, -0.5551, -0.5860, -0.6082, -0.5638,  0.5948,  0.5960, -0.5806,\n",
            "         0.5917,  0.6070, -0.5913, -0.5944, -0.5668,  0.6098, -0.6027,  0.5875,\n",
            "         0.6027, -0.5544,  0.5645, -0.6014,  0.5611, -0.6026,  0.6055, -0.5554,\n",
            "        -0.5623, -0.5846,  0.5566,  0.5951,  0.5974,  0.6126, -0.5487, -0.5810,\n",
            "         0.5708,  0.5852,  0.5820, -0.5873, -0.5909,  0.5663,  0.5599,  0.6118,\n",
            "         0.5753,  0.5532, -0.5938,  0.5648, -0.6061, -0.5796,  0.5715, -0.6126,\n",
            "        -0.5604,  0.5575,  0.5917,  0.5951, -0.5511,  0.5950, -0.5556, -0.5806,\n",
            "         0.5652,  0.5581,  0.5672,  0.5675,  0.5514,  0.6026, -0.5927, -0.5846,\n",
            "         0.6029,  0.6090, -0.5901,  0.5694,  0.5766, -0.5848, -0.6057, -0.5498,\n",
            "         0.5618,  0.5651,  0.5617,  0.5668,  0.5871,  0.5737, -0.5925,  0.5713,\n",
            "         0.5951, -0.5591,  0.5610, -0.5961,  0.5901, -0.5932,  0.6078,  0.5724,\n",
            "        -0.5973,  0.5955, -0.5558,  0.6085, -0.5831,  0.5570,  0.5873, -0.5705,\n",
            "         0.5571, -0.5892,  0.5967, -0.5716, -0.5659,  0.5938,  0.5845, -0.5730,\n",
            "        -0.6008,  0.5494, -0.5690, -0.5977,  0.5955,  0.5646,  0.5965,  0.5953,\n",
            "        -0.5569,  0.6038, -0.6037,  0.6094,  0.5947,  0.5892, -0.5922, -0.5565,\n",
            "        -0.5565, -0.5671, -0.5661, -0.5656, -0.5655, -0.6054, -0.5753, -0.5699,\n",
            "         0.5485,  0.6069, -0.5717,  0.5512,  0.5918, -0.6094, -0.5595, -0.5555,\n",
            "         0.5630, -0.6012, -0.5785,  0.5675, -0.5796,  0.5985, -0.5498, -0.6111,\n",
            "        -0.6029, -0.5592, -0.5959, -0.5998, -0.5573,  0.5579, -0.5637, -0.5894,\n",
            "        -0.6029, -0.5751, -0.5534, -0.5522, -0.6020, -0.5540, -0.6067,  0.5882,\n",
            "        -0.6072, -0.5796,  0.5550,  0.6031, -0.5926,  0.6058,  0.5641, -0.5870,\n",
            "        -0.5788, -0.6000, -0.5707, -0.6045,  0.5685, -0.5834, -0.5641, -0.5870,\n",
            "        -0.5996,  0.5915,  0.5871, -0.5749, -0.5824, -0.5669,  0.5811, -0.6004,\n",
            "        -0.5491,  0.5799, -0.5889,  0.5535, -0.5683,  0.5744,  0.6128,  0.5748,\n",
            "         0.5885,  0.5647,  0.5730, -0.6009,  0.5719,  0.6012, -0.5620, -0.5641,\n",
            "        -0.5938,  0.6116,  0.5807, -0.5497,  0.5637,  0.6064, -0.5725, -0.5993,\n",
            "         0.5819,  0.5599,  0.5687, -0.5668, -0.6115, -0.5572,  0.5657, -0.5622,\n",
            "        -0.5556, -0.5513, -0.6115,  0.5881,  0.6128,  0.5836,  0.5989, -0.5991,\n",
            "         0.5514,  0.5878,  0.5996,  0.6095,  0.5903,  0.6107, -0.5614,  0.5575,\n",
            "        -0.6002,  0.6017, -0.5936, -0.5666,  0.5990,  0.5712, -0.5663, -0.5622,\n",
            "        -0.5826, -0.6075,  0.5746,  0.6068, -0.6125,  0.5846, -0.5967, -0.5998,\n",
            "        -0.5975,  0.5925,  0.5789, -0.5807, -0.5714, -0.5731,  0.5495,  0.5530,\n",
            "         0.6121,  0.5947,  0.5877, -0.6127, -0.6106,  0.5849,  0.6023, -0.5771,\n",
            "        -0.5684, -0.5720, -0.5581, -0.5590,  0.6026, -0.5569,  0.5709, -0.6016,\n",
            "         0.5752,  0.5889,  0.5940, -0.5660, -0.5606,  0.6085,  0.5628,  0.5997,\n",
            "         0.6049, -0.5805, -0.5863,  0.5905, -0.5879,  0.5790,  0.5650, -0.5857,\n",
            "        -0.5528, -0.5941,  0.5857, -0.5711,  0.5986,  0.5646,  0.5942,  0.5969,\n",
            "        -0.5739,  0.5812, -0.6102, -0.5854,  0.5947,  0.6114,  0.5651,  0.5581,\n",
            "         0.5934,  0.6010, -0.5972, -0.6045, -0.5610, -0.5544,  0.5857, -0.5674,\n",
            "        -0.5543,  0.5699,  0.5940,  0.5979,  0.6014,  0.5968,  0.5678,  0.5911,\n",
            "        -0.5850, -0.5594,  0.5972,  0.5873, -0.5625, -0.5967, -0.5586,  0.5913,\n",
            "         0.5662, -0.5783,  0.5914, -0.5498, -0.5682,  0.5522,  0.5563, -0.5814,\n",
            "        -0.5933, -0.5941,  0.5989, -0.5643,  0.5819,  0.5941,  0.5702, -0.6009,\n",
            "         0.5815,  0.5586, -0.5748, -0.6085, -0.5863, -0.5644,  0.5538, -0.5934,\n",
            "        -0.5620,  0.5842,  0.6006,  0.5696, -0.5880, -0.5941, -0.5772,  0.5547,\n",
            "         0.5650,  0.5520, -0.5647, -0.5686, -0.5940,  0.5899,  0.5507,  0.6116,\n",
            "        -0.6121,  0.5788,  0.5674, -0.5717, -0.5552, -0.5580, -0.5729, -0.5589,\n",
            "        -0.5844,  0.5671, -0.6022,  0.5935, -0.5976,  0.5775,  0.6068, -0.5778,\n",
            "         0.6051,  0.5947,  0.5568, -0.5881,  0.5560,  0.5725, -0.5685, -0.5611,\n",
            "        -0.6128,  0.5530, -0.5947, -0.5590, -0.5681, -0.5707,  0.5782,  0.5923,\n",
            "         0.5935,  0.5704,  0.6071, -0.5711, -0.5512,  0.6026,  0.5678,  0.5921,\n",
            "         0.5720,  0.5769, -0.5541, -0.5703, -0.6011,  0.5869,  0.5972,  0.6027,\n",
            "        -0.5933, -0.5942,  0.6039, -0.5876,  0.5806,  0.5726,  0.6063,  0.5777,\n",
            "        -0.5549,  0.5754,  0.5923, -0.5995, -0.5690, -0.5799, -0.5593,  0.5595,\n",
            "         0.6042, -0.6098,  0.5880, -0.5551,  0.5699,  0.5558,  0.5594, -0.5869,\n",
            "        -0.5757,  0.6016, -0.5617, -0.5661, -0.6007, -0.5946,  0.5696, -0.5650,\n",
            "        -0.5647, -0.5560,  0.6102, -0.5786,  0.5555, -0.6104,  0.5496, -0.5681,\n",
            "        -0.6093, -0.5803, -0.5605,  0.5675,  0.5672, -0.5613,  0.5706, -0.6027,\n",
            "         0.6083, -0.5756, -0.5533, -0.5874, -0.5981,  0.5485,  0.5635, -0.6090,\n",
            "        -0.5804,  0.5894,  0.5947, -0.5573,  0.5588,  0.5556,  0.5878,  0.5655,\n",
            "        -0.6110,  0.5970, -0.5564,  0.5487, -0.5760, -0.5716, -0.5618, -0.6011,\n",
            "        -0.5716,  0.5862,  0.5860,  0.5835, -0.6103, -0.5809,  0.5663,  0.5848,\n",
            "         0.5901, -0.5624,  0.5722,  0.5861,  0.5805], device='cuda:0',\n",
            "       requires_grad=True)\n",
            "Parameter containing:\n",
            "tensor([[-0.5661, -0.6107, -0.5514, -0.5792, -0.5675, -0.6087, -0.5818, -0.5799,\n",
            "         -0.5633, -0.5694, -0.5589, -0.5689, -0.5500, -0.5879, -0.5700, -0.5537,\n",
            "         -0.5558, -0.5657, -0.5936, -0.6004, -0.5557, -0.5686, -0.5885, -0.5550,\n",
            "         -0.5687, -0.6054, -0.6077, -0.5884, -0.5916, -0.5871, -0.5575, -0.5867,\n",
            "         -0.6087, -0.5637, -0.6056, -0.6056, -0.5749, -0.5824, -0.6056, -0.5674,\n",
            "         -0.6099, -0.5885, -0.6025, -0.5694, -0.5908, -0.5592, -0.6034, -0.6099,\n",
            "         -0.5602, -0.5866, -0.5605, -0.5912, -0.5879, -0.5543, -0.5878, -0.5915,\n",
            "         -0.5498, -0.5876, -0.6033, -0.6119, -0.5677, -0.5625, -0.6082, -0.6084,\n",
            "         -0.6022, -0.5701, -0.5484, -0.5944, -0.5883, -0.5999, -0.5569, -0.5721,\n",
            "         -0.5519, -0.5624, -0.5833, -0.5867, -0.5653, -0.5717, -0.5893, -0.5842,\n",
            "         -0.5815, -0.5631, -0.5777, -0.5592, -0.5924, -0.6114, -0.5924, -0.6033,\n",
            "         -0.5841, -0.5923, -0.5509, -0.6035, -0.5738, -0.5928, -0.5513, -0.5818,\n",
            "         -0.5512, -0.5843, -0.5682, -0.5573, -0.5976, -0.5541, -0.5785, -0.5956,\n",
            "         -0.5916, -0.5530, -0.5948, -0.6113, -0.5724, -0.5813, -0.6094, -0.6124,\n",
            "         -0.6023, -0.5523, -0.6018, -0.5655, -0.6060, -0.5758, -0.5955, -0.5885,\n",
            "         -0.5626, -0.6026, -0.5918, -0.5675, -0.5573, -0.5564, -0.5714, -0.5702,\n",
            "         -0.5882, -0.5728, -0.5698, -0.5669, -0.5508, -0.5774, -0.5855, -0.5945,\n",
            "         -0.5821, -0.6044, -0.5539, -0.5948, -0.5921, -0.5548, -0.5519, -0.6074,\n",
            "         -0.6021, -0.5614, -0.6007, -0.5534, -0.5596, -0.5954, -0.5551, -0.5584,\n",
            "         -0.5637, -0.6022, -0.6067, -0.5794, -0.6026, -0.5739, -0.5567, -0.5781,\n",
            "         -0.6010, -0.6101, -0.5752, -0.6067, -0.6118, -0.6097, -0.6005, -0.6005,\n",
            "         -0.5594, -0.5528, -0.5801, -0.5496, -0.6036, -0.5982, -0.5784, -0.5804,\n",
            "         -0.5703, -0.6017, -0.5957, -0.5576, -0.5792, -0.5954, -0.5578, -0.5613,\n",
            "         -0.6036, -0.5499, -0.6106, -0.5977, -0.5642, -0.6130, -0.5952, -0.5847,\n",
            "         -0.5851, -0.5948, -0.5894, -0.5632, -0.5995, -0.6019, -0.5655, -0.5567,\n",
            "         -0.5698, -0.5714, -0.5866, -0.5963, -0.5833, -0.5692, -0.5673, -0.5991,\n",
            "         -0.5602, -0.5752, -0.5813, -0.6047, -0.5754, -0.5892, -0.5740, -0.6040,\n",
            "         -0.5979, -0.5717, -0.5688, -0.6055, -0.6108, -0.5860, -0.6053, -0.5650,\n",
            "         -0.5572, -0.5730, -0.5869, -0.6129, -0.5731, -0.5911, -0.5854, -0.5917,\n",
            "         -0.5809, -0.5514, -0.5924, -0.5736, -0.5677, -0.5824, -0.5570, -0.5898,\n",
            "         -0.5499, -0.5701, -0.5827, -0.5582, -0.5784, -0.5768, -0.5767, -0.6102,\n",
            "         -0.5641, -0.5675, -0.5621, -0.5797, -0.5663, -0.5879, -0.5575, -0.6003,\n",
            "         -0.6087, -0.5724, -0.6023, -0.5812, -0.5762, -0.5715, -0.5647, -0.6046,\n",
            "         -0.5610, -0.5786, -0.5954, -0.5552, -0.5825, -0.5839, -0.5890, -0.5604,\n",
            "         -0.5993, -0.5817, -0.6080, -0.5938, -0.5721, -0.6082, -0.5847, -0.5797,\n",
            "         -0.5861, -0.5532, -0.6056, -0.6123, -0.5515, -0.5988, -0.5699, -0.5505,\n",
            "         -0.5904, -0.5776, -0.5492, -0.5711, -0.5848, -0.5541, -0.5813, -0.5886,\n",
            "         -0.5586, -0.5734, -0.6001, -0.5563, -0.5980, -0.5869, -0.5674, -0.5841,\n",
            "         -0.6039, -0.5915, -0.6022, -0.5902, -0.5796, -0.5618, -0.5649, -0.5930,\n",
            "         -0.6079, -0.5790, -0.5909, -0.5522, -0.5627, -0.5977, -0.5780, -0.5959,\n",
            "         -0.6077, -0.5969, -0.5736, -0.5867, -0.5975, -0.5699, -0.6015, -0.6024,\n",
            "         -0.5796, -0.5837, -0.5717, -0.6023, -0.5498, -0.5653, -0.6040, -0.6109,\n",
            "         -0.5700, -0.5548, -0.5756, -0.5569, -0.5854, -0.6039, -0.5602, -0.5948,\n",
            "         -0.6104, -0.5543, -0.6021, -0.5952, -0.5787, -0.5949, -0.5629, -0.6111,\n",
            "         -0.5897, -0.5700, -0.5797, -0.5563, -0.5797, -0.6049, -0.5611, -0.5549,\n",
            "         -0.5545, -0.5820, -0.5670, -0.5979, -0.5835, -0.5660, -0.5570, -0.5759,\n",
            "         -0.5834, -0.5991, -0.5576, -0.6007, -0.6041, -0.5642, -0.6071, -0.5612,\n",
            "         -0.5838, -0.5739, -0.5905, -0.5923, -0.5899, -0.5649, -0.6044, -0.5801,\n",
            "         -0.5671, -0.6124, -0.5497, -0.5536, -0.5998, -0.5622, -0.5878, -0.6080,\n",
            "         -0.5961, -0.5514, -0.5639, -0.5553, -0.5588, -0.5863, -0.5880, -0.6072,\n",
            "         -0.5813, -0.5757, -0.5920, -0.5849, -0.5920, -0.5751, -0.6101, -0.5568,\n",
            "         -0.5854, -0.5644, -0.5548, -0.5987, -0.6034, -0.5869, -0.5852, -0.5697,\n",
            "         -0.5760, -0.5910, -0.6015, -0.5931, -0.6023, -0.5622, -0.5675, -0.5802,\n",
            "         -0.6055, -0.5753, -0.6097, -0.5678, -0.5573, -0.5578, -0.5491, -0.5817,\n",
            "         -0.6023, -0.5587, -0.5985, -0.5628, -0.5759, -0.5773, -0.5703, -0.5870,\n",
            "         -0.5978, -0.5540, -0.6116, -0.5698, -0.5695, -0.5944, -0.6032, -0.5914,\n",
            "         -0.5580, -0.5891, -0.5816, -0.6001, -0.5503, -0.6047, -0.5728, -0.6026,\n",
            "         -0.5937, -0.5656, -0.5801, -0.5747, -0.5657, -0.6024, -0.6111, -0.5722,\n",
            "         -0.5988, -0.6120, -0.5633, -0.5606, -0.5591, -0.5839, -0.5781, -0.5867,\n",
            "         -0.5888, -0.5669, -0.5880, -0.5741, -0.5926, -0.5535, -0.6128, -0.5516,\n",
            "         -0.5750, -0.5532, -0.5871, -0.6051, -0.5976, -0.5868, -0.5785, -0.5595,\n",
            "         -0.6092, -0.5968, -0.5892, -0.5597, -0.5782, -0.6016, -0.6047, -0.5810,\n",
            "         -0.5957, -0.6050, -0.5725, -0.6047, -0.5604, -0.5778, -0.6093, -0.5653,\n",
            "         -0.5618, -0.5835, -0.6063, -0.6027, -0.5499, -0.6092, -0.5728, -0.5764,\n",
            "         -0.5909, -0.6072, -0.5898, -0.6095, -0.5931, -0.5912, -0.5581, -0.5666,\n",
            "         -0.5993, -0.5833, -0.5591, -0.5828, -0.5904, -0.5735, -0.5751, -0.5699,\n",
            "         -0.5889, -0.5967, -0.6074, -0.5991, -0.5955, -0.6001, -0.5636, -0.5842,\n",
            "         -0.6005, -0.5798, -0.6080, -0.5624, -0.6108, -0.5767, -0.5846, -0.5818,\n",
            "         -0.5649, -0.6026, -0.5774, -0.5862, -0.5755, -0.6001, -0.5844, -0.5643,\n",
            "         -0.5881, -0.5783, -0.6121, -0.5668, -0.5520, -0.6007, -0.6057, -0.5638,\n",
            "         -0.5578, -0.6063, -0.5556, -0.5716, -0.5992, -0.5943, -0.6006, -0.5965,\n",
            "         -0.5731, -0.5861, -0.5678, -0.5893, -0.6052, -0.5842, -0.5518, -0.5693,\n",
            "         -0.5787, -0.5619, -0.5772, -0.5591, -0.5491, -0.5794, -0.5754, -0.5787,\n",
            "         -0.5846, -0.5808, -0.5495, -0.5960, -0.5989, -0.5678, -0.5609, -0.5634,\n",
            "         -0.5985, -0.5524, -0.5671, -0.6038, -0.5638, -0.6056, -0.5731, -0.5578,\n",
            "         -0.5608, -0.5745, -0.5644, -0.5802, -0.5618, -0.6118, -0.5802, -0.5634,\n",
            "         -0.5739, -0.5605, -0.5801, -0.5552, -0.5772, -0.5764, -0.5766, -0.5880,\n",
            "         -0.5647, -0.5783, -0.6042, -0.5910, -0.5712, -0.5812, -0.5904, -0.5683,\n",
            "         -0.5576, -0.5572, -0.5661, -0.5584, -0.5815, -0.5521, -0.5570, -0.5640,\n",
            "         -0.5592, -0.5905, -0.6049, -0.5649, -0.5522, -0.5660, -0.5928, -0.5617,\n",
            "         -0.5726, -0.6106, -0.5640, -0.6006, -0.5722, -0.5932, -0.5993, -0.6005,\n",
            "         -0.5979, -0.5919, -0.5910, -0.5645, -0.5928, -0.6065, -0.5795, -0.5676,\n",
            "         -0.5794, -0.5811, -0.6036, -0.5792, -0.6090, -0.6126, -0.5572, -0.5588,\n",
            "         -0.6077, -0.5843, -0.6091, -0.5750, -0.5767, -0.5533, -0.5885, -0.5802,\n",
            "         -0.5559, -0.5585, -0.5523, -0.6113, -0.5868, -0.5959, -0.5809, -0.5726,\n",
            "         -0.6082, -0.6076, -0.5932, -0.5977, -0.5842, -0.5927, -0.5623, -0.6099,\n",
            "         -0.5509, -0.5821, -0.5686, -0.5749, -0.6021, -0.5827, -0.5498, -0.5788,\n",
            "         -0.5786, -0.5751, -0.6026, -0.5951, -0.5514, -0.5872, -0.5506, -0.5506,\n",
            "         -0.5657, -0.5890, -0.5849, -0.5701, -0.5781, -0.5663, -0.6129, -0.6107,\n",
            "         -0.6020, -0.5922, -0.6017, -0.5487, -0.5541, -0.5821, -0.5969, -0.5663,\n",
            "         -0.5785, -0.5693, -0.5588, -0.5657, -0.6123, -0.5563, -0.6127, -0.5538,\n",
            "         -0.5952, -0.5920, -0.6031, -0.5594, -0.5713, -0.5865, -0.5825, -0.5997,\n",
            "         -0.6006, -0.5762, -0.5805, -0.5844, -0.5507, -0.5888, -0.6093, -0.5610,\n",
            "         -0.5647, -0.5580, -0.6067, -0.5749, -0.5995, -0.6029, -0.5851, -0.6101,\n",
            "         -0.5544, -0.5962, -0.5735, -0.5724, -0.5859, -0.5875, -0.6106, -0.5894,\n",
            "         -0.5932, -0.5883, -0.5767, -0.5768, -0.5740, -0.5539, -0.5939, -0.5629,\n",
            "         -0.5508, -0.5981, -0.6009, -0.6088, -0.5919, -0.5838, -0.5867, -0.5875,\n",
            "         -0.5658, -0.5498, -0.5862, -0.5966, -0.5530, -0.5702, -0.5656, -0.5814,\n",
            "         -0.6094, -0.5503, -0.6079, -0.5542, -0.5737, -0.5963, -0.6129, -0.5804,\n",
            "         -0.5702, -0.5747, -0.6061, -0.5560, -0.5995, -0.6053, -0.5933, -0.5568,\n",
            "         -0.5974, -0.5926, -0.5643, -0.5791, -0.5773, -0.5616, -0.5947, -0.5728,\n",
            "         -0.5562, -0.6110, -0.5857, -0.5919, -0.5665, -0.5540, -0.5675, -0.5871,\n",
            "         -0.6070, -0.5824, -0.5609, -0.5617, -0.5799, -0.6115, -0.5856, -0.6009,\n",
            "         -0.5713, -0.6022, -0.6068, -0.5542, -0.5646, -0.5720, -0.5744, -0.5589,\n",
            "         -0.5570, -0.6051, -0.5725, -0.5863, -0.5786, -0.5864, -0.5871, -0.5491,\n",
            "         -0.5884, -0.5832, -0.5992, -0.5498, -0.6060, -0.6056, -0.5593, -0.5680,\n",
            "         -0.5591, -0.5941, -0.5671, -0.5781, -0.5578, -0.5532, -0.6130, -0.5895,\n",
            "         -0.6016, -0.5933, -0.6019, -0.5733, -0.5535, -0.6019, -0.5895, -0.6001,\n",
            "         -0.5821, -0.6024, -0.5497, -0.5677, -0.5739, -0.5869, -0.6121, -0.6052,\n",
            "         -0.5496, -0.5795, -0.6021, -0.5607, -0.6045, -0.5831, -0.6108, -0.6020,\n",
            "         -0.5564, -0.5881, -0.5819, -0.5737, -0.5603, -0.5799, -0.5784, -0.6071,\n",
            "         -0.6125, -0.5594, -0.6111, -0.5789, -0.6017, -0.6057, -0.6058, -0.5751,\n",
            "         -0.5632, -0.6122, -0.5513, -0.5564, -0.5804, -0.5599, -0.5997, -0.5664,\n",
            "         -0.5647, -0.5568, -0.5857, -0.5794, -0.5960, -0.5558, -0.6004, -0.5776,\n",
            "         -0.5721, -0.5654, -0.5680, -0.5960, -0.5995, -0.5631, -0.6014, -0.5777,\n",
            "         -0.6077, -0.5509, -0.5654, -0.5675, -0.5509, -0.6117, -0.6118, -0.5669,\n",
            "         -0.5506, -0.5946, -0.6072, -0.5720, -0.5815, -0.5983, -0.6073, -0.5865,\n",
            "         -0.5708, -0.5990, -0.5576, -0.6014, -0.5670, -0.5572, -0.5536, -0.5564,\n",
            "         -0.5515, -0.5995, -0.6018, -0.5906, -0.5557, -0.5566, -0.5930, -0.5958,\n",
            "         -0.5906, -0.5678, -0.5845, -0.6109, -0.5933]], device='cuda:0',\n",
            "       requires_grad=True)\n",
            "Parameter containing:\n",
            "tensor([-0.5941], device='cuda:0', requires_grad=True)\n"
          ]
        }
      ]
    }
  ]
}