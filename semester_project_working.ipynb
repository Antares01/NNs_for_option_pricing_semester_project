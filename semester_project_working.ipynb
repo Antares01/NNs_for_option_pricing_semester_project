{
  "cells": [
    {
      "cell_type": "markdown",
      "metadata": {
        "id": "view-in-github",
        "colab_type": "text"
      },
      "source": [
        "<a href=\"https://colab.research.google.com/github/Antares01/semester_project_ml_for_finance/blob/main/semester_project_working.ipynb\" target=\"_parent\"><img src=\"https://colab.research.google.com/assets/colab-badge.svg\" alt=\"Open In Colab\"/></a>"
      ]
    },
    {
      "cell_type": "code",
      "execution_count": 58,
      "metadata": {
        "colab": {
          "base_uri": "https://localhost:8080/"
        },
        "id": "ZUNoFyq8D1se",
        "outputId": "a1001502-c0d0-4f01-e8af-48829da7cad5"
      },
      "outputs": [
        {
          "output_type": "stream",
          "name": "stdout",
          "text": [
            "Requirement already satisfied: tf-quant-finance in /usr/local/lib/python3.7/dist-packages (0.0.1.dev30)\n",
            "Requirement already satisfied: protobuf in /usr/local/lib/python3.7/dist-packages (from tf-quant-finance) (3.17.3)\n",
            "Requirement already satisfied: tensorflow-probability>=0.11.0 in /usr/local/lib/python3.7/dist-packages (from tf-quant-finance) (0.16.0)\n",
            "Requirement already satisfied: attrs>=18.2.0 in /usr/local/lib/python3.7/dist-packages (from tf-quant-finance) (21.4.0)\n",
            "Requirement already satisfied: numpy>=1.19.2 in /usr/local/lib/python3.7/dist-packages (from tf-quant-finance) (1.21.5)\n",
            "Requirement already satisfied: dm-tree in /usr/local/lib/python3.7/dist-packages (from tensorflow-probability>=0.11.0->tf-quant-finance) (0.1.6)\n",
            "Requirement already satisfied: decorator in /usr/local/lib/python3.7/dist-packages (from tensorflow-probability>=0.11.0->tf-quant-finance) (4.4.2)\n",
            "Requirement already satisfied: absl-py in /usr/local/lib/python3.7/dist-packages (from tensorflow-probability>=0.11.0->tf-quant-finance) (1.0.0)\n",
            "Requirement already satisfied: six>=1.10.0 in /usr/local/lib/python3.7/dist-packages (from tensorflow-probability>=0.11.0->tf-quant-finance) (1.15.0)\n",
            "Requirement already satisfied: gast>=0.3.2 in /usr/local/lib/python3.7/dist-packages (from tensorflow-probability>=0.11.0->tf-quant-finance) (0.5.3)\n",
            "Requirement already satisfied: cloudpickle>=1.3 in /usr/local/lib/python3.7/dist-packages (from tensorflow-probability>=0.11.0->tf-quant-finance) (1.3.0)\n"
          ]
        }
      ],
      "source": [
        "# This Python 3 environment comes with many helpful analytics libraries installed\n",
        "# It is defined by the kaggle/python Docker image: https://github.com/kaggle/docker-python\n",
        "# For example, here's several helpful packages to load\n",
        "\n",
        "import numpy as np # linear algebra\n",
        "import pandas as pd # data processing, CSV file I/O (e.g. pd.read_csv)\n",
        "\n",
        "# Input data files are available in the read-only \"../input/\" directory\n",
        "# For example, running this (by clicking run or pressing Shift+Enter) will list all files under the input directory\n",
        "\n",
        "import os\n",
        "for dirname, _, filenames in os.walk('/kaggle/input'):\n",
        "    for filename in filenames:\n",
        "        print(os.path.join(dirname, filename))\n",
        "\n",
        "# You can write up to 20GB to the current directory (/kaggle/working/) that gets preserved as output when you create a version using \"Save & Run All\" \n",
        "# You can also write temporary files to /kaggle/temp/, but they won't be saved outside of the current session\n",
        "\n",
        "import tensorflow as tf\n",
        "tf.compat.v1.enable_eager_execution()\n",
        "!pip install tf-quant-finance\n",
        "import tf_quant_finance as tff \n",
        "\n",
        "option_price = tff.black_scholes.option_price\n"
      ]
    },
    {
      "cell_type": "code",
      "execution_count": 59,
      "metadata": {
        "id": "eNfg8SHTD1sj"
      },
      "outputs": [],
      "source": [
        "import numpy as np\n",
        "import torch\n",
        "from torch import nn\n",
        "from scipy.stats import lognorm\n",
        "from matplotlib import pyplot as plt\n",
        "from scipy.ndimage.filters import uniform_filter1d"
      ]
    },
    {
      "cell_type": "code",
      "execution_count": 134,
      "metadata": {
        "id": "KPnQIHUaD1sn"
      },
      "outputs": [],
      "source": [
        "# option price generation parameters\n",
        "TOT_OPTIONS = 30\n",
        "EXPIRY = 1.0\n",
        "RATE = 0.0\n",
        "SPOT = 30/10\n",
        "STRIKE_MIN = 20/10\n",
        "STRIKE_MAX = 40/10\n",
        "VOLATILITY = 0.3/10\n",
        "\n",
        "# NN parameters\n",
        "MC_STEPS = 2**14\n",
        "EPOCHS = 1000\n",
        "batch_size = 16\n",
        "\n",
        "#distribution parameters\n",
        "PROPOSAL_SIGMA = 0.3/10 * 4\n",
        "PROPOSAL_MU = np.log(SPOT) - 0.5 * PROPOSAL_SIGMA**2 \n",
        "\n",
        "#integration parameter\n",
        "INTERVAL_LENGTH = 10"
      ]
    },
    {
      "cell_type": "code",
      "execution_count": 61,
      "metadata": {
        "colab": {
          "base_uri": "https://localhost:8080/",
          "height": 122
        },
        "id": "WolmN2gUD1sp",
        "outputId": "d4d1e635-1619-496c-bda9-f7bde5d9b229"
      },
      "outputs": [
        {
          "output_type": "execute_result",
          "data": {
            "application/vnd.google.colaboratory.intrinsic+json": {
              "type": "string"
            },
            "text/plain": [
              "'\\n# Calculate discount factors (e^-rT)\\nrate = 0.05\\nexpiries = np.array([0.5, 1.0, 2.0, 1.3])\\ndiscount_factors = np.exp(-rate * expiries)\\n# Current value of assets.\\nspots = np.array([0.9, 1.0, 1.1, 0.9])\\n# Forward value of assets at expiry.\\nforwards = spots / discount_factors\\n# Strike prices given by:\\nstrikes = np.array([1.0, 2.0, 1.0, 0.5])\\n# Indicate whether options are call (True) or put (False)\\nis_call_options = np.array([True, True, False, False])\\n# The volatilites at which the options are to be priced.\\nvolatilities = np.array([0.7, 1.1, 2.0, 0.5])\\n# Calculate the prices given the volatilities and term structure.\\nprices = option_price(\\n      volatilities=volatilities,\\n      strikes=strikes,\\n      expiries=expiries,\\n      forwards=forwards,\\n      discount_factors=discount_factors,\\n      is_call_options=is_call_options)\\nprices\\n'"
            ]
          },
          "metadata": {},
          "execution_count": 61
        }
      ],
      "source": [
        "\"\"\"\n",
        "# Calculate discount factors (e^-rT)\n",
        "rate = 0.05\n",
        "expiries = np.array([0.5, 1.0, 2.0, 1.3])\n",
        "discount_factors = np.exp(-rate * expiries)\n",
        "# Current value of assets.\n",
        "spots = np.array([0.9, 1.0, 1.1, 0.9])\n",
        "# Forward value of assets at expiry.\n",
        "forwards = spots / discount_factors\n",
        "# Strike prices given by:\n",
        "strikes = np.array([1.0, 2.0, 1.0, 0.5])\n",
        "# Indicate whether options are call (True) or put (False)\n",
        "is_call_options = np.array([True, True, False, False])\n",
        "# The volatilites at which the options are to be priced.\n",
        "volatilities = np.array([0.7, 1.1, 2.0, 0.5])\n",
        "# Calculate the prices given the volatilities and term structure.\n",
        "prices = option_price(\n",
        "      volatilities=volatilities,\n",
        "      strikes=strikes,\n",
        "      expiries=expiries,\n",
        "      forwards=forwards,\n",
        "      discount_factors=discount_factors,\n",
        "      is_call_options=is_call_options)\n",
        "prices\n",
        "\"\"\"\n"
      ]
    },
    {
      "cell_type": "code",
      "execution_count": 62,
      "metadata": {
        "id": "ESazL0HND1sr"
      },
      "outputs": [],
      "source": [
        "rates = np.array([RATE]*TOT_OPTIONS)\n",
        "discount_factors = np.exp(- (rates)*EXPIRY)\n",
        "spots = np.array([SPOT]*TOT_OPTIONS)\n",
        "forwards = spots / discount_factors\n",
        "strikes = np.linspace(STRIKE_MIN, STRIKE_MAX, TOT_OPTIONS) #[50., 60. , 75., 110., 125., 135. ]  #\n",
        "is_call_options = np.random.choice(a=[False, True], size=(TOT_OPTIONS,)) #[True, True, True, False, False, False] #\n",
        "volatilities = np.array([VOLATILITY]*TOT_OPTIONS)\n",
        "expiries = np.array([EXPIRY]*TOT_OPTIONS)\n",
        "prices = option_price(\n",
        "      volatilities=volatilities,\n",
        "      strikes=strikes,\n",
        "      expiries=EXPIRY,\n",
        "      forwards=forwards,\n",
        "      discount_factors=discount_factors,\n",
        "      is_call_options=is_call_options)"
      ]
    },
    {
      "cell_type": "code",
      "execution_count": 63,
      "metadata": {
        "colab": {
          "base_uri": "https://localhost:8080/"
        },
        "id": "aCyB9Ng1D1st",
        "outputId": "2d19cd2a-b010-456d-e64c-13d38a1b3845"
      },
      "outputs": [
        {
          "output_type": "execute_result",
          "data": {
            "text/plain": [
              "<tf.Tensor: shape=(30,), dtype=float64, numpy=\n",
              "array([1.00000000e+00, 0.00000000e+00, 8.62068966e-01, 0.00000000e+00,\n",
              "       7.24137931e-01, 0.00000000e+00, 5.86206897e-01, 1.75104375e-12,\n",
              "       4.96533481e-10, 3.79310402e-01, 3.10347658e-01, 6.65544818e-05,\n",
              "       1.73211104e-01, 1.08725483e-01, 2.10737472e-02, 5.59399844e-02,\n",
              "       1.09364871e-01, 1.12649410e-03, 2.41525429e-01, 1.29128093e-05,\n",
              "       3.79311129e-01, 4.48275895e-01, 9.87425888e-10, 5.86206897e-01,\n",
              "       6.55172414e-01, 3.97957529e-15, 7.93103448e-01, 8.62068966e-01,\n",
              "       9.31034483e-01, 1.00000000e+00])>"
            ]
          },
          "metadata": {},
          "execution_count": 63
        }
      ],
      "source": [
        "prices"
      ]
    },
    {
      "cell_type": "code",
      "source": [
        "print(strikes)\n",
        "print(is_call_options)\n"
      ],
      "metadata": {
        "colab": {
          "base_uri": "https://localhost:8080/"
        },
        "id": "CmksQ3ac0tTn",
        "outputId": "5b646ba1-a967-4020-c499-81868b33b163"
      },
      "execution_count": 64,
      "outputs": [
        {
          "output_type": "stream",
          "name": "stdout",
          "text": [
            "[2.         2.06896552 2.13793103 2.20689655 2.27586207 2.34482759\n",
            " 2.4137931  2.48275862 2.55172414 2.62068966 2.68965517 2.75862069\n",
            " 2.82758621 2.89655172 2.96551724 3.03448276 3.10344828 3.17241379\n",
            " 3.24137931 3.31034483 3.37931034 3.44827586 3.51724138 3.5862069\n",
            " 3.65517241 3.72413793 3.79310345 3.86206897 3.93103448 4.        ]\n",
            "[ True False  True False  True False  True False False  True  True False\n",
            "  True  True False False False  True False  True False False  True False\n",
            " False  True False False False False]\n"
          ]
        }
      ]
    },
    {
      "cell_type": "code",
      "execution_count": 65,
      "metadata": {
        "id": "3Bdp3ZnAD1su"
      },
      "outputs": [],
      "source": [
        "from torch.utils.data import DataLoader\n",
        "prices = np.array(prices)\n",
        "prices_and_strikes = [ (prices[i], strikes[i], is_call_options[i]) for i in range(TOT_OPTIONS)]\n",
        "\n",
        "target_dataloader = DataLoader(prices_and_strikes , batch_size=batch_size, shuffle = True)\n",
        "#test_dataloader = DataLoader(test_data, batch_size=batch_size)"
      ]
    },
    {
      "cell_type": "markdown",
      "metadata": {
        "id": "InZ9VrynD1sv"
      },
      "source": [
        ""
      ]
    },
    {
      "cell_type": "code",
      "execution_count": 87,
      "metadata": {
        "id": "IPvD7xpbD1sx"
      },
      "outputs": [],
      "source": [
        "class BaselineNet(nn.Module):\n",
        "    def __init__(self):\n",
        "        super(BaselineNet, self).__init__()\n",
        "        self.flatten = nn.Flatten()\n",
        "        self.linear_relu_stack = nn.Sequential(\n",
        "            nn.Linear(1, 128),\n",
        "            nn.LeakyReLU(1e-1),\n",
        "            \n",
        "            nn.Linear(128, 512),\n",
        "            nn.LeakyReLU(1e-1),   \n",
        "\n",
        "            nn.Linear(512, 128),\n",
        "            nn.LeakyReLU(1e-1),\n",
        "            \n",
        "            nn.Linear(128, 1)\n",
        "        )\n",
        "        \n",
        "    \n",
        "    def forward(self, x):\n",
        "        x = self.flatten(x)\n",
        "        x = self.linear_relu_stack(x)\n",
        "        x = torch.sigmoid(x)\n",
        "        return x\n",
        "\n",
        "\n",
        "class LognormalNet(nn.Module):\n",
        "  def __init__(self):\n",
        "    super(LognormalNet, self).__init__()\n",
        "    self.sigma = nn.Parameter(torch.Tensor([PROPOSAL_SIGMA]))\n",
        "    self.mu = nn.Parameter(torch.Tensor([PROPOSAL_MU]))\n",
        "\n",
        "  def forward(self, x):\n",
        "    return 1/(x * self.sigma * np.sqrt(2* np.pi)) * torch.exp(-(torch.log(x) - self.mu)**2 / (2* self.sigma**2) )"
      ]
    },
    {
      "cell_type": "code",
      "execution_count": 136,
      "metadata": {
        "colab": {
          "base_uri": "https://localhost:8080/"
        },
        "id": "kS8SPbOKD1sz",
        "outputId": "3c2ebfed-b1a7-482c-b0b7-94a626461c56"
      },
      "outputs": [
        {
          "output_type": "stream",
          "name": "stdout",
          "text": [
            "Using cpu device\n",
            "BaselineNet(\n",
            "  (flatten): Flatten(start_dim=1, end_dim=-1)\n",
            "  (linear_relu_stack): Sequential(\n",
            "    (0): Linear(in_features=1, out_features=128, bias=True)\n",
            "    (1): LeakyReLU(negative_slope=0.1)\n",
            "    (2): Linear(in_features=128, out_features=512, bias=True)\n",
            "    (3): LeakyReLU(negative_slope=0.1)\n",
            "    (4): Linear(in_features=512, out_features=128, bias=True)\n",
            "    (5): LeakyReLU(negative_slope=0.1)\n",
            "    (6): Linear(in_features=128, out_features=1, bias=True)\n",
            "  )\n",
            ")\n"
          ]
        }
      ],
      "source": [
        "device = \"cuda\" if torch.cuda.is_available() else \"cpu\"\n",
        "print(f\"Using {device} device\")\n",
        "model = BaselineNet().to(device)\n",
        "print(model)"
      ]
    },
    {
      "cell_type": "code",
      "execution_count": 170,
      "metadata": {
        "id": "EcforqJPD1s0"
      },
      "outputs": [],
      "source": [
        "class OptionLoss(nn.Module):\n",
        "    def __init__(self, beta):\n",
        "        super(OptionLoss,self).__init__()\n",
        "        self.beta = beta\n",
        "    \n",
        "    # outputs the MC_STEPS predictions, labels the TOT_OPTIONS labels\n",
        "    def forward(self, outputs, labels, strike, is_call, coordinates):\n",
        "        loss = 0\n",
        "        mc_integral = 0\n",
        "        payoff = lambda  j :  torch.max(torch.zeros(MC_STEPS), coordinates - strike[j] ) if is_call[j] else torch.max(torch.zeros(MC_STEPS), strike[j] - coordinates)\n",
        "        #densities_ratio = torch.div(outputs , torch.Tensor([lognorm.pdf(coordinates, PROPOSAL_SIGMA, 0, np.exp(PROPOSAL_MU)) ]))\n",
        "        #print(outputs)\n",
        "        densities = 1/INTERVAL_LENGTH#torch.Tensor([lognorm.pdf(coordinates, PROPOSAL_SIGMA, 0, np.exp(PROPOSAL_MU)) ])\n",
        "        #print(densities_ratio)\n",
        "        for j in range(len(labels)):\n",
        "          numerator  = payoff(j)\n",
        "          mc_price = numerator * outputs / densities\n",
        "          #print(coordinates)\n",
        "          #print(strikes[j])\n",
        "          #print(numerator)\n",
        "          #print(mc_price)\n",
        "          #plt.scatter(coordinates,payoff(j))\n",
        "          #plt.xlim(-1,20)\n",
        "          #plt.ylim(-1,20)\n",
        "          #print(payoff(j))\n",
        "          #print(mc_price)\n",
        "          #print(mc_price.sum() / MC_STEPS)\n",
        "          loss += (labels[j] -  mc_price.sum() / MC_STEPS)**2\n",
        "          #loss += (labels[j] - mc_price.sum() / MC_STEPS)**2\n",
        "\n",
        "        \n",
        "        \"\"\"\n",
        "        for i in range(MC_STEPS - 1):\n",
        "          mc_integral += (coordinates[i+1] - coordinates[i])*(outputs[i+1] - outputs[i])\n",
        "        \"\"\"\n",
        "        #print(\"custom loss is \" + str(loss))\n",
        "        #print(\"mc integral \" + str(mc_integral))\n",
        "        #print(\"integral loss is \" + str(self.beta * (1 - 0.5*mc_integral)**2))\n",
        "        return loss  #+ self.beta * (1 - 0.5*mc_integral)**2\n",
        "            "
      ]
    },
    {
      "cell_type": "code",
      "source": [
        ""
      ],
      "metadata": {
        "id": "moFv3-lydTlX"
      },
      "execution_count": 68,
      "outputs": []
    },
    {
      "cell_type": "code",
      "execution_count": 184,
      "metadata": {
        "id": "JfpLC23iD1s1"
      },
      "outputs": [],
      "source": [
        "optimizer = torch.optim.Adam(model.parameters(), lr=1e-4, weight_decay=1e-20)\n",
        "loss_fn = OptionLoss(0)"
      ]
    },
    {
      "cell_type": "code",
      "execution_count": 185,
      "metadata": {
        "id": "ozUdEKz5D1s3"
      },
      "outputs": [],
      "source": [
        "loss_history = []\n",
        "for _ in range(100):\n",
        "    for batch, (target_prices, strike_prices, is_call) in enumerate(target_dataloader):\n",
        "        X = torch.zeros(MC_STEPS, 1).to(device)\n",
        "        X.uniform_(0, INTERVAL_LENGTH)\n",
        "        #X.log_normal_(PROPOSAL_MU, PROPOSAL_SIGMA )\n",
        "        #print(X)\n",
        "        pred = model(X)\n",
        "        loss = loss_fn(pred.cpu().squeeze(), target_prices, strike_prices, is_call, X.cpu().squeeze())\n",
        "        \n",
        "        # Backpropagation\n",
        "        optimizer.zero_grad()\n",
        "        loss.backward()\n",
        "        torch.nn.utils.clip_grad_norm_(model.parameters(), 1e-1)\n",
        "        optimizer.step()\n",
        "    loss_history.append(float(loss))\n"
      ]
    },
    {
      "cell_type": "code",
      "source": [
        "loss_history"
      ],
      "metadata": {
        "id": "wo9NhWEOc_5L",
        "colab": {
          "base_uri": "https://localhost:8080/"
        },
        "outputId": "2d6c39aa-aa47-4660-9c8f-eaaf687efcd7"
      },
      "execution_count": 79,
      "outputs": [
        {
          "output_type": "execute_result",
          "data": {
            "text/plain": [
              "[3.162884967948983e-08,\n",
              " 1.7016471718772623e-05,\n",
              " 6.56086244875067e-07,\n",
              " 1.3638578271354587e-05,\n",
              " 5.258696635203165e-06,\n",
              " 3.840354023852716e-06,\n",
              " 7.138051961517139e-08,\n",
              " 7.148340521528836e-06,\n",
              " 1.5022818051280531e-06,\n",
              " 2.8308406542944587e-06]"
            ]
          },
          "metadata": {},
          "execution_count": 79
        }
      ]
    },
    {
      "cell_type": "code",
      "source": [
        "loss_history"
      ],
      "metadata": {
        "colab": {
          "base_uri": "https://localhost:8080/"
        },
        "id": "SJ1KPxIPJDRm",
        "outputId": "71469380-298d-4869-d48f-c3e7dbbdedc7"
      },
      "execution_count": 152,
      "outputs": [
        {
          "output_type": "execute_result",
          "data": {
            "text/plain": [
              "[7.133817036762396,\n",
              " 10.468155783489285,\n",
              " 2.997992980017183,\n",
              " 2.5859915610845974,\n",
              " 4.747107682617092,\n",
              " 14.984641019765995,\n",
              " 6.6812771938209154,\n",
              " 6.368223442582962,\n",
              " 20.856759599136545,\n",
              " 4.590194125503903,\n",
              " 3.027600305352287,\n",
              " 2.556287730989529,\n",
              " 3.5139167332706265,\n",
              " 31.654178660722764,\n",
              " 54.40578807769036,\n",
              " 1.6245181848972077,\n",
              " 3.9753466594227502,\n",
              " 5.579779300652597,\n",
              " 5.139731418962042,\n",
              " 47.27444760102725,\n",
              " 2.269548423893851,\n",
              " 6.318997356914258,\n",
              " 11.48603935114044,\n",
              " 3.097229480883394,\n",
              " 1.886328837267192,\n",
              " 45.54201478562199,\n",
              " 3.4754477119093625,\n",
              " 7.483134469111273,\n",
              " 21.914664017031473,\n",
              " 6.921016631147907,\n",
              " 10.031674082024185,\n",
              " 121.4981021446093,\n",
              " 194.06261970075448,\n",
              " 1.3520922725829019,\n",
              " 4.46009654205475,\n",
              " 4.59523147116408,\n",
              " 4.891077029680973,\n",
              " 8.649446202256744,\n",
              " 9.707928236489579,\n",
              " 8.75341733792199,\n",
              " 2.7789853246510923,\n",
              " 2.4443751871605017,\n",
              " 20.032475954104743,\n",
              " 12.084983152068645,\n",
              " 20.03772621822273,\n",
              " 10.021051069339629,\n",
              " 540724.6255425657,\n",
              " 3.649576073893689,\n",
              " 5.993988982583058,\n",
              " 6.338846487809327,\n",
              " 4.566128120808096,\n",
              " 2.2218637941099457,\n",
              " 3.949657095384531,\n",
              " 7.015502917614682,\n",
              " 2.69488891793486,\n",
              " 6.803728753353574,\n",
              " 19.518992282964028,\n",
              " 1.8244719153819122,\n",
              " 2.4538774125340717,\n",
              " 7.815003759492826,\n",
              " 25.202364622808872,\n",
              " 16.832012962914668,\n",
              " 7.924060751384308,\n",
              " 4.837100663141588,\n",
              " 6.773047774557597,\n",
              " 3.023357179984441,\n",
              " 10.34670109744415,\n",
              " 2.434881048817335,\n",
              " 23.335694857575117,\n",
              " 5.7063452472813685,\n",
              " 4.874362884340448,\n",
              " 1.6450517413743133,\n",
              " 8.441863240701318,\n",
              " 12.415670845046492,\n",
              " 2.7761176847270033,\n",
              " 2.2783739468353437,\n",
              " 3.946354146659988,\n",
              " 33.70360238278011,\n",
              " 4.54433329774018,\n",
              " 281.7270075474806,\n",
              " 1.5815201751852126,\n",
              " 2.5707760113392,\n",
              " 7.703060721123284,\n",
              " 5.610748695523411,\n",
              " 46.25234373095941,\n",
              " 5.156550283554188,\n",
              " 4.360688220529803,\n",
              " 1.7834119229843475,\n",
              " 188.0451571145532,\n",
              " 33.09420438854747,\n",
              " 1.7106687862356094,\n",
              " 4.3971325077845504,\n",
              " 2.6273050560597073,\n",
              " 2.2331640359288722,\n",
              " 1.5170572381483223,\n",
              " 1.9210513445563064,\n",
              " 86.75927734247777,\n",
              " 16.876822155956653,\n",
              " 2.8749191924123263,\n",
              " 13.372458028660903]"
            ]
          },
          "metadata": {},
          "execution_count": 152
        }
      ]
    },
    {
      "cell_type": "code",
      "source": [
        "plt.plot(range(len(loss_history)), loss_history)\n",
        "#plt.ylim(bottom=-0.0001,top=100)"
      ],
      "metadata": {
        "colab": {
          "base_uri": "https://localhost:8080/",
          "height": 282
        },
        "id": "vG7g6t7hJDOz",
        "outputId": "f065fc0e-572c-45c3-e79f-6106f0dd5017"
      },
      "execution_count": 186,
      "outputs": [
        {
          "output_type": "execute_result",
          "data": {
            "text/plain": [
              "[<matplotlib.lines.Line2D at 0x7f4fd6dce490>]"
            ]
          },
          "metadata": {},
          "execution_count": 186
        },
        {
          "output_type": "display_data",
          "data": {
            "image/png": "[encoded data removed]",
            "text/plain": [
              "<Figure size 432x288 with 1 Axes>"
            ]
          },
          "metadata": {
            "needs_background": "light"
          }
        }
      ]
    },
    {
      "cell_type": "code",
      "source": [
        "# EXPERIMENT \n",
        "i = 0\n",
        "X = torch.zeros(MC_STEPS)\n",
        "X.log_normal_(PROPOSAL_MU, PROPOSAL_SIGMA)\n",
        "X = np.array(X)\n",
        "#prices[i], strikes[i], is_call_options[i]\n",
        "#payoff =   np.maximum(np.zeros(MC_STEPS), X - strikes[i] ) if is_call_options[i] else np.maximum(np.zeros(MC_STEPS), strikes[i] - X)\n",
        "#print( ( prices[i] - (payoff.sum() / MC_STEPS))**2 )\n",
        "\n"
      ],
      "metadata": {
        "id": "nR5__7sFbYLD"
      },
      "execution_count": null,
      "outputs": []
    },
    {
      "cell_type": "code",
      "source": [
        "x = np.linspace(0, 4, num = MC_STEPS)\n",
        "y = lognorm.pdf(x, PROPOSAL_SIGMA, 0, np.exp(PROPOSAL_MU))\n",
        "plt.plot(x, y)"
      ],
      "metadata": {
        "id": "0Dzvy3028tI1",
        "colab": {
          "base_uri": "https://localhost:8080/",
          "height": 282
        },
        "outputId": "11719086-31e0-465f-ecba-78edbf13a5d6"
      },
      "execution_count": 115,
      "outputs": [
        {
          "output_type": "execute_result",
          "data": {
            "text/plain": [
              "[<matplotlib.lines.Line2D at 0x7f4fd99b2490>]"
            ]
          },
          "metadata": {},
          "execution_count": 115
        },
        {
          "output_type": "display_data",
          "data": {
            "image/png": "[encoded data removed]",
            "text/plain": [
              "<Figure size 432x288 with 1 Axes>"
            ]
          },
          "metadata": {
            "needs_background": "light"
          }
        }
      ]
    },
    {
      "cell_type": "code",
      "source": [
        ""
      ],
      "metadata": {
        "id": "7Uy5igViGSA_"
      },
      "execution_count": null,
      "outputs": []
    },
    {
      "cell_type": "code",
      "execution_count": null,
      "metadata": {
        "id": "tJWYi6YJIEFu"
      },
      "outputs": [],
      "source": [
        "running_loss_average = uniform_filter1d(loss_history[-7000:], size=50)\n",
        "plt.plot(range(len(running_loss_average)), running_loss_average)"
      ]
    },
    {
      "cell_type": "code",
      "execution_count": null,
      "metadata": {
        "id": "FnvWSkqv7GyA"
      },
      "outputs": [],
      "source": [
        "loss_history"
      ]
    },
    {
      "cell_type": "code",
      "execution_count": 187,
      "metadata": {
        "id": "B_-GpMdAD1s3",
        "colab": {
          "base_uri": "https://localhost:8080/",
          "height": 282
        },
        "outputId": "f2521359-ddc2-4e44-95cc-b50261aa0801"
      },
      "outputs": [
        {
          "output_type": "execute_result",
          "data": {
            "text/plain": [
              "[<matplotlib.lines.Line2D at 0x7f4fd6d3b590>]"
            ]
          },
          "metadata": {},
          "execution_count": 187
        },
        {
          "output_type": "display_data",
          "data": {
            "image/png": "[encoded data removed]",
            "text/plain": [
              "<Figure size 432x288 with 1 Axes>"
            ]
          },
          "metadata": {
            "needs_background": "light"
          }
        }
      ],
      "source": [
        "x = torch.Tensor(np.arange(0, 20, 0.01)).to(device).unsqueeze(-1)\n",
        "p = model(x)\n",
        "plt.plot(x.cpu().detach().numpy(), p.cpu().detach().numpy())"
      ]
    },
    {
      "cell_type": "code",
      "source": [
        "x = torch.Tensor(np.arange(0, 20, 0.01)).to(device).unsqueeze(-1)\n",
        "p = model(x)\n",
        "plt.plot(x.cpu().detach().numpy(), p.cpu().detach().numpy())"
      ],
      "metadata": {
        "id": "dbAYyKAkFEcG",
        "colab": {
          "base_uri": "https://localhost:8080/",
          "height": 282
        },
        "outputId": "d7eb128d-7492-49b6-8da5-f1bbd5cc35c2"
      },
      "execution_count": 182,
      "outputs": [
        {
          "output_type": "execute_result",
          "data": {
            "text/plain": [
              "[<matplotlib.lines.Line2D at 0x7f4fd6e71410>]"
            ]
          },
          "metadata": {},
          "execution_count": 182
        },
        {
          "output_type": "display_data",
          "data": {
            "image/png": "[encoded data removed]",
            "text/plain": [
              "<Figure size 432x288 with 1 Axes>"
            ]
          },
          "metadata": {
            "needs_background": "light"
          }
        }
      ]
    },
    {
      "cell_type": "code",
      "execution_count": null,
      "metadata": {
        "id": "jBUi9fpb4-ye"
      },
      "outputs": [],
      "source": [
        "for para in model.parameters():\n",
        "    print(para)"
      ]
    },
    {
      "cell_type": "code",
      "source": [
        ""
      ],
      "metadata": {
        "id": "8ax6P0JPIPQL"
      },
      "execution_count": null,
      "outputs": []
    }
  ],
  "metadata": {
    "colab": {
      "collapsed_sections": [],
      "name": "semester_project_debugged.ipynb",
      "provenance": [],
      "include_colab_link": true
    },
    "kernelspec": {
      "display_name": "Python 3",
      "language": "python",
      "name": "python3"
    },
    "language_info": {
      "codemirror_mode": {
        "name": "ipython",
        "version": 3
      },
      "file_extension": ".py",
      "mimetype": "text/x-python",
      "name": "python",
      "nbconvert_exporter": "python",
      "pygments_lexer": "ipython3",
      "version": "3.6.4"
    }
  },
  "nbformat": 4,
  "nbformat_minor": 0
}